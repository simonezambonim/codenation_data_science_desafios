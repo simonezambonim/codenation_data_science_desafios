{
 "cells": [
  {
   "cell_type": "markdown",
   "metadata": {},
   "source": [
    "# Codenation week 3\n",
    "\n",
    "## Objetivo\n",
    "\n",
    "Queremos conhecer melhor nossos clientes por estado. Para isso, iniciamos uma análise na pontuação de crédito. Para realizar a verificação inicial, precisamos de alguns valores. Os valores são a média, a mediana, a moda e o desvio padrão da pontuação de crédito.\n",
    "\n",
    "## Detalhes\n",
    "\n",
    "**A resposta deve conter os valores da média, mediana, moda e desvio padrão da pontuação de crédito para cada estado do dataset**. O arquivo para submissão deve estar em formato *json*, conforme o arquivo exemplo “submission.json”.\n",
    "\n",
    "OBSERVAÇÃO: É recomendado utilizar Python e pandas para esse desafio, mas também é possível utilizar outras ferramentas e linguagens de programação.\n",
    "\n",
    "Descrição dos dados: \n",
    "- ‘id’: Identificador do cliente \n",
    "- ‘sobrenome’: Sobrenome do cliente \n",
    "- ‘pontuacao_credito’: Pontuação de crédito do cliente (quanto maior, melhor o cliente geralmente) \n",
    "- ‘estado_residencia’: Estado de residência do cliente \n",
    "- ‘genero’: Gênero do cliente \n",
    "- ‘nivel_estabilidade’: Nível de estabilidade do cliente \n",
    "- ‘saldo_conta’: Saldo disponível na conta do cliente \n",
    "- ‘numero_produtos’: Número de produtos que o cliente consome \n",
    "- ‘possui_cartao_de_credito’: Possui um cartão de crédito cadastrado \n",
    "- ‘membro_ativo’: Membro acessa e consome frequentemente\n",
    "\n",
    "Obs: Os dados são fictícios, mas tentam representar a realidade de uma base de clientes de um produto SaaS."
   ]
  },
  {
   "cell_type": "code",
   "execution_count": 154,
   "metadata": {
    "ExecuteTime": {
     "end_time": "2020-04-21T18:07:10.400192Z",
     "start_time": "2020-04-21T18:07:10.384690Z"
    }
   },
   "outputs": [],
   "source": [
    "import pandas as pd\n",
    "import matplotlib.pyplot as plt\n",
    "import seaborn as sns\n",
    "import scipy.stats as stats"
   ]
  },
  {
   "cell_type": "code",
   "execution_count": 117,
   "metadata": {
    "ExecuteTime": {
     "end_time": "2020-04-21T17:48:20.421650Z",
     "start_time": "2020-04-21T17:48:20.374788Z"
    }
   },
   "outputs": [],
   "source": [
    "## Load file\n",
    "df = pd.read_csv('desafio1.csv', delimiter = ',', header=0, encoding= 'utf-8')"
   ]
  },
  {
   "cell_type": "code",
   "execution_count": 108,
   "metadata": {
    "ExecuteTime": {
     "end_time": "2020-04-21T17:46:56.144390Z",
     "start_time": "2020-04-21T17:46:56.113149Z"
    }
   },
   "outputs": [
    {
     "data": {
      "text/html": [
       "<div>\n",
       "<style scoped>\n",
       "    .dataframe tbody tr th:only-of-type {\n",
       "        vertical-align: middle;\n",
       "    }\n",
       "\n",
       "    .dataframe tbody tr th {\n",
       "        vertical-align: top;\n",
       "    }\n",
       "\n",
       "    .dataframe thead th {\n",
       "        text-align: right;\n",
       "    }\n",
       "</style>\n",
       "<table border=\"1\" class=\"dataframe\">\n",
       "  <thead>\n",
       "    <tr style=\"text-align: right;\">\n",
       "      <th></th>\n",
       "      <th>RowNumber</th>\n",
       "      <th>id</th>\n",
       "      <th>sobrenome</th>\n",
       "      <th>pontuacao_credito</th>\n",
       "      <th>estado_residencia</th>\n",
       "      <th>genero</th>\n",
       "      <th>idade</th>\n",
       "      <th>nivel_estabilidade</th>\n",
       "      <th>saldo_conta</th>\n",
       "      <th>numero_produtos</th>\n",
       "      <th>possui_cartao_de_credito</th>\n",
       "      <th>membro_ativo</th>\n",
       "    </tr>\n",
       "  </thead>\n",
       "  <tbody>\n",
       "    <tr>\n",
       "      <th>6997</th>\n",
       "      <td>6998</td>\n",
       "      <td>6a0589e36c12f95a8d3678b460519ed654fe0a3e</td>\n",
       "      <td>e65e12a7eb4e0b15e6d3afb127ce38c0a5303188</td>\n",
       "      <td>611</td>\n",
       "      <td>SC</td>\n",
       "      <td>M</td>\n",
       "      <td>68</td>\n",
       "      <td>5</td>\n",
       "      <td>82547.11</td>\n",
       "      <td>2</td>\n",
       "      <td>1</td>\n",
       "      <td>1</td>\n",
       "    </tr>\n",
       "    <tr>\n",
       "      <th>6998</th>\n",
       "      <td>6999</td>\n",
       "      <td>c042de909a1fb157765c84c3278d8e6500807367</td>\n",
       "      <td>a52bbf77611eab47a6eff8641a1a9bd01006acbe</td>\n",
       "      <td>666</td>\n",
       "      <td>RS</td>\n",
       "      <td>F</td>\n",
       "      <td>47</td>\n",
       "      <td>5</td>\n",
       "      <td>0.00</td>\n",
       "      <td>1</td>\n",
       "      <td>0</td>\n",
       "      <td>0</td>\n",
       "    </tr>\n",
       "    <tr>\n",
       "      <th>6999</th>\n",
       "      <td>7000</td>\n",
       "      <td>cdce83890ea1d7b64b2caaaea76f499cb5dfe684</td>\n",
       "      <td>2265b3657cc5e97382dc46819e3937c363fe165e</td>\n",
       "      <td>521</td>\n",
       "      <td>SC</td>\n",
       "      <td>M</td>\n",
       "      <td>27</td>\n",
       "      <td>4</td>\n",
       "      <td>121325.84</td>\n",
       "      <td>1</td>\n",
       "      <td>1</td>\n",
       "      <td>1</td>\n",
       "    </tr>\n",
       "  </tbody>\n",
       "</table>\n",
       "</div>"
      ],
      "text/plain": [
       "      RowNumber                                        id  \\\n",
       "6997       6998  6a0589e36c12f95a8d3678b460519ed654fe0a3e   \n",
       "6998       6999  c042de909a1fb157765c84c3278d8e6500807367   \n",
       "6999       7000  cdce83890ea1d7b64b2caaaea76f499cb5dfe684   \n",
       "\n",
       "                                     sobrenome  pontuacao_credito  \\\n",
       "6997  e65e12a7eb4e0b15e6d3afb127ce38c0a5303188                611   \n",
       "6998  a52bbf77611eab47a6eff8641a1a9bd01006acbe                666   \n",
       "6999  2265b3657cc5e97382dc46819e3937c363fe165e                521   \n",
       "\n",
       "     estado_residencia genero  idade  nivel_estabilidade  saldo_conta  \\\n",
       "6997                SC      M     68                   5     82547.11   \n",
       "6998                RS      F     47                   5         0.00   \n",
       "6999                SC      M     27                   4    121325.84   \n",
       "\n",
       "      numero_produtos  possui_cartao_de_credito  membro_ativo  \n",
       "6997                2                         1             1  \n",
       "6998                1                         0             0  \n",
       "6999                1                         1             1  "
      ]
     },
     "execution_count": 108,
     "metadata": {},
     "output_type": "execute_result"
    }
   ],
   "source": [
    "df.tail(3)"
   ]
  },
  {
   "cell_type": "code",
   "execution_count": 109,
   "metadata": {
    "ExecuteTime": {
     "end_time": "2020-04-21T17:47:01.283805Z",
     "start_time": "2020-04-21T17:47:01.252566Z"
    }
   },
   "outputs": [
    {
     "name": "stdout",
     "output_type": "stream",
     "text": [
      "<class 'pandas.core.frame.DataFrame'>\n",
      "RangeIndex: 7000 entries, 0 to 6999\n",
      "Data columns (total 12 columns):\n",
      " #   Column                    Non-Null Count  Dtype  \n",
      "---  ------                    --------------  -----  \n",
      " 0   RowNumber                 7000 non-null   int64  \n",
      " 1   id                        7000 non-null   object \n",
      " 2   sobrenome                 7000 non-null   object \n",
      " 3   pontuacao_credito         7000 non-null   int64  \n",
      " 4   estado_residencia         7000 non-null   object \n",
      " 5   genero                    7000 non-null   object \n",
      " 6   idade                     7000 non-null   int64  \n",
      " 7   nivel_estabilidade        7000 non-null   int64  \n",
      " 8   saldo_conta               7000 non-null   float64\n",
      " 9   numero_produtos           7000 non-null   int64  \n",
      " 10  possui_cartao_de_credito  7000 non-null   int64  \n",
      " 11  membro_ativo              7000 non-null   int64  \n",
      "dtypes: float64(1), int64(7), object(4)\n",
      "memory usage: 656.4+ KB\n"
     ]
    }
   ],
   "source": [
    "df.info()"
   ]
  },
  {
   "cell_type": "code",
   "execution_count": 110,
   "metadata": {
    "ExecuteTime": {
     "end_time": "2020-04-21T17:47:01.799341Z",
     "start_time": "2020-04-21T17:47:01.705583Z"
    },
    "scrolled": true
   },
   "outputs": [
    {
     "data": {
      "text/html": [
       "<div>\n",
       "<style scoped>\n",
       "    .dataframe tbody tr th:only-of-type {\n",
       "        vertical-align: middle;\n",
       "    }\n",
       "\n",
       "    .dataframe tbody tr th {\n",
       "        vertical-align: top;\n",
       "    }\n",
       "\n",
       "    .dataframe thead th {\n",
       "        text-align: right;\n",
       "    }\n",
       "</style>\n",
       "<table border=\"1\" class=\"dataframe\">\n",
       "  <thead>\n",
       "    <tr style=\"text-align: right;\">\n",
       "      <th></th>\n",
       "      <th>count</th>\n",
       "      <th>mean</th>\n",
       "      <th>std</th>\n",
       "      <th>min</th>\n",
       "      <th>25%</th>\n",
       "      <th>50%</th>\n",
       "      <th>75%</th>\n",
       "      <th>max</th>\n",
       "    </tr>\n",
       "  </thead>\n",
       "  <tbody>\n",
       "    <tr>\n",
       "      <th>RowNumber</th>\n",
       "      <td>7000.0</td>\n",
       "      <td>3500.500000</td>\n",
       "      <td>2020.870275</td>\n",
       "      <td>1.0</td>\n",
       "      <td>1750.75</td>\n",
       "      <td>3500.50</td>\n",
       "      <td>5250.250</td>\n",
       "      <td>7000.00</td>\n",
       "    </tr>\n",
       "    <tr>\n",
       "      <th>pontuacao_credito</th>\n",
       "      <td>7000.0</td>\n",
       "      <td>649.787000</td>\n",
       "      <td>97.046279</td>\n",
       "      <td>350.0</td>\n",
       "      <td>582.00</td>\n",
       "      <td>651.00</td>\n",
       "      <td>717.000</td>\n",
       "      <td>850.00</td>\n",
       "    </tr>\n",
       "    <tr>\n",
       "      <th>idade</th>\n",
       "      <td>7000.0</td>\n",
       "      <td>38.892714</td>\n",
       "      <td>10.465562</td>\n",
       "      <td>18.0</td>\n",
       "      <td>32.00</td>\n",
       "      <td>37.00</td>\n",
       "      <td>44.000</td>\n",
       "      <td>92.00</td>\n",
       "    </tr>\n",
       "    <tr>\n",
       "      <th>nivel_estabilidade</th>\n",
       "      <td>7000.0</td>\n",
       "      <td>5.010286</td>\n",
       "      <td>2.887500</td>\n",
       "      <td>0.0</td>\n",
       "      <td>3.00</td>\n",
       "      <td>5.00</td>\n",
       "      <td>7.250</td>\n",
       "      <td>10.00</td>\n",
       "    </tr>\n",
       "    <tr>\n",
       "      <th>saldo_conta</th>\n",
       "      <td>7000.0</td>\n",
       "      <td>76471.883751</td>\n",
       "      <td>62403.383911</td>\n",
       "      <td>0.0</td>\n",
       "      <td>0.00</td>\n",
       "      <td>97277.13</td>\n",
       "      <td>127537.155</td>\n",
       "      <td>250898.09</td>\n",
       "    </tr>\n",
       "    <tr>\n",
       "      <th>numero_produtos</th>\n",
       "      <td>7000.0</td>\n",
       "      <td>1.526000</td>\n",
       "      <td>0.583047</td>\n",
       "      <td>1.0</td>\n",
       "      <td>1.00</td>\n",
       "      <td>1.00</td>\n",
       "      <td>2.000</td>\n",
       "      <td>4.00</td>\n",
       "    </tr>\n",
       "    <tr>\n",
       "      <th>possui_cartao_de_credito</th>\n",
       "      <td>7000.0</td>\n",
       "      <td>0.703286</td>\n",
       "      <td>0.456842</td>\n",
       "      <td>0.0</td>\n",
       "      <td>0.00</td>\n",
       "      <td>1.00</td>\n",
       "      <td>1.000</td>\n",
       "      <td>1.00</td>\n",
       "    </tr>\n",
       "    <tr>\n",
       "      <th>membro_ativo</th>\n",
       "      <td>7000.0</td>\n",
       "      <td>0.512143</td>\n",
       "      <td>0.499888</td>\n",
       "      <td>0.0</td>\n",
       "      <td>0.00</td>\n",
       "      <td>1.00</td>\n",
       "      <td>1.000</td>\n",
       "      <td>1.00</td>\n",
       "    </tr>\n",
       "  </tbody>\n",
       "</table>\n",
       "</div>"
      ],
      "text/plain": [
       "                           count          mean           std    min      25%  \\\n",
       "RowNumber                 7000.0   3500.500000   2020.870275    1.0  1750.75   \n",
       "pontuacao_credito         7000.0    649.787000     97.046279  350.0   582.00   \n",
       "idade                     7000.0     38.892714     10.465562   18.0    32.00   \n",
       "nivel_estabilidade        7000.0      5.010286      2.887500    0.0     3.00   \n",
       "saldo_conta               7000.0  76471.883751  62403.383911    0.0     0.00   \n",
       "numero_produtos           7000.0      1.526000      0.583047    1.0     1.00   \n",
       "possui_cartao_de_credito  7000.0      0.703286      0.456842    0.0     0.00   \n",
       "membro_ativo              7000.0      0.512143      0.499888    0.0     0.00   \n",
       "\n",
       "                               50%         75%        max  \n",
       "RowNumber                  3500.50    5250.250    7000.00  \n",
       "pontuacao_credito           651.00     717.000     850.00  \n",
       "idade                        37.00      44.000      92.00  \n",
       "nivel_estabilidade            5.00       7.250      10.00  \n",
       "saldo_conta               97277.13  127537.155  250898.09  \n",
       "numero_produtos               1.00       2.000       4.00  \n",
       "possui_cartao_de_credito      1.00       1.000       1.00  \n",
       "membro_ativo                  1.00       1.000       1.00  "
      ]
     },
     "execution_count": 110,
     "metadata": {},
     "output_type": "execute_result"
    }
   ],
   "source": [
    "df.describe().T"
   ]
  },
  {
   "cell_type": "markdown",
   "metadata": {},
   "source": [
    "- $\\approx 70\\%$ dos clientes *possui_cartao_de_credito* \\\n",
    "- $\\approx 51\\%$ dos clientes são de *membro_ativo* \\\n",
    "- A *pontuacao_credito* varia entre 350 e 850, a média da pontuação dos seus clientes é de  $\\mu \\approx 650$\n",
    "- O *nivel_estabilidade* varia entre 0 e 10, a média do nível de estabilidade é de $\\mu \\approx 5$\n",
    "- A variável *saldo_conta* possui $\\sigma$ na mesma ordem de grandeza da $\\mu$, isto demonstra que esta variável possui outliers.\n",
    "- O máximo *numero_produtos* disposto por um único cliente é 4 e a moda nos permite inferir que a maioria dos clientes possui somente 1 produto.\n",
    "- A base de dados refere-se a 3 *estado_residencia*: SC, RS, PR\n",
    "- A base de dados é composta pelos *genero*  M: $54.15 \\%$ e F:  $45.84 \\%$"
   ]
  },
  {
   "cell_type": "code",
   "execution_count": 111,
   "metadata": {
    "ExecuteTime": {
     "end_time": "2020-04-21T17:47:04.611149Z",
     "start_time": "2020-04-21T17:47:04.564311Z"
    }
   },
   "outputs": [
    {
     "data": {
      "text/html": [
       "<div>\n",
       "<style scoped>\n",
       "    .dataframe tbody tr th:only-of-type {\n",
       "        vertical-align: middle;\n",
       "    }\n",
       "\n",
       "    .dataframe tbody tr th {\n",
       "        vertical-align: top;\n",
       "    }\n",
       "\n",
       "    .dataframe thead th {\n",
       "        text-align: right;\n",
       "    }\n",
       "</style>\n",
       "<table border=\"1\" class=\"dataframe\">\n",
       "  <thead>\n",
       "    <tr style=\"text-align: right;\">\n",
       "      <th></th>\n",
       "      <th>tipo</th>\n",
       "      <th>na</th>\n",
       "      <th>na%</th>\n",
       "      <th>#unique</th>\n",
       "    </tr>\n",
       "  </thead>\n",
       "  <tbody>\n",
       "    <tr>\n",
       "      <th>RowNumber</th>\n",
       "      <td>int64</td>\n",
       "      <td>0</td>\n",
       "      <td>0.0</td>\n",
       "      <td>7000</td>\n",
       "    </tr>\n",
       "    <tr>\n",
       "      <th>id</th>\n",
       "      <td>object</td>\n",
       "      <td>0</td>\n",
       "      <td>0.0</td>\n",
       "      <td>7000</td>\n",
       "    </tr>\n",
       "    <tr>\n",
       "      <th>sobrenome</th>\n",
       "      <td>object</td>\n",
       "      <td>0</td>\n",
       "      <td>0.0</td>\n",
       "      <td>2448</td>\n",
       "    </tr>\n",
       "    <tr>\n",
       "      <th>pontuacao_credito</th>\n",
       "      <td>int64</td>\n",
       "      <td>0</td>\n",
       "      <td>0.0</td>\n",
       "      <td>451</td>\n",
       "    </tr>\n",
       "    <tr>\n",
       "      <th>estado_residencia</th>\n",
       "      <td>object</td>\n",
       "      <td>0</td>\n",
       "      <td>0.0</td>\n",
       "      <td>3</td>\n",
       "    </tr>\n",
       "    <tr>\n",
       "      <th>genero</th>\n",
       "      <td>object</td>\n",
       "      <td>0</td>\n",
       "      <td>0.0</td>\n",
       "      <td>2</td>\n",
       "    </tr>\n",
       "    <tr>\n",
       "      <th>idade</th>\n",
       "      <td>int64</td>\n",
       "      <td>0</td>\n",
       "      <td>0.0</td>\n",
       "      <td>69</td>\n",
       "    </tr>\n",
       "    <tr>\n",
       "      <th>nivel_estabilidade</th>\n",
       "      <td>int64</td>\n",
       "      <td>0</td>\n",
       "      <td>0.0</td>\n",
       "      <td>11</td>\n",
       "    </tr>\n",
       "    <tr>\n",
       "      <th>saldo_conta</th>\n",
       "      <td>float64</td>\n",
       "      <td>0</td>\n",
       "      <td>0.0</td>\n",
       "      <td>4468</td>\n",
       "    </tr>\n",
       "    <tr>\n",
       "      <th>numero_produtos</th>\n",
       "      <td>int64</td>\n",
       "      <td>0</td>\n",
       "      <td>0.0</td>\n",
       "      <td>4</td>\n",
       "    </tr>\n",
       "    <tr>\n",
       "      <th>possui_cartao_de_credito</th>\n",
       "      <td>int64</td>\n",
       "      <td>0</td>\n",
       "      <td>0.0</td>\n",
       "      <td>2</td>\n",
       "    </tr>\n",
       "    <tr>\n",
       "      <th>membro_ativo</th>\n",
       "      <td>int64</td>\n",
       "      <td>0</td>\n",
       "      <td>0.0</td>\n",
       "      <td>2</td>\n",
       "    </tr>\n",
       "  </tbody>\n",
       "</table>\n",
       "</div>"
      ],
      "text/plain": [
       "                             tipo  na  na%  #unique\n",
       "RowNumber                   int64   0  0.0     7000\n",
       "id                         object   0  0.0     7000\n",
       "sobrenome                  object   0  0.0     2448\n",
       "pontuacao_credito           int64   0  0.0      451\n",
       "estado_residencia          object   0  0.0        3\n",
       "genero                     object   0  0.0        2\n",
       "idade                       int64   0  0.0       69\n",
       "nivel_estabilidade          int64   0  0.0       11\n",
       "saldo_conta               float64   0  0.0     4468\n",
       "numero_produtos             int64   0  0.0        4\n",
       "possui_cartao_de_credito    int64   0  0.0        2\n",
       "membro_ativo                int64   0  0.0        2"
      ]
     },
     "execution_count": 111,
     "metadata": {},
     "output_type": "execute_result"
    }
   ],
   "source": [
    "df_info = pd.DataFrame({'tipo':df.dtypes, 'na': df.isna().sum(), \n",
    "                        'na%': (df.isna().sum()/len(df))*100, '#unique':df.nunique()})\n",
    "df_info"
   ]
  },
  {
   "cell_type": "code",
   "execution_count": 118,
   "metadata": {
    "ExecuteTime": {
     "end_time": "2020-04-21T17:48:37.605300Z",
     "start_time": "2020-04-21T17:48:37.574187Z"
    }
   },
   "outputs": [],
   "source": [
    "'''Observa-se que inúmeros sobrenomes se repetem, porém todos os clientes possuem IDs únicas, \n",
    "desta forma vamos limpar o dataset eliminando tais informações'''\n",
    "df.drop(columns=['RowNumber','id', 'sobrenome'], inplace = True)"
   ]
  },
  {
   "cell_type": "code",
   "execution_count": 47,
   "metadata": {
    "ExecuteTime": {
     "end_time": "2020-04-21T16:49:09.989186Z",
     "start_time": "2020-04-21T16:49:09.957910Z"
    }
   },
   "outputs": [
    {
     "data": {
      "text/html": [
       "<div>\n",
       "<style scoped>\n",
       "    .dataframe tbody tr th:only-of-type {\n",
       "        vertical-align: middle;\n",
       "    }\n",
       "\n",
       "    .dataframe tbody tr th {\n",
       "        vertical-align: top;\n",
       "    }\n",
       "\n",
       "    .dataframe thead th {\n",
       "        text-align: right;\n",
       "    }\n",
       "</style>\n",
       "<table border=\"1\" class=\"dataframe\">\n",
       "  <thead>\n",
       "    <tr style=\"text-align: right;\">\n",
       "      <th></th>\n",
       "      <th>pontuacao_credito</th>\n",
       "      <th>estado_residencia</th>\n",
       "      <th>genero</th>\n",
       "      <th>idade</th>\n",
       "      <th>nivel_estabilidade</th>\n",
       "      <th>saldo_conta</th>\n",
       "      <th>numero_produtos</th>\n",
       "      <th>possui_cartao_de_credito</th>\n",
       "      <th>membro_ativo</th>\n",
       "    </tr>\n",
       "  </thead>\n",
       "  <tbody>\n",
       "    <tr>\n",
       "      <th>0</th>\n",
       "      <td>619</td>\n",
       "      <td>SC</td>\n",
       "      <td>F</td>\n",
       "      <td>42</td>\n",
       "      <td>2</td>\n",
       "      <td>0.00</td>\n",
       "      <td>1</td>\n",
       "      <td>1</td>\n",
       "      <td>1</td>\n",
       "    </tr>\n",
       "    <tr>\n",
       "      <th>1</th>\n",
       "      <td>608</td>\n",
       "      <td>RS</td>\n",
       "      <td>F</td>\n",
       "      <td>41</td>\n",
       "      <td>1</td>\n",
       "      <td>83807.86</td>\n",
       "      <td>1</td>\n",
       "      <td>0</td>\n",
       "      <td>1</td>\n",
       "    </tr>\n",
       "    <tr>\n",
       "      <th>2</th>\n",
       "      <td>502</td>\n",
       "      <td>SC</td>\n",
       "      <td>F</td>\n",
       "      <td>42</td>\n",
       "      <td>8</td>\n",
       "      <td>159660.80</td>\n",
       "      <td>3</td>\n",
       "      <td>1</td>\n",
       "      <td>0</td>\n",
       "    </tr>\n",
       "    <tr>\n",
       "      <th>3</th>\n",
       "      <td>699</td>\n",
       "      <td>SC</td>\n",
       "      <td>F</td>\n",
       "      <td>39</td>\n",
       "      <td>1</td>\n",
       "      <td>0.00</td>\n",
       "      <td>2</td>\n",
       "      <td>0</td>\n",
       "      <td>0</td>\n",
       "    </tr>\n",
       "    <tr>\n",
       "      <th>4</th>\n",
       "      <td>850</td>\n",
       "      <td>RS</td>\n",
       "      <td>F</td>\n",
       "      <td>43</td>\n",
       "      <td>2</td>\n",
       "      <td>125510.82</td>\n",
       "      <td>1</td>\n",
       "      <td>1</td>\n",
       "      <td>1</td>\n",
       "    </tr>\n",
       "  </tbody>\n",
       "</table>\n",
       "</div>"
      ],
      "text/plain": [
       "   pontuacao_credito estado_residencia genero  idade  nivel_estabilidade  \\\n",
       "0                619                SC      F     42                   2   \n",
       "1                608                RS      F     41                   1   \n",
       "2                502                SC      F     42                   8   \n",
       "3                699                SC      F     39                   1   \n",
       "4                850                RS      F     43                   2   \n",
       "\n",
       "   saldo_conta  numero_produtos  possui_cartao_de_credito  membro_ativo  \n",
       "0         0.00                1                         1             1  \n",
       "1     83807.86                1                         0             1  \n",
       "2    159660.80                3                         1             0  \n",
       "3         0.00                2                         0             0  \n",
       "4    125510.82                1                         1             1  "
      ]
     },
     "execution_count": 47,
     "metadata": {},
     "output_type": "execute_result"
    }
   ],
   "source": [
    "df.head()"
   ]
  },
  {
   "cell_type": "code",
   "execution_count": 49,
   "metadata": {
    "ExecuteTime": {
     "end_time": "2020-04-21T16:59:50.530746Z",
     "start_time": "2020-04-21T16:59:50.483884Z"
    }
   },
   "outputs": [
    {
     "data": {
      "text/plain": [
       "SC    3519\n",
       "RS    1750\n",
       "PR    1731\n",
       "Name: estado_residencia, dtype: int64"
      ]
     },
     "execution_count": 49,
     "metadata": {},
     "output_type": "execute_result"
    }
   ],
   "source": [
    "df['estado_residencia'].value_counts()"
   ]
  },
  {
   "cell_type": "code",
   "execution_count": 54,
   "metadata": {
    "ExecuteTime": {
     "end_time": "2020-04-21T17:16:26.090715Z",
     "start_time": "2020-04-21T17:16:26.059613Z"
    }
   },
   "outputs": [
    {
     "data": {
      "text/plain": [
       "M    0.541571\n",
       "F    0.458429\n",
       "Name: genero, dtype: float64"
      ]
     },
     "execution_count": 54,
     "metadata": {},
     "output_type": "execute_result"
    }
   ],
   "source": [
    "df['genero'].value_counts()/len(df)"
   ]
  },
  {
   "cell_type": "code",
   "execution_count": 53,
   "metadata": {
    "ExecuteTime": {
     "end_time": "2020-04-21T17:07:52.427270Z",
     "start_time": "2020-04-21T17:07:52.411649Z"
    }
   },
   "outputs": [
    {
     "data": {
      "text/plain": [
       "1    3593\n",
       "2    3174\n",
       "3     191\n",
       "4      42\n",
       "Name: numero_produtos, dtype: int64"
      ]
     },
     "execution_count": 53,
     "metadata": {},
     "output_type": "execute_result"
    }
   ],
   "source": [
    "df['numero_produtos'].value_counts()"
   ]
  },
  {
   "cell_type": "markdown",
   "metadata": {
    "ExecuteTime": {
     "end_time": "2020-04-21T17:22:29.846375Z",
     "start_time": "2020-04-21T17:22:29.830895Z"
    }
   },
   "source": [
    "## Ler o arquivo de saída esperado\n",
    "Valores da média, mediana, moda e desvio padrão da pontuação de crédito para cada estado do dataset"
   ]
  },
  {
   "cell_type": "code",
   "execution_count": 194,
   "metadata": {
    "ExecuteTime": {
     "end_time": "2020-04-21T18:33:11.986482Z",
     "start_time": "2020-04-21T18:33:11.955205Z"
    }
   },
   "outputs": [
    {
     "data": {
      "text/html": [
       "<div>\n",
       "<style scoped>\n",
       "    .dataframe tbody tr th:only-of-type {\n",
       "        vertical-align: middle;\n",
       "    }\n",
       "\n",
       "    .dataframe tbody tr th {\n",
       "        vertical-align: top;\n",
       "    }\n",
       "\n",
       "    .dataframe thead th {\n",
       "        text-align: right;\n",
       "    }\n",
       "</style>\n",
       "<table border=\"1\" class=\"dataframe\">\n",
       "  <thead>\n",
       "    <tr style=\"text-align: right;\">\n",
       "      <th></th>\n",
       "      <th>SC</th>\n",
       "      <th>RS</th>\n",
       "      <th>PR</th>\n",
       "    </tr>\n",
       "  </thead>\n",
       "  <tbody>\n",
       "    <tr>\n",
       "      <th>moda</th>\n",
       "      <td>0</td>\n",
       "      <td>0</td>\n",
       "      <td>0</td>\n",
       "    </tr>\n",
       "    <tr>\n",
       "      <th>mediana</th>\n",
       "      <td>0</td>\n",
       "      <td>0</td>\n",
       "      <td>0</td>\n",
       "    </tr>\n",
       "    <tr>\n",
       "      <th>media</th>\n",
       "      <td>0</td>\n",
       "      <td>0</td>\n",
       "      <td>0</td>\n",
       "    </tr>\n",
       "    <tr>\n",
       "      <th>desvio_padrao</th>\n",
       "      <td>0</td>\n",
       "      <td>0</td>\n",
       "      <td>0</td>\n",
       "    </tr>\n",
       "  </tbody>\n",
       "</table>\n",
       "</div>"
      ],
      "text/plain": [
       "               SC  RS  PR\n",
       "moda            0   0   0\n",
       "mediana         0   0   0\n",
       "media           0   0   0\n",
       "desvio_padrao   0   0   0"
      ]
     },
     "execution_count": 194,
     "metadata": {},
     "output_type": "execute_result"
    }
   ],
   "source": [
    "df_sub = pd.read_json('submission.json')\n",
    "df_sub"
   ]
  },
  {
   "cell_type": "code",
   "execution_count": 206,
   "metadata": {
    "ExecuteTime": {
     "end_time": "2020-04-21T18:40:17.459393Z",
     "start_time": "2020-04-21T18:40:17.428136Z"
    }
   },
   "outputs": [
    {
     "data": {
      "text/html": [
       "<div>\n",
       "<style scoped>\n",
       "    .dataframe tbody tr th:only-of-type {\n",
       "        vertical-align: middle;\n",
       "    }\n",
       "\n",
       "    .dataframe tbody tr th {\n",
       "        vertical-align: top;\n",
       "    }\n",
       "\n",
       "    .dataframe thead th {\n",
       "        text-align: right;\n",
       "    }\n",
       "</style>\n",
       "<table border=\"1\" class=\"dataframe\">\n",
       "  <thead>\n",
       "    <tr style=\"text-align: right;\">\n",
       "      <th></th>\n",
       "      <th>SC</th>\n",
       "      <th>RS</th>\n",
       "      <th>PR</th>\n",
       "    </tr>\n",
       "  </thead>\n",
       "  <tbody>\n",
       "    <tr>\n",
       "      <th>moda</th>\n",
       "      <td>850</td>\n",
       "      <td>850</td>\n",
       "      <td>850</td>\n",
       "    </tr>\n",
       "    <tr>\n",
       "      <th>mediana</th>\n",
       "      <td>653</td>\n",
       "      <td>650</td>\n",
       "      <td>650</td>\n",
       "    </tr>\n",
       "    <tr>\n",
       "      <th>media</th>\n",
       "      <td>649.538</td>\n",
       "      <td>651.105</td>\n",
       "      <td>648.961</td>\n",
       "    </tr>\n",
       "    <tr>\n",
       "      <th>desvio_padrao</th>\n",
       "      <td>97.2335</td>\n",
       "      <td>95.1366</td>\n",
       "      <td>98.6072</td>\n",
       "    </tr>\n",
       "  </tbody>\n",
       "</table>\n",
       "</div>"
      ],
      "text/plain": [
       "                    SC       RS       PR\n",
       "moda               850      850      850\n",
       "mediana            653      650      650\n",
       "media          649.538  651.105  648.961\n",
       "desvio_padrao  97.2335  95.1366  98.6072"
      ]
     },
     "execution_count": 206,
     "metadata": {},
     "output_type": "execute_result"
    }
   ],
   "source": [
    "# Usando Groupby\n",
    "df_estados = df.groupby('estado_residencia')['pontuacao_credito'].agg([stats.mode,'median','mean',np.std]).T\n",
    "df_estados.loc['mode'] = [df_estados.loc['mode',i][0][0] for i in table.columns]\n",
    "\n",
    "#Formatando os dados\n",
    "df_estados.index = ['moda', 'mediana', 'media','desvio_padrao']\n",
    "df_estados = df_estados[['SC','RS', 'PR']].rename_axis(\"\", axis=\"columns\")\n",
    "\n",
    "#Visualizando\n",
    "df_estados"
   ]
  },
  {
   "cell_type": "code",
   "execution_count": 220,
   "metadata": {
    "ExecuteTime": {
     "end_time": "2020-04-21T18:45:30.078215Z",
     "start_time": "2020-04-21T18:45:30.000235Z"
    }
   },
   "outputs": [
    {
     "data": {
      "text/html": [
       "<div>\n",
       "<style scoped>\n",
       "    .dataframe tbody tr th:only-of-type {\n",
       "        vertical-align: middle;\n",
       "    }\n",
       "\n",
       "    .dataframe tbody tr th {\n",
       "        vertical-align: top;\n",
       "    }\n",
       "\n",
       "    .dataframe thead th {\n",
       "        text-align: right;\n",
       "    }\n",
       "</style>\n",
       "<table border=\"1\" class=\"dataframe\">\n",
       "  <thead>\n",
       "    <tr style=\"text-align: right;\">\n",
       "      <th></th>\n",
       "      <th>SC</th>\n",
       "      <th>RS</th>\n",
       "      <th>PR</th>\n",
       "    </tr>\n",
       "  </thead>\n",
       "  <tbody>\n",
       "    <tr>\n",
       "      <th>moda</th>\n",
       "      <td>850</td>\n",
       "      <td>850</td>\n",
       "      <td>850</td>\n",
       "    </tr>\n",
       "    <tr>\n",
       "      <th>mediana</th>\n",
       "      <td>653</td>\n",
       "      <td>650</td>\n",
       "      <td>650</td>\n",
       "    </tr>\n",
       "    <tr>\n",
       "      <th>media</th>\n",
       "      <td>649.538</td>\n",
       "      <td>651.105</td>\n",
       "      <td>648.961</td>\n",
       "    </tr>\n",
       "    <tr>\n",
       "      <th>desvio_padrao</th>\n",
       "      <td>97.2335</td>\n",
       "      <td>95.1366</td>\n",
       "      <td>98.6072</td>\n",
       "    </tr>\n",
       "  </tbody>\n",
       "</table>\n",
       "</div>"
      ],
      "text/plain": [
       "                    SC       RS       PR\n",
       "moda               850      850      850\n",
       "mediana            653      650      650\n",
       "media          649.538  651.105  648.961\n",
       "desvio_padrao  97.2335  95.1366  98.6072"
      ]
     },
     "execution_count": 220,
     "metadata": {},
     "output_type": "execute_result"
    }
   ],
   "source": [
    "#Usando poivot_table\n",
    "table = pd.pivot_table(df,index=[\"estado_residencia\"], values=['pontuacao_credito'], \n",
    "               aggfunc=[stats.mode, 'median', 'mean', 'std']).T.droplevel(1)\n",
    "table.loc['mode'] = [table.loc['mode',i][0][0] for i in table.columns]\n",
    "#Formatando os dados\n",
    "table.index = ['moda', 'mediana', 'media','desvio_padrao']\n",
    "table = table[['SC','RS', 'PR']].rename_axis(\"\", axis=\"columns\")\n",
    "#Visualizando\n",
    "table"
   ]
  },
  {
   "cell_type": "code",
   "execution_count": 228,
   "metadata": {
    "ExecuteTime": {
     "end_time": "2020-04-21T18:51:14.595461Z",
     "start_time": "2020-04-21T18:51:13.299035Z"
    }
   },
   "outputs": [
    {
     "data": {
      "image/png": "[encoded data removed]",
      "text/plain": [
       "<Figure size 648x216 with 3 Axes>"
      ]
     },
     "metadata": {
      "needs_background": "light"
     },
     "output_type": "display_data"
    }
   ],
   "source": [
    "#Usando o FacetGrid para comparar a variável *pontuacao_credito* entre os estados e verificar se a moda está correta.\n",
    "#aumentou-se o número de bins para verificar a moda. Melhor ainda é usar a função mode ou value_counts para cada estado.\n",
    "\n",
    "g = sns.FacetGrid(data=df, col='estado_residencia')\n",
    "g = g.map(plt.hist, 'pontuacao_credito', bins=200,color=\"r\")"
   ]
  },
  {
   "cell_type": "code",
   "execution_count": 227,
   "metadata": {
    "ExecuteTime": {
     "end_time": "2020-04-21T18:50:50.782748Z",
     "start_time": "2020-04-21T18:50:50.769802Z"
    }
   },
   "outputs": [
    {
     "data": {
      "text/plain": [
       "850    47\n",
       "714    13\n",
       "651    12\n",
       "660    12\n",
       "634    12\n",
       "       ..\n",
       "561     1\n",
       "839     1\n",
       "845     1\n",
       "702     1\n",
       "350     1\n",
       "Name: pontuacao_credito, Length: 403, dtype: int64"
      ]
     },
     "execution_count": 227,
     "metadata": {},
     "output_type": "execute_result"
    }
   ],
   "source": [
    "df.loc[df.estado_residencia == 'PR', 'pontuacao_credito'].value_counts()"
   ]
  },
  {
   "cell_type": "markdown",
   "metadata": {},
   "source": [
    "## Save as json"
   ]
  },
  {
   "cell_type": "code",
   "execution_count": 230,
   "metadata": {
    "ExecuteTime": {
     "end_time": "2020-04-21T18:57:17.193076Z",
     "start_time": "2020-04-21T18:57:17.161966Z"
    }
   },
   "outputs": [],
   "source": [
    "df_estados.to_json('mysubmission.json')"
   ]
  },
  {
   "cell_type": "code",
   "execution_count": null,
   "metadata": {},
   "outputs": [],
   "source": []
  }
 ],
 "metadata": {
  "kernelspec": {
   "display_name": "Python 3.8.1 64-bit ('env': venv)",
   "language": "python",
   "name": "python38164bitenvvenv058afe72e3e84f3ea69554769c50cdc1"
  },
  "toc": {
   "base_numbering": 1,
   "nav_menu": {},
   "number_sections": true,
   "sideBar": true,
   "skip_h1_title": false,
   "title_cell": "Table of Contents",
   "title_sidebar": "Contents",
   "toc_cell": false,
   "toc_position": {},
   "toc_section_display": true,
   "toc_window_display": false
  },
  "varInspector": {
   "cols": {
    "lenName": 16,
    "lenType": 16,
    "lenVar": 40
   },
   "kernels_config": {
    "python": {
     "delete_cmd_postfix": "",
     "delete_cmd_prefix": "del ",
     "library": "var_list.py",
     "varRefreshCmd": "print(var_dic_list())"
    },
    "r": {
     "delete_cmd_postfix": ") ",
     "delete_cmd_prefix": "rm(",
     "library": "var_list.r",
     "varRefreshCmd": "cat(var_dic_list()) "
    }
   },
   "types_to_exclude": [
    "module",
    "function",
    "builtin_function_or_method",
    "instance",
    "_Feature"
   ],
   "window_display": false
  }
 },
 "nbformat": 4,
 "nbformat_minor": 4
}
