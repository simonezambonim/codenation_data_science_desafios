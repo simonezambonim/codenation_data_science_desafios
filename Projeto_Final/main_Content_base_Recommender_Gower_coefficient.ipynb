{
  "nbformat": 4,
  "nbformat_minor": 0,
  "metadata": {
    "colab": {
      "name": "codenation.ipynb",
      "provenance": [],
      "collapsed_sections": [],
      "mount_file_id": "1EFf3csH9WgpghK30arix9EE6C8pgCBTz",
      "authorship_tag": "ABX9TyOUCvWXYkTvJbkRybWXMO8m",
      "include_colab_link": true
    },
    "kernelspec": {
      "name": "python3",
      "display_name": "Python 3"
    }
  },
  "cells": [
    {
      "cell_type": "markdown",
      "metadata": {
        "id": "view-in-github",
        "colab_type": "text"
      },
      "source": [
        "<a href=\"https://colab.research.google.com/github/simonezambonim/codenation_data_science_desafios/blob/master/Projeto_Final/main_Content_base_Recommender_Gower_coefficient.ipynb\" target=\"_parent\"><img src=\"https://colab.research.google.com/assets/colab-badge.svg\" alt=\"Open In Colab\"/></a>"
      ]
    },
    {
      "cell_type": "code",
      "metadata": {
        "id": "aS74geGW5NXs",
        "colab_type": "code",
        "outputId": "d5b9ba34-00e4-417d-af00-328a791bb49f",
        "colab": {
          "base_uri": "https://localhost:8080/",
          "height": 34
        }
      },
      "source": [
        "from google.colab import drive\n",
        "drive.mount('/content/drive')"
      ],
      "execution_count": 3,
      "outputs": [
        {
          "output_type": "stream",
          "text": [
            "Drive already mounted at /content/drive; to attempt to forcibly remount, call drive.mount(\"/content/drive\", force_remount=True).\n"
          ],
          "name": "stdout"
        }
      ]
    },
    {
      "cell_type": "code",
      "metadata": {
        "id": "p7cGUdxbMGuH",
        "colab_type": "code",
        "outputId": "76a2f535-04cb-4ada-8fbe-b6554734002d",
        "colab": {
          "base_uri": "https://localhost:8080/",
          "height": 204
        }
      },
      "source": [
        "!pip install gower"
      ],
      "execution_count": 2,
      "outputs": [
        {
          "output_type": "stream",
          "text": [
            "Collecting gower\n",
            "  Downloading https://files.pythonhosted.org/packages/98/62/dea557ca74253ff35afa6dce17c6f950ff8b7fbd3636a4df2ef0877bcf65/gower-0.0.5.tar.gz\n",
            "Requirement already satisfied: numpy in /usr/local/lib/python3.6/dist-packages (from gower) (1.18.5)\n",
            "Requirement already satisfied: scipy in /usr/local/lib/python3.6/dist-packages (from gower) (1.4.1)\n",
            "Building wheels for collected packages: gower\n",
            "  Building wheel for gower (setup.py) ... \u001b[?25l\u001b[?25hdone\n",
            "  Created wheel for gower: filename=gower-0.0.5-cp36-none-any.whl size=4232 sha256=63db4d684838b3884edd32dfd9fc74483d667280fa1fd954704ba0d430dccfff\n",
            "  Stored in directory: /root/.cache/pip/wheels/c0/09/9b/072d54d6ced0f43a179852e3f09532d0131e25ff7cb4e5ee75\n",
            "Successfully built gower\n",
            "Installing collected packages: gower\n",
            "Successfully installed gower-0.0.5\n"
          ],
          "name": "stdout"
        }
      ]
    },
    {
      "cell_type": "code",
      "metadata": {
        "id": "rGBMiP4-6Re1",
        "colab_type": "code",
        "colab": {}
      },
      "source": [
        "import pandas as pd\n",
        "import gower\n",
        "import numpy as np\n",
        "import matplotlib.pyplot as plt\n",
        "import seaborn as sns\n",
        "import pickle\n",
        "from sklearn.model_selection import train_test_split\n",
        "\n",
        "sns.set()"
      ],
      "execution_count": 0,
      "outputs": []
    },
    {
      "cell_type": "markdown",
      "metadata": {
        "id": "ZsWLaluSS-WP",
        "colab_type": "text"
      },
      "source": [
        "# Utils functions"
      ]
    },
    {
      "cell_type": "code",
      "metadata": {
        "id": "EMEOnfhN-rqc",
        "colab_type": "code",
        "colab": {}
      },
      "source": [
        "def get_info(df):\n",
        "    '''\n",
        "    Get basic info from data set\n",
        "    '''\n",
        "    print('Shape :: ', df.shape)\n",
        "    return pd.DataFrame({'types': df.dtypes,\n",
        "                            'nan': df.isna().sum(), \n",
        "                            'nan%': ((df.isna().sum()/len(df))*100).round(1), \n",
        "                            'unique':df.nunique()\n",
        "                            })"
      ],
      "execution_count": 0,
      "outputs": []
    },
    {
      "cell_type": "code",
      "metadata": {
        "id": "HKNqjSn1UMev",
        "colab_type": "code",
        "colab": {}
      },
      "source": [
        "def dropna_cols(df,info,max_na): \n",
        "    '''\n",
        "    Function to drop columns above threshold max_na\n",
        "    '''\n",
        "    return df.drop(info[info['nan%']  > max_na].index, axis=1).copy()"
      ],
      "execution_count": 0,
      "outputs": []
    },
    {
      "cell_type": "code",
      "metadata": {
        "id": "YjamAGBcUUML",
        "colab_type": "code",
        "colab": {}
      },
      "source": [
        "def categorical_types(df):\n",
        "    '''\n",
        "    Our model requires to know where are the positions of each categorical variable\n",
        "    Here we extract this info!\n",
        "\n",
        "    returns\n",
        "    : all_features - complete set of columns\n",
        "    : categ_features -  boolean and object features \n",
        "    : num_features - numeric features\n",
        "    : categ_bool - the whole index of columns stating True for categorical variables\n",
        "    '''\n",
        "    \n",
        "    all_features = df.columns.to_list()\n",
        "      \n",
        "    categ_features = df.select_dtypes(['bool','object']).columns.to_list()\n",
        "    num_features = df.select_dtypes(['int64','float']).columns.to_list()\n",
        "\n",
        "    categ_loc = [df.columns.get_loc(x) for x in categ_features]\n",
        "    categ_func = lambda x: True if x in categ_features else False\n",
        "    categ_bool = [categ_func(x) for x in all_features]\n",
        "    categ_idx = dict(zip(categ_features, categ_bool))\n",
        "\n",
        "    print(f'{df.shape} \\n\\nNum:{num_features} \\n\\nCateg: {categ_features}')\n",
        "    \n",
        "    return (all_features,categ_features,num_features,categ_bool)"
      ],
      "execution_count": 0,
      "outputs": []
    },
    {
      "cell_type": "code",
      "metadata": {
        "id": "ZpiJqCOQVo-I",
        "colab_type": "code",
        "colab": {}
      },
      "source": [
        "def get_user_companies(path,file):\n",
        "    return pd.read_csv(path + file, index_col=0)"
      ],
      "execution_count": 0,
      "outputs": []
    },
    {
      "cell_type": "markdown",
      "metadata": {
        "id": "Y_rPlKWFUtJ4",
        "colab_type": "text"
      },
      "source": [
        "# Load data"
      ]
    },
    {
      "cell_type": "code",
      "metadata": {
        "id": "C6_bCj6RWGe0",
        "colab_type": "code",
        "colab": {}
      },
      "source": [
        "path = '/content/drive/My Drive/codenation/'"
      ],
      "execution_count": 0,
      "outputs": []
    },
    {
      "cell_type": "code",
      "metadata": {
        "id": "ui0OMsus6Sdy",
        "colab_type": "code",
        "colab": {}
      },
      "source": [
        "market = pd.read_csv(path+'estaticos_market.csv', index_col =0)"
      ],
      "execution_count": 0,
      "outputs": []
    },
    {
      "cell_type": "code",
      "metadata": {
        "id": "YmCSGD918H8h",
        "colab_type": "code",
        "outputId": "2300e0bb-c8fa-489b-eb19-7f290185fb49",
        "colab": {
          "base_uri": "https://localhost:8080/",
          "height": 34
        }
      },
      "source": [
        "infoDB = get_info(market)"
      ],
      "execution_count": 11,
      "outputs": [
        {
          "output_type": "stream",
          "text": [
            "Shape ::  (462298, 181)\n"
          ],
          "name": "stdout"
        }
      ]
    },
    {
      "cell_type": "markdown",
      "metadata": {
        "id": "BiWNjJ-jAd-P",
        "colab_type": "text"
      },
      "source": [
        "# Clean data"
      ]
    },
    {
      "cell_type": "code",
      "metadata": {
        "id": "V6IDOas63I_z",
        "colab_type": "code",
        "outputId": "08a2c19c-4de9-4a71-e3d5-d1bd8c671a29",
        "colab": {
          "base_uri": "https://localhost:8080/",
          "height": 34
        }
      },
      "source": [
        "# drop columns with more than 40% of missing values\n",
        "max_percentual_na = 40\n",
        "df = dropna_cols(market,infoDB,max_percentual_na).copy()\n",
        "\n",
        "## drop companies withou 'setor',  'nm_divisao', 'nm_segmento'\n",
        "print('Numero de empresas sem informações básicas (setor, nm_divisao, nm_segmento)',\n",
        "df.loc[df.setor.isna(),['setor','de_ramo', 'nm_divisao', 'nm_segmento']].shape[0])\n",
        "\n",
        "df.dropna(subset = ['setor',  'nm_divisao', 'nm_segmento'], axis = 0, inplace = True)"
      ],
      "execution_count": 12,
      "outputs": [
        {
          "output_type": "stream",
          "text": [
            "Numero de empresas sem informações básicas (setor, nm_divisao, nm_segmento) 1927\n"
          ],
          "name": "stdout"
        }
      ]
    },
    {
      "cell_type": "markdown",
      "metadata": {
        "id": "cDcoJ9H8uCmD",
        "colab_type": "text"
      },
      "source": [
        "Since we have deleted some  companies from the markt dataset, we need to make sure we reset the index in order to avoid confusions when using ```df.iloc``` and ```df.loc```. "
      ]
    },
    {
      "cell_type": "code",
      "metadata": {
        "id": "snKckGPQqfzI",
        "colab_type": "code",
        "colab": {}
      },
      "source": [
        "df.reset_index(inplace=True, drop=True)"
      ],
      "execution_count": 0,
      "outputs": []
    },
    {
      "cell_type": "code",
      "metadata": {
        "id": "tk3FrOhbU9Dv",
        "colab_type": "code",
        "colab": {
          "base_uri": "https://localhost:8080/",
          "height": 34
        },
        "outputId": "e5e7726b-9349-4202-8216-ffedcd0ba1d5"
      },
      "source": [
        "to_drop_age = ['idade_empresa_anos', 'dt_situacao']\n",
        "to_drop_rescencia = ['nu_meses_rescencia']\n",
        "to_drop_idade = ['qt_socios', 'idade_maxima_socios', 'idade_minima_socios']\n",
        "to_drop_natureza = ['fl_optante_simei', 'fl_optante_simples']\n",
        "to_drop_faturamento = ['vl_faturamento_estimado_aux','vl_faturamento_estimado_grupo_aux']\n",
        "to_drop_extra = [ 'fl_email','fl_telefone','sg_uf_matriz']\n",
        "\n",
        "to_drop = to_drop_age + to_drop_rescencia + to_drop_idade + to_drop_natureza + to_drop_faturamento + to_drop_extra\n",
        "\n",
        "df.drop(columns = to_drop, inplace=True)\n",
        "\n",
        "print('Number of cols dropped', len(to_drop))"
      ],
      "execution_count": 14,
      "outputs": [
        {
          "output_type": "stream",
          "text": [
            "Number of cols dropped 13\n"
          ],
          "name": "stdout"
        }
      ]
    },
    {
      "cell_type": "markdown",
      "metadata": {
        "id": "dx63h7wjVWUM",
        "colab_type": "text"
      },
      "source": [
        "Let's get some info about our data:"
      ]
    },
    {
      "cell_type": "code",
      "metadata": {
        "id": "q3vL0imuVWkK",
        "colab_type": "code",
        "colab": {
          "base_uri": "https://localhost:8080/",
          "height": 122
        },
        "outputId": "557964e6-5a51-4b00-c98c-ec7c98006b1f"
      },
      "source": [
        "features, categ_features, num_features, categ_bool = categorical_types(df)"
      ],
      "execution_count": 15,
      "outputs": [
        {
          "output_type": "stream",
          "text": [
            "(460371, 37) \n",
            "\n",
            "Num:['vl_total_veiculos_pesados_grupo', 'vl_total_veiculos_leves_grupo', 'empsetorcensitariofaixarendapopulacao', 'qt_socios_pf', 'qt_socios_pj', 'idade_media_socios', 'qt_socios_st_regular', 'qt_filiais'] \n",
            "\n",
            "Categ: ['id', 'fl_matriz', 'de_natureza_juridica', 'sg_uf', 'natureza_juridica_macro', 'de_ramo', 'setor', 'idade_emp_cat', 'fl_me', 'fl_sa', 'fl_epp', 'fl_mei', 'fl_ltda', 'fl_st_especial', 'fl_rm', 'nm_divisao', 'nm_segmento', 'fl_spa', 'fl_antt', 'fl_veiculo', 'de_saude_tributaria', 'de_saude_rescencia', 'de_nivel_atividade', 'fl_simples_irregular', 'nm_meso_regiao', 'nm_micro_regiao', 'fl_passivel_iss', 'de_faixa_faturamento_estimado', 'de_faixa_faturamento_estimado_grupo']\n"
          ],
          "name": "stdout"
        }
      ]
    },
    {
      "cell_type": "markdown",
      "metadata": {
        "id": "fox4Mu7OVjUi",
        "colab_type": "text"
      },
      "source": [
        "# Imputation of missing values\n",
        "\n",
        "This is such a hard task, specially in the case where we are looking for similarities because every moment we input values we are approximating observations, and creating relations that may not really exist. So the ideal case would be to use a metric able to handle these missing values by ignoring them. For that we've tried to use the HEOM metric, this example is in the other file in the same folder, check it out!\n",
        "\n",
        "Also, instead of just simple input it is interesting to try out iterative and knn impute, they are available in sklearn! \n",
        "\n",
        "Here we have chosen simple input for it's simplicity!"
      ]
    },
    {
      "cell_type": "code",
      "metadata": {
        "id": "1uzHX3jTU9Ab",
        "colab_type": "code",
        "colab": {}
      },
      "source": [
        "# Fill numeric values with the mean\\median\n",
        "df['idade_media_socios'].fillna(int(df['idade_media_socios'].mean()), inplace=True)\n",
        "df['empsetorcensitariofaixarendapopulacao'].fillna(df['empsetorcensitariofaixarendapopulacao'].median(), inplace=True)\n",
        "df['empsetorcensitariofaixarendapopulacao'] = np.log(df['empsetorcensitariofaixarendapopulacao'])\n",
        "\n",
        "# Fill these with bussiness info\n",
        "df['qt_socios_pf'].fillna(1, inplace=True)\n",
        "df['qt_socios_pj'].fillna(0, inplace=True)\n",
        "df['qt_socios_st_regular'].fillna(df['qt_socios_pf'], inplace=True)\n",
        "\n",
        "# Fill nominal/ordinal categorical data with 'SEM INFORMACAO'\n",
        "to_fill = ['de_faixa_faturamento_estimado','de_faixa_faturamento_estimado_grupo',\n",
        "'de_nivel_atividade', 'de_saude_rescencia','nm_meso_regiao','nm_micro_regiao']\n",
        "\n",
        "df['de_saude_tributaria'].fillna('CINZA')\n",
        "\n",
        "for x in to_fill:\n",
        "    df[x].fillna('SEM INFORMACAO', inplace=True)"
      ],
      "execution_count": 0,
      "outputs": []
    },
    {
      "cell_type": "markdown",
      "metadata": {
        "id": "7P8LQb8QYg1L",
        "colab_type": "text"
      },
      "source": [
        "# Encode Variables\n",
        "\n",
        "Altough the metric we chose does not require any encoding, we put some efforts in encoding in order to evaluate other metrics later. "
      ]
    },
    {
      "cell_type": "code",
      "metadata": {
        "id": "S9cxk7KXU87k",
        "colab_type": "code",
        "colab": {}
      },
      "source": [
        "#Encode the ordinal variables, following a ordinal ogic\n",
        "dic_faturamento_estimado = {\n",
        "    'SEM INFORMACAO' : 0,\n",
        "    'ATE R$ 81.000,00' : 1,\n",
        "    'DE R$ 81.000,01 A R$ 360.000,00' : 2,\n",
        "    'DE R$ 360.000,01 A R$ 1.500.000,00':3,\n",
        "    'DE R$ 1.500.000,01 A R$ 4.800.000,00':4,\n",
        "    'DE R$ 4.800.000,01 A R$ 10.000.000,00':5,\n",
        "    'DE R$ 10.000.000,01 A R$ 30.000.000,00':6, \n",
        "    'DE R$ 30.000.000,01 A R$ 100.000.000,00':7,\n",
        "    'DE R$ 100.000.000,01 A R$ 300.000.000,00':8,\n",
        "    'DE R$ 300.000.000,01 A R$ 500.000.000,00':9,\n",
        "    'DE R$ 500.000.000,01 A 1 BILHAO DE REAIS':10,\n",
        "    'ACIMA DE 1 BILHAO DE REAIS':11}\n",
        "\n",
        "dic_idade = {\n",
        "    '<= 1': 1,\n",
        "    '1 a 5': 2,\n",
        "    '5 a 10': 3,\n",
        "    '10 a 15':4,\n",
        "    '15 a 20':5,\n",
        "    '> 20' :6}\n",
        "\n",
        "dic_de_nivel_atividade = {\n",
        "    'SEM INFORMACAO': 0,\n",
        "    'MUITO BAIXA': 1,\n",
        "    'BAIXA':2,\n",
        "    'MEDIA':3,\n",
        "    'ALTA': 4\n",
        "    }    \n",
        "\n",
        "dic_de_saude_rescencia = {'SEM INFORMACAO': 0,\n",
        "  'ATE 3 MESES' : 1,\n",
        "  'ATE 6 MESES' :2,\n",
        "  'ATE 1 ANO':3,\n",
        "  'ACIMA DE 1 ANO':4}\n",
        "\n",
        "dic_de_saude_tributaria = {\n",
        "  'CINZA': 0,\n",
        "  'VERMELHO':1,\n",
        "  'LARANJA': 2,\n",
        "  'AMARELO':3,\n",
        "  'AZUL':4,\n",
        "  'VERDE':5}\n",
        "\n",
        "# Map \n",
        "df['de_faixa_faturamento_estimado'] = df['de_faixa_faturamento_estimado'].map(dic_faturamento_estimado)\n",
        "df['de_faixa_faturamento_estimado_grupo'] = df['de_faixa_faturamento_estimado_grupo'].map(dic_faturamento_estimado)\n",
        "df['idade_emp_cat'] = df['idade_emp_cat'].map(dic_idade)\n",
        "df['de_nivel_atividade'] = df['de_nivel_atividade'].map(dic_de_nivel_atividade)\n",
        "df['de_saude_rescencia'] = df['de_saude_rescencia'].map(dic_de_saude_rescencia)\n",
        "df['de_saude_tributaria'] = df['de_saude_tributaria'].map(dic_de_saude_tributaria)"
      ],
      "execution_count": 0,
      "outputs": []
    },
    {
      "cell_type": "code",
      "metadata": {
        "id": "WZAvqMF1U8zs",
        "colab_type": "code",
        "colab": {}
      },
      "source": [
        "# Encode the bool features\n",
        "dic_bool = {\n",
        "    'SIM': 1,\n",
        "    'NAO': 0}\n",
        "\n",
        "df['fl_rm'] = df['fl_rm'].map(dic_bool)\n",
        "\n",
        "bool_features = [col for col in df.columns if col.startswith('fl_')]\n",
        "\n",
        "# Treat them as integers\n",
        "for feat in bool_features:    \n",
        "    df[feat] = df[feat].astype(int)"
      ],
      "execution_count": 0,
      "outputs": []
    },
    {
      "cell_type": "code",
      "metadata": {
        "id": "fAx8jxyDU8nz",
        "colab_type": "code",
        "colab": {}
      },
      "source": [
        "# Encode the remaining categorical variables \n",
        "categorical_features = [\n",
        "    'natureza_juridica_macro',\n",
        "    'de_natureza_juridica',\n",
        "    'de_ramo',\n",
        "    'setor',\n",
        "    'nm_divisao',\n",
        "    'nm_segmento',\n",
        "    'nm_meso_regiao',\n",
        "    'nm_micro_regiao',\n",
        "    'sg_uf']\n",
        "\n",
        "# keep track of the encoding in the map_categories variable\n",
        "map_categories = dict()\n",
        "for feat in categorical_features:\n",
        "    df[feat] = df[feat].astype('category')\n",
        "    encode_categ = df[feat].cat.codes\n",
        "    map_categories[feat] = dict(zip(encode_categ, df[feat]))\n",
        "    df[feat] = encode_categ"
      ],
      "execution_count": 0,
      "outputs": []
    },
    {
      "cell_type": "code",
      "metadata": {
        "id": "x764-ATDeln4",
        "colab_type": "code",
        "outputId": "002c6d27-63ad-4bab-e453-bcc979f03fc5",
        "colab": {
          "base_uri": "https://localhost:8080/",
          "height": 224
        }
      },
      "source": [
        "df.head(5)"
      ],
      "execution_count": 20,
      "outputs": [
        {
          "output_type": "execute_result",
          "data": {
            "text/html": [
              "<div>\n",
              "<style scoped>\n",
              "    .dataframe tbody tr th:only-of-type {\n",
              "        vertical-align: middle;\n",
              "    }\n",
              "\n",
              "    .dataframe tbody tr th {\n",
              "        vertical-align: top;\n",
              "    }\n",
              "\n",
              "    .dataframe thead th {\n",
              "        text-align: right;\n",
              "    }\n",
              "</style>\n",
              "<table border=\"1\" class=\"dataframe\">\n",
              "  <thead>\n",
              "    <tr style=\"text-align: right;\">\n",
              "      <th></th>\n",
              "      <th>id</th>\n",
              "      <th>fl_matriz</th>\n",
              "      <th>de_natureza_juridica</th>\n",
              "      <th>sg_uf</th>\n",
              "      <th>natureza_juridica_macro</th>\n",
              "      <th>de_ramo</th>\n",
              "      <th>setor</th>\n",
              "      <th>idade_emp_cat</th>\n",
              "      <th>fl_me</th>\n",
              "      <th>fl_sa</th>\n",
              "      <th>fl_epp</th>\n",
              "      <th>fl_mei</th>\n",
              "      <th>fl_ltda</th>\n",
              "      <th>fl_st_especial</th>\n",
              "      <th>fl_rm</th>\n",
              "      <th>nm_divisao</th>\n",
              "      <th>nm_segmento</th>\n",
              "      <th>fl_spa</th>\n",
              "      <th>fl_antt</th>\n",
              "      <th>fl_veiculo</th>\n",
              "      <th>vl_total_veiculos_pesados_grupo</th>\n",
              "      <th>vl_total_veiculos_leves_grupo</th>\n",
              "      <th>de_saude_tributaria</th>\n",
              "      <th>de_saude_rescencia</th>\n",
              "      <th>de_nivel_atividade</th>\n",
              "      <th>fl_simples_irregular</th>\n",
              "      <th>empsetorcensitariofaixarendapopulacao</th>\n",
              "      <th>nm_meso_regiao</th>\n",
              "      <th>nm_micro_regiao</th>\n",
              "      <th>fl_passivel_iss</th>\n",
              "      <th>qt_socios_pf</th>\n",
              "      <th>qt_socios_pj</th>\n",
              "      <th>idade_media_socios</th>\n",
              "      <th>qt_socios_st_regular</th>\n",
              "      <th>de_faixa_faturamento_estimado</th>\n",
              "      <th>de_faixa_faturamento_estimado_grupo</th>\n",
              "      <th>qt_filiais</th>\n",
              "    </tr>\n",
              "  </thead>\n",
              "  <tbody>\n",
              "    <tr>\n",
              "      <th>0</th>\n",
              "      <td>a6984c3ae395090e3bee8ad63c3758b110de096d5d8195...</td>\n",
              "      <td>1</td>\n",
              "      <td>59</td>\n",
              "      <td>4</td>\n",
              "      <td>2</td>\n",
              "      <td>11</td>\n",
              "      <td>2</td>\n",
              "      <td>4</td>\n",
              "      <td>0</td>\n",
              "      <td>0</td>\n",
              "      <td>0</td>\n",
              "      <td>0</td>\n",
              "      <td>0</td>\n",
              "      <td>0</td>\n",
              "      <td>1</td>\n",
              "      <td>32</td>\n",
              "      <td>10</td>\n",
              "      <td>0</td>\n",
              "      <td>0</td>\n",
              "      <td>0</td>\n",
              "      <td>0.0</td>\n",
              "      <td>0.0</td>\n",
              "      <td>5.0</td>\n",
              "      <td>4</td>\n",
              "      <td>4</td>\n",
              "      <td>0</td>\n",
              "      <td>6.852961</td>\n",
              "      <td>6</td>\n",
              "      <td>48</td>\n",
              "      <td>1</td>\n",
              "      <td>2.0</td>\n",
              "      <td>0.0</td>\n",
              "      <td>44.0</td>\n",
              "      <td>2.0</td>\n",
              "      <td>4</td>\n",
              "      <td>4</td>\n",
              "      <td>0</td>\n",
              "    </tr>\n",
              "    <tr>\n",
              "      <th>1</th>\n",
              "      <td>6178f41ade1365e44bc2c46654c2c8c0eaae27dcb476c4...</td>\n",
              "      <td>1</td>\n",
              "      <td>17</td>\n",
              "      <td>3</td>\n",
              "      <td>5</td>\n",
              "      <td>20</td>\n",
              "      <td>4</td>\n",
              "      <td>2</td>\n",
              "      <td>0</td>\n",
              "      <td>0</td>\n",
              "      <td>0</td>\n",
              "      <td>1</td>\n",
              "      <td>0</td>\n",
              "      <td>0</td>\n",
              "      <td>1</td>\n",
              "      <td>3</td>\n",
              "      <td>3</td>\n",
              "      <td>0</td>\n",
              "      <td>0</td>\n",
              "      <td>0</td>\n",
              "      <td>0.0</td>\n",
              "      <td>0.0</td>\n",
              "      <td>0.0</td>\n",
              "      <td>3</td>\n",
              "      <td>2</td>\n",
              "      <td>0</td>\n",
              "      <td>6.150454</td>\n",
              "      <td>4</td>\n",
              "      <td>70</td>\n",
              "      <td>1</td>\n",
              "      <td>1.0</td>\n",
              "      <td>0.0</td>\n",
              "      <td>27.0</td>\n",
              "      <td>1.0</td>\n",
              "      <td>2</td>\n",
              "      <td>2</td>\n",
              "      <td>0</td>\n",
              "    </tr>\n",
              "    <tr>\n",
              "      <th>2</th>\n",
              "      <td>4a7e5069a397f12fdd7fd57111d6dc5d3ba558958efc02...</td>\n",
              "      <td>1</td>\n",
              "      <td>17</td>\n",
              "      <td>1</td>\n",
              "      <td>5</td>\n",
              "      <td>31</td>\n",
              "      <td>4</td>\n",
              "      <td>3</td>\n",
              "      <td>0</td>\n",
              "      <td>0</td>\n",
              "      <td>0</td>\n",
              "      <td>1</td>\n",
              "      <td>0</td>\n",
              "      <td>0</td>\n",
              "      <td>1</td>\n",
              "      <td>86</td>\n",
              "      <td>20</td>\n",
              "      <td>0</td>\n",
              "      <td>0</td>\n",
              "      <td>0</td>\n",
              "      <td>0.0</td>\n",
              "      <td>0.0</td>\n",
              "      <td>3.0</td>\n",
              "      <td>4</td>\n",
              "      <td>3</td>\n",
              "      <td>0</td>\n",
              "      <td>6.570182</td>\n",
              "      <td>2</td>\n",
              "      <td>43</td>\n",
              "      <td>1</td>\n",
              "      <td>1.0</td>\n",
              "      <td>0.0</td>\n",
              "      <td>32.0</td>\n",
              "      <td>1.0</td>\n",
              "      <td>1</td>\n",
              "      <td>1</td>\n",
              "      <td>0</td>\n",
              "    </tr>\n",
              "    <tr>\n",
              "      <th>3</th>\n",
              "      <td>3348900fe63216a439d2e5238c79ddd46ede454df7b9d8...</td>\n",
              "      <td>1</td>\n",
              "      <td>17</td>\n",
              "      <td>1</td>\n",
              "      <td>5</td>\n",
              "      <td>24</td>\n",
              "      <td>4</td>\n",
              "      <td>3</td>\n",
              "      <td>0</td>\n",
              "      <td>0</td>\n",
              "      <td>0</td>\n",
              "      <td>0</td>\n",
              "      <td>0</td>\n",
              "      <td>0</td>\n",
              "      <td>1</td>\n",
              "      <td>74</td>\n",
              "      <td>17</td>\n",
              "      <td>0</td>\n",
              "      <td>0</td>\n",
              "      <td>0</td>\n",
              "      <td>0.0</td>\n",
              "      <td>0.0</td>\n",
              "      <td>3.0</td>\n",
              "      <td>4</td>\n",
              "      <td>3</td>\n",
              "      <td>0</td>\n",
              "      <td>6.164850</td>\n",
              "      <td>2</td>\n",
              "      <td>43</td>\n",
              "      <td>1</td>\n",
              "      <td>1.0</td>\n",
              "      <td>0.0</td>\n",
              "      <td>36.0</td>\n",
              "      <td>1.0</td>\n",
              "      <td>2</td>\n",
              "      <td>2</td>\n",
              "      <td>0</td>\n",
              "    </tr>\n",
              "    <tr>\n",
              "      <th>4</th>\n",
              "      <td>1f9bcabc9d3173c1fe769899e4fac14b053037b953a1e4...</td>\n",
              "      <td>1</td>\n",
              "      <td>17</td>\n",
              "      <td>4</td>\n",
              "      <td>5</td>\n",
              "      <td>26</td>\n",
              "      <td>4</td>\n",
              "      <td>2</td>\n",
              "      <td>0</td>\n",
              "      <td>0</td>\n",
              "      <td>0</td>\n",
              "      <td>0</td>\n",
              "      <td>0</td>\n",
              "      <td>0</td>\n",
              "      <td>1</td>\n",
              "      <td>77</td>\n",
              "      <td>8</td>\n",
              "      <td>0</td>\n",
              "      <td>0</td>\n",
              "      <td>0</td>\n",
              "      <td>0.0</td>\n",
              "      <td>0.0</td>\n",
              "      <td>5.0</td>\n",
              "      <td>4</td>\n",
              "      <td>4</td>\n",
              "      <td>0</td>\n",
              "      <td>7.963474</td>\n",
              "      <td>6</td>\n",
              "      <td>48</td>\n",
              "      <td>1</td>\n",
              "      <td>1.0</td>\n",
              "      <td>0.0</td>\n",
              "      <td>42.0</td>\n",
              "      <td>1.0</td>\n",
              "      <td>2</td>\n",
              "      <td>2</td>\n",
              "      <td>0</td>\n",
              "    </tr>\n",
              "  </tbody>\n",
              "</table>\n",
              "</div>"
            ],
            "text/plain": [
              "                                                  id  ...  qt_filiais\n",
              "0  a6984c3ae395090e3bee8ad63c3758b110de096d5d8195...  ...           0\n",
              "1  6178f41ade1365e44bc2c46654c2c8c0eaae27dcb476c4...  ...           0\n",
              "2  4a7e5069a397f12fdd7fd57111d6dc5d3ba558958efc02...  ...           0\n",
              "3  3348900fe63216a439d2e5238c79ddd46ede454df7b9d8...  ...           0\n",
              "4  1f9bcabc9d3173c1fe769899e4fac14b053037b953a1e4...  ...           0\n",
              "\n",
              "[5 rows x 37 columns]"
            ]
          },
          "metadata": {
            "tags": []
          },
          "execution_count": 20
        }
      ]
    },
    {
      "cell_type": "code",
      "metadata": {
        "id": "BeuXVlNfbg7e",
        "colab_type": "code",
        "outputId": "cc226504-785e-4a99-9b24-27b722b5249f",
        "colab": {
          "base_uri": "https://localhost:8080/",
          "height": 1000
        }
      },
      "source": [
        "get_info(df)"
      ],
      "execution_count": 21,
      "outputs": [
        {
          "output_type": "stream",
          "text": [
            "Shape ::  (460371, 37)\n"
          ],
          "name": "stdout"
        },
        {
          "output_type": "execute_result",
          "data": {
            "text/html": [
              "<div>\n",
              "<style scoped>\n",
              "    .dataframe tbody tr th:only-of-type {\n",
              "        vertical-align: middle;\n",
              "    }\n",
              "\n",
              "    .dataframe tbody tr th {\n",
              "        vertical-align: top;\n",
              "    }\n",
              "\n",
              "    .dataframe thead th {\n",
              "        text-align: right;\n",
              "    }\n",
              "</style>\n",
              "<table border=\"1\" class=\"dataframe\">\n",
              "  <thead>\n",
              "    <tr style=\"text-align: right;\">\n",
              "      <th></th>\n",
              "      <th>types</th>\n",
              "      <th>nan</th>\n",
              "      <th>nan%</th>\n",
              "      <th>unique</th>\n",
              "    </tr>\n",
              "  </thead>\n",
              "  <tbody>\n",
              "    <tr>\n",
              "      <th>id</th>\n",
              "      <td>object</td>\n",
              "      <td>0</td>\n",
              "      <td>0.0</td>\n",
              "      <td>460371</td>\n",
              "    </tr>\n",
              "    <tr>\n",
              "      <th>fl_matriz</th>\n",
              "      <td>int64</td>\n",
              "      <td>0</td>\n",
              "      <td>0.0</td>\n",
              "      <td>2</td>\n",
              "    </tr>\n",
              "    <tr>\n",
              "      <th>de_natureza_juridica</th>\n",
              "      <td>int8</td>\n",
              "      <td>0</td>\n",
              "      <td>0.0</td>\n",
              "      <td>66</td>\n",
              "    </tr>\n",
              "    <tr>\n",
              "      <th>sg_uf</th>\n",
              "      <td>int8</td>\n",
              "      <td>0</td>\n",
              "      <td>0.0</td>\n",
              "      <td>6</td>\n",
              "    </tr>\n",
              "    <tr>\n",
              "      <th>natureza_juridica_macro</th>\n",
              "      <td>int8</td>\n",
              "      <td>0</td>\n",
              "      <td>0.0</td>\n",
              "      <td>7</td>\n",
              "    </tr>\n",
              "    <tr>\n",
              "      <th>de_ramo</th>\n",
              "      <td>int8</td>\n",
              "      <td>0</td>\n",
              "      <td>0.0</td>\n",
              "      <td>32</td>\n",
              "    </tr>\n",
              "    <tr>\n",
              "      <th>setor</th>\n",
              "      <td>int8</td>\n",
              "      <td>0</td>\n",
              "      <td>0.0</td>\n",
              "      <td>5</td>\n",
              "    </tr>\n",
              "    <tr>\n",
              "      <th>idade_emp_cat</th>\n",
              "      <td>int64</td>\n",
              "      <td>0</td>\n",
              "      <td>0.0</td>\n",
              "      <td>6</td>\n",
              "    </tr>\n",
              "    <tr>\n",
              "      <th>fl_me</th>\n",
              "      <td>int64</td>\n",
              "      <td>0</td>\n",
              "      <td>0.0</td>\n",
              "      <td>2</td>\n",
              "    </tr>\n",
              "    <tr>\n",
              "      <th>fl_sa</th>\n",
              "      <td>int64</td>\n",
              "      <td>0</td>\n",
              "      <td>0.0</td>\n",
              "      <td>2</td>\n",
              "    </tr>\n",
              "    <tr>\n",
              "      <th>fl_epp</th>\n",
              "      <td>int64</td>\n",
              "      <td>0</td>\n",
              "      <td>0.0</td>\n",
              "      <td>1</td>\n",
              "    </tr>\n",
              "    <tr>\n",
              "      <th>fl_mei</th>\n",
              "      <td>int64</td>\n",
              "      <td>0</td>\n",
              "      <td>0.0</td>\n",
              "      <td>2</td>\n",
              "    </tr>\n",
              "    <tr>\n",
              "      <th>fl_ltda</th>\n",
              "      <td>int64</td>\n",
              "      <td>0</td>\n",
              "      <td>0.0</td>\n",
              "      <td>2</td>\n",
              "    </tr>\n",
              "    <tr>\n",
              "      <th>fl_st_especial</th>\n",
              "      <td>int64</td>\n",
              "      <td>0</td>\n",
              "      <td>0.0</td>\n",
              "      <td>2</td>\n",
              "    </tr>\n",
              "    <tr>\n",
              "      <th>fl_rm</th>\n",
              "      <td>int64</td>\n",
              "      <td>0</td>\n",
              "      <td>0.0</td>\n",
              "      <td>2</td>\n",
              "    </tr>\n",
              "    <tr>\n",
              "      <th>nm_divisao</th>\n",
              "      <td>int8</td>\n",
              "      <td>0</td>\n",
              "      <td>0.0</td>\n",
              "      <td>87</td>\n",
              "    </tr>\n",
              "    <tr>\n",
              "      <th>nm_segmento</th>\n",
              "      <td>int8</td>\n",
              "      <td>0</td>\n",
              "      <td>0.0</td>\n",
              "      <td>21</td>\n",
              "    </tr>\n",
              "    <tr>\n",
              "      <th>fl_spa</th>\n",
              "      <td>int64</td>\n",
              "      <td>0</td>\n",
              "      <td>0.0</td>\n",
              "      <td>2</td>\n",
              "    </tr>\n",
              "    <tr>\n",
              "      <th>fl_antt</th>\n",
              "      <td>int64</td>\n",
              "      <td>0</td>\n",
              "      <td>0.0</td>\n",
              "      <td>2</td>\n",
              "    </tr>\n",
              "    <tr>\n",
              "      <th>fl_veiculo</th>\n",
              "      <td>int64</td>\n",
              "      <td>0</td>\n",
              "      <td>0.0</td>\n",
              "      <td>2</td>\n",
              "    </tr>\n",
              "    <tr>\n",
              "      <th>vl_total_veiculos_pesados_grupo</th>\n",
              "      <td>float64</td>\n",
              "      <td>0</td>\n",
              "      <td>0.0</td>\n",
              "      <td>296</td>\n",
              "    </tr>\n",
              "    <tr>\n",
              "      <th>vl_total_veiculos_leves_grupo</th>\n",
              "      <td>float64</td>\n",
              "      <td>0</td>\n",
              "      <td>0.0</td>\n",
              "      <td>310</td>\n",
              "    </tr>\n",
              "    <tr>\n",
              "      <th>de_saude_tributaria</th>\n",
              "      <td>float64</td>\n",
              "      <td>12924</td>\n",
              "      <td>2.8</td>\n",
              "      <td>6</td>\n",
              "    </tr>\n",
              "    <tr>\n",
              "      <th>de_saude_rescencia</th>\n",
              "      <td>int64</td>\n",
              "      <td>0</td>\n",
              "      <td>0.0</td>\n",
              "      <td>5</td>\n",
              "    </tr>\n",
              "    <tr>\n",
              "      <th>de_nivel_atividade</th>\n",
              "      <td>int64</td>\n",
              "      <td>0</td>\n",
              "      <td>0.0</td>\n",
              "      <td>5</td>\n",
              "    </tr>\n",
              "    <tr>\n",
              "      <th>fl_simples_irregular</th>\n",
              "      <td>int64</td>\n",
              "      <td>0</td>\n",
              "      <td>0.0</td>\n",
              "      <td>2</td>\n",
              "    </tr>\n",
              "    <tr>\n",
              "      <th>empsetorcensitariofaixarendapopulacao</th>\n",
              "      <td>float64</td>\n",
              "      <td>0</td>\n",
              "      <td>0.0</td>\n",
              "      <td>15419</td>\n",
              "    </tr>\n",
              "    <tr>\n",
              "      <th>nm_meso_regiao</th>\n",
              "      <td>int8</td>\n",
              "      <td>0</td>\n",
              "      <td>0.0</td>\n",
              "      <td>20</td>\n",
              "    </tr>\n",
              "    <tr>\n",
              "      <th>nm_micro_regiao</th>\n",
              "      <td>int8</td>\n",
              "      <td>0</td>\n",
              "      <td>0.0</td>\n",
              "      <td>74</td>\n",
              "    </tr>\n",
              "    <tr>\n",
              "      <th>fl_passivel_iss</th>\n",
              "      <td>int64</td>\n",
              "      <td>0</td>\n",
              "      <td>0.0</td>\n",
              "      <td>2</td>\n",
              "    </tr>\n",
              "    <tr>\n",
              "      <th>qt_socios_pf</th>\n",
              "      <td>float64</td>\n",
              "      <td>0</td>\n",
              "      <td>0.0</td>\n",
              "      <td>64</td>\n",
              "    </tr>\n",
              "    <tr>\n",
              "      <th>qt_socios_pj</th>\n",
              "      <td>float64</td>\n",
              "      <td>0</td>\n",
              "      <td>0.0</td>\n",
              "      <td>12</td>\n",
              "    </tr>\n",
              "    <tr>\n",
              "      <th>idade_media_socios</th>\n",
              "      <td>float64</td>\n",
              "      <td>0</td>\n",
              "      <td>0.0</td>\n",
              "      <td>1010</td>\n",
              "    </tr>\n",
              "    <tr>\n",
              "      <th>qt_socios_st_regular</th>\n",
              "      <td>float64</td>\n",
              "      <td>0</td>\n",
              "      <td>0.0</td>\n",
              "      <td>55</td>\n",
              "    </tr>\n",
              "    <tr>\n",
              "      <th>de_faixa_faturamento_estimado</th>\n",
              "      <td>int64</td>\n",
              "      <td>0</td>\n",
              "      <td>0.0</td>\n",
              "      <td>12</td>\n",
              "    </tr>\n",
              "    <tr>\n",
              "      <th>de_faixa_faturamento_estimado_grupo</th>\n",
              "      <td>int64</td>\n",
              "      <td>0</td>\n",
              "      <td>0.0</td>\n",
              "      <td>12</td>\n",
              "    </tr>\n",
              "    <tr>\n",
              "      <th>qt_filiais</th>\n",
              "      <td>int64</td>\n",
              "      <td>0</td>\n",
              "      <td>0.0</td>\n",
              "      <td>304</td>\n",
              "    </tr>\n",
              "  </tbody>\n",
              "</table>\n",
              "</div>"
            ],
            "text/plain": [
              "                                         types    nan  nan%  unique\n",
              "id                                      object      0   0.0  460371\n",
              "fl_matriz                                int64      0   0.0       2\n",
              "de_natureza_juridica                      int8      0   0.0      66\n",
              "sg_uf                                     int8      0   0.0       6\n",
              "natureza_juridica_macro                   int8      0   0.0       7\n",
              "de_ramo                                   int8      0   0.0      32\n",
              "setor                                     int8      0   0.0       5\n",
              "idade_emp_cat                            int64      0   0.0       6\n",
              "fl_me                                    int64      0   0.0       2\n",
              "fl_sa                                    int64      0   0.0       2\n",
              "fl_epp                                   int64      0   0.0       1\n",
              "fl_mei                                   int64      0   0.0       2\n",
              "fl_ltda                                  int64      0   0.0       2\n",
              "fl_st_especial                           int64      0   0.0       2\n",
              "fl_rm                                    int64      0   0.0       2\n",
              "nm_divisao                                int8      0   0.0      87\n",
              "nm_segmento                               int8      0   0.0      21\n",
              "fl_spa                                   int64      0   0.0       2\n",
              "fl_antt                                  int64      0   0.0       2\n",
              "fl_veiculo                               int64      0   0.0       2\n",
              "vl_total_veiculos_pesados_grupo        float64      0   0.0     296\n",
              "vl_total_veiculos_leves_grupo          float64      0   0.0     310\n",
              "de_saude_tributaria                    float64  12924   2.8       6\n",
              "de_saude_rescencia                       int64      0   0.0       5\n",
              "de_nivel_atividade                       int64      0   0.0       5\n",
              "fl_simples_irregular                     int64      0   0.0       2\n",
              "empsetorcensitariofaixarendapopulacao  float64      0   0.0   15419\n",
              "nm_meso_regiao                            int8      0   0.0      20\n",
              "nm_micro_regiao                           int8      0   0.0      74\n",
              "fl_passivel_iss                          int64      0   0.0       2\n",
              "qt_socios_pf                           float64      0   0.0      64\n",
              "qt_socios_pj                           float64      0   0.0      12\n",
              "idade_media_socios                     float64      0   0.0    1010\n",
              "qt_socios_st_regular                   float64      0   0.0      55\n",
              "de_faixa_faturamento_estimado            int64      0   0.0      12\n",
              "de_faixa_faturamento_estimado_grupo      int64      0   0.0      12\n",
              "qt_filiais                               int64      0   0.0     304"
            ]
          },
          "metadata": {
            "tags": []
          },
          "execution_count": 21
        }
      ]
    },
    {
      "cell_type": "markdown",
      "metadata": {
        "id": "ucngpAsUTDiU",
        "colab_type": "text"
      },
      "source": [
        "# Recommender"
      ]
    },
    {
      "cell_type": "markdown",
      "metadata": {
        "id": "3vgiy_Z8S6kH",
        "colab_type": "text"
      },
      "source": [
        "The function ```recommender_leads``` is the fnction responsible to select the leads thar are similar to the ```user_companies```. The metric used is the Gower coefficient, which is explained later.\n",
        "\n",
        "```neighbors``` is the 'size' or number of companies to be considered close while we are evaluating the distances among companies from the market and the user portifolio.\n",
        "\n",
        "Four different methods to *rate* the companies were proposed! Here it is relevant to say that the smaller the rating the better (they are more similar.)\n",
        "\n",
        "\n",
        "```func0``` considers the average distance of one company thom the market to the user_portifolio\n",
        "\n",
        "```func1``` considers the companies that apperead more times (in the neighbors region) to be upvoted\n",
        "\n",
        "```func2``` considers the norm of the distance vector of each company in the neighborhood to the entire portifolio\n",
        "\n",
        "```func3```  similarly to ```func3``` it considers the norm of the distance vector of each company to the entire portifolio, but it is now  weighted by the number of times it has been in the neighborgood (as ```func1```). By weight we mean \"reducing\" the distance. "
      ]
    },
    {
      "cell_type": "code",
      "metadata": {
        "id": "TAkvg1YS5TlQ",
        "colab_type": "code",
        "colab": {}
      },
      "source": [
        "def gower_metric(user_companies, market, categ_bool):\n",
        "  '''\n",
        "  Calculates pairwise distance between the market database and the user portfolio \n",
        "  using the Gower Coefficient\n",
        "  '''\n",
        "  return gower.gower_matrix(market.iloc[:,1:], user_companies.iloc[:,1:], cat_features=categ_bool[1:])"
      ],
      "execution_count": 0,
      "outputs": []
    },
    {
      "cell_type": "code",
      "metadata": {
        "id": "4yaQcB13Uf4z",
        "colab_type": "code",
        "colab": {}
      },
      "source": [
        "def recommender_leads(user_companies, market, categ_bool, function='func3', neighbors = 50, max_leads = None):\n",
        "    '''\n",
        "    Rocommend leads based on similarities\n",
        "    Uses Gower Coefficiente as metric\n",
        "\n",
        "    param market :: market dataframe \n",
        "    param user_companies: dataframe with companies in the user porfolio\n",
        "    param categ_bool: list of boolean required to indicate if a feature is categorical or not\n",
        "    param k : numero de recomendações a serem geradas\n",
        "    returns: index of recommended leads\n",
        "\n",
        "    # Hyperparameters that define precision\n",
        "    max_leads :  list size (the larger, more likely one of the portfolio companies to be in the recommended list)\n",
        "    neighbors : number of nearby companies to be considered ''in the rating''\n",
        "\n",
        "    '''\n",
        "    gower_dist =  gower_metric(user_companies, market, categ_bool)\n",
        "    pickle.dump(gower_dist,open(path+f'/gower_{len(user_companies)}.pkl','wb'))\n",
        "\n",
        "    ind = []\n",
        "    dist = []\n",
        "    for i in range(len((user_companies.id))):\n",
        "      ind_aux = np.argpartition(gower_dist[:,i], neighbors, axis=-1)[:neighbors]\n",
        "\n",
        "      #remove user items\n",
        "      valid_mask = np.isin(ind_aux , user_companies.index.values, assume_unique=True, invert=True)\n",
        "\n",
        "      dist_aux = gower_dist[ind_aux[valid_mask],i]\n",
        "      ind.append(ind_aux[valid_mask])\n",
        "      dist.append(dist_aux)\n",
        "  \n",
        "    concat_ind = np.concatenate(ind)\n",
        "    concat_dist = np.concatenate(dist)  \n",
        "\n",
        "    ## Check for reapeted recomendation and count\n",
        "    unique, counts = np.unique(concat_ind, return_counts=True) \n",
        "\n",
        "    # Score candidates\n",
        "    relevance = [] \n",
        "\n",
        "\n",
        "    for n_times,i in sorted(zip(counts, unique), reverse=True):\n",
        "      if function == 'func0':\n",
        "        index_ = np.where(concat_ind == i)\n",
        "        rating = np.mean(concat_dist[index_[0]])\n",
        "      if function == 'func1':\n",
        "        rating = 1/n_times\n",
        "      elif function == 'func2':\n",
        "        rating =  np.linalg.norm(gower_dist[i,:]) \n",
        "      elif function == 'func3':\n",
        "        rating =  ((1/n_times)**2)*np.linalg.norm(gower_dist[i,:])  \n",
        "      relevance.append([i, rating])\n",
        "\n",
        "    ## Let's sort the best candidates and get the k best candidates\n",
        "    best_candidates = sorted(relevance, key=lambda x: x[1])\n",
        "\n",
        "    # Retrieving the indexes\n",
        "    top_index = []\n",
        "    for idx,val in best_candidates: \n",
        "        top_index.append(idx)\n",
        "\n",
        "    if max_leads == None or max_leads > len(top_index):\n",
        "      return top_index\n",
        "    else:\n",
        "      return top_index[:max_leads]"
      ],
      "execution_count": 0,
      "outputs": []
    },
    {
      "cell_type": "markdown",
      "metadata": {
        "id": "cQfZXee2azsh",
        "colab_type": "text"
      },
      "source": [
        "## Metrics"
      ]
    },
    {
      "cell_type": "markdown",
      "metadata": {
        "id": "ZOzoxSkybhbt",
        "colab_type": "text"
      },
      "source": [
        "Although the solution for this reccomender system is quite simplistic, the approach to find the best metric involved a lot of research. \n",
        "\n",
        "In this dataset there are both categorical and numerical data types, and the two main questions are:\n",
        "- How do we quantify composite (mixed) data types similarities in one setting?\n",
        "  In case of label encoding categorical data we would end up giving numerical relations and weights that don't really exist and in this case, euclidean metric would not be suitable. \n",
        "- How to measure similarity/dissimilarity among categorical data?  \n",
        "  One option is to encode all nominal features to dummies variables. That sounds very interesting, however we have categorical data with high cardinality, so it means we would be dealing with a problem of hundreds of variables and we would probabily have to face the curse of dimensionality. \n",
        "- Another key point in finding similarities is that we have to deal with transformation/normalization of the numerical data.\n",
        "\n",
        "Said all that, in my research I have found **Gower’s coefficient**\n",
        "\n",
        ">*Gower’s distance/measure/coefficient/similarity is a measure to find the similarity between two rows of a dataset consisting of mixed type attributes. It uses the concept of **Manhattan distance** for continuous variables and **Dice distance** for measuring similarity between Binary variables.*\n",
        "\n",
        "[More details about it!](https://medium.com/analytics-vidhya/concept-of-gowers-distance-and-it-s-application-using-python-b08cf6139ac2)\n",
        "\n",
        "[Why Gower distance?](https://stats.stackexchange.com/questions/15287/hierarchical-clustering-with-mixed-type-data-what-distance-similarity-to-use)\n",
        "\n",
        "[](https://github.com/matchado/Misc/blob/master/gower_dist.py)\n",
        "\n",
        "The interesting part about the Gower coefficient is that it does not require any encoding (not even transform nominal data) and numerical data are scale accordinly, and we can give weights to these variables in a very natural way. However, one must do value imputation.\n",
        "\n",
        "A package develloped by [Michal Yan](https://github.com/wwwjk366/gower) from [Marcelo Beckmann work](https://sourceforge.net/projects/gower-distance-4python/files/).\n",
        "\n",
        "You can install the package:\n",
        "```\n",
        "! pip install gower\n",
        "```"
      ]
    },
    {
      "cell_type": "markdown",
      "metadata": {
        "id": "w9txSaU7MbnL",
        "colab_type": "text"
      },
      "source": [
        "# Testing  Hyperparameters"
      ]
    },
    {
      "cell_type": "code",
      "metadata": {
        "id": "24BBGs6wUe7q",
        "colab_type": "code",
        "colab": {}
      },
      "source": [
        "def test_model(user, df, categ_bool, function, neighbors, max_leads):\n",
        "    '''\n",
        "    Function to evaluate the model (recommended leads)\n",
        "    '''\n",
        "    user_companies = pd.merge(user[['id']], df, on='id', how='inner', left_index=True)\n",
        "        \n",
        "    all_companies = list(df['id'].unique())\n",
        "\n",
        "    companies_train, companies_test = train_test_split(user_companies, test_size=0.3, random_state=0)\n",
        "\n",
        "    leads_idx = recommender_leads(companies_train, df, categ_bool, function, neighbors, max_leads)\n",
        "\n",
        "    leads = df.iloc[leads_idx,:]\n",
        "\n",
        "    # evaluate the model\n",
        "    precision = model_metrics(leads, companies_test)\n",
        "\n",
        "    return leads.id, precision"
      ],
      "execution_count": 0,
      "outputs": []
    },
    {
      "cell_type": "code",
      "metadata": {
        "id": "n1M5lE7dUdAw",
        "colab_type": "code",
        "colab": {}
      },
      "source": [
        "def model_metrics(leads, user_companies):\n",
        "    '''\n",
        "    Evaluate the model according to precision\n",
        "    '''\n",
        "    TP = sum(leads['id'].isin(user_companies.id))  \n",
        "    FP = user_companies.shape[0] -TP\n",
        "    precision = (100*TP/(TP + FP))\n",
        "    return precision"
      ],
      "execution_count": 0,
      "outputs": []
    },
    {
      "cell_type": "markdown",
      "metadata": {
        "id": "LYItLF1j5UUD",
        "colab_type": "text"
      },
      "source": [
        "We have some parameter that can affect the results of our model evaluation.\n",
        "They are:\n",
        "\n",
        "```max_leads```  :: the number of leads to be generated\n",
        "\n",
        "```nn``` :: the number of neighbors to be considered \"close\" (it can change the frequency companies appear as close)\n",
        "\n",
        "```function``` :: this is related to the rating function where it gives a neighbor company a weight if it is at [x] times close to all the portifolio\n",
        "\n"
      ]
    },
    {
      "cell_type": "code",
      "metadata": {
        "id": "I3PNE9mEXx2C",
        "colab_type": "code",
        "colab": {}
      },
      "source": [
        "user = 'estaticos_portfolio{}.csv'\n",
        "function = 'func{}'\n",
        "# max_leads = number of leads to be recommended\n",
        "# nn = number of companies to be considered close"
      ],
      "execution_count": 0,
      "outputs": []
    },
    {
      "cell_type": "markdown",
      "metadata": {
        "id": "Lg6aM4qp-JZO",
        "colab_type": "text"
      },
      "source": [
        "Obviously, bigger the number of leads higher are the chances of a current customer be part of the current portifolio. \n",
        "\n",
        "Okay then, since we have different datasets lenghts what about we parametrized some of these variables?\n",
        "\n",
        "Let's define:\n",
        "\n",
        "```\n",
        "max_leads = 10*len(user_items)\n",
        "NN = [0.1*len(user_items), len(user_items), 2*len(user_items), 5*len(user_items), 10*len(user_items)]\n",
        "```\n"
      ]
    },
    {
      "cell_type": "markdown",
      "metadata": {
        "id": "yOIYvbQIrKbx",
        "colab_type": "text"
      },
      "source": [
        "Now let's verify our best configuration testing!\n",
        "\n",
        "There's no need to keep calculating the distance matrix every iteration, since it is only one matrix for the same user. You may save it in a file and later we will only load it as requested. "
      ]
    },
    {
      "cell_type": "code",
      "metadata": {
        "id": "ba_witTT6XGU",
        "colab_type": "code",
        "colab": {
          "base_uri": "https://localhost:8080/",
          "height": 1000
        },
        "outputId": "cf5c730c-8991-4581-8de7-ef319668ebf5"
      },
      "source": [
        "for i in range(1,4):\n",
        "  user_items = get_user_companies(path, user.format(i))\n",
        "  \n",
        "  print(f\"\\nPortfolio : {user.format(i)}\")\n",
        "  \n",
        "  n_items = len(user_items)\n",
        "  max_leads = 10*n_items\n",
        "  param_grid = [int(0.1*n_items), int(0.5*n_items), n_items, 5*n_items, 10*n_items]\n",
        "   \n",
        "  for j in range(0,4):\n",
        "    print(f'========== FUNCTION {j} ===========')\n",
        "    \n",
        "    for nn in param_grid:\n",
        "        leads , precision = test_model(user_items, df, categ_bool, function.format(j) , nn, max_leads)\n",
        "        \n",
        "        # Save the leads\n",
        "        #pd.DataFrame(leads).to_csv(f'portfolio{i}_{function.format(j)}_nn{nn}.csv', index = None)\n",
        "        \n",
        "        print(f'LEN {len(leads)} NN {nn}: {precision}')"
      ],
      "execution_count": 29,
      "outputs": [
        {
          "output_type": "stream",
          "text": [
            "\n",
            "Portfolio : estaticos_portfolio1.csv\n",
            "========== FUNCTION 0 ===========\n",
            "LEN 5550 NN 55: 3.592814371257485\n",
            "LEN 5550 NN 277: 4.191616766467066\n",
            "LEN 5550 NN 555: 4.790419161676646\n",
            "LEN 5550 NN 2775: 2.9940119760479043\n",
            "LEN 5550 NN 5550: 3.592814371257485\n",
            "========== FUNCTION 1 ===========\n",
            "LEN 5550 NN 55: 5.9880239520958085\n",
            "LEN 5550 NN 277: 2.395209580838323\n",
            "LEN 5550 NN 555: 2.9940119760479043\n",
            "LEN 5550 NN 2775: 4.191616766467066\n",
            "LEN 5550 NN 5550: 2.9940119760479043\n",
            "========== FUNCTION 2 ===========\n",
            "LEN 5550 NN 55: 4.191616766467066\n",
            "LEN 5550 NN 277: 1.7964071856287425\n",
            "LEN 5550 NN 555: 1.7964071856287425\n",
            "LEN 5550 NN 2775: 1.1976047904191616\n",
            "LEN 5550 NN 5550: 1.1976047904191616\n",
            "========== FUNCTION 3 ===========\n",
            "LEN 5550 NN 55: 3.592814371257485\n",
            "LEN 5550 NN 277: 2.395209580838323\n",
            "LEN 5550 NN 555: 2.9940119760479043\n",
            "LEN 5550 NN 2775: 3.592814371257485\n",
            "LEN 5550 NN 5550: 2.9940119760479043\n",
            "\n",
            "Portfolio : estaticos_portfolio2.csv\n",
            "========== FUNCTION 0 ===========\n",
            "LEN 5660 NN 56: 67.6470588235294\n",
            "LEN 5660 NN 283: 8.823529411764707\n",
            "LEN 5660 NN 566: 1.1764705882352942\n",
            "LEN 5660 NN 2830: 0.0\n",
            "LEN 5660 NN 5660: 6.470588235294118\n",
            "========== FUNCTION 1 ===========\n",
            "LEN 5660 NN 56: 83.52941176470588\n",
            "LEN 5660 NN 283: 82.3529411764706\n",
            "LEN 5660 NN 566: 85.88235294117646\n",
            "LEN 5660 NN 2830: 80.0\n",
            "LEN 5660 NN 5660: 78.82352941176471\n",
            "========== FUNCTION 2 ===========\n",
            "LEN 5660 NN 56: 84.11764705882354\n",
            "LEN 5660 NN 283: 76.47058823529412\n",
            "LEN 5660 NN 566: 73.52941176470588\n",
            "LEN 5660 NN 2830: 72.94117647058823\n",
            "LEN 5660 NN 5660: 72.94117647058823\n",
            "========== FUNCTION 3 ===========\n",
            "LEN 5660 NN 56: 88.82352941176471\n",
            "LEN 5660 NN 283: 86.47058823529412\n",
            "LEN 5660 NN 566: 85.29411764705883\n",
            "LEN 5660 NN 2830: 79.41176470588235\n",
            "LEN 5660 NN 5660: 78.23529411764706\n",
            "\n",
            "Portfolio : estaticos_portfolio3.csv\n",
            "========== FUNCTION 0 ===========\n",
            "LEN 2197 NN 26: 81.25\n",
            "LEN 2650 NN 132: 46.25\n",
            "LEN 2650 NN 265: 20.0\n",
            "LEN 2650 NN 1325: 20.0\n",
            "LEN 2650 NN 2650: 35.0\n",
            "========== FUNCTION 1 ===========\n",
            "LEN 2197 NN 26: 81.25\n",
            "LEN 2650 NN 132: 90.0\n",
            "LEN 2650 NN 265: 86.25\n",
            "LEN 2650 NN 1325: 80.0\n",
            "LEN 2650 NN 2650: 78.75\n",
            "========== FUNCTION 2 ===========\n",
            "LEN 2197 NN 26: 81.25\n",
            "LEN 2650 NN 132: 88.75\n",
            "LEN 2650 NN 265: 88.75\n",
            "LEN 2650 NN 1325: 87.5\n",
            "LEN 2650 NN 2650: 87.5\n",
            "========== FUNCTION 3 ===========\n",
            "LEN 2197 NN 26: 81.25\n",
            "LEN 2650 NN 132: 91.25\n",
            "LEN 2650 NN 265: 86.25\n",
            "LEN 2650 NN 1325: 80.0\n",
            "LEN 2650 NN 2650: 77.5\n"
          ],
          "name": "stdout"
        }
      ]
    },
    {
      "cell_type": "markdown",
      "metadata": {
        "id": "BF4at7tpdk_i",
        "colab_type": "text"
      },
      "source": [
        "## Analysing the results \n",
        "\n",
        "### Portfolios\n",
        "Three different portfolios bring very distinct results, it may be because of the variance of features that characterize a user's customer. \n",
        "It may also happen because of the many features that have been excluded due to missing values and they may have had important attributes that could have described those customers better.\n",
        "\n",
        "In any case, two *takeaways* from what we have done here are:\n",
        "1.   to consider the integration of  **knowledge-based recommender systems** where qualitative information can be used to improve feature selection;\n",
        "2.   Apply weight functions based on feature variance (lower variance, means it characterizes better the user --make sure to find a meaningful metric for categorical features). In this case, weights can be inserted very naturaly in the ```gower.gower_matrix(weights = [weight1, weight2, weight3...])```.\n",
        "\n",
        "\n",
        "### Neighbors:\n",
        "\n",
        "An interesting conclusion is that increase of the number os companies to be considered neighbors does not garantee an improvement in the results, mainly because many companies that may appear frequently are relatively far and it brings noise to the *rating* ```functions```. \n",
        "\n",
        "### Functions:\n",
        "```func0``` using only the average distance does not seem to be a realible metric, as the number of companies in the neighborhood increases, the average distance looses its meaning and the results tend to get worse\n",
        "\n",
        "```func1``` this function shows good results, upvoting companies that appear frequently is one of the principles of Nearest Neighbors\n",
        "\n",
        "```func2``` the norm of the distance may bring a more homogeneous  overral result and we can see that there isn't much difference among the 4 differents number of neighbors tested.\n",
        "\n",
        "```func3``` this function is also based in the norm (```func2```) but it also brings the features from ```func1```, increasing the relevance if a company has been present more times in the neighborhood than others.\n",
        "\n",
        "```func1, func2, func3``` all have shown good performance (except ```func0```)! And any of them would be a good choice. \n",
        "\n",
        "### Conclusions\n",
        "\n",
        "\n",
        " ```'estaticos_portfolio1.csv'``` shows a very poor precison comparatively to others, by the reasons we have explained above. In this setting the best configuration was:\n",
        " ```' FUNCTION 1 LEN 5550 NN 55: 5.9880239520958085'```\n",
        "\n",
        "```'estaticos_portfolio2.csv'``` shows a good precision, even though it has $\\approx$ the same size of ```'estaticos_portfolio1.csv'```, its users share more similarites, and in a bussiness perspective it means they have a very well defined customer profile. In this setting the best configuration was:\n",
        "```' FUNCTION 3 LEN 5660 NN 56: 88.82352941176471'```\n",
        "\n",
        "```'estaticos_portfolio3.csv'``` presented the best results among all and it is also the smallest dataset. In this setting the best configuration was:\n",
        "```' FUNCTION 3 LEN 2650 NN 132: 91.25'```\n",
        "\n",
        "Finally ```func1, func3``` have performed the best, it is because both consider the number of times a company has been present. Obviously the size of this neighborhood influences these results, and in that case ```func2``` shows a more homogenous result while the neighborhood increases."
      ]
    },
    {
      "cell_type": "markdown",
      "metadata": {
        "id": "p7-Cse5tdhnv",
        "colab_type": "text"
      },
      "source": [
        "# Recommend leads\n",
        "\n",
        "As parameter for our leads recommender system we set ```func3``` as our main function and the number of neighbors as ```neighbors = 0.5*len(user_items)```, and ```max_leads = 10*len(user_items)```"
      ]
    },
    {
      "cell_type": "code",
      "metadata": {
        "id": "QprkDeiVwDDQ",
        "colab_type": "code",
        "colab": {}
      },
      "source": [
        "import pickle"
      ],
      "execution_count": 0,
      "outputs": []
    },
    {
      "cell_type": "code",
      "metadata": {
        "id": "7b7-jRGBnUGw",
        "colab_type": "code",
        "colab": {
          "base_uri": "https://localhost:8080/",
          "height": 170
        },
        "outputId": "e27bda75-2086-41d7-defd-f68e4be0cc44"
      },
      "source": [
        "for i in range(1,4):\n",
        "\n",
        "  user_items = get_user_companies(path, user.format(i))\n",
        "  \n",
        "  print(f\"\\nFinding leads to : {user.format(i)}\")\n",
        "\n",
        "  n_items = len(user_items)\n",
        "  neighbors = int(0.5*len(user_items))\n",
        "  max_leads = 10*n_items\n",
        "\n",
        "  user_companies = pd.merge(user_items[['id']], df, on='id', how='inner', left_index=True)\n",
        "\n",
        "  leads_index = recommender_leads(user_companies, df, categ_bool, 'func3' , neighbors, max_leads)\n",
        "  \n",
        "  leads = df.iloc[leads_index,:]\n",
        "\n",
        "  # Save leads\n",
        "  print(f'Saving {len(leads_index)} leads in ~/portfolio{i}_leads.csv')\n",
        "  #leads[['id']].to_csv(path+f'portfolio{i}_leads.csv', index = None)"
      ],
      "execution_count": 29,
      "outputs": [
        {
          "output_type": "stream",
          "text": [
            "\n",
            "Finding leads to : estaticos_portfolio1.csv\n",
            "Saving 5550 leads in ~/portfolio1_leads.csv\n",
            "\n",
            "Finding leads to : estaticos_portfolio2.csv\n",
            "Saving 5660 leads in ~/portfolio2_leads.csv\n",
            "\n",
            "Finding leads to : estaticos_portfolio3.csv\n",
            "Saving 2650 leads in ~/portfolio3_leads.csv\n"
          ],
          "name": "stdout"
        }
      ]
    },
    {
      "cell_type": "markdown",
      "metadata": {
        "id": "6HlZuPlRrL_i",
        "colab_type": "text"
      },
      "source": [
        "### Profiling the recommended leads "
      ]
    },
    {
      "cell_type": "code",
      "metadata": {
        "id": "_RSqNVDwXvO5",
        "colab_type": "code",
        "colab": {}
      },
      "source": [
        ""
      ],
      "execution_count": 0,
      "outputs": []
    },
    {
      "cell_type": "code",
      "metadata": {
        "id": "CNLJZQ9BH0WY",
        "colab_type": "code",
        "colab": {
          "base_uri": "https://localhost:8080/",
          "height": 433
        },
        "outputId": "1a392955-33c1-44a2-ac1e-8fd3d778a04b"
      },
      "source": [
        "\n",
        "\n",
        "a = get_user_companies(path, portfolio_leads.format(3))\n",
        "a "
      ],
      "execution_count": 67,
      "outputs": [
        {
          "output_type": "execute_result",
          "data": {
            "text/html": [
              "<div>\n",
              "<style scoped>\n",
              "    .dataframe tbody tr th:only-of-type {\n",
              "        vertical-align: middle;\n",
              "    }\n",
              "\n",
              "    .dataframe tbody tr th {\n",
              "        vertical-align: top;\n",
              "    }\n",
              "\n",
              "    .dataframe thead th {\n",
              "        text-align: right;\n",
              "    }\n",
              "</style>\n",
              "<table border=\"1\" class=\"dataframe\">\n",
              "  <thead>\n",
              "    <tr style=\"text-align: right;\">\n",
              "      <th></th>\n",
              "    </tr>\n",
              "    <tr>\n",
              "      <th>id</th>\n",
              "    </tr>\n",
              "  </thead>\n",
              "  <tbody>\n",
              "    <tr>\n",
              "      <th>545338bfcb8b249a9a949df9e5ff87febe7eabe501831784e6017e6a7d5b03d4</th>\n",
              "    </tr>\n",
              "    <tr>\n",
              "      <th>8ecbdec73b7b8c4d89eb8e9eb7caf21d16851294d4daca94302234a13504b45e</th>\n",
              "    </tr>\n",
              "    <tr>\n",
              "      <th>3eeab91fce96724fa85bb6f5125325f87e8d29af2cde656042c662e359b335f7</th>\n",
              "    </tr>\n",
              "    <tr>\n",
              "      <th>e54e3b10d13af88b1796ba477aaa355856798fa5b96bd2ed318b28aa3874cffc</th>\n",
              "    </tr>\n",
              "    <tr>\n",
              "      <th>ad2d9879a8b2ef5328ec3bc710c95828b4c43fb64ec9ae1fe68f4f1d572861c6</th>\n",
              "    </tr>\n",
              "    <tr>\n",
              "      <th>...</th>\n",
              "    </tr>\n",
              "    <tr>\n",
              "      <th>49338f7e64fc96aaf54b240b0830839c09e6cb7bc7b34d5d261d0df11f6a2f61</th>\n",
              "    </tr>\n",
              "    <tr>\n",
              "      <th>2dc2cddb1c520997189e1c786e0ac9cc0ae60de1a1a60f7994c8d94b4a875355</th>\n",
              "    </tr>\n",
              "    <tr>\n",
              "      <th>4c88b828740c3a82306d10db67ffa660fa399f1d6bc7fa478008d71032cd348f</th>\n",
              "    </tr>\n",
              "    <tr>\n",
              "      <th>64066bc083dd66c75c98234d4254d40140e7e5d98350f499330cd94234dd2dfc</th>\n",
              "    </tr>\n",
              "    <tr>\n",
              "      <th>5321d7a4618de003c45a72b7c1dc6505162b09ee465c135af1d70f3d216be7c7</th>\n",
              "    </tr>\n",
              "  </tbody>\n",
              "</table>\n",
              "<p>2650 rows × 0 columns</p>\n",
              "</div>"
            ],
            "text/plain": [
              "Empty DataFrame\n",
              "Columns: []\n",
              "Index: [545338bfcb8b249a9a949df9e5ff87febe7eabe501831784e6017e6a7d5b03d4, 8ecbdec73b7b8c4d89eb8e9eb7caf21d16851294d4daca94302234a13504b45e, 3eeab91fce96724fa85bb6f5125325f87e8d29af2cde656042c662e359b335f7, e54e3b10d13af88b1796ba477aaa355856798fa5b96bd2ed318b28aa3874cffc, ad2d9879a8b2ef5328ec3bc710c95828b4c43fb64ec9ae1fe68f4f1d572861c6, d6bb5680ea9158e37f7190ea1077130824a4009d74afd22a807cee1811a0f231, ecb1e60332059984242db30d63e229a9c76e65f5956f67321bf3142d48bb1358, c24d6219b125d9dbea52c431f6dc6122ee76c94cce8987d8406787c93f0b39c4, eb0af80eb45bbd64d8959e75f8f21952d618b4f44fc8ec4546a3fe9905859455, 564abd56d9463691fbf1084a0587074d7d8b82f3b12a24160c0436532efd2515, 20307372533b9b6b60b355ade03829162fb8e64f3a6a53dc4fdae993420bb7a0, ab12a583125d491c6d922e70a93b492403a8059be6d3672d329ad18f36695799, 30615301ea81ff2e4cef1e1465616687dfae869a38a8b878507df7981f593552, d992145b4bec3f1f48d8878324e7ff803bc9b15241456fa413a407979119f79b, a7c2056462dfa0f4dd32da8ba2b4a7e5bf973cb2c6983218a6ce7cccc9a9b1c3, f50a4dc323d45ae8e14355309c9d9986d92041673dfddcfd88a1aa164bd5f7b5, 5a20e6a800d9c50268488d211c989a5ab78bd5364db4b6bfcf23224404585ca8, ad8486f3fd2b313aeb4602ca8b0d3b74b3c9253bb14ae82d957e57c82b1a37f3, 7ebba3c4fb329fc5009de457bcb554588642778a71ce8ae5963bffe8ada13a8b, 26a3e93535ac6ea7d9dee5cf179e70bbf93e72240683694e08b838d2e140d196, bca2b87f0592c73654f664b6279068ea629cedc9d7c87480f3b036cb2bbd94c6, fee7f1152d82d36ff547a8f9905b01a016f889c1a3a0ae13b75a42863c6e7f46, bc89aeb8ec758d77ae5b153b8fdbce7217a7d34ce7c7856d95de00560245b047, 1c3bbb481d33d11d71a53bb46f4f293f90a91a67f4f39ccb2454b1acf514a173, 73d224bab3cbde24705b7c32a5f7aec8a9d51dfccb04ee65158097be0d404a74, c8b5ccb030ad0e27a5cbc0c6130f8240e0eebfc64e6de11b169ac2c2223ce739, 78e2a58317bf8840de7d6289b57983fc2796a72e36ef177fc5de441979ebdbd3, bceef76b1953360044813a0bee5512035fc188da07dcdd19b18c517bf37fb784, 544ffaf1faf34abfe3248aa5d0360c8f5f192f206565d5aaac12c3dafbeb779d, 53ebc5e83bcbf87cd90507bb2e640e64d737ce24d65b0bdf29b2ec5cc726af57, 566ff012a2dace92facb594a0596facbadec7e6daf9983511292029a3757aaaa, c4bf22d70facbcf48ceeb0e677f48ab62c04715e9dc3c768b9d1cc4055793a0e, b40a68ca2a2cc6e2ff1cdf90a8ea35ed92e9bcc9cde1f8536c0657af3fa967de, d884cfba9994e34f579a89059020c5473dbdcae296828e490b48af0194a07ea2, f540e49ccf15674e903fc94ff39ff2b757124f2e11927f4c42a92d03481e9ced, c5c61fc0a8a4d7e4d0dc6b968ddade28c4649d5247fc2066c11ee99ff410855c, ff35681a531bbec2f367fc35778b48411ef38a88ea9f1416a41272ae57f84d46, 2c2f7dda053d52ec30c22e0c2b4407c4e723ef2e9b2c5de8b381b86cdad35b65, f507eb3d15d131d42bed7bce9f05d8c734ed64a58774f5d40e880a95fcd3d8e8, 344543754ccf12734be09df11f1e949f8002beca385fa4602d14587bacfa4781, 7d7b7f1a10a4a13abcf84fc563f0702c87a6605bca7ae4a64e13b9c0825e5f6c, 5b98116ad29f54d3f6260f72752f010ad61b526c1e1222c523eef90e09536b89, b2e921fbe68986746db3801a9ac74686321a4522f11c69096171b9eaccf61950, bc9a543de0d8a11883260223f42dd2306510b8837b5f83b94011e4c26290c8f0, a907608ecd3dd3258b0069d72117436dd82d94884f95a8bceadb2f7fce90a5e0, 83ff1cad31d150ea6673dd7ce897ec80980871ad59a6d008c6da9afd86010ff6, 12aa1b68d38f9a321e6a01fec601c45616209c1bed137ba3b697af748381e4ba, 69f771b9c8c6892f6d6d1baaf0784af74aadd0bea1bf37f10462b92b7c2fed85, 425f2716986de6a09a8a114f1e8b9d14595e6f31b705424f12052379e4b4cebb, 81e062f5554447eb5a8ddfdcfe63ce42752b4cb311f1e84644bb35a856465ab9, e4e72015a6358adb7e04ff55e25b1d788c053efc72da5f0fd2d830f276de4fbd, 0488e88a2bd8fc94d7d4b9fab2d86bbbde681d8598a8e26e614239b7de59a84a, 2e773380e232a56f7ddcf8dadb6f03e1936d65daa37e4fb26505bb6cba584c1a, 4ea9055539ea044c77377e52ad7f59c6b122ad771f326076ded71c8b20c8d2ab, 89565b439fa4135efdacf3407aa1137c7e8d1a171c73cc51b18f760358e0813f, 3c0af6614691b4ca5d2e3a38e81cf50ec6d639e0915b9bc72f137ee1437274bc, 5c644e3b69ab9dcd2128aa41f5f0510c202b5afdeb73052ff28da58ddf921a17, 101de017ce12cc038bf822475e6cc4015e05ee311d316a8bfe02df0dc76b09af, df95b7f3ad63d35f1be8c9ef2c2aa74e40f230317eed5efa816563340a7ee53f, ffeeb8d2494392dc868d636243d3f97ab607b9ca6e200aa897cbd7cb320cf8a2, 3f16a70c321e3aea43e973f18836e2e1b5c714805c2ce9e99f83428b27355162, d14e874c3bb323cc35d4bcfdc83f02b571962fe153e9ce8e3e345fd621fc62eb, 3903aa060b017e11baae3f674c8743fb3a581c85f143111884a79aed32c91910, c00eb68b6949e2655d6f3457d298a16bd128522a1b9737da3c42c8c51a3f80c6, 4e87f01360ff63f3723ec5b6a188cdd9cd5205f3574551e0f0f99156635b4c74, 5317b65902700f9566ceb9e4b4f5ed1fa0098f805052f6cbd53bd35dd52698a0, 9ce32f1652f188c570cc4ccb7439085c0b69785555db01b897163573b1962209, 2064d45bb4ae9c653428313b3df4105991cc9cef4e62c630cf93b21585d420a3, a0e638f0bb03ae1d466b11d67ef470c4cad24857123b00812395ca79ab7590ae, d09a9b35bd556ecee5086dfb3208e7325af5882626c24b0f96c4929f4b1b712b, fd01927d84236c83053bf89f7a230062368c1276f45cccb0eef671a1e5e3d541, 5637a9e06aacd7f933988ed1ea9ff6d6f70cb817b487f4b249d0e35db62dcae7, 386f00fd11ba42964935c94949da0ce67405d6a6d59202d9d7c1a6f5bbaaaba8, 5eec7b8b514bc9d83e4fd55c160c3c814ed6d81e3fbb686f3a83eb67921033bc, fe595499889f866ed9380cbe338ad3362c9bc20618f4356579cd48c5b2b83e37, 0c2d45bb38414dc8a43116aa476a704f078bbf19f30455da4243afcdd09bef51, a6fcae02f8653ead50117e29a414e2eb0871b624fd97521921a64e64fc66694d, 15f167ec32faf53eaf280016667c946a71ff0ad3820069aa7a50d20e0a6584d5, bbe6d9a4a88f3705e83523b48089777198c3e2c14d92f520fae7d0e323a0a5da, 90d851a5194c3b40eb61ac4b6d78ca9ea47021407a5c0e34565f69d26d06ac0a, c91d06273347df119e372452b7f56a96d1364b026f8b05227f88da293af05e83, 0012f06c4ea31b52d25c6d791ec7f6c087bd7c0eb1f338c2400b987ee6e2c22b, d51b4cc810561fbcd84958a79c976f6da6e0841a4dbc4472ac26e45f85f8c8d5, 9ead9f7674ac75ed05f4ef03cb95b8a419a43362215c41fe52b20947f9d901dc, a8d9fdd6a5be8679293bbd61517df53f6114cc2c515b52a63fc707baac08a943, d8b25dbe36e0ac0423ba33226d802dbc6255c97e666729f1e08816eb868984bd, e6e13c4d05cd699611e4741b98e415d978107a20648c0aaaf65b4c97006b361d, c06de08966cb55c9a5b316b37ff8d2ba59ef7d3fb2f3ad47bed2183896ddeae1, fb44a38453229ab3795e73794c0b7966dc26ea24f94da2b6965d60be61c18340, 6a386fbcbe2eab59853dac55fbd3466e1bcb13e413dfa2ecb1c1941d593900c4, 403830428019c0160ccc3c7019e2a4464b205830a1470c8c5eab3f60290f2f55, d2e5177dfbd1672430c369681f403e22418eebd9b62042c960eb17426b4eb4f7, 94789b257d117db2d42c71c074a970b4fc6088587585ea52238344530b7ddbcc, 7fd2626990d33954dc4e7693a81357fb4ba3fe8bdf26fa76029c6f564cbebc7f, c12a4ac53908d20e40adffca08354caf5eec06e071c59b79aa2da5c95f2c93ad, 843596e8419cff757089b2603ce58944d25c3d443b550db4954885fb81c08a61, 3430b51f05a0880957b476164f6ab9c7d2522ed8d54e4f53c1a22066b758a34d, 65d3fee46dc89d4fffef2d1f630ccdc7a58170eafa7c4871a4c9c02a3b572d04, 41d4bd2f309e07bdf69105c21b1b6fc4c5edef0281d0e847c2bf7c102f32f695, dcdabcef5d815e5e6e5bab3a553811d1ad9e628d61e91d3cbbbf0f95afe7ad1b, ...]\n",
              "\n",
              "[2650 rows x 0 columns]"
            ]
          },
          "metadata": {
            "tags": []
          },
          "execution_count": 67
        }
      ]
    },
    {
      "cell_type": "markdown",
      "metadata": {
        "id": "MsyCw9sLrI8V",
        "colab_type": "text"
      },
      "source": [
        "## Future developments!\n",
        "\n",
        "- Create weights for features  according to user historic data (evaluate low variance - meaning it is a feature that represents well its profile)!\n",
        "\n",
        "- Add filter criterias after selecting leads, according to the users need, for example:\n",
        "\n",
        "> `de_saude_tributaria`: character, indicator of health tax status, Green if all tax are OK, Red if none are OK\n",
        "\n",
        "> `de_saude_rescencia`: character, indicates time of update of the most lagged input of the indicator\n",
        "\n",
        "> `de_nivel_atividade`:character, probability of being operating, ALTA high probality, BAIXA, low probality\n",
        "\n",
        "> `fl_st_especial`: boolean value, true if dt_situacao_especial is not null. If it is not null means that some extraordinary situation is identified by the IRS (ESPOLIO DE EMPRESARIO EMPRESA INDIVIDUAL OU EIRELI, FALIDO, EM LIQUIDACAO, LIQUIDACAO JUDICIAL, LIQUIDACAO EXTRA JUDICIAL, REGISTRO NA JUNTA COMERCIAL EM ANDAMENTO, EM LIQUID EXTRA JUDICIAL, RECUPERACAO JUDICIAL, INTERVENCAO)"
      ]
    },
    {
      "cell_type": "code",
      "metadata": {
        "id": "tpDRCoX_g_p7",
        "colab_type": "code",
        "colab": {}
      },
      "source": [
        "import plotly.express as px\n",
        "px.defaults.width = 1000\n",
        "px.defaults.height = 500"
      ],
      "execution_count": 0,
      "outputs": []
    },
    {
      "cell_type": "code",
      "metadata": {
        "id": "gjUzUIkxk--u",
        "colab_type": "code",
        "colab": {
          "base_uri": "https://localhost:8080/",
          "height": 517
        },
        "outputId": "e13cbb3b-4cbc-4251-c8e9-39ec91f08c63"
      },
      "source": [
        "user_items = get_user_companies(path, user.format(1))\n",
        "cols = ['setor', 'de_ramo', 'natureza_juridica_macro']\n",
        "value = 'idade_empresa_anos'  \n",
        "\n",
        "user_companies = pd.merge(user_items[['id']], market, on='id', how='inner', left_index=True)\n",
        "\n",
        "px.parallel_categories(user_companies , \n",
        "                       dimensions = cols,\n",
        "                       color=value, \n",
        "                       color_continuous_scale=px.colors.sequential.Inferno)"
      ],
      "execution_count": 63,
      "outputs": [
        {
          "output_type": "display_data",
          "data": {
            "text/html": [
              "<html>\n",
              "<head><meta charset=\"utf-8\" /></head>\n",
              "<body>\n",
              "    <div>\n",
              "            <script src=\"https://cdnjs.cloudflare.com/ajax/libs/mathjax/2.7.5/MathJax.js?config=TeX-AMS-MML_SVG\"></script><script type=\"text/javascript\">if (window.MathJax) {MathJax.Hub.Config({SVG: {font: \"STIX-Web\"}});}</script>\n",
              "                <script type=\"text/javascript\">window.PlotlyConfig = {MathJaxConfig: 'local'};</script>\n",
              "        <script src=\"https://cdn.plot.ly/plotly-latest.min.js\"></script>    \n",
              "            <div id=\"8a4c61bf-6722-41e6-a733-bda216889093\" class=\"plotly-graph-div\" style=\"height:500px; width:1000px;\"></div>\n",
              "            <script type=\"text/javascript\">\n",
              "                \n",
              "                    window.PLOTLYENV=window.PLOTLYENV || {};\n",
              "                    \n",
              "                if (document.getElementById(\"8a4c61bf-6722-41e6-a733-bda216889093\")) {\n",
              "                    Plotly.newPlot(\n",
              "                        '8a4c61bf-6722-41e6-a733-bda216889093',\n",
              "                        [{\"dimensions\": [{\"label\": \"setor\", \"values\": [\"COMERCIO\", \"COMERCIO\", \"COMERCIO\", \"COMERCIO\", \"COMERCIO\", \"COMERCIO\", \"COMERCIO\", \"COMERCIO\", \"COMERCIO\", \"COMERCIO\", \"INDUSTRIA\", \"COMERCIO\", \"COMERCIO\", \"INDUSTRIA\", \"COMERCIO\", \"COMERCIO\", \"COMERCIO\", \"COMERCIO\", \"COMERCIO\", \"COMERCIO\", \"COMERCIO\", \"COMERCIO\", \"COMERCIO\", \"COMERCIO\", \"COMERCIO\", \"COMERCIO\", \"COMERCIO\", \"COMERCIO\", \"COMERCIO\", \"COMERCIO\", \"COMERCIO\", \"COMERCIO\", \"INDUSTRIA\", \"COMERCIO\", \"COMERCIO\", \"COMERCIO\", \"INDUSTRIA\", \"INDUSTRIA\", \"COMERCIO\", \"COMERCIO\", \"INDUSTRIA\", \"COMERCIO\", \"COMERCIO\", \"COMERCIO\", \"COMERCIO\", \"COMERCIO\", \"COMERCIO\", \"COMERCIO\", \"COMERCIO\", \"COMERCIO\", \"COMERCIO\", \"COMERCIO\", \"COMERCIO\", \"COMERCIO\", \"COMERCIO\", \"INDUSTRIA\", \"COMERCIO\", \"COMERCIO\", \"COMERCIO\", \"COMERCIO\", \"COMERCIO\", \"COMERCIO\", \"COMERCIO\", \"COMERCIO\", \"COMERCIO\", \"COMERCIO\", \"COMERCIO\", \"COMERCIO\", \"INDUSTRIA\", \"COMERCIO\", \"COMERCIO\", \"COMERCIO\", \"COMERCIO\", \"COMERCIO\", \"INDUSTRIA\", \"COMERCIO\", \"COMERCIO\", \"COMERCIO\", \"INDUSTRIA\", \"COMERCIO\", \"COMERCIO\", \"COMERCIO\", \"INDUSTRIA\", \"INDUSTRIA\", \"COMERCIO\", \"COMERCIO\", \"COMERCIO\", \"COMERCIO\", \"COMERCIO\", \"COMERCIO\", \"COMERCIO\", \"COMERCIO\", \"COMERCIO\", \"COMERCIO\", \"COMERCIO\", \"COMERCIO\", \"COMERCIO\", \"COMERCIO\", \"COMERCIO\", \"COMERCIO\", \"COMERCIO\", \"COMERCIO\", \"COMERCIO\", \"COMERCIO\", \"COMERCIO\", \"COMERCIO\", \"COMERCIO\", \"COMERCIO\", \"COMERCIO\", \"COMERCIO\", \"COMERCIO\", \"COMERCIO\", \"COMERCIO\", \"COMERCIO\", \"INDUSTRIA\", \"COMERCIO\", \"COMERCIO\", \"COMERCIO\", \"COMERCIO\", \"COMERCIO\", \"COMERCIO\", \"COMERCIO\", \"COMERCIO\", \"COMERCIO\", \"COMERCIO\", \"INDUSTRIA\", \"COMERCIO\", \"COMERCIO\", \"COMERCIO\", \"COMERCIO\", \"COMERCIO\", \"INDUSTRIA\", \"COMERCIO\", \"COMERCIO\", \"COMERCIO\", \"COMERCIO\", \"COMERCIO\", \"COMERCIO\", \"SERVI\\u00c7O\", \"INDUSTRIA\", \"SERVI\\u00c7O\", \"COMERCIO\", \"INDUSTRIA\", \"COMERCIO\", \"COMERCIO\", \"COMERCIO\", \"COMERCIO\", \"COMERCIO\", \"COMERCIO\", \"COMERCIO\", \"COMERCIO\", \"COMERCIO\", \"COMERCIO\", \"COMERCIO\", \"COMERCIO\", \"COMERCIO\", \"COMERCIO\", \"COMERCIO\", \"COMERCIO\", \"COMERCIO\", \"COMERCIO\", \"COMERCIO\", \"COMERCIO\", \"COMERCIO\", \"COMERCIO\", \"COMERCIO\", \"COMERCIO\", \"COMERCIO\", \"COMERCIO\", \"COMERCIO\", \"COMERCIO\", \"SERVI\\u00c7O\", \"COMERCIO\", \"SERVI\\u00c7O\", \"COMERCIO\", \"INDUSTRIA\", \"COMERCIO\", \"COMERCIO\", \"INDUSTRIA\", \"COMERCIO\", \"COMERCIO\", \"COMERCIO\", \"COMERCIO\", \"COMERCIO\", \"COMERCIO\", \"INDUSTRIA\", \"COMERCIO\", \"COMERCIO\", \"COMERCIO\", \"COMERCIO\", \"COMERCIO\", \"COMERCIO\", \"COMERCIO\", \"COMERCIO\", \"COMERCIO\", \"COMERCIO\", \"COMERCIO\", \"COMERCIO\", \"INDUSTRIA\", \"COMERCIO\", \"COMERCIO\", \"COMERCIO\", \"COMERCIO\", \"COMERCIO\", \"COMERCIO\", \"COMERCIO\", \"COMERCIO\", \"COMERCIO\", \"COMERCIO\", \"COMERCIO\", \"INDUSTRIA\", \"COMERCIO\", \"COMERCIO\", \"COMERCIO\", \"COMERCIO\", \"COMERCIO\", \"COMERCIO\", \"COMERCIO\", \"INDUSTRIA\", \"COMERCIO\", \"COMERCIO\", \"COMERCIO\", \"COMERCIO\", \"COMERCIO\", \"COMERCIO\", \"INDUSTRIA\", \"COMERCIO\", \"COMERCIO\", \"COMERCIO\", \"COMERCIO\", \"COMERCIO\", \"COMERCIO\", \"COMERCIO\", \"COMERCIO\", \"SERVI\\u00c7O\", \"COMERCIO\", \"COMERCIO\", \"COMERCIO\", \"COMERCIO\", \"COMERCIO\", \"COMERCIO\", \"COMERCIO\", \"INDUSTRIA\", \"COMERCIO\", \"COMERCIO\", \"COMERCIO\", \"COMERCIO\", \"COMERCIO\", \"COMERCIO\", \"INDUSTRIA\", \"COMERCIO\", \"COMERCIO\", \"COMERCIO\", \"COMERCIO\", \"INDUSTRIA\", \"COMERCIO\", \"COMERCIO\", \"COMERCIO\", \"COMERCIO\", \"COMERCIO\", \"COMERCIO\", \"COMERCIO\", \"COMERCIO\", \"COMERCIO\", \"COMERCIO\", \"COMERCIO\", \"COMERCIO\", \"COMERCIO\", \"COMERCIO\", \"COMERCIO\", \"COMERCIO\", \"COMERCIO\", \"COMERCIO\", \"COMERCIO\", \"COMERCIO\", \"COMERCIO\", \"COMERCIO\", \"COMERCIO\", \"COMERCIO\", \"COMERCIO\", \"COMERCIO\", \"COMERCIO\", \"COMERCIO\", \"COMERCIO\", \"COMERCIO\", \"COMERCIO\", \"COMERCIO\", \"COMERCIO\", \"COMERCIO\", \"COMERCIO\", \"COMERCIO\", \"INDUSTRIA\", \"COMERCIO\", \"COMERCIO\", \"COMERCIO\", \"COMERCIO\", \"COMERCIO\", \"COMERCIO\", \"COMERCIO\", \"COMERCIO\", \"COMERCIO\", \"COMERCIO\", \"COMERCIO\", \"COMERCIO\", \"INDUSTRIA\", \"COMERCIO\", \"COMERCIO\", \"COMERCIO\", \"COMERCIO\", \"COMERCIO\", \"COMERCIO\", \"COMERCIO\", \"COMERCIO\", \"COMERCIO\", \"COMERCIO\", \"INDUSTRIA\", \"COMERCIO\", \"COMERCIO\", \"COMERCIO\", \"COMERCIO\", \"COMERCIO\", \"INDUSTRIA\", \"COMERCIO\", \"COMERCIO\", \"COMERCIO\", \"INDUSTRIA\", \"COMERCIO\", \"INDUSTRIA\", \"COMERCIO\", \"COMERCIO\", \"COMERCIO\", \"COMERCIO\", \"COMERCIO\", \"COMERCIO\", \"COMERCIO\", \"INDUSTRIA\", \"COMERCIO\", \"COMERCIO\", \"COMERCIO\", \"COMERCIO\", \"COMERCIO\", \"COMERCIO\", \"COMERCIO\", \"COMERCIO\", \"COMERCIO\", \"COMERCIO\", \"COMERCIO\", \"COMERCIO\", \"COMERCIO\", \"COMERCIO\", \"COMERCIO\", \"COMERCIO\", \"COMERCIO\", \"INDUSTRIA\", \"COMERCIO\", \"COMERCIO\", \"COMERCIO\", \"COMERCIO\", \"COMERCIO\", \"INDUSTRIA\", \"COMERCIO\", \"COMERCIO\", \"COMERCIO\", \"COMERCIO\", \"COMERCIO\", \"COMERCIO\", \"COMERCIO\", \"COMERCIO\", \"COMERCIO\", \"COMERCIO\", \"COMERCIO\", \"COMERCIO\", \"COMERCIO\", \"COMERCIO\", \"COMERCIO\", \"COMERCIO\", \"COMERCIO\", \"COMERCIO\", \"COMERCIO\", \"COMERCIO\", \"COMERCIO\", \"COMERCIO\", \"INDUSTRIA\", \"COMERCIO\", \"COMERCIO\", \"COMERCIO\", \"INDUSTRIA\", \"COMERCIO\", \"COMERCIO\", \"COMERCIO\", \"COMERCIO\", \"COMERCIO\", \"COMERCIO\", \"COMERCIO\", \"COMERCIO\", \"COMERCIO\", \"COMERCIO\", \"COMERCIO\", \"COMERCIO\", \"COMERCIO\", \"INDUSTRIA\", \"COMERCIO\", \"COMERCIO\", \"INDUSTRIA\", \"COMERCIO\", \"COMERCIO\", \"COMERCIO\", \"COMERCIO\", \"COMERCIO\", \"COMERCIO\", \"COMERCIO\", \"COMERCIO\", \"COMERCIO\", \"COMERCIO\", \"COMERCIO\", \"COMERCIO\", \"INDUSTRIA\", \"COMERCIO\", \"COMERCIO\", \"COMERCIO\", \"INDUSTRIA\", \"COMERCIO\", \"COMERCIO\", \"INDUSTRIA\", \"COMERCIO\", \"COMERCIO\", \"SERVI\\u00c7O\", \"COMERCIO\", \"COMERCIO\", \"COMERCIO\", \"COMERCIO\", \"COMERCIO\", \"SERVI\\u00c7O\", \"COMERCIO\", \"INDUSTRIA\", \"COMERCIO\", \"COMERCIO\", \"COMERCIO\", \"COMERCIO\", \"COMERCIO\", \"COMERCIO\", \"INDUSTRIA\", \"COMERCIO\", \"COMERCIO\", \"COMERCIO\", \"COMERCIO\", \"COMERCIO\", \"COMERCIO\", \"COMERCIO\", \"COMERCIO\", \"COMERCIO\", \"COMERCIO\", \"COMERCIO\", \"INDUSTRIA\", \"COMERCIO\", \"COMERCIO\", \"COMERCIO\", \"COMERCIO\", \"COMERCIO\", \"COMERCIO\", \"INDUSTRIA\", \"COMERCIO\", \"INDUSTRIA\", \"COMERCIO\", \"INDUSTRIA\", \"COMERCIO\", \"COMERCIO\", \"COMERCIO\", \"COMERCIO\", \"COMERCIO\", \"COMERCIO\", \"COMERCIO\", \"COMERCIO\", \"COMERCIO\", \"COMERCIO\", \"COMERCIO\", \"COMERCIO\", \"COMERCIO\", \"COMERCIO\", \"COMERCIO\", \"COMERCIO\", \"COMERCIO\", \"COMERCIO\", \"COMERCIO\", \"COMERCIO\", \"COMERCIO\", \"COMERCIO\", \"COMERCIO\", \"COMERCIO\", \"COMERCIO\", \"COMERCIO\", \"COMERCIO\", \"COMERCIO\", \"COMERCIO\", \"COMERCIO\", \"COMERCIO\", \"COMERCIO\", \"COMERCIO\", \"COMERCIO\", \"COMERCIO\", \"COMERCIO\", \"COMERCIO\", \"COMERCIO\", \"COMERCIO\", \"COMERCIO\", \"COMERCIO\", \"COMERCIO\", \"COMERCIO\", \"COMERCIO\", \"COMERCIO\", \"COMERCIO\", \"COMERCIO\", \"COMERCIO\", \"COMERCIO\", \"COMERCIO\", \"COMERCIO\", \"COMERCIO\", \"COMERCIO\", \"COMERCIO\", \"COMERCIO\", \"COMERCIO\", \"COMERCIO\", \"COMERCIO\", \"COMERCIO\", \"COMERCIO\", \"INDUSTRIA\", \"COMERCIO\", \"COMERCIO\", \"COMERCIO\", \"COMERCIO\", \"COMERCIO\", \"COMERCIO\", \"COMERCIO\", \"COMERCIO\", \"COMERCIO\", \"COMERCIO\", \"COMERCIO\", \"COMERCIO\", \"COMERCIO\", \"COMERCIO\", \"COMERCIO\", \"COMERCIO\", \"INDUSTRIA\", \"COMERCIO\", \"COMERCIO\", \"COMERCIO\", \"COMERCIO\", \"COMERCIO\", \"COMERCIO\", \"COMERCIO\", \"INDUSTRIA\", \"COMERCIO\", \"COMERCIO\", \"COMERCIO\", \"COMERCIO\"]}, {\"label\": \"de_ramo\", \"values\": [\"COMERCIO VAREJISTA\", \"COMERCIO VAREJISTA\", \"COMERCIO VAREJISTA\", \"COMERCIO VAREJISTA\", \"COMERCIO VAREJISTA\", \"COMERCIO VAREJISTA\", \"COMERCIO VAREJISTA\", \"COMERCIO VAREJISTA\", \"COMERCIO VAREJISTA\", \"COMERCIO VAREJISTA\", \"BENS DE CONSUMO\", \"COMERCIO VAREJISTA\", \"COMERCIO VAREJISTA\", \"BENS DE CONSUMO\", \"COMERCIO VAREJISTA\", \"COMERCIO VAREJISTA\", \"COMERCIO VAREJISTA\", \"COMERCIO VAREJISTA\", \"COMERCIO VAREJISTA\", \"COMERCIO VAREJISTA\", \"COMERCIO VAREJISTA\", \"COMERCIO VAREJISTA\", \"COMERCIO VAREJISTA\", \"COMERCIO VAREJISTA\", \"COMERCIO VAREJISTA\", \"COMERCIO VAREJISTA\", \"COMERCIO VAREJISTA\", \"COMERCIO VAREJISTA\", \"COMERCIO VAREJISTA\", \"COMERCIO VAREJISTA\", \"COMERCIO VAREJISTA\", \"COMERCIO VAREJISTA\", \"BENS DE CONSUMO\", \"COMERCIO VAREJISTA\", \"COMERCIO VAREJISTA\", \"COMERCIO VAREJISTA\", \"BENS DE CONSUMO\", \"BENS DE CONSUMO\", \"COMERCIO VAREJISTA\", \"COMERCIO VAREJISTA\", \"BENS DE CONSUMO\", \"COMERCIO VAREJISTA\", \"COMERCIO VAREJISTA\", \"COMERCIO VAREJISTA\", \"COMERCIO VAREJISTA\", \"COMERCIO VAREJISTA\", \"COMERCIO VAREJISTA\", \"COMERCIO VAREJISTA\", \"COMERCIO VAREJISTA\", \"COMERCIO VAREJISTA\", \"COMERCIO VAREJISTA\", \"COMERCIO VAREJISTA\", \"COMERCIO VAREJISTA\", \"COMERCIO VAREJISTA\", \"COMERCIO VAREJISTA\", \"BENS DE CONSUMO\", \"COMERCIO VAREJISTA\", \"COMERCIO VAREJISTA\", \"COMERCIO VAREJISTA\", \"COMERCIO VAREJISTA\", \"COMERCIO VAREJISTA\", \"COMERCIO VAREJISTA\", \"COMERCIO VAREJISTA\", \"COMERCIO VAREJISTA\", \"COMERCIO VAREJISTA\", \"COMERCIO VAREJISTA\", \"COMERCIO VAREJISTA\", \"COMERCIO VAREJISTA\", \"BENS DE CONSUMO\", \"COMERCIO VAREJISTA\", \"COMERCIO VAREJISTA\", \"COMERCIO VAREJISTA\", \"COMERCIO VAREJISTA\", \"COMERCIO VAREJISTA\", \"BENS DE CONSUMO\", \"COMERCIO VAREJISTA\", \"COMERCIO VAREJISTA\", \"COMERCIO VAREJISTA\", \"BENS DE CONSUMO\", \"COMERCIO VAREJISTA\", \"COMERCIO VAREJISTA\", \"COMERCIO VAREJISTA\", \"BENS DE CONSUMO\", \"BENS DE CONSUMO\", \"COMERCIO VAREJISTA\", \"COMERCIO VAREJISTA\", \"COMERCIO VAREJISTA\", \"COMERCIO VAREJISTA\", \"COMERCIO VAREJISTA\", \"COMERCIO VAREJISTA\", \"COMERCIO VAREJISTA\", \"COMERCIO VAREJISTA\", \"COMERCIO VAREJISTA\", \"COMERCIO VAREJISTA\", \"COMERCIO VAREJISTA\", \"COMERCIO VAREJISTA\", \"COMERCIO VAREJISTA\", \"COMERCIO VAREJISTA\", \"COMERCIO VAREJISTA\", \"COMERCIO VAREJISTA\", \"COMERCIO VAREJISTA\", \"COMERCIO VAREJISTA\", \"COMERCIO VAREJISTA\", \"COMERCIO VAREJISTA\", \"COMERCIO VAREJISTA\", \"COMERCIO VAREJISTA\", \"COMERCIO VAREJISTA\", \"COMERCIO VAREJISTA\", \"COMERCIO VAREJISTA\", \"COMERCIO VAREJISTA\", \"COMERCIO VAREJISTA\", \"COMERCIO VAREJISTA\", \"COMERCIO VAREJISTA\", \"COMERCIO VAREJISTA\", \"BENS DE CONSUMO\", \"COMERCIO VAREJISTA\", \"COMERCIO VAREJISTA\", \"COMERCIO VAREJISTA\", \"COMERCIO VAREJISTA\", \"COMERCIO VAREJISTA\", \"COMERCIO VAREJISTA\", \"COMERCIO VAREJISTA\", \"COMERCIO VAREJISTA\", \"COMERCIO VAREJISTA\", \"COMERCIO VAREJISTA\", \"BENS DE CONSUMO\", \"COMERCIO VAREJISTA\", \"COMERCIO VAREJISTA\", \"COMERCIO VAREJISTA\", \"COMERCIO VAREJISTA\", \"COMERCIO VAREJISTA\", \"BENS DE CONSUMO\", \"COMERCIO VAREJISTA\", \"COMERCIO VAREJISTA\", \"COMERCIO VAREJISTA\", \"COMERCIO VAREJISTA\", \"COMERCIO VAREJISTA\", \"COMERCIO VAREJISTA\", \"BENS DE CONSUMO\", \"BENS DE CONSUMO\", \"BENS DE CONSUMO\", \"COMERCIO VAREJISTA\", \"BENS DE CONSUMO\", \"COMERCIO VAREJISTA\", \"COMERCIO VAREJISTA\", \"COMERCIO VAREJISTA\", \"COMERCIO VAREJISTA\", \"COMERCIO VAREJISTA\", \"COMERCIO VAREJISTA\", \"COMERCIO VAREJISTA\", \"COMERCIO VAREJISTA\", \"COMERCIO VAREJISTA\", \"COMERCIO VAREJISTA\", \"COMERCIO VAREJISTA\", \"COMERCIO VAREJISTA\", \"COMERCIO VAREJISTA\", \"COMERCIO VAREJISTA\", \"COMERCIO VAREJISTA\", \"COMERCIO VAREJISTA\", \"COMERCIO VAREJISTA\", \"COMERCIO VAREJISTA\", \"COMERCIO VAREJISTA\", \"COMERCIO VAREJISTA\", \"COMERCIO VAREJISTA\", \"COMERCIO VAREJISTA\", \"COMERCIO VAREJISTA\", \"COMERCIO VAREJISTA\", \"COMERCIO VAREJISTA\", \"COMERCIO VAREJISTA\", \"COMERCIO VAREJISTA\", \"COMERCIO VAREJISTA\", \"BENS DE CONSUMO\", \"COMERCIO VAREJISTA\", \"BENS DE CONSUMO\", \"COMERCIO VAREJISTA\", \"BENS DE CONSUMO\", \"COMERCIO VAREJISTA\", \"COMERCIO VAREJISTA\", \"BENS DE CONSUMO\", \"COMERCIO VAREJISTA\", \"COMERCIO VAREJISTA\", \"COMERCIO VAREJISTA\", \"COMERCIO VAREJISTA\", \"COMERCIO VAREJISTA\", \"COMERCIO VAREJISTA\", \"BENS DE CONSUMO\", \"COMERCIO VAREJISTA\", \"COMERCIO VAREJISTA\", \"COMERCIO VAREJISTA\", \"COMERCIO VAREJISTA\", \"COMERCIO VAREJISTA\", \"COMERCIO VAREJISTA\", \"COMERCIO VAREJISTA\", \"COMERCIO VAREJISTA\", \"COMERCIO VAREJISTA\", \"COMERCIO VAREJISTA\", \"COMERCIO VAREJISTA\", \"COMERCIO VAREJISTA\", \"BENS DE CONSUMO\", \"COMERCIO VAREJISTA\", \"COMERCIO VAREJISTA\", \"COMERCIO VAREJISTA\", \"COMERCIO VAREJISTA\", \"COMERCIO VAREJISTA\", \"COMERCIO VAREJISTA\", \"COMERCIO VAREJISTA\", \"COMERCIO VAREJISTA\", \"COMERCIO VAREJISTA\", \"COMERCIO VAREJISTA\", \"COMERCIO VAREJISTA\", \"BENS DE CONSUMO\", \"COMERCIO VAREJISTA\", \"COMERCIO VAREJISTA\", \"COMERCIO VAREJISTA\", \"COMERCIO VAREJISTA\", \"COMERCIO VAREJISTA\", \"COMERCIO VAREJISTA\", \"COMERCIO VAREJISTA\", \"BENS DE CONSUMO\", \"COMERCIO VAREJISTA\", \"COMERCIO VAREJISTA\", \"COMERCIO VAREJISTA\", \"COMERCIO VAREJISTA\", \"COMERCIO VAREJISTA\", \"COMERCIO VAREJISTA\", \"BENS DE CONSUMO\", \"COMERCIO VAREJISTA\", \"COMERCIO VAREJISTA\", \"COMERCIO VAREJISTA\", \"COMERCIO VAREJISTA\", \"COMERCIO VAREJISTA\", \"COMERCIO VAREJISTA\", \"COMERCIO VAREJISTA\", \"COMERCIO VAREJISTA\", \"BENS DE CONSUMO\", \"COMERCIO VAREJISTA\", \"COMERCIO VAREJISTA\", \"COMERCIO VAREJISTA\", \"COMERCIO VAREJISTA\", \"COMERCIO VAREJISTA\", \"COMERCIO VAREJISTA\", \"COMERCIO VAREJISTA\", \"BENS DE CONSUMO\", \"COMERCIO VAREJISTA\", \"COMERCIO VAREJISTA\", \"COMERCIO VAREJISTA\", \"COMERCIO VAREJISTA\", \"COMERCIO VAREJISTA\", \"COMERCIO VAREJISTA\", \"BENS DE CONSUMO\", \"COMERCIO VAREJISTA\", \"COMERCIO VAREJISTA\", \"COMERCIO VAREJISTA\", \"COMERCIO VAREJISTA\", \"BENS DE CONSUMO\", \"COMERCIO VAREJISTA\", \"COMERCIO VAREJISTA\", \"COMERCIO VAREJISTA\", \"COMERCIO VAREJISTA\", \"COMERCIO VAREJISTA\", \"COMERCIO VAREJISTA\", \"COMERCIO VAREJISTA\", \"COMERCIO VAREJISTA\", \"COMERCIO VAREJISTA\", \"COMERCIO VAREJISTA\", \"COMERCIO VAREJISTA\", \"COMERCIO VAREJISTA\", \"COMERCIO VAREJISTA\", \"COMERCIO VAREJISTA\", \"COMERCIO VAREJISTA\", \"COMERCIO VAREJISTA\", \"COMERCIO VAREJISTA\", \"COMERCIO VAREJISTA\", \"COMERCIO VAREJISTA\", \"COMERCIO VAREJISTA\", \"COMERCIO VAREJISTA\", \"COMERCIO VAREJISTA\", \"COMERCIO VAREJISTA\", \"COMERCIO VAREJISTA\", \"COMERCIO VAREJISTA\", \"COMERCIO VAREJISTA\", \"COMERCIO VAREJISTA\", \"COMERCIO VAREJISTA\", \"COMERCIO VAREJISTA\", \"COMERCIO VAREJISTA\", \"COMERCIO VAREJISTA\", \"COMERCIO VAREJISTA\", \"COMERCIO VAREJISTA\", \"COMERCIO VAREJISTA\", \"COMERCIO VAREJISTA\", \"COMERCIO VAREJISTA\", \"BENS DE CONSUMO\", \"COMERCIO VAREJISTA\", \"COMERCIO VAREJISTA\", \"COMERCIO VAREJISTA\", \"COMERCIO VAREJISTA\", \"COMERCIO VAREJISTA\", \"COMERCIO VAREJISTA\", \"COMERCIO VAREJISTA\", \"COMERCIO VAREJISTA\", \"COMERCIO VAREJISTA\", \"COMERCIO VAREJISTA\", \"COMERCIO VAREJISTA\", \"COMERCIO VAREJISTA\", \"BENS DE CONSUMO\", \"COMERCIO VAREJISTA\", \"COMERCIO VAREJISTA\", \"COMERCIO VAREJISTA\", \"COMERCIO VAREJISTA\", \"COMERCIO VAREJISTA\", \"COMERCIO VAREJISTA\", \"COMERCIO VAREJISTA\", \"COMERCIO VAREJISTA\", \"COMERCIO VAREJISTA\", \"COMERCIO VAREJISTA\", \"BENS DE CONSUMO\", \"COMERCIO VAREJISTA\", \"COMERCIO VAREJISTA\", \"COMERCIO VAREJISTA\", \"COMERCIO VAREJISTA\", \"COMERCIO VAREJISTA\", \"BENS DE CONSUMO\", \"COMERCIO VAREJISTA\", \"COMERCIO VAREJISTA\", \"COMERCIO VAREJISTA\", \"BENS DE CONSUMO\", \"COMERCIO VAREJISTA\", \"BENS DE CONSUMO\", \"COMERCIO VAREJISTA\", \"COMERCIO VAREJISTA\", \"COMERCIO VAREJISTA\", \"COMERCIO VAREJISTA\", \"COMERCIO VAREJISTA\", \"COMERCIO VAREJISTA\", \"COMERCIO VAREJISTA\", \"BENS DE CONSUMO\", \"COMERCIO VAREJISTA\", \"COMERCIO VAREJISTA\", \"COMERCIO VAREJISTA\", \"COMERCIO VAREJISTA\", \"COMERCIO VAREJISTA\", \"COMERCIO VAREJISTA\", \"COMERCIO VAREJISTA\", \"COMERCIO VAREJISTA\", \"COMERCIO VAREJISTA\", \"COMERCIO VAREJISTA\", \"COMERCIO VAREJISTA\", \"COMERCIO VAREJISTA\", \"COMERCIO VAREJISTA\", \"COMERCIO VAREJISTA\", \"COMERCIO VAREJISTA\", \"COMERCIO VAREJISTA\", \"COMERCIO VAREJISTA\", \"BENS DE CONSUMO\", \"COMERCIO VAREJISTA\", \"COMERCIO VAREJISTA\", \"COMERCIO VAREJISTA\", \"COMERCIO VAREJISTA\", \"COMERCIO VAREJISTA\", \"BENS DE CONSUMO\", \"COMERCIO VAREJISTA\", \"COMERCIO VAREJISTA\", \"COMERCIO VAREJISTA\", \"COMERCIO VAREJISTA\", \"COMERCIO VAREJISTA\", \"COMERCIO VAREJISTA\", \"COMERCIO VAREJISTA\", \"COMERCIO VAREJISTA\", \"COMERCIO VAREJISTA\", \"COMERCIO VAREJISTA\", \"COMERCIO VAREJISTA\", \"COMERCIO VAREJISTA\", \"COMERCIO VAREJISTA\", \"COMERCIO VAREJISTA\", \"COMERCIO VAREJISTA\", \"COMERCIO VAREJISTA\", \"COMERCIO VAREJISTA\", \"COMERCIO VAREJISTA\", \"COMERCIO VAREJISTA\", \"COMERCIO VAREJISTA\", \"COMERCIO VAREJISTA\", \"COMERCIO VAREJISTA\", \"BENS DE CONSUMO\", \"COMERCIO VAREJISTA\", \"COMERCIO VAREJISTA\", \"COMERCIO VAREJISTA\", \"BENS DE CONSUMO\", \"COMERCIO VAREJISTA\", \"COMERCIO VAREJISTA\", \"COMERCIO VAREJISTA\", \"COMERCIO VAREJISTA\", \"COMERCIO VAREJISTA\", \"COMERCIO VAREJISTA\", \"COMERCIO VAREJISTA\", \"COMERCIO VAREJISTA\", \"COMERCIO VAREJISTA\", \"COMERCIO VAREJISTA\", \"COMERCIO VAREJISTA\", \"COMERCIO VAREJISTA\", \"COMERCIO VAREJISTA\", \"BENS DE CONSUMO\", \"COMERCIO VAREJISTA\", \"COMERCIO VAREJISTA\", \"BENS DE CONSUMO\", \"COMERCIO VAREJISTA\", \"COMERCIO VAREJISTA\", \"COMERCIO VAREJISTA\", \"COMERCIO VAREJISTA\", \"COMERCIO VAREJISTA\", \"COMERCIO VAREJISTA\", \"COMERCIO VAREJISTA\", \"COMERCIO VAREJISTA\", \"COMERCIO VAREJISTA\", \"COMERCIO VAREJISTA\", \"COMERCIO VAREJISTA\", \"COMERCIO VAREJISTA\", \"BENS DE CONSUMO\", \"COMERCIO VAREJISTA\", \"COMERCIO VAREJISTA\", \"COMERCIO VAREJISTA\", \"BENS DE CONSUMO\", \"COMERCIO VAREJISTA\", \"COMERCIO VAREJISTA\", \"BENS DE CONSUMO\", \"COMERCIO VAREJISTA\", \"COMERCIO VAREJISTA\", \"BENS DE CONSUMO\", \"COMERCIO VAREJISTA\", \"COMERCIO VAREJISTA\", \"COMERCIO VAREJISTA\", \"COMERCIO VAREJISTA\", \"COMERCIO VAREJISTA\", \"BENS DE CONSUMO\", \"COMERCIO VAREJISTA\", \"BENS DE CONSUMO\", \"COMERCIO VAREJISTA\", \"COMERCIO VAREJISTA\", \"COMERCIO VAREJISTA\", \"COMERCIO VAREJISTA\", \"COMERCIO VAREJISTA\", \"COMERCIO VAREJISTA\", \"BENS DE CONSUMO\", \"COMERCIO VAREJISTA\", \"COMERCIO VAREJISTA\", \"COMERCIO VAREJISTA\", \"COMERCIO VAREJISTA\", \"COMERCIO VAREJISTA\", \"COMERCIO VAREJISTA\", \"COMERCIO VAREJISTA\", \"COMERCIO VAREJISTA\", \"COMERCIO VAREJISTA\", \"COMERCIO VAREJISTA\", \"COMERCIO VAREJISTA\", \"BENS DE CONSUMO\", \"COMERCIO VAREJISTA\", \"COMERCIO VAREJISTA\", \"COMERCIO VAREJISTA\", \"COMERCIO VAREJISTA\", \"COMERCIO VAREJISTA\", \"COMERCIO VAREJISTA\", \"BENS DE CONSUMO\", \"COMERCIO VAREJISTA\", \"BENS DE CONSUMO\", \"COMERCIO VAREJISTA\", \"BENS DE CONSUMO\", \"COMERCIO VAREJISTA\", \"COMERCIO VAREJISTA\", \"COMERCIO VAREJISTA\", \"COMERCIO VAREJISTA\", \"COMERCIO VAREJISTA\", \"COMERCIO VAREJISTA\", \"COMERCIO VAREJISTA\", \"COMERCIO VAREJISTA\", \"COMERCIO VAREJISTA\", \"COMERCIO VAREJISTA\", \"COMERCIO VAREJISTA\", \"COMERCIO VAREJISTA\", \"COMERCIO VAREJISTA\", \"COMERCIO VAREJISTA\", \"COMERCIO VAREJISTA\", \"COMERCIO VAREJISTA\", \"COMERCIO VAREJISTA\", \"COMERCIO VAREJISTA\", \"COMERCIO VAREJISTA\", \"COMERCIO VAREJISTA\", \"COMERCIO VAREJISTA\", \"COMERCIO VAREJISTA\", \"COMERCIO VAREJISTA\", \"COMERCIO VAREJISTA\", \"COMERCIO VAREJISTA\", \"COMERCIO VAREJISTA\", \"COMERCIO VAREJISTA\", \"COMERCIO VAREJISTA\", \"COMERCIO VAREJISTA\", \"COMERCIO VAREJISTA\", \"COMERCIO VAREJISTA\", \"COMERCIO VAREJISTA\", \"COMERCIO VAREJISTA\", \"COMERCIO VAREJISTA\", \"COMERCIO VAREJISTA\", \"COMERCIO VAREJISTA\", \"COMERCIO VAREJISTA\", \"COMERCIO VAREJISTA\", \"COMERCIO VAREJISTA\", \"COMERCIO VAREJISTA\", \"COMERCIO VAREJISTA\", \"COMERCIO VAREJISTA\", \"COMERCIO VAREJISTA\", \"COMERCIO VAREJISTA\", \"COMERCIO VAREJISTA\", \"COMERCIO VAREJISTA\", \"COMERCIO VAREJISTA\", \"COMERCIO VAREJISTA\", \"COMERCIO VAREJISTA\", \"COMERCIO VAREJISTA\", \"COMERCIO VAREJISTA\", \"COMERCIO VAREJISTA\", \"COMERCIO VAREJISTA\", \"COMERCIO VAREJISTA\", \"COMERCIO VAREJISTA\", \"COMERCIO VAREJISTA\", \"COMERCIO VAREJISTA\", \"COMERCIO VAREJISTA\", \"COMERCIO VAREJISTA\", \"COMERCIO VAREJISTA\", \"BENS DE CONSUMO\", \"COMERCIO VAREJISTA\", \"COMERCIO VAREJISTA\", \"COMERCIO VAREJISTA\", \"COMERCIO VAREJISTA\", \"COMERCIO VAREJISTA\", \"COMERCIO VAREJISTA\", \"COMERCIO VAREJISTA\", \"COMERCIO VAREJISTA\", \"COMERCIO VAREJISTA\", \"COMERCIO VAREJISTA\", \"COMERCIO VAREJISTA\", \"COMERCIO VAREJISTA\", \"COMERCIO VAREJISTA\", \"COMERCIO VAREJISTA\", \"COMERCIO VAREJISTA\", \"COMERCIO VAREJISTA\", \"BENS DE CONSUMO\", \"COMERCIO VAREJISTA\", \"COMERCIO VAREJISTA\", \"COMERCIO VAREJISTA\", \"COMERCIO VAREJISTA\", \"COMERCIO VAREJISTA\", \"COMERCIO VAREJISTA\", \"COMERCIO VAREJISTA\", \"BENS DE CONSUMO\", \"COMERCIO VAREJISTA\", \"COMERCIO VAREJISTA\", \"COMERCIO VAREJISTA\", \"COMERCIO VAREJISTA\"]}, {\"label\": \"natureza_juridica_macro\", \"values\": [\"OUTROS\", \"OUTROS\", \"OUTROS\", \"OUTROS\", \"ENTIDADES EMPRESARIAIS\", \"OUTROS\", \"OUTROS\", \"OUTROS\", \"ENTIDADES EMPRESARIAIS\", \"ENTIDADES EMPRESARIAIS\", \"ENTIDADES EMPRESARIAIS\", \"OUTROS\", \"OUTROS\", \"OUTROS\", \"ENTIDADES EMPRESARIAIS\", \"OUTROS\", \"OUTROS\", \"OUTROS\", \"OUTROS\", \"OUTROS\", \"OUTROS\", \"OUTROS\", \"OUTROS\", \"OUTROS\", \"OUTROS\", \"OUTROS\", \"OUTROS\", \"ENTIDADES EMPRESARIAIS\", \"OUTROS\", \"OUTROS\", \"OUTROS\", \"OUTROS\", \"ENTIDADES EMPRESARIAIS\", \"OUTROS\", \"OUTROS\", \"OUTROS\", \"OUTROS\", \"ENTIDADES EMPRESARIAIS\", \"OUTROS\", \"OUTROS\", \"OUTROS\", \"ENTIDADES EMPRESARIAIS\", \"ENTIDADES EMPRESARIAIS\", \"OUTROS\", \"OUTROS\", \"ENTIDADES EMPRESARIAIS\", \"OUTROS\", \"ENTIDADES EMPRESARIAIS\", \"OUTROS\", \"OUTROS\", \"OUTROS\", \"ENTIDADES EMPRESARIAIS\", \"OUTROS\", \"OUTROS\", \"OUTROS\", \"ENTIDADES EMPRESARIAIS\", \"OUTROS\", \"ENTIDADES EMPRESARIAIS\", \"ENTIDADES EMPRESARIAIS\", \"OUTROS\", \"OUTROS\", \"OUTROS\", \"OUTROS\", \"ENTIDADES EMPRESARIAIS\", \"OUTROS\", \"OUTROS\", \"OUTROS\", \"OUTROS\", \"OUTROS\", \"OUTROS\", \"OUTROS\", \"OUTROS\", \"OUTROS\", \"ENTIDADES EMPRESARIAIS\", \"OUTROS\", \"OUTROS\", \"OUTROS\", \"OUTROS\", \"ENTIDADES EMPRESARIAIS\", \"OUTROS\", \"ENTIDADES EMPRESARIAIS\", \"OUTROS\", \"OUTROS\", \"OUTROS\", \"OUTROS\", \"OUTROS\", \"OUTROS\", \"OUTROS\", \"OUTROS\", \"OUTROS\", \"OUTROS\", \"OUTROS\", \"OUTROS\", \"ENTIDADES EMPRESARIAIS\", \"OUTROS\", \"ENTIDADES EMPRESARIAIS\", \"ENTIDADES EMPRESARIAIS\", \"OUTROS\", \"OUTROS\", \"OUTROS\", \"OUTROS\", \"ENTIDADES EMPRESARIAIS\", \"OUTROS\", \"OUTROS\", \"OUTROS\", \"ENTIDADES EMPRESARIAIS\", \"ENTIDADES EMPRESARIAIS\", \"OUTROS\", \"OUTROS\", \"OUTROS\", \"OUTROS\", \"OUTROS\", \"OUTROS\", \"OUTROS\", \"OUTROS\", \"OUTROS\", \"OUTROS\", \"OUTROS\", \"ENTIDADES EMPRESARIAIS\", \"OUTROS\", \"OUTROS\", \"OUTROS\", \"ENTIDADES EMPRESARIAIS\", \"OUTROS\", \"OUTROS\", \"OUTROS\", \"OUTROS\", \"OUTROS\", \"OUTROS\", \"OUTROS\", \"OUTROS\", \"OUTROS\", \"OUTROS\", \"ENTIDADES EMPRESARIAIS\", \"OUTROS\", \"OUTROS\", \"OUTROS\", \"OUTROS\", \"OUTROS\", \"OUTROS\", \"OUTROS\", \"ENTIDADES EMPRESARIAIS\", \"OUTROS\", \"ENTIDADES EMPRESARIAIS\", \"OUTROS\", \"OUTROS\", \"ENTIDADES EMPRESARIAIS\", \"OUTROS\", \"OUTROS\", \"OUTROS\", \"OUTROS\", \"OUTROS\", \"ENTIDADES EMPRESARIAIS\", \"OUTROS\", \"ENTIDADES EMPRESARIAIS\", \"ENTIDADES EMPRESARIAIS\", \"OUTROS\", \"ENTIDADES EMPRESARIAIS\", \"OUTROS\", \"OUTROS\", \"OUTROS\", \"ENTIDADES EMPRESARIAIS\", \"OUTROS\", \"ENTIDADES EMPRESARIAIS\", \"OUTROS\", \"OUTROS\", \"OUTROS\", \"ENTIDADES EMPRESARIAIS\", \"OUTROS\", \"ENTIDADES EMPRESARIAIS\", \"OUTROS\", \"OUTROS\", \"ENTIDADES EMPRESARIAIS\", \"ENTIDADES EMPRESARIAIS\", \"OUTROS\", \"OUTROS\", \"OUTROS\", \"OUTROS\", \"OUTROS\", \"ENTIDADES EMPRESARIAIS\", \"OUTROS\", \"OUTROS\", \"ENTIDADES EMPRESARIAIS\", \"ENTIDADES EMPRESARIAIS\", \"OUTROS\", \"ENTIDADES EMPRESARIAIS\", \"OUTROS\", \"OUTROS\", \"OUTROS\", \"OUTROS\", \"OUTROS\", \"OUTROS\", \"ENTIDADES EMPRESARIAIS\", \"OUTROS\", \"OUTROS\", \"OUTROS\", \"ENTIDADES EMPRESARIAIS\", \"OUTROS\", \"OUTROS\", \"ENTIDADES EMPRESARIAIS\", \"OUTROS\", \"ENTIDADES EMPRESARIAIS\", \"OUTROS\", \"OUTROS\", \"ENTIDADES EMPRESARIAIS\", \"OUTROS\", \"OUTROS\", \"OUTROS\", \"OUTROS\", \"OUTROS\", \"ENTIDADES EMPRESARIAIS\", \"OUTROS\", \"OUTROS\", \"OUTROS\", \"OUTROS\", \"OUTROS\", \"ENTIDADES EMPRESARIAIS\", \"OUTROS\", \"ENTIDADES EMPRESARIAIS\", \"ENTIDADES EMPRESARIAIS\", \"OUTROS\", \"OUTROS\", \"OUTROS\", \"OUTROS\", \"OUTROS\", \"OUTROS\", \"OUTROS\", \"OUTROS\", \"OUTROS\", \"ENTIDADES EMPRESARIAIS\", \"OUTROS\", \"OUTROS\", \"OUTROS\", \"OUTROS\", \"OUTROS\", \"OUTROS\", \"OUTROS\", \"OUTROS\", \"OUTROS\", \"OUTROS\", \"OUTROS\", \"OUTROS\", \"ENTIDADES EMPRESARIAIS\", \"OUTROS\", \"OUTROS\", \"OUTROS\", \"OUTROS\", \"OUTROS\", \"OUTROS\", \"OUTROS\", \"OUTROS\", \"OUTROS\", \"OUTROS\", \"OUTROS\", \"OUTROS\", \"OUTROS\", \"OUTROS\", \"OUTROS\", \"ENTIDADES EMPRESARIAIS\", \"OUTROS\", \"OUTROS\", \"OUTROS\", \"ENTIDADES EMPRESARIAIS\", \"OUTROS\", \"ENTIDADES EMPRESARIAIS\", \"OUTROS\", \"OUTROS\", \"OUTROS\", \"OUTROS\", \"OUTROS\", \"OUTROS\", \"OUTROS\", \"OUTROS\", \"OUTROS\", \"OUTROS\", \"ENTIDADES EMPRESARIAIS\", \"OUTROS\", \"OUTROS\", \"OUTROS\", \"OUTROS\", \"OUTROS\", \"OUTROS\", \"OUTROS\", \"OUTROS\", \"ENTIDADES EMPRESARIAIS\", \"OUTROS\", \"OUTROS\", \"ENTIDADES EMPRESARIAIS\", \"OUTROS\", \"OUTROS\", \"OUTROS\", \"OUTROS\", \"OUTROS\", \"OUTROS\", \"ENTIDADES EMPRESARIAIS\", \"OUTROS\", \"ENTIDADES EMPRESARIAIS\", \"OUTROS\", \"OUTROS\", \"OUTROS\", \"OUTROS\", \"OUTROS\", \"ENTIDADES EMPRESARIAIS\", \"OUTROS\", \"OUTROS\", \"OUTROS\", \"ENTIDADES EMPRESARIAIS\", \"OUTROS\", \"OUTROS\", \"ENTIDADES EMPRESARIAIS\", \"OUTROS\", \"OUTROS\", \"ENTIDADES EMPRESARIAIS\", \"OUTROS\", \"OUTROS\", \"OUTROS\", \"OUTROS\", \"OUTROS\", \"OUTROS\", \"OUTROS\", \"OUTROS\", \"OUTROS\", \"OUTROS\", \"OUTROS\", \"OUTROS\", \"OUTROS\", \"OUTROS\", \"ENTIDADES EMPRESARIAIS\", \"OUTROS\", \"ENTIDADES EMPRESARIAIS\", \"ENTIDADES EMPRESARIAIS\", \"OUTROS\", \"OUTROS\", \"OUTROS\", \"OUTROS\", \"OUTROS\", \"OUTROS\", \"OUTROS\", \"OUTROS\", \"OUTROS\", \"OUTROS\", \"ENTIDADES EMPRESARIAIS\", \"OUTROS\", \"OUTROS\", \"OUTROS\", \"OUTROS\", \"OUTROS\", \"OUTROS\", \"OUTROS\", \"OUTROS\", \"ENTIDADES EMPRESARIAIS\", \"OUTROS\", \"OUTROS\", \"ENTIDADES EMPRESARIAIS\", \"OUTROS\", \"OUTROS\", \"OUTROS\", \"OUTROS\", \"OUTROS\", \"OUTROS\", \"OUTROS\", \"OUTROS\", \"OUTROS\", \"OUTROS\", \"OUTROS\", \"ENTIDADES EMPRESARIAIS\", \"ENTIDADES EMPRESARIAIS\", \"OUTROS\", \"OUTROS\", \"OUTROS\", \"OUTROS\", \"OUTROS\", \"OUTROS\", \"ENTIDADES EMPRESARIAIS\", \"OUTROS\", \"ENTIDADES EMPRESARIAIS\", \"OUTROS\", \"ENTIDADES EMPRESARIAIS\", \"OUTROS\", \"OUTROS\", \"OUTROS\", \"OUTROS\", \"OUTROS\", \"OUTROS\", \"OUTROS\", \"OUTROS\", \"OUTROS\", \"ENTIDADES EMPRESARIAIS\", \"OUTROS\", \"OUTROS\", \"OUTROS\", \"ENTIDADES EMPRESARIAIS\", \"OUTROS\", \"OUTROS\", \"ENTIDADES EMPRESARIAIS\", \"OUTROS\", \"OUTROS\", \"OUTROS\", \"OUTROS\", \"OUTROS\", \"OUTROS\", \"OUTROS\", \"OUTROS\", \"ENTIDADES EMPRESARIAIS\", \"OUTROS\", \"OUTROS\", \"OUTROS\", \"OUTROS\", \"OUTROS\", \"OUTROS\", \"OUTROS\", \"OUTROS\", \"OUTROS\", \"OUTROS\", \"OUTROS\", \"OUTROS\", \"OUTROS\", \"OUTROS\", \"OUTROS\", \"OUTROS\", \"ENTIDADES EMPRESARIAIS\", \"OUTROS\", \"OUTROS\", \"OUTROS\", \"OUTROS\", \"OUTROS\", \"ENTIDADES EMPRESARIAIS\", \"OUTROS\", \"OUTROS\", \"OUTROS\", \"OUTROS\", \"OUTROS\", \"OUTROS\", \"OUTROS\", \"OUTROS\", \"OUTROS\", \"OUTROS\", \"OUTROS\", \"OUTROS\", \"OUTROS\", \"OUTROS\", \"OUTROS\", \"OUTROS\", \"OUTROS\", \"OUTROS\", \"OUTROS\", \"OUTROS\", \"OUTROS\", \"OUTROS\", \"ENTIDADES EMPRESARIAIS\", \"OUTROS\", \"OUTROS\", \"OUTROS\", \"OUTROS\", \"OUTROS\", \"OUTROS\", \"OUTROS\", \"OUTROS\", \"ENTIDADES EMPRESARIAIS\", \"OUTROS\", \"OUTROS\", \"OUTROS\", \"ENTIDADES EMPRESARIAIS\", \"OUTROS\", \"OUTROS\", \"OUTROS\", \"OUTROS\", \"ENTIDADES EMPRESARIAIS\", \"OUTROS\", \"OUTROS\", \"ENTIDADES EMPRESARIAIS\", \"OUTROS\", \"ENTIDADES EMPRESARIAIS\", \"OUTROS\", \"OUTROS\", \"OUTROS\", \"ENTIDADES EMPRESARIAIS\", \"OUTROS\", \"OUTROS\", \"OUTROS\", \"OUTROS\", \"ENTIDADES EMPRESARIAIS\", \"OUTROS\", \"OUTROS\", \"OUTROS\", \"OUTROS\", \"ENTIDADES EMPRESARIAIS\", \"OUTROS\", \"ENTIDADES EMPRESARIAIS\", \"OUTROS\", \"OUTROS\", \"ENTIDADES EMPRESARIAIS\", \"OUTROS\", \"OUTROS\", \"OUTROS\", \"ENTIDADES EMPRESARIAIS\", \"OUTROS\", \"OUTROS\", \"OUTROS\", \"ENTIDADES EMPRESARIAIS\", \"OUTROS\", \"OUTROS\", \"OUTROS\", \"ENTIDADES EMPRESARIAIS\", \"OUTROS\", \"OUTROS\", \"OUTROS\", \"ENTIDADES EMPRESARIAIS\", \"OUTROS\", \"OUTROS\", \"OUTROS\", \"OUTROS\", \"OUTROS\", \"OUTROS\", \"OUTROS\", \"OUTROS\", \"OUTROS\", \"OUTROS\", \"OUTROS\", \"OUTROS\", \"ENTIDADES EMPRESARIAIS\", \"OUTROS\", \"OUTROS\", \"ENTIDADES EMPRESARIAIS\", \"OUTROS\", \"OUTROS\", \"ENTIDADES EMPRESARIAIS\", \"OUTROS\", \"OUTROS\", \"OUTROS\", \"OUTROS\", \"OUTROS\", \"OUTROS\", \"OUTROS\", \"OUTROS\", \"OUTROS\", \"ENTIDADES EMPRESARIAIS\", \"ENTIDADES EMPRESARIAIS\", \"OUTROS\", \"OUTROS\", \"OUTROS\", \"ENTIDADES EMPRESARIAIS\", \"OUTROS\", \"OUTROS\", \"OUTROS\", \"OUTROS\", \"OUTROS\", \"OUTROS\", \"OUTROS\", \"OUTROS\", \"ENTIDADES EMPRESARIAIS\", \"OUTROS\", \"OUTROS\", \"OUTROS\", \"OUTROS\"]}], \"domain\": {\"x\": [0.0, 1.0], \"y\": [0.0, 1.0]}, \"line\": {\"color\": [0.6465753424657534, 6.586301369863015, 8.01095890410959, 20.863013698630137, 18.72602739726027, 6.238356164383561, 9.663013698630136, 0.4958904109589041, 1.1616438356164382, 5.30958904109589, 3.7561643835616434, 4.780821917808218, 7.186301369863013, 20.572602739726022, 23.98630136986301, 0.23835616438356164, 33.69315068493151, 17.219178082191778, 8.12054794520548, 19.88493150684932, 0.8328767123287671, 5.326027397260273, 0.4712328767123288, 23.115068493150684, 1.5835616438356164, 12.923287671232874, 4.536986301369863, 24.975342465753428, 47.51780821917808, 20.649315068493152, 2.6575342465753424, 6.947945205479453, 43.186301369863024, 10.136986301369864, 0.6767123287671233, 3.084931506849315, 23.73150684931507, 16.350684931506848, 12.761643835616438, 8.016438356164384, 5.405479452054794, 4.515068493150685, 18.8, 16.158904109589038, 18.019178082191786, 28.12054794520548, 0.24383561643835616, 0.547945205479452, 7.684931506849315, 2.5835616438356164, 9.287671232876713, 34.084931506849315, 0.5616438356164384, 16.273972602739725, 11.112328767123287, 10.43013698630137, 6.0931506849315085, 10.063013698630137, 4.920547945205478, 1.4876712328767123, 7.663013698630137, 8.391780821917807, 24.65753424657534, 30.887671232876716, 2.271232876712329, 1.4684931506849317, 4.808219178082191, 22.32054794520548, 0.3671232876712329, 5.597260273972603, 27.93150684931507, 22.279452054794522, 1.2931506849315069, 2.3123287671232875, 1.336986301369863, 9.202739726027398, 15.991780821917805, 3.9780821917808216, 12.876712328767125, 3.191780821917808, 8.597260273972603, 8.01095890410959, 1.6821917808219178, 4.569863013698631, 1.389041095890411, 3.6493150684931517, 1.7945205479452055, 5.9013698630136995, 0.8767123287671232, 3.93972602739726, 19.942465753424656, 4.838356164383562, 20.093150684931512, 2.9616438356164383, 11.613698630136984, 28.408219178082188, 5.898630136986301, 5.0, 19.156164383561645, 24.257534246575347, 4.3780821917808215, 12.413698630136983, 0.6465753424657534, 4.358904109589041, 3.156164383561644, 4.673972602739727, 15.506849315068493, 2.580821917808219, 15.931506849315069, 11.789041095890413, 8.241095890410959, 5.131506849315068, 2.7479452054794513, 30.778082191780825, 6.610958904109589, 31.687671232876717, 1.523287671232877, 4.073972602739726, 0.3150684931506849, 9.89041095890411, 4.0547945205479445, 1.3945205479452054, 9.287671232876713, 23.04383561643836, 5.268493150684932, 3.536986301369863, 16.882191780821916, 0.9561643835616438, 3.4767123287671238, 8.720547945205482, 25.920547945205477, 2.5205479452054798, 13.073972602739724, 3.7945205479452055, 7.380821917808219, 0.2, 29.002739726027396, 0.6273972602739726, 18.882191780821923, 2.1424657534246574, 7.638356164383563, 31.660273972602734, 7.893150684931506, 16.542465753424658, 10.597260273972603, 4.635616438356164, 28.14794520547945, 22.136986301369863, 2.010958904109589, 27.55342465753425, 7.3342465753424655, 15.893150684931507, 9.673972602739726, 5.742465753424658, 9.161643835616438, 16.523287671232875, 5.701369863013697, 9.734246575342468, 2.1534246575342464, 5.109589041095892, 5.950684931506848, 6.441095890410958, 12.73972602739726, 24.945205479452056, 26.610958904109587, 3.3506849315068483, 1.9780821917808218, 12.33972602739726, 3.936986301369863, 31.31232876712329, 29.54520547945205, 4.408219178082192, 5.126027397260274, 5.079452054794522, 0.4904109589041096, 3.0575342465753423, 5.115068493150685, 7.9534246575342475, 18.78082191780822, 24.468493150684928, 13.643835616438356, 1.4684931506849317, 15.482191780821918, 1.5972602739726027, 0.7726027397260274, 11.926027397260276, 5.23013698630137, 11.397260273972602, 30.463013698630142, 13.931506849315069, 7.104109589041097, 3.8657534246575342, 13.150684931506849, 3.92054794520548, 0.7589041095890411, 5.750684931506848, 30.734246575342464, 3.1726027397260275, 0.5315068493150685, 10.602739726027398, 11.246575342465754, 19.27945205479452, 3.4794520547945207, 29.923287671232877, 33.23013698630137, 0.4027397260273973, 9.75068493150685, 8.027397260273974, 14.068493150684931, 19.671232876712327, 3.904109589041096, 8.09041095890411, 1.5589041095890408, 9.986301369863014, 13.402739726027393, 24.843835616438355, 2.326027397260274, 0.1643835616438356, 32.172602739726024, 19.095890410958905, 10.13972602739726, 22.424657534246574, 11.093150684931507, 22.66575342465753, 0.7397260273972602, 0.6684931506849315, 6.569863013698631, 20.967123287671228, 8.608219178082193, 38.57534246575342, 6.682191780821919, 15.704109589041094, 0.5287671232876713, 1.5835616438356164, 1.991780821917808, 0.1095890410958904, 1.808219178082192, 8.336986301369864, 30.23013698630137, 5.287671232876712, 1.9808219178082191, 31.63013698630137, 7.7232876712328755, 15.389041095890413, 12.45753424657534, 3.441095890410959, 2.602739726027397, 0.8109589041095892, 28.04383561643836, 18.709589041095892, 5.961643835616439, 7.610958904109589, 29.405479452054795, 0.2356164383561644, 0.4246575342465753, 3.405479452054794, 8.180821917808219, 15.432876712328767, 13.956164383561644, 6.8, 7.92876712328767, 23.21917808219178, 22.627397260273966, 9.613698630136986, 15.506849315068493, 7.6, 6.531506849315067, 5.336986301369863, 3.504109589041096, 3.4438356164383563, 11.539726027397261, 1.6410958904109592, 1.7123287671232876, 5.175342465753425, 4.076712328767123, 1.6821917808219178, 0.12054794520547946, 1.1616438356164382, 1.0328767123287672, 42.72602739726028, 17.630136986301373, 3.90958904109589, 3.3424657534246576, 27.14794520547945, 7.410958904109589, 7.336986301369863, 4.312328767123288, 10.084931506849315, 0.8027397260273973, 1.158904109589041, 2.736986301369863, 8.635616438356163, 5.0410958904109595, 6.736986301369862, 17.561643835616437, 2.432876712328768, 23.317808219178087, 1.2684931506849315, 1.158904109589041, 0.5643835616438356, 5.183561643835616, 5.4602739726027405, 1.0328767123287672, 3.871232876712329, 7.326027397260273, 7.052054794520547, 5.515068493150685, 9.252054794520548, 37.2, 6.263013698630138, 4.383561643835616, 7.1506849315068495, 11.112328767123287, 8.01095890410959, 12.342465753424653, 6.824657534246574, 3.3917808219178083, 1.356164383561644, 31.961643835616442, 12.320547945205481, 3.1616438356164385, 23.19178082191781, 6.109589041095893, 0.5013698630136987, 19.435616438356163, 2.350684931506849, 27.326027397260276, 18.747945205479454, 28.704109589041096, 13.646575342465756, 2.8164383561643835, 1.8712328767123287, 3.9753424657534246, 1.2246575342465753, 0.7534246575342466, 3.287671232876712, 9.197260273972603, 4.64931506849315, 4.073972602739726, 5.490410958904111, 0.5068493150684932, 8.435616438356165, 21.83013698630137, 0.6602739726027397, 12.98904109589041, 4.112328767123287, 2.104109589041096, 18.906849315068488, 3.515068493150685, 7.112328767123286, 9.66027397260274, 18.72602739726027, 31.26849315068493, 10.073972602739726, 26.263013698630136, 2.2301369863013702, 20.167123287671235, 1.378082191780822, 1.1424657534246576, 2.164383561643836, 6.139726027397259, 1.1205479452054794, 6.613698630136986, 0.2, 7.008219178082192, 13.18082191780822, 24.591780821917812, 21.953424657534246, 7.257534246575342, 17.583561643835615, 8.279452054794518, 5.452054794520548, 10.36986301369863, 17.027397260273972, 20.10958904109589, 6.087671232876713, 10.898630136986304, 3.827397260273973, 24.556164383561644, 6.742465753424658, 9.564383561643837, 5.860273972602741, 5.323287671232877, 1.1068493150684928, 1.8356164383561644, 25.95616438356164, 4.76986301369863, 7.583561643835616, 1.0876712328767124, 11.904109589041095, 5.3863013698630136, 5.227397260273973, 10.63013698630137, 4.405479452054794, 16.027397260273972, 0.3589041095890411, 13.641095890410963, 8.96986301369863, 13.128767123287673, 6.978082191780822, 2.958904109589041, 3.764383561643836, 5.175342465753425, 5.183561643835616, 2.6575342465753424, 4.868493150684932, 28.64383561643836, 7.528767123287671, 2.854794520547945, 11.397260273972602, 19.824657534246573, 6.4986301369863035, 8.005479452054795, 27.375342465753427, 27.87945205479452, 0.2931506849315069, 24.86849315068493, 37.958904109589035, 1.3698630136986298, 8.01095890410959, 11.676712328767126, 1.3178082191780822, 0.052054794520547946, 0.6383561643835617, 10.45753424657534, 17.2, 6.361643835616437, 5.608219178082192, 1.5835616438356164, 7.931506849315069, 7.353424657534248, 14.323287671232874, 2.695890410958904, 6.224657534246576, 3.136986301369863, 1.1205479452054794, 5.243835616438357, 0.9369863013698628, 4.575342465753423, 6.402739726027397, 6.882191780821918, 6.372602739726028, 1.5945205479452054, 20.164383561643838, 27.83287671232877, 18.846575342465755, 6.416438356164384, 16.75068493150685, 5.172602739726028, 2.967123287671233, 3.287671232876712, 31.06027397260274, 3.3616438356164378, 8.580821917808219, 4.715068493150685, 46.76164383561644, 1.6383561643835616, 0.9123287671232876, 0.2164383561643836, 2.350684931506849, 0.6876712328767123, 4.263013698630137, 15.550684931506849, 6.416438356164384, 3.775342465753425, 3.246575342465753, 11.97808219178082, 19.572602739726022, 6.7095890410958905, 0.052054794520547946, 13.391780821917806, 12.87945205479452, 0.1506849315068493, 2.0493150684931507, 6.419178082191781, 13.104109589041094, 19.167123287671235, 0.9835616438356164, 10.517808219178082, 7.794520547945205, 18.76438356164384, 28.227397260273968, 0.9561643835616438, 9.75068493150685, 3.8520547945205488, 2.8904109589041096, 7.550684931506848, 0.9671232876712328, 26.145205479452056, 2.2301369863013702, 13.583561643835615, 6.706849315068491, 1.6246575342465754, 31.42465753424657, 3.46027397260274, 6.767123287671232, 16.805479452054794, 15.273972602739725, 4.139726027397259, 29.372602739726034, 0.4136986301369863, 1.704109589041096, 8.35068493150685, 1.4657534246575343, 18.983561643835614, 22.85205479452055, 0.9753424657534246, 29.128767123287673, 16.96986301369863, 6.476712328767122, 8.232876712328768, 4.597260273972604, 21.93424657534247, 22.01095890410959, 1.4465753424657537, 1.895890410958904, 8.013698630136986, 2.0191780821917806, 2.063013698630137, 32.47397260273973, 34.61369863013699, 4.438356164383562, 25.14794520547945, 35.87397260273973, 1.1232876712328768, 5.093150684931507, 17.232876712328768, 1.5315068493150683, 0.9534246575342464, 46.115068493150694, 6.583561643835616, 6.032876712328767, 1.964383561643836, 6.057534246575343, 11.463013698630135, 3.9753424657534246, 6.917808219178082, 10.63013698630137, 12.613698630136984, 1.4273972602739726, 17.446575342465753, 5.3945205479452065, 8.186301369863013, 8.531506849315068, 0.6109589041095891, 9.191780821917806, 1.6821917808219178, 21.158904109589038, 1.8575342465753424, 0.44931506849315067, 27.660273972602734, 1.5972602739726027, 31.86849315068493, 0.96986301369863, 3.994520547945205], \"coloraxis\": \"coloraxis\"}, \"name\": \"\", \"type\": \"parcats\"}],\n",
              "                        {\"coloraxis\": {\"colorbar\": {\"title\": {\"text\": \"idade_empresa_anos\"}}, \"colorscale\": [[0.0, \"#000004\"], [0.1111111111111111, \"#1b0c41\"], [0.2222222222222222, \"#4a0c6b\"], [0.3333333333333333, \"#781c6d\"], [0.4444444444444444, \"#a52c60\"], [0.5555555555555556, \"#cf4446\"], [0.6666666666666666, \"#ed6925\"], [0.7777777777777778, \"#fb9b06\"], [0.8888888888888888, \"#f7d13d\"], [1.0, \"#fcffa4\"]]}, \"height\": 500, \"legend\": {\"tracegroupgap\": 0}, \"margin\": {\"t\": 60}, \"template\": {\"data\": {\"bar\": [{\"error_x\": {\"color\": \"#2a3f5f\"}, \"error_y\": {\"color\": \"#2a3f5f\"}, \"marker\": {\"line\": {\"color\": \"#E5ECF6\", \"width\": 0.5}}, \"type\": \"bar\"}], \"barpolar\": [{\"marker\": {\"line\": {\"color\": \"#E5ECF6\", \"width\": 0.5}}, \"type\": \"barpolar\"}], \"carpet\": [{\"aaxis\": {\"endlinecolor\": \"#2a3f5f\", \"gridcolor\": \"white\", \"linecolor\": \"white\", \"minorgridcolor\": \"white\", \"startlinecolor\": \"#2a3f5f\"}, \"baxis\": {\"endlinecolor\": \"#2a3f5f\", \"gridcolor\": \"white\", \"linecolor\": \"white\", \"minorgridcolor\": \"white\", \"startlinecolor\": \"#2a3f5f\"}, \"type\": \"carpet\"}], \"choropleth\": [{\"colorbar\": {\"outlinewidth\": 0, \"ticks\": \"\"}, \"type\": \"choropleth\"}], \"contour\": [{\"colorbar\": {\"outlinewidth\": 0, \"ticks\": \"\"}, \"colorscale\": [[0.0, \"#0d0887\"], [0.1111111111111111, \"#46039f\"], [0.2222222222222222, \"#7201a8\"], [0.3333333333333333, \"#9c179e\"], [0.4444444444444444, \"#bd3786\"], [0.5555555555555556, \"#d8576b\"], [0.6666666666666666, \"#ed7953\"], [0.7777777777777778, \"#fb9f3a\"], [0.8888888888888888, \"#fdca26\"], [1.0, \"#f0f921\"]], \"type\": \"contour\"}], \"contourcarpet\": [{\"colorbar\": {\"outlinewidth\": 0, \"ticks\": \"\"}, \"type\": \"contourcarpet\"}], \"heatmap\": [{\"colorbar\": {\"outlinewidth\": 0, \"ticks\": \"\"}, \"colorscale\": [[0.0, \"#0d0887\"], [0.1111111111111111, \"#46039f\"], [0.2222222222222222, \"#7201a8\"], [0.3333333333333333, \"#9c179e\"], [0.4444444444444444, \"#bd3786\"], [0.5555555555555556, \"#d8576b\"], [0.6666666666666666, \"#ed7953\"], [0.7777777777777778, \"#fb9f3a\"], [0.8888888888888888, \"#fdca26\"], [1.0, \"#f0f921\"]], \"type\": \"heatmap\"}], \"heatmapgl\": [{\"colorbar\": {\"outlinewidth\": 0, \"ticks\": \"\"}, \"colorscale\": [[0.0, \"#0d0887\"], [0.1111111111111111, \"#46039f\"], [0.2222222222222222, \"#7201a8\"], [0.3333333333333333, \"#9c179e\"], [0.4444444444444444, \"#bd3786\"], [0.5555555555555556, \"#d8576b\"], [0.6666666666666666, \"#ed7953\"], [0.7777777777777778, \"#fb9f3a\"], [0.8888888888888888, \"#fdca26\"], [1.0, \"#f0f921\"]], \"type\": \"heatmapgl\"}], \"histogram\": [{\"marker\": {\"colorbar\": {\"outlinewidth\": 0, \"ticks\": \"\"}}, \"type\": \"histogram\"}], \"histogram2d\": [{\"colorbar\": {\"outlinewidth\": 0, \"ticks\": \"\"}, \"colorscale\": [[0.0, \"#0d0887\"], [0.1111111111111111, \"#46039f\"], [0.2222222222222222, \"#7201a8\"], [0.3333333333333333, \"#9c179e\"], [0.4444444444444444, \"#bd3786\"], [0.5555555555555556, \"#d8576b\"], [0.6666666666666666, \"#ed7953\"], [0.7777777777777778, \"#fb9f3a\"], [0.8888888888888888, \"#fdca26\"], [1.0, \"#f0f921\"]], \"type\": \"histogram2d\"}], \"histogram2dcontour\": [{\"colorbar\": {\"outlinewidth\": 0, \"ticks\": \"\"}, \"colorscale\": [[0.0, \"#0d0887\"], [0.1111111111111111, \"#46039f\"], [0.2222222222222222, \"#7201a8\"], [0.3333333333333333, \"#9c179e\"], [0.4444444444444444, \"#bd3786\"], [0.5555555555555556, \"#d8576b\"], [0.6666666666666666, \"#ed7953\"], [0.7777777777777778, \"#fb9f3a\"], [0.8888888888888888, \"#fdca26\"], [1.0, \"#f0f921\"]], \"type\": \"histogram2dcontour\"}], \"mesh3d\": [{\"colorbar\": {\"outlinewidth\": 0, \"ticks\": \"\"}, \"type\": \"mesh3d\"}], \"parcoords\": [{\"line\": {\"colorbar\": {\"outlinewidth\": 0, \"ticks\": \"\"}}, \"type\": \"parcoords\"}], \"pie\": [{\"automargin\": true, \"type\": \"pie\"}], \"scatter\": [{\"marker\": {\"colorbar\": {\"outlinewidth\": 0, \"ticks\": \"\"}}, \"type\": \"scatter\"}], \"scatter3d\": [{\"line\": {\"colorbar\": {\"outlinewidth\": 0, \"ticks\": \"\"}}, \"marker\": {\"colorbar\": {\"outlinewidth\": 0, \"ticks\": \"\"}}, \"type\": \"scatter3d\"}], \"scattercarpet\": [{\"marker\": {\"colorbar\": {\"outlinewidth\": 0, \"ticks\": \"\"}}, \"type\": \"scattercarpet\"}], \"scattergeo\": [{\"marker\": {\"colorbar\": {\"outlinewidth\": 0, \"ticks\": \"\"}}, \"type\": \"scattergeo\"}], \"scattergl\": [{\"marker\": {\"colorbar\": {\"outlinewidth\": 0, \"ticks\": \"\"}}, \"type\": \"scattergl\"}], \"scattermapbox\": [{\"marker\": {\"colorbar\": {\"outlinewidth\": 0, \"ticks\": \"\"}}, \"type\": \"scattermapbox\"}], \"scatterpolar\": [{\"marker\": {\"colorbar\": {\"outlinewidth\": 0, \"ticks\": \"\"}}, \"type\": \"scatterpolar\"}], \"scatterpolargl\": [{\"marker\": {\"colorbar\": {\"outlinewidth\": 0, \"ticks\": \"\"}}, \"type\": \"scatterpolargl\"}], \"scatterternary\": [{\"marker\": {\"colorbar\": {\"outlinewidth\": 0, \"ticks\": \"\"}}, \"type\": \"scatterternary\"}], \"surface\": [{\"colorbar\": {\"outlinewidth\": 0, \"ticks\": \"\"}, \"colorscale\": [[0.0, \"#0d0887\"], [0.1111111111111111, \"#46039f\"], [0.2222222222222222, \"#7201a8\"], [0.3333333333333333, \"#9c179e\"], [0.4444444444444444, \"#bd3786\"], [0.5555555555555556, \"#d8576b\"], [0.6666666666666666, \"#ed7953\"], [0.7777777777777778, \"#fb9f3a\"], [0.8888888888888888, \"#fdca26\"], [1.0, \"#f0f921\"]], \"type\": \"surface\"}], \"table\": [{\"cells\": {\"fill\": {\"color\": \"#EBF0F8\"}, \"line\": {\"color\": \"white\"}}, \"header\": {\"fill\": {\"color\": \"#C8D4E3\"}, \"line\": {\"color\": \"white\"}}, \"type\": \"table\"}]}, \"layout\": {\"annotationdefaults\": {\"arrowcolor\": \"#2a3f5f\", \"arrowhead\": 0, \"arrowwidth\": 1}, \"coloraxis\": {\"colorbar\": {\"outlinewidth\": 0, \"ticks\": \"\"}}, \"colorscale\": {\"diverging\": [[0, \"#8e0152\"], [0.1, \"#c51b7d\"], [0.2, \"#de77ae\"], [0.3, \"#f1b6da\"], [0.4, \"#fde0ef\"], [0.5, \"#f7f7f7\"], [0.6, \"#e6f5d0\"], [0.7, \"#b8e186\"], [0.8, \"#7fbc41\"], [0.9, \"#4d9221\"], [1, \"#276419\"]], \"sequential\": [[0.0, \"#0d0887\"], [0.1111111111111111, \"#46039f\"], [0.2222222222222222, \"#7201a8\"], [0.3333333333333333, \"#9c179e\"], [0.4444444444444444, \"#bd3786\"], [0.5555555555555556, \"#d8576b\"], [0.6666666666666666, \"#ed7953\"], [0.7777777777777778, \"#fb9f3a\"], [0.8888888888888888, \"#fdca26\"], [1.0, \"#f0f921\"]], \"sequentialminus\": [[0.0, \"#0d0887\"], [0.1111111111111111, \"#46039f\"], [0.2222222222222222, \"#7201a8\"], [0.3333333333333333, \"#9c179e\"], [0.4444444444444444, \"#bd3786\"], [0.5555555555555556, \"#d8576b\"], [0.6666666666666666, \"#ed7953\"], [0.7777777777777778, \"#fb9f3a\"], [0.8888888888888888, \"#fdca26\"], [1.0, \"#f0f921\"]]}, \"colorway\": [\"#636efa\", \"#EF553B\", \"#00cc96\", \"#ab63fa\", \"#FFA15A\", \"#19d3f3\", \"#FF6692\", \"#B6E880\", \"#FF97FF\", \"#FECB52\"], \"font\": {\"color\": \"#2a3f5f\"}, \"geo\": {\"bgcolor\": \"white\", \"lakecolor\": \"white\", \"landcolor\": \"#E5ECF6\", \"showlakes\": true, \"showland\": true, \"subunitcolor\": \"white\"}, \"hoverlabel\": {\"align\": \"left\"}, \"hovermode\": \"closest\", \"mapbox\": {\"style\": \"light\"}, \"paper_bgcolor\": \"white\", \"plot_bgcolor\": \"#E5ECF6\", \"polar\": {\"angularaxis\": {\"gridcolor\": \"white\", \"linecolor\": \"white\", \"ticks\": \"\"}, \"bgcolor\": \"#E5ECF6\", \"radialaxis\": {\"gridcolor\": \"white\", \"linecolor\": \"white\", \"ticks\": \"\"}}, \"scene\": {\"xaxis\": {\"backgroundcolor\": \"#E5ECF6\", \"gridcolor\": \"white\", \"gridwidth\": 2, \"linecolor\": \"white\", \"showbackground\": true, \"ticks\": \"\", \"zerolinecolor\": \"white\"}, \"yaxis\": {\"backgroundcolor\": \"#E5ECF6\", \"gridcolor\": \"white\", \"gridwidth\": 2, \"linecolor\": \"white\", \"showbackground\": true, \"ticks\": \"\", \"zerolinecolor\": \"white\"}, \"zaxis\": {\"backgroundcolor\": \"#E5ECF6\", \"gridcolor\": \"white\", \"gridwidth\": 2, \"linecolor\": \"white\", \"showbackground\": true, \"ticks\": \"\", \"zerolinecolor\": \"white\"}}, \"shapedefaults\": {\"line\": {\"color\": \"#2a3f5f\"}}, \"ternary\": {\"aaxis\": {\"gridcolor\": \"white\", \"linecolor\": \"white\", \"ticks\": \"\"}, \"baxis\": {\"gridcolor\": \"white\", \"linecolor\": \"white\", \"ticks\": \"\"}, \"bgcolor\": \"#E5ECF6\", \"caxis\": {\"gridcolor\": \"white\", \"linecolor\": \"white\", \"ticks\": \"\"}}, \"title\": {\"x\": 0.05}, \"xaxis\": {\"automargin\": true, \"gridcolor\": \"white\", \"linecolor\": \"white\", \"ticks\": \"\", \"title\": {\"standoff\": 15}, \"zerolinecolor\": \"white\", \"zerolinewidth\": 2}, \"yaxis\": {\"automargin\": true, \"gridcolor\": \"white\", \"linecolor\": \"white\", \"ticks\": \"\", \"title\": {\"standoff\": 15}, \"zerolinecolor\": \"white\", \"zerolinewidth\": 2}}}, \"width\": 1000},\n",
              "                        {\"responsive\": true}\n",
              "                    ).then(function(){\n",
              "                            \n",
              "var gd = document.getElementById('8a4c61bf-6722-41e6-a733-bda216889093');\n",
              "var x = new MutationObserver(function (mutations, observer) {{\n",
              "        var display = window.getComputedStyle(gd).display;\n",
              "        if (!display || display === 'none') {{\n",
              "            console.log([gd, 'removed!']);\n",
              "            Plotly.purge(gd);\n",
              "            observer.disconnect();\n",
              "        }}\n",
              "}});\n",
              "\n",
              "// Listen for the removal of the full notebook cells\n",
              "var notebookContainer = gd.closest('#notebook-container');\n",
              "if (notebookContainer) {{\n",
              "    x.observe(notebookContainer, {childList: true});\n",
              "}}\n",
              "\n",
              "// Listen for the clearing of the current output cell\n",
              "var outputEl = gd.closest('.output');\n",
              "if (outputEl) {{\n",
              "    x.observe(outputEl, {childList: true});\n",
              "}}\n",
              "\n",
              "                        })\n",
              "                };\n",
              "                \n",
              "            </script>\n",
              "        </div>\n",
              "</body>\n",
              "</html>"
            ]
          },
          "metadata": {
            "tags": []
          }
        }
      ]
    },
    {
      "cell_type": "code",
      "metadata": {
        "id": "Y-Haj5mTlHEX",
        "colab_type": "code",
        "colab": {
          "base_uri": "https://localhost:8080/",
          "height": 517
        },
        "outputId": "bb95d6f1-4bbf-407a-e0d6-d9f7da87b5cd"
      },
      "source": [
        "portfolio_leads = 'portfolio{}_leads.csv'\n",
        "\n",
        "cols = ['setor', 'de_ramo', 'natureza_juridica_macro']\n",
        "value = 'idade_empresa_anos'\n",
        "\n",
        "portfolio_leads_ = get_user_companies(path, portfolio_leads.format(1)).reset_index()\n",
        "user_leads = pd.merge(portfolio_leads_[['id']], market, on='id', how='inner', left_index=True)\n",
        "px.parallel_categories(user_leads.iloc[:2*len(user_companies)] , \n",
        "                       dimensions = cols,\n",
        "                       color=value, \n",
        "                       color_continuous_scale=px.colors.sequential.Inferno)"
      ],
      "execution_count": 64,
      "outputs": [
        {
          "output_type": "display_data",
          "data": {
            "text/html": [
              "<html>\n",
              "<head><meta charset=\"utf-8\" /></head>\n",
              "<body>\n",
              "    <div>\n",
              "            <script src=\"https://cdnjs.cloudflare.com/ajax/libs/mathjax/2.7.5/MathJax.js?config=TeX-AMS-MML_SVG\"></script><script type=\"text/javascript\">if (window.MathJax) {MathJax.Hub.Config({SVG: {font: \"STIX-Web\"}});}</script>\n",
              "                <script type=\"text/javascript\">window.PlotlyConfig = {MathJaxConfig: 'local'};</script>\n",
              "        <script src=\"https://cdn.plot.ly/plotly-latest.min.js\"></script>    \n",
              "            <div id=\"11aa5621-c07a-4457-9511-27a70f23f91a\" class=\"plotly-graph-div\" style=\"height:500px; width:1000px;\"></div>\n",
              "            <script type=\"text/javascript\">\n",
              "                \n",
              "                    window.PLOTLYENV=window.PLOTLYENV || {};\n",
              "                    \n",
              "                if (document.getElementById(\"11aa5621-c07a-4457-9511-27a70f23f91a\")) {\n",
              "                    Plotly.newPlot(\n",
              "                        '11aa5621-c07a-4457-9511-27a70f23f91a',\n",
              "                        [{\"dimensions\": [{\"label\": \"setor\", \"values\": [\"COMERCIO\", \"COMERCIO\", \"COMERCIO\", \"COMERCIO\", \"COMERCIO\", \"COMERCIO\", \"COMERCIO\", \"COMERCIO\", \"COMERCIO\", \"COMERCIO\", \"COMERCIO\", \"COMERCIO\", \"COMERCIO\", \"COMERCIO\", \"COMERCIO\", \"COMERCIO\", \"COMERCIO\", \"COMERCIO\", \"COMERCIO\", \"COMERCIO\", \"COMERCIO\", \"COMERCIO\", \"COMERCIO\", \"COMERCIO\", \"COMERCIO\", \"COMERCIO\", \"COMERCIO\", \"COMERCIO\", \"COMERCIO\", \"COMERCIO\", \"COMERCIO\", \"COMERCIO\", \"COMERCIO\", \"COMERCIO\", \"COMERCIO\", \"COMERCIO\", \"COMERCIO\", \"COMERCIO\", \"COMERCIO\", \"COMERCIO\", \"COMERCIO\", \"COMERCIO\", \"COMERCIO\", \"COMERCIO\", \"COMERCIO\", \"COMERCIO\", \"COMERCIO\", \"COMERCIO\", \"COMERCIO\", \"COMERCIO\", \"COMERCIO\", \"COMERCIO\", \"COMERCIO\", \"COMERCIO\", \"COMERCIO\", \"COMERCIO\", \"COMERCIO\", \"COMERCIO\", \"COMERCIO\", \"COMERCIO\", \"COMERCIO\", \"COMERCIO\", \"COMERCIO\", \"COMERCIO\", \"COMERCIO\", \"COMERCIO\", \"COMERCIO\", \"COMERCIO\", \"COMERCIO\", \"COMERCIO\", \"COMERCIO\", \"COMERCIO\", \"COMERCIO\", \"COMERCIO\", \"COMERCIO\", \"COMERCIO\", \"COMERCIO\", \"COMERCIO\", \"COMERCIO\", \"COMERCIO\", \"COMERCIO\", \"COMERCIO\", \"COMERCIO\", \"COMERCIO\", \"COMERCIO\", \"COMERCIO\", \"COMERCIO\", \"COMERCIO\", \"COMERCIO\", \"COMERCIO\", \"COMERCIO\", \"COMERCIO\", \"COMERCIO\", \"COMERCIO\", \"COMERCIO\", \"COMERCIO\", \"COMERCIO\", \"COMERCIO\", \"COMERCIO\", \"COMERCIO\", \"COMERCIO\", \"COMERCIO\", \"COMERCIO\", \"COMERCIO\", \"COMERCIO\", \"COMERCIO\", \"COMERCIO\", \"COMERCIO\", \"COMERCIO\", \"COMERCIO\", \"COMERCIO\", \"COMERCIO\", \"COMERCIO\", \"COMERCIO\", \"COMERCIO\", \"COMERCIO\", \"COMERCIO\", \"COMERCIO\", \"COMERCIO\", \"COMERCIO\", \"COMERCIO\", \"COMERCIO\", \"COMERCIO\", \"COMERCIO\", \"COMERCIO\", \"COMERCIO\", \"COMERCIO\", \"COMERCIO\", \"COMERCIO\", \"COMERCIO\", \"COMERCIO\", \"COMERCIO\", \"COMERCIO\", \"COMERCIO\", \"COMERCIO\", \"COMERCIO\", \"COMERCIO\", \"COMERCIO\", \"COMERCIO\", \"COMERCIO\", \"COMERCIO\", \"COMERCIO\", \"COMERCIO\", \"COMERCIO\", \"COMERCIO\", \"COMERCIO\", \"COMERCIO\", \"COMERCIO\", \"COMERCIO\", \"COMERCIO\", \"COMERCIO\", \"COMERCIO\", \"COMERCIO\", \"COMERCIO\", \"COMERCIO\", \"COMERCIO\", \"COMERCIO\", \"COMERCIO\", \"COMERCIO\", \"COMERCIO\", \"COMERCIO\", \"COMERCIO\", \"COMERCIO\", \"COMERCIO\", \"COMERCIO\", \"COMERCIO\", \"COMERCIO\", \"COMERCIO\", \"COMERCIO\", \"COMERCIO\", \"COMERCIO\", \"COMERCIO\", \"COMERCIO\", \"COMERCIO\", \"COMERCIO\", \"COMERCIO\", \"COMERCIO\", \"COMERCIO\", \"COMERCIO\", \"COMERCIO\", \"COMERCIO\", \"COMERCIO\", \"COMERCIO\", \"COMERCIO\", \"COMERCIO\", \"COMERCIO\", \"COMERCIO\", \"COMERCIO\", \"COMERCIO\", \"COMERCIO\", \"COMERCIO\", \"COMERCIO\", \"COMERCIO\", \"COMERCIO\", \"COMERCIO\", \"COMERCIO\", \"COMERCIO\", \"COMERCIO\", \"COMERCIO\", \"COMERCIO\", \"COMERCIO\", \"COMERCIO\", \"COMERCIO\", \"COMERCIO\", \"COMERCIO\", \"COMERCIO\", \"COMERCIO\", \"COMERCIO\", \"COMERCIO\", \"COMERCIO\", \"COMERCIO\", \"COMERCIO\", \"COMERCIO\", \"COMERCIO\", \"COMERCIO\", \"COMERCIO\", \"COMERCIO\", \"COMERCIO\", \"COMERCIO\", \"COMERCIO\", \"COMERCIO\", \"COMERCIO\", \"COMERCIO\", \"COMERCIO\", \"COMERCIO\", \"COMERCIO\", \"COMERCIO\", \"COMERCIO\", \"COMERCIO\", \"COMERCIO\", \"COMERCIO\", \"COMERCIO\", \"COMERCIO\", \"COMERCIO\", \"COMERCIO\", \"COMERCIO\", \"COMERCIO\", \"COMERCIO\", \"COMERCIO\", \"COMERCIO\", \"COMERCIO\", \"COMERCIO\", \"COMERCIO\", \"COMERCIO\", \"COMERCIO\", \"COMERCIO\", \"COMERCIO\", \"COMERCIO\", \"COMERCIO\", \"COMERCIO\", \"COMERCIO\", \"COMERCIO\", \"COMERCIO\", \"COMERCIO\", \"COMERCIO\", \"COMERCIO\", \"COMERCIO\", \"COMERCIO\", \"COMERCIO\", \"COMERCIO\", \"COMERCIO\", \"COMERCIO\", \"COMERCIO\", \"COMERCIO\", \"COMERCIO\", \"COMERCIO\", \"COMERCIO\", \"COMERCIO\", \"COMERCIO\", \"COMERCIO\", \"COMERCIO\", \"COMERCIO\", \"COMERCIO\", \"COMERCIO\", \"COMERCIO\", \"COMERCIO\", \"COMERCIO\", \"COMERCIO\", \"COMERCIO\", \"COMERCIO\", \"COMERCIO\", \"COMERCIO\", \"COMERCIO\", \"COMERCIO\", \"COMERCIO\", \"COMERCIO\", \"COMERCIO\", \"COMERCIO\", \"COMERCIO\", \"COMERCIO\", \"COMERCIO\", \"COMERCIO\", \"COMERCIO\", \"COMERCIO\", \"COMERCIO\", \"COMERCIO\", \"COMERCIO\", \"COMERCIO\", \"COMERCIO\", \"COMERCIO\", \"COMERCIO\", \"COMERCIO\", \"COMERCIO\", \"COMERCIO\", \"COMERCIO\", \"COMERCIO\", \"COMERCIO\", \"COMERCIO\", \"COMERCIO\", \"COMERCIO\", \"COMERCIO\", \"COMERCIO\", \"COMERCIO\", \"COMERCIO\", \"COMERCIO\", \"COMERCIO\", \"COMERCIO\", \"COMERCIO\", \"COMERCIO\", \"COMERCIO\", \"COMERCIO\", \"COMERCIO\", \"COMERCIO\", \"COMERCIO\", \"COMERCIO\", \"COMERCIO\", \"COMERCIO\", \"COMERCIO\", \"COMERCIO\", \"COMERCIO\", \"COMERCIO\", \"COMERCIO\", \"COMERCIO\", \"COMERCIO\", \"COMERCIO\", \"COMERCIO\", \"COMERCIO\", \"COMERCIO\", \"COMERCIO\", \"COMERCIO\", \"COMERCIO\", \"COMERCIO\", \"COMERCIO\", \"COMERCIO\", \"COMERCIO\", \"COMERCIO\", \"COMERCIO\", \"COMERCIO\", \"COMERCIO\", \"COMERCIO\", \"COMERCIO\", \"COMERCIO\", \"COMERCIO\", \"COMERCIO\", \"COMERCIO\", \"COMERCIO\", \"COMERCIO\", \"COMERCIO\", \"COMERCIO\", \"COMERCIO\", \"COMERCIO\", \"COMERCIO\", \"COMERCIO\", \"COMERCIO\", \"COMERCIO\", \"COMERCIO\", \"COMERCIO\", \"COMERCIO\", \"COMERCIO\", \"COMERCIO\", \"COMERCIO\", \"COMERCIO\", \"COMERCIO\", \"COMERCIO\", \"COMERCIO\", \"COMERCIO\", \"COMERCIO\", \"COMERCIO\", \"COMERCIO\", \"COMERCIO\", \"COMERCIO\", \"COMERCIO\", \"COMERCIO\", \"COMERCIO\", \"COMERCIO\", \"COMERCIO\", \"COMERCIO\", \"COMERCIO\", \"COMERCIO\", \"COMERCIO\", \"COMERCIO\", \"COMERCIO\", \"COMERCIO\", \"COMERCIO\", \"COMERCIO\", \"COMERCIO\", \"COMERCIO\", \"COMERCIO\", \"COMERCIO\", \"COMERCIO\", \"COMERCIO\", \"COMERCIO\", \"COMERCIO\", \"COMERCIO\", \"COMERCIO\", \"COMERCIO\", \"COMERCIO\", \"COMERCIO\", \"COMERCIO\", \"COMERCIO\", \"COMERCIO\", \"COMERCIO\", \"COMERCIO\", \"COMERCIO\", \"COMERCIO\", \"COMERCIO\", \"COMERCIO\", \"COMERCIO\", \"COMERCIO\", \"COMERCIO\", \"COMERCIO\", \"COMERCIO\", \"COMERCIO\", \"COMERCIO\", \"COMERCIO\", \"COMERCIO\", \"COMERCIO\", \"COMERCIO\", \"COMERCIO\", \"COMERCIO\", \"COMERCIO\", \"COMERCIO\", \"COMERCIO\", \"COMERCIO\", \"COMERCIO\", \"COMERCIO\", \"COMERCIO\", \"COMERCIO\", \"COMERCIO\", \"COMERCIO\", \"COMERCIO\", \"COMERCIO\", \"COMERCIO\", \"COMERCIO\", \"COMERCIO\", \"COMERCIO\", \"COMERCIO\", \"COMERCIO\", \"COMERCIO\", \"COMERCIO\", \"COMERCIO\", \"COMERCIO\", \"COMERCIO\", \"COMERCIO\", \"COMERCIO\", \"COMERCIO\", \"COMERCIO\", \"COMERCIO\", \"COMERCIO\", \"COMERCIO\", \"COMERCIO\", \"COMERCIO\", \"COMERCIO\", \"COMERCIO\", \"COMERCIO\", \"COMERCIO\", \"COMERCIO\", \"COMERCIO\", \"COMERCIO\", \"COMERCIO\", \"COMERCIO\", \"COMERCIO\", \"COMERCIO\", \"COMERCIO\", \"COMERCIO\", \"COMERCIO\", \"COMERCIO\", \"COMERCIO\", \"COMERCIO\", \"COMERCIO\", \"COMERCIO\", \"COMERCIO\", \"COMERCIO\", \"COMERCIO\", \"COMERCIO\", \"COMERCIO\", \"COMERCIO\", \"COMERCIO\", \"COMERCIO\", \"COMERCIO\", \"COMERCIO\", \"COMERCIO\", \"COMERCIO\", \"COMERCIO\", \"COMERCIO\", \"COMERCIO\", \"COMERCIO\", \"COMERCIO\", \"COMERCIO\", \"COMERCIO\", \"COMERCIO\", \"COMERCIO\", \"COMERCIO\", \"COMERCIO\", \"COMERCIO\", \"COMERCIO\", \"COMERCIO\", \"COMERCIO\", \"COMERCIO\", \"COMERCIO\", \"COMERCIO\", \"COMERCIO\", \"COMERCIO\", \"COMERCIO\", \"COMERCIO\", \"COMERCIO\", \"COMERCIO\", \"COMERCIO\", \"COMERCIO\", \"COMERCIO\", \"COMERCIO\", \"COMERCIO\", \"COMERCIO\", \"COMERCIO\", \"COMERCIO\", \"COMERCIO\", \"COMERCIO\", \"COMERCIO\", \"COMERCIO\", \"COMERCIO\", \"COMERCIO\", \"COMERCIO\", \"COMERCIO\", \"COMERCIO\", \"COMERCIO\", \"COMERCIO\", \"COMERCIO\", \"COMERCIO\", \"COMERCIO\", \"COMERCIO\", \"COMERCIO\", \"COMERCIO\", \"COMERCIO\", \"COMERCIO\", \"COMERCIO\", \"COMERCIO\", \"COMERCIO\", \"COMERCIO\", \"COMERCIO\", \"COMERCIO\", \"COMERCIO\", \"COMERCIO\", \"COMERCIO\", \"COMERCIO\", \"COMERCIO\", \"COMERCIO\", \"COMERCIO\", \"COMERCIO\", \"COMERCIO\", \"COMERCIO\", \"COMERCIO\", \"COMERCIO\", \"COMERCIO\", \"COMERCIO\", \"COMERCIO\", \"COMERCIO\", \"COMERCIO\", \"COMERCIO\", \"COMERCIO\", \"COMERCIO\", \"COMERCIO\", \"COMERCIO\", \"COMERCIO\", \"COMERCIO\", \"COMERCIO\", \"COMERCIO\", \"COMERCIO\", \"COMERCIO\", \"COMERCIO\", \"COMERCIO\", \"COMERCIO\", \"COMERCIO\", \"COMERCIO\", \"COMERCIO\", \"COMERCIO\", \"COMERCIO\", \"COMERCIO\", \"COMERCIO\", \"COMERCIO\", \"COMERCIO\", \"COMERCIO\", \"COMERCIO\", \"COMERCIO\", \"COMERCIO\", \"COMERCIO\", \"COMERCIO\", \"COMERCIO\", \"COMERCIO\", \"COMERCIO\", \"COMERCIO\", \"COMERCIO\", \"COMERCIO\", \"COMERCIO\", \"COMERCIO\", \"COMERCIO\", \"COMERCIO\", \"COMERCIO\", \"COMERCIO\", \"COMERCIO\", \"COMERCIO\", \"COMERCIO\", \"COMERCIO\", \"COMERCIO\", \"COMERCIO\", \"COMERCIO\", \"COMERCIO\", \"COMERCIO\", \"COMERCIO\", \"COMERCIO\", \"COMERCIO\", \"COMERCIO\", \"COMERCIO\", \"COMERCIO\", \"COMERCIO\", \"COMERCIO\", \"COMERCIO\", \"COMERCIO\", \"COMERCIO\", \"COMERCIO\", \"COMERCIO\", \"COMERCIO\", \"COMERCIO\", \"COMERCIO\", \"COMERCIO\", \"COMERCIO\", \"COMERCIO\", \"COMERCIO\", \"COMERCIO\", \"COMERCIO\", \"COMERCIO\", \"COMERCIO\", \"COMERCIO\", \"COMERCIO\", \"COMERCIO\", \"COMERCIO\", \"COMERCIO\", \"COMERCIO\", \"COMERCIO\", \"COMERCIO\", \"COMERCIO\", \"COMERCIO\", \"COMERCIO\", \"COMERCIO\", \"COMERCIO\", \"COMERCIO\", \"COMERCIO\", \"COMERCIO\", \"COMERCIO\", \"COMERCIO\", \"COMERCIO\", \"COMERCIO\", \"COMERCIO\", \"COMERCIO\", \"COMERCIO\", \"COMERCIO\", \"COMERCIO\", \"COMERCIO\", \"COMERCIO\", \"COMERCIO\", \"COMERCIO\", \"COMERCIO\", \"COMERCIO\", \"COMERCIO\", \"COMERCIO\", \"COMERCIO\", \"COMERCIO\", \"COMERCIO\", \"COMERCIO\", \"COMERCIO\", \"COMERCIO\", \"COMERCIO\", \"COMERCIO\", \"COMERCIO\", \"COMERCIO\", \"COMERCIO\", \"COMERCIO\", \"COMERCIO\", \"COMERCIO\", \"COMERCIO\", \"COMERCIO\", \"COMERCIO\", \"COMERCIO\", \"COMERCIO\", \"COMERCIO\", \"COMERCIO\", \"COMERCIO\", \"COMERCIO\", \"COMERCIO\", \"COMERCIO\", \"COMERCIO\", \"COMERCIO\", \"COMERCIO\", \"COMERCIO\", \"COMERCIO\", \"COMERCIO\", \"COMERCIO\", \"COMERCIO\", \"COMERCIO\", \"COMERCIO\", \"COMERCIO\", \"COMERCIO\", \"COMERCIO\", \"COMERCIO\", \"COMERCIO\", \"COMERCIO\", \"COMERCIO\", \"COMERCIO\", \"COMERCIO\", \"COMERCIO\", \"COMERCIO\", \"COMERCIO\", \"COMERCIO\", \"COMERCIO\", \"COMERCIO\", \"COMERCIO\", \"COMERCIO\", \"COMERCIO\", \"COMERCIO\", \"COMERCIO\", \"COMERCIO\", \"COMERCIO\", \"COMERCIO\", \"COMERCIO\", \"COMERCIO\", \"COMERCIO\", \"COMERCIO\", \"COMERCIO\", \"COMERCIO\", \"COMERCIO\", \"COMERCIO\", \"COMERCIO\", \"COMERCIO\", \"COMERCIO\", \"COMERCIO\", \"COMERCIO\", \"COMERCIO\", \"COMERCIO\", \"COMERCIO\", \"COMERCIO\", \"COMERCIO\", \"COMERCIO\", \"COMERCIO\", \"COMERCIO\", \"COMERCIO\", \"COMERCIO\", \"COMERCIO\", \"COMERCIO\", \"COMERCIO\", \"COMERCIO\", \"COMERCIO\", \"COMERCIO\", \"COMERCIO\", \"COMERCIO\", \"COMERCIO\", \"COMERCIO\", \"COMERCIO\", \"COMERCIO\", \"COMERCIO\", \"COMERCIO\", \"COMERCIO\", \"COMERCIO\", \"COMERCIO\", \"COMERCIO\", \"COMERCIO\", \"COMERCIO\", \"COMERCIO\", \"COMERCIO\", \"COMERCIO\", \"COMERCIO\", \"COMERCIO\", \"COMERCIO\", \"COMERCIO\", \"COMERCIO\", \"COMERCIO\", \"COMERCIO\", \"COMERCIO\", \"COMERCIO\", \"COMERCIO\", \"COMERCIO\", \"COMERCIO\", \"COMERCIO\", \"COMERCIO\", \"COMERCIO\", \"COMERCIO\", \"COMERCIO\", \"COMERCIO\", \"COMERCIO\", \"COMERCIO\", \"COMERCIO\", \"COMERCIO\", \"COMERCIO\", \"COMERCIO\", \"COMERCIO\", \"COMERCIO\", \"COMERCIO\", \"COMERCIO\", \"COMERCIO\", \"COMERCIO\", \"COMERCIO\", \"COMERCIO\", \"COMERCIO\", \"COMERCIO\", \"COMERCIO\", \"COMERCIO\", \"COMERCIO\", \"COMERCIO\", \"COMERCIO\", \"COMERCIO\", \"COMERCIO\", \"COMERCIO\", \"COMERCIO\", \"COMERCIO\", \"COMERCIO\", \"COMERCIO\", \"COMERCIO\", \"COMERCIO\", \"COMERCIO\", \"COMERCIO\", \"COMERCIO\", \"COMERCIO\", \"COMERCIO\", \"COMERCIO\", \"COMERCIO\", \"COMERCIO\", \"COMERCIO\", \"COMERCIO\", \"COMERCIO\", \"COMERCIO\", \"COMERCIO\", \"COMERCIO\", \"COMERCIO\", \"COMERCIO\", \"COMERCIO\", \"COMERCIO\", \"COMERCIO\", \"COMERCIO\", \"COMERCIO\", \"COMERCIO\", \"COMERCIO\", \"COMERCIO\", \"COMERCIO\", \"COMERCIO\", \"COMERCIO\", \"COMERCIO\", \"COMERCIO\", \"COMERCIO\", \"COMERCIO\", \"COMERCIO\", \"COMERCIO\", \"COMERCIO\", \"COMERCIO\", \"COMERCIO\", \"COMERCIO\", \"COMERCIO\", \"COMERCIO\", \"COMERCIO\", \"COMERCIO\", \"COMERCIO\", \"COMERCIO\", \"COMERCIO\", \"COMERCIO\", \"COMERCIO\", \"COMERCIO\", \"COMERCIO\", \"COMERCIO\", \"COMERCIO\", \"COMERCIO\", \"COMERCIO\", \"COMERCIO\", \"COMERCIO\", \"COMERCIO\", \"COMERCIO\", \"COMERCIO\", \"COMERCIO\", \"COMERCIO\", \"COMERCIO\", \"COMERCIO\", \"COMERCIO\", \"COMERCIO\", \"COMERCIO\", \"COMERCIO\", \"COMERCIO\", \"COMERCIO\", \"COMERCIO\", \"COMERCIO\", \"COMERCIO\", \"COMERCIO\", \"COMERCIO\", \"COMERCIO\", \"COMERCIO\", \"COMERCIO\", \"COMERCIO\", \"COMERCIO\", \"COMERCIO\", \"COMERCIO\", \"COMERCIO\", \"COMERCIO\", \"COMERCIO\", \"COMERCIO\", \"COMERCIO\", \"COMERCIO\", \"COMERCIO\", \"COMERCIO\", \"COMERCIO\", \"COMERCIO\", \"COMERCIO\", \"COMERCIO\", \"COMERCIO\", \"COMERCIO\", \"COMERCIO\", \"COMERCIO\", \"COMERCIO\", \"COMERCIO\", \"COMERCIO\", \"COMERCIO\", \"COMERCIO\", \"COMERCIO\", \"COMERCIO\", \"COMERCIO\", \"COMERCIO\", \"COMERCIO\", \"COMERCIO\", \"COMERCIO\", \"COMERCIO\", \"COMERCIO\", \"COMERCIO\", \"COMERCIO\", \"COMERCIO\", \"COMERCIO\", \"COMERCIO\", \"COMERCIO\", \"INDUSTRIA\", \"COMERCIO\", \"COMERCIO\", \"COMERCIO\", \"COMERCIO\", \"COMERCIO\", \"COMERCIO\", \"COMERCIO\", \"COMERCIO\", \"COMERCIO\", \"COMERCIO\", \"COMERCIO\", \"COMERCIO\", \"COMERCIO\", \"COMERCIO\", \"COMERCIO\", \"COMERCIO\", \"COMERCIO\", \"COMERCIO\", \"COMERCIO\", \"COMERCIO\", \"COMERCIO\", \"COMERCIO\", \"COMERCIO\", \"COMERCIO\", \"COMERCIO\", \"COMERCIO\", \"COMERCIO\", \"COMERCIO\", \"COMERCIO\", \"COMERCIO\", \"COMERCIO\", \"COMERCIO\", \"COMERCIO\", \"COMERCIO\", \"COMERCIO\", \"COMERCIO\", \"COMERCIO\", \"COMERCIO\", \"COMERCIO\", \"COMERCIO\", \"COMERCIO\", \"COMERCIO\", \"COMERCIO\", \"COMERCIO\", \"COMERCIO\", \"COMERCIO\", \"COMERCIO\", \"COMERCIO\", \"COMERCIO\", \"COMERCIO\", \"COMERCIO\", \"COMERCIO\", \"COMERCIO\", \"COMERCIO\", \"COMERCIO\", \"COMERCIO\", \"COMERCIO\", \"COMERCIO\", \"COMERCIO\", \"COMERCIO\", \"COMERCIO\", \"COMERCIO\", \"COMERCIO\", \"COMERCIO\", \"COMERCIO\", \"COMERCIO\", \"COMERCIO\", \"COMERCIO\", \"COMERCIO\", \"COMERCIO\", \"COMERCIO\", \"COMERCIO\", \"COMERCIO\", \"COMERCIO\", \"COMERCIO\", \"COMERCIO\", \"COMERCIO\", \"COMERCIO\", \"COMERCIO\", \"COMERCIO\", \"COMERCIO\", \"COMERCIO\", \"COMERCIO\", \"COMERCIO\", \"COMERCIO\", \"COMERCIO\", \"COMERCIO\", \"COMERCIO\", \"COMERCIO\", \"COMERCIO\", \"COMERCIO\", \"COMERCIO\", \"COMERCIO\", \"COMERCIO\", \"COMERCIO\", \"COMERCIO\", \"COMERCIO\", \"COMERCIO\", \"COMERCIO\", \"COMERCIO\", \"COMERCIO\", \"COMERCIO\", \"COMERCIO\", \"COMERCIO\", \"COMERCIO\", \"COMERCIO\", \"COMERCIO\", \"COMERCIO\", \"COMERCIO\", \"COMERCIO\", \"COMERCIO\", \"COMERCIO\", \"COMERCIO\", \"COMERCIO\", \"COMERCIO\", \"COMERCIO\", \"COMERCIO\", \"COMERCIO\", \"COMERCIO\", \"COMERCIO\", \"COMERCIO\", \"COMERCIO\", \"COMERCIO\", \"COMERCIO\", \"COMERCIO\", \"COMERCIO\", \"COMERCIO\", \"COMERCIO\", \"COMERCIO\", \"COMERCIO\", \"COMERCIO\", \"COMERCIO\", \"COMERCIO\", \"COMERCIO\", \"COMERCIO\", \"COMERCIO\", \"COMERCIO\", \"COMERCIO\", \"COMERCIO\", \"COMERCIO\", \"COMERCIO\", \"COMERCIO\", \"COMERCIO\", \"COMERCIO\", \"COMERCIO\", \"COMERCIO\", \"COMERCIO\", \"COMERCIO\", \"COMERCIO\", \"COMERCIO\", \"COMERCIO\", \"COMERCIO\", \"COMERCIO\", \"COMERCIO\", \"COMERCIO\", \"COMERCIO\", \"COMERCIO\", \"COMERCIO\", \"COMERCIO\", \"COMERCIO\", \"COMERCIO\", \"COMERCIO\", \"COMERCIO\", \"COMERCIO\", \"COMERCIO\", \"COMERCIO\", \"COMERCIO\", \"COMERCIO\"]}, {\"label\": \"de_ramo\", \"values\": [\"COMERCIO VAREJISTA\", \"COMERCIO VAREJISTA\", \"COMERCIO VAREJISTA\", \"COMERCIO VAREJISTA\", \"COMERCIO VAREJISTA\", \"COMERCIO VAREJISTA\", \"COMERCIO VAREJISTA\", \"COMERCIO VAREJISTA\", \"COMERCIO VAREJISTA\", \"COMERCIO VAREJISTA\", \"COMERCIO VAREJISTA\", \"COMERCIO VAREJISTA\", \"COMERCIO VAREJISTA\", \"COMERCIO VAREJISTA\", \"COMERCIO VAREJISTA\", \"COMERCIO VAREJISTA\", \"COMERCIO VAREJISTA\", \"COMERCIO VAREJISTA\", \"COMERCIO VAREJISTA\", \"COMERCIO VAREJISTA\", \"COMERCIO VAREJISTA\", \"COMERCIO VAREJISTA\", \"COMERCIO VAREJISTA\", \"COMERCIO VAREJISTA\", \"COMERCIO VAREJISTA\", \"COMERCIO VAREJISTA\", \"COMERCIO VAREJISTA\", \"COMERCIO VAREJISTA\", \"COMERCIO VAREJISTA\", \"COMERCIO VAREJISTA\", \"COMERCIO VAREJISTA\", \"COMERCIO VAREJISTA\", \"COMERCIO VAREJISTA\", \"COMERCIO VAREJISTA\", \"COMERCIO VAREJISTA\", \"COMERCIO VAREJISTA\", \"COMERCIO VAREJISTA\", \"COMERCIO VAREJISTA\", \"COMERCIO VAREJISTA\", \"COMERCIO VAREJISTA\", \"COMERCIO VAREJISTA\", \"COMERCIO VAREJISTA\", \"COMERCIO VAREJISTA\", \"COMERCIO VAREJISTA\", \"COMERCIO VAREJISTA\", \"COMERCIO VAREJISTA\", \"COMERCIO VAREJISTA\", \"COMERCIO VAREJISTA\", \"COMERCIO VAREJISTA\", \"COMERCIO VAREJISTA\", \"COMERCIO VAREJISTA\", \"COMERCIO VAREJISTA\", \"COMERCIO VAREJISTA\", \"COMERCIO VAREJISTA\", \"COMERCIO VAREJISTA\", \"COMERCIO VAREJISTA\", \"COMERCIO VAREJISTA\", \"COMERCIO VAREJISTA\", \"COMERCIO VAREJISTA\", \"COMERCIO VAREJISTA\", \"COMERCIO VAREJISTA\", \"COMERCIO VAREJISTA\", \"COMERCIO VAREJISTA\", \"COMERCIO VAREJISTA\", \"COMERCIO VAREJISTA\", \"COMERCIO VAREJISTA\", \"COMERCIO VAREJISTA\", \"COMERCIO VAREJISTA\", \"COMERCIO VAREJISTA\", \"COMERCIO VAREJISTA\", \"COMERCIO VAREJISTA\", \"COMERCIO VAREJISTA\", \"COMERCIO VAREJISTA\", \"COMERCIO VAREJISTA\", \"COMERCIO VAREJISTA\", \"COMERCIO VAREJISTA\", \"COMERCIO VAREJISTA\", \"COMERCIO VAREJISTA\", \"COMERCIO VAREJISTA\", \"COMERCIO VAREJISTA\", \"COMERCIO VAREJISTA\", \"COMERCIO VAREJISTA\", \"COMERCIO VAREJISTA\", \"COMERCIO VAREJISTA\", \"COMERCIO VAREJISTA\", \"COMERCIO VAREJISTA\", \"COMERCIO VAREJISTA\", \"COMERCIO VAREJISTA\", \"COMERCIO VAREJISTA\", \"COMERCIO VAREJISTA\", \"COMERCIO VAREJISTA\", \"COMERCIO VAREJISTA\", \"COMERCIO VAREJISTA\", \"COMERCIO VAREJISTA\", \"COMERCIO VAREJISTA\", \"COMERCIO VAREJISTA\", \"COMERCIO VAREJISTA\", \"COMERCIO VAREJISTA\", \"COMERCIO VAREJISTA\", \"COMERCIO VAREJISTA\", \"COMERCIO VAREJISTA\", \"COMERCIO VAREJISTA\", \"COMERCIO VAREJISTA\", \"COMERCIO VAREJISTA\", \"COMERCIO VAREJISTA\", \"COMERCIO VAREJISTA\", \"COMERCIO VAREJISTA\", \"COMERCIO VAREJISTA\", \"COMERCIO VAREJISTA\", \"COMERCIO VAREJISTA\", \"COMERCIO VAREJISTA\", \"COMERCIO VAREJISTA\", \"COMERCIO VAREJISTA\", \"COMERCIO VAREJISTA\", \"COMERCIO VAREJISTA\", \"COMERCIO VAREJISTA\", \"COMERCIO VAREJISTA\", \"COMERCIO VAREJISTA\", \"COMERCIO VAREJISTA\", \"COMERCIO VAREJISTA\", \"COMERCIO VAREJISTA\", \"COMERCIO VAREJISTA\", \"COMERCIO VAREJISTA\", \"COMERCIO VAREJISTA\", \"COMERCIO VAREJISTA\", \"COMERCIO VAREJISTA\", \"COMERCIO VAREJISTA\", \"COMERCIO VAREJISTA\", \"COMERCIO VAREJISTA\", \"COMERCIO VAREJISTA\", \"COMERCIO VAREJISTA\", \"COMERCIO VAREJISTA\", \"COMERCIO VAREJISTA\", \"COMERCIO VAREJISTA\", \"COMERCIO VAREJISTA\", \"COMERCIO VAREJISTA\", \"COMERCIO VAREJISTA\", \"COMERCIO VAREJISTA\", \"COMERCIO VAREJISTA\", \"COMERCIO VAREJISTA\", \"COMERCIO VAREJISTA\", \"COMERCIO VAREJISTA\", \"COMERCIO VAREJISTA\", \"COMERCIO VAREJISTA\", \"COMERCIO VAREJISTA\", \"COMERCIO VAREJISTA\", \"COMERCIO VAREJISTA\", \"COMERCIO VAREJISTA\", \"COMERCIO VAREJISTA\", \"COMERCIO VAREJISTA\", \"COMERCIO VAREJISTA\", \"COMERCIO VAREJISTA\", \"COMERCIO VAREJISTA\", \"COMERCIO VAREJISTA\", \"COMERCIO VAREJISTA\", \"COMERCIO VAREJISTA\", \"COMERCIO VAREJISTA\", \"COMERCIO VAREJISTA\", \"COMERCIO VAREJISTA\", \"COMERCIO VAREJISTA\", \"COMERCIO VAREJISTA\", \"COMERCIO VAREJISTA\", \"COMERCIO VAREJISTA\", \"COMERCIO VAREJISTA\", \"COMERCIO VAREJISTA\", \"COMERCIO VAREJISTA\", \"COMERCIO VAREJISTA\", \"COMERCIO VAREJISTA\", \"COMERCIO VAREJISTA\", \"COMERCIO VAREJISTA\", \"COMERCIO VAREJISTA\", \"COMERCIO VAREJISTA\", \"COMERCIO VAREJISTA\", \"COMERCIO VAREJISTA\", \"COMERCIO VAREJISTA\", \"COMERCIO VAREJISTA\", \"COMERCIO VAREJISTA\", \"COMERCIO VAREJISTA\", \"COMERCIO VAREJISTA\", \"COMERCIO VAREJISTA\", \"COMERCIO VAREJISTA\", \"COMERCIO VAREJISTA\", \"COMERCIO VAREJISTA\", \"COMERCIO VAREJISTA\", \"COMERCIO VAREJISTA\", \"COMERCIO VAREJISTA\", \"COMERCIO VAREJISTA\", \"COMERCIO VAREJISTA\", \"COMERCIO VAREJISTA\", \"COMERCIO VAREJISTA\", \"COMERCIO VAREJISTA\", \"COMERCIO VAREJISTA\", \"COMERCIO VAREJISTA\", \"COMERCIO VAREJISTA\", \"COMERCIO VAREJISTA\", \"COMERCIO VAREJISTA\", \"COMERCIO VAREJISTA\", \"COMERCIO VAREJISTA\", \"COMERCIO VAREJISTA\", \"COMERCIO VAREJISTA\", \"COMERCIO VAREJISTA\", \"COMERCIO VAREJISTA\", \"COMERCIO VAREJISTA\", \"COMERCIO VAREJISTA\", \"COMERCIO VAREJISTA\", \"COMERCIO VAREJISTA\", \"COMERCIO VAREJISTA\", \"COMERCIO VAREJISTA\", \"COMERCIO VAREJISTA\", \"COMERCIO VAREJISTA\", \"COMERCIO VAREJISTA\", \"COMERCIO VAREJISTA\", \"COMERCIO VAREJISTA\", \"COMERCIO VAREJISTA\", \"COMERCIO VAREJISTA\", \"COMERCIO VAREJISTA\", \"COMERCIO VAREJISTA\", \"COMERCIO VAREJISTA\", \"COMERCIO VAREJISTA\", \"COMERCIO VAREJISTA\", \"COMERCIO VAREJISTA\", \"COMERCIO VAREJISTA\", \"COMERCIO VAREJISTA\", \"COMERCIO VAREJISTA\", \"COMERCIO VAREJISTA\", \"COMERCIO VAREJISTA\", \"COMERCIO VAREJISTA\", \"COMERCIO VAREJISTA\", \"COMERCIO VAREJISTA\", \"COMERCIO VAREJISTA\", \"COMERCIO VAREJISTA\", \"COMERCIO VAREJISTA\", \"COMERCIO VAREJISTA\", \"COMERCIO VAREJISTA\", \"COMERCIO VAREJISTA\", \"COMERCIO VAREJISTA\", \"COMERCIO VAREJISTA\", \"COMERCIO VAREJISTA\", \"COMERCIO VAREJISTA\", \"COMERCIO VAREJISTA\", \"COMERCIO VAREJISTA\", \"COMERCIO VAREJISTA\", \"COMERCIO VAREJISTA\", \"COMERCIO VAREJISTA\", \"COMERCIO VAREJISTA\", \"COMERCIO VAREJISTA\", \"COMERCIO VAREJISTA\", \"COMERCIO VAREJISTA\", \"COMERCIO VAREJISTA\", \"COMERCIO VAREJISTA\", \"COMERCIO VAREJISTA\", \"COMERCIO VAREJISTA\", \"COMERCIO VAREJISTA\", \"COMERCIO VAREJISTA\", \"COMERCIO VAREJISTA\", \"COMERCIO VAREJISTA\", \"COMERCIO VAREJISTA\", \"COMERCIO VAREJISTA\", \"COMERCIO VAREJISTA\", \"COMERCIO VAREJISTA\", \"COMERCIO VAREJISTA\", \"COMERCIO VAREJISTA\", \"COMERCIO VAREJISTA\", \"COMERCIO VAREJISTA\", \"COMERCIO VAREJISTA\", \"COMERCIO VAREJISTA\", \"COMERCIO VAREJISTA\", \"COMERCIO VAREJISTA\", \"COMERCIO VAREJISTA\", \"COMERCIO VAREJISTA\", \"COMERCIO VAREJISTA\", \"COMERCIO VAREJISTA\", \"COMERCIO VAREJISTA\", \"COMERCIO VAREJISTA\", \"COMERCIO VAREJISTA\", \"COMERCIO VAREJISTA\", \"COMERCIO VAREJISTA\", \"COMERCIO VAREJISTA\", \"COMERCIO VAREJISTA\", \"COMERCIO VAREJISTA\", \"COMERCIO VAREJISTA\", \"COMERCIO VAREJISTA\", \"COMERCIO VAREJISTA\", \"COMERCIO VAREJISTA\", \"COMERCIO VAREJISTA\", \"COMERCIO VAREJISTA\", \"COMERCIO VAREJISTA\", \"COMERCIO VAREJISTA\", \"COMERCIO VAREJISTA\", \"COMERCIO VAREJISTA\", \"COMERCIO VAREJISTA\", \"COMERCIO VAREJISTA\", \"COMERCIO VAREJISTA\", \"COMERCIO VAREJISTA\", \"COMERCIO VAREJISTA\", \"COMERCIO VAREJISTA\", \"COMERCIO VAREJISTA\", \"COMERCIO VAREJISTA\", \"COMERCIO VAREJISTA\", \"COMERCIO VAREJISTA\", \"COMERCIO VAREJISTA\", \"COMERCIO VAREJISTA\", \"COMERCIO VAREJISTA\", \"COMERCIO VAREJISTA\", \"COMERCIO VAREJISTA\", \"COMERCIO VAREJISTA\", \"COMERCIO VAREJISTA\", \"COMERCIO VAREJISTA\", \"COMERCIO VAREJISTA\", \"COMERCIO VAREJISTA\", \"COMERCIO VAREJISTA\", \"COMERCIO VAREJISTA\", \"COMERCIO VAREJISTA\", \"COMERCIO VAREJISTA\", \"COMERCIO VAREJISTA\", \"COMERCIO VAREJISTA\", \"COMERCIO VAREJISTA\", \"COMERCIO VAREJISTA\", \"COMERCIO VAREJISTA\", \"COMERCIO VAREJISTA\", \"COMERCIO VAREJISTA\", \"COMERCIO VAREJISTA\", \"COMERCIO VAREJISTA\", \"COMERCIO VAREJISTA\", \"COMERCIO VAREJISTA\", \"COMERCIO VAREJISTA\", \"COMERCIO VAREJISTA\", \"COMERCIO VAREJISTA\", \"COMERCIO VAREJISTA\", \"COMERCIO VAREJISTA\", \"COMERCIO VAREJISTA\", \"COMERCIO VAREJISTA\", \"COMERCIO VAREJISTA\", \"COMERCIO VAREJISTA\", \"COMERCIO VAREJISTA\", \"COMERCIO VAREJISTA\", \"COMERCIO VAREJISTA\", \"COMERCIO VAREJISTA\", \"COMERCIO VAREJISTA\", \"COMERCIO VAREJISTA\", \"COMERCIO VAREJISTA\", \"COMERCIO VAREJISTA\", \"COMERCIO VAREJISTA\", \"COMERCIO VAREJISTA\", \"COMERCIO VAREJISTA\", \"COMERCIO VAREJISTA\", \"COMERCIO VAREJISTA\", \"COMERCIO VAREJISTA\", \"COMERCIO VAREJISTA\", \"COMERCIO VAREJISTA\", \"COMERCIO VAREJISTA\", \"COMERCIO VAREJISTA\", \"COMERCIO VAREJISTA\", \"COMERCIO VAREJISTA\", \"COMERCIO VAREJISTA\", \"COMERCIO VAREJISTA\", \"COMERCIO VAREJISTA\", \"COMERCIO VAREJISTA\", \"COMERCIO VAREJISTA\", \"COMERCIO VAREJISTA\", \"COMERCIO VAREJISTA\", \"COMERCIO VAREJISTA\", \"COMERCIO VAREJISTA\", \"COMERCIO VAREJISTA\", \"COMERCIO VAREJISTA\", \"COMERCIO VAREJISTA\", \"COMERCIO VAREJISTA\", \"COMERCIO VAREJISTA\", \"COMERCIO VAREJISTA\", \"COMERCIO VAREJISTA\", \"COMERCIO VAREJISTA\", \"COMERCIO VAREJISTA\", \"COMERCIO VAREJISTA\", \"COMERCIO VAREJISTA\", \"COMERCIO VAREJISTA\", \"COMERCIO VAREJISTA\", \"COMERCIO VAREJISTA\", \"COMERCIO VAREJISTA\", \"COMERCIO VAREJISTA\", \"COMERCIO VAREJISTA\", \"COMERCIO VAREJISTA\", \"COMERCIO VAREJISTA\", \"COMERCIO VAREJISTA\", \"COMERCIO VAREJISTA\", \"COMERCIO VAREJISTA\", \"COMERCIO VAREJISTA\", \"COMERCIO VAREJISTA\", \"COMERCIO VAREJISTA\", \"COMERCIO VAREJISTA\", \"COMERCIO VAREJISTA\", \"COMERCIO VAREJISTA\", \"COMERCIO VAREJISTA\", \"COMERCIO VAREJISTA\", \"COMERCIO VAREJISTA\", \"COMERCIO VAREJISTA\", \"COMERCIO VAREJISTA\", \"COMERCIO VAREJISTA\", \"COMERCIO VAREJISTA\", \"COMERCIO VAREJISTA\", \"COMERCIO VAREJISTA\", \"COMERCIO VAREJISTA\", \"COMERCIO VAREJISTA\", \"COMERCIO VAREJISTA\", \"COMERCIO VAREJISTA\", \"COMERCIO VAREJISTA\", \"COMERCIO VAREJISTA\", \"COMERCIO VAREJISTA\", \"COMERCIO VAREJISTA\", \"COMERCIO VAREJISTA\", \"COMERCIO VAREJISTA\", \"COMERCIO VAREJISTA\", \"COMERCIO VAREJISTA\", \"COMERCIO VAREJISTA\", \"COMERCIO VAREJISTA\", \"COMERCIO VAREJISTA\", \"COMERCIO VAREJISTA\", \"COMERCIO VAREJISTA\", \"COMERCIO VAREJISTA\", \"COMERCIO VAREJISTA\", \"COMERCIO VAREJISTA\", \"COMERCIO VAREJISTA\", \"COMERCIO VAREJISTA\", \"COMERCIO VAREJISTA\", \"COMERCIO VAREJISTA\", \"COMERCIO VAREJISTA\", \"COMERCIO VAREJISTA\", \"COMERCIO VAREJISTA\", \"COMERCIO VAREJISTA\", \"COMERCIO VAREJISTA\", \"COMERCIO VAREJISTA\", \"COMERCIO VAREJISTA\", \"COMERCIO VAREJISTA\", \"COMERCIO VAREJISTA\", \"COMERCIO VAREJISTA\", \"COMERCIO VAREJISTA\", \"COMERCIO VAREJISTA\", \"COMERCIO VAREJISTA\", \"COMERCIO VAREJISTA\", \"COMERCIO VAREJISTA\", \"COMERCIO VAREJISTA\", \"COMERCIO VAREJISTA\", \"COMERCIO VAREJISTA\", \"COMERCIO VAREJISTA\", \"COMERCIO VAREJISTA\", \"COMERCIO VAREJISTA\", \"COMERCIO VAREJISTA\", \"COMERCIO VAREJISTA\", \"COMERCIO VAREJISTA\", \"COMERCIO VAREJISTA\", \"COMERCIO VAREJISTA\", \"COMERCIO VAREJISTA\", \"COMERCIO VAREJISTA\", \"COMERCIO VAREJISTA\", \"COMERCIO VAREJISTA\", \"COMERCIO VAREJISTA\", \"COMERCIO VAREJISTA\", \"COMERCIO VAREJISTA\", \"COMERCIO VAREJISTA\", \"COMERCIO VAREJISTA\", \"COMERCIO VAREJISTA\", \"COMERCIO VAREJISTA\", \"COMERCIO VAREJISTA\", \"COMERCIO VAREJISTA\", \"COMERCIO VAREJISTA\", \"COMERCIO VAREJISTA\", \"COMERCIO VAREJISTA\", \"COMERCIO VAREJISTA\", \"COMERCIO VAREJISTA\", \"COMERCIO VAREJISTA\", \"COMERCIO VAREJISTA\", \"COMERCIO VAREJISTA\", \"COMERCIO VAREJISTA\", \"COMERCIO VAREJISTA\", \"COMERCIO VAREJISTA\", \"COMERCIO VAREJISTA\", \"COMERCIO VAREJISTA\", \"COMERCIO VAREJISTA\", \"COMERCIO VAREJISTA\", \"COMERCIO VAREJISTA\", \"COMERCIO VAREJISTA\", \"COMERCIO VAREJISTA\", \"COMERCIO VAREJISTA\", \"COMERCIO VAREJISTA\", \"COMERCIO VAREJISTA\", \"COMERCIO VAREJISTA\", \"COMERCIO VAREJISTA\", \"COMERCIO VAREJISTA\", \"COMERCIO VAREJISTA\", \"COMERCIO VAREJISTA\", \"COMERCIO VAREJISTA\", \"COMERCIO VAREJISTA\", \"COMERCIO VAREJISTA\", \"COMERCIO VAREJISTA\", \"COMERCIO VAREJISTA\", \"COMERCIO VAREJISTA\", \"COMERCIO VAREJISTA\", \"COMERCIO VAREJISTA\", \"COMERCIO VAREJISTA\", \"COMERCIO VAREJISTA\", \"COMERCIO VAREJISTA\", \"COMERCIO VAREJISTA\", \"COMERCIO VAREJISTA\", \"COMERCIO VAREJISTA\", \"COMERCIO VAREJISTA\", \"COMERCIO VAREJISTA\", \"COMERCIO VAREJISTA\", \"COMERCIO VAREJISTA\", \"COMERCIO VAREJISTA\", \"COMERCIO VAREJISTA\", \"COMERCIO VAREJISTA\", \"COMERCIO VAREJISTA\", \"COMERCIO VAREJISTA\", \"COMERCIO VAREJISTA\", \"COMERCIO VAREJISTA\", \"COMERCIO VAREJISTA\", \"COMERCIO VAREJISTA\", \"COMERCIO VAREJISTA\", \"COMERCIO VAREJISTA\", \"COMERCIO VAREJISTA\", \"COMERCIO VAREJISTA\", \"COMERCIO VAREJISTA\", \"COMERCIO VAREJISTA\", \"COMERCIO VAREJISTA\", \"COMERCIO VAREJISTA\", \"COMERCIO VAREJISTA\", \"COMERCIO VAREJISTA\", \"COMERCIO VAREJISTA\", \"COMERCIO VAREJISTA\", \"COMERCIO VAREJISTA\", \"COMERCIO VAREJISTA\", \"COMERCIO VAREJISTA\", \"COMERCIO VAREJISTA\", \"COMERCIO VAREJISTA\", \"COMERCIO VAREJISTA\", \"COMERCIO VAREJISTA\", \"COMERCIO VAREJISTA\", \"COMERCIO VAREJISTA\", \"COMERCIO VAREJISTA\", \"COMERCIO VAREJISTA\", \"COMERCIO VAREJISTA\", \"COMERCIO VAREJISTA\", \"COMERCIO VAREJISTA\", \"COMERCIO VAREJISTA\", \"COMERCIO VAREJISTA\", \"COMERCIO VAREJISTA\", \"COMERCIO VAREJISTA\", \"COMERCIO VAREJISTA\", \"COMERCIO VAREJISTA\", \"COMERCIO VAREJISTA\", \"COMERCIO VAREJISTA\", \"COMERCIO VAREJISTA\", \"COMERCIO VAREJISTA\", \"COMERCIO VAREJISTA\", \"COMERCIO VAREJISTA\", \"COMERCIO VAREJISTA\", \"COMERCIO VAREJISTA\", \"COMERCIO VAREJISTA\", \"COMERCIO VAREJISTA\", \"COMERCIO VAREJISTA\", \"COMERCIO VAREJISTA\", \"COMERCIO VAREJISTA\", \"COMERCIO VAREJISTA\", \"COMERCIO VAREJISTA\", \"COMERCIO VAREJISTA\", \"COMERCIO VAREJISTA\", \"COMERCIO VAREJISTA\", \"COMERCIO VAREJISTA\", \"COMERCIO VAREJISTA\", \"COMERCIO VAREJISTA\", \"COMERCIO VAREJISTA\", \"COMERCIO VAREJISTA\", \"COMERCIO VAREJISTA\", \"COMERCIO VAREJISTA\", \"COMERCIO VAREJISTA\", \"COMERCIO VAREJISTA\", \"COMERCIO VAREJISTA\", \"COMERCIO VAREJISTA\", \"COMERCIO VAREJISTA\", \"COMERCIO VAREJISTA\", \"COMERCIO VAREJISTA\", \"COMERCIO VAREJISTA\", \"COMERCIO VAREJISTA\", \"COMERCIO VAREJISTA\", \"COMERCIO VAREJISTA\", \"COMERCIO VAREJISTA\", \"COMERCIO VAREJISTA\", \"COMERCIO VAREJISTA\", \"COMERCIO VAREJISTA\", \"COMERCIO VAREJISTA\", \"COMERCIO VAREJISTA\", \"COMERCIO VAREJISTA\", \"COMERCIO VAREJISTA\", \"COMERCIO VAREJISTA\", \"COMERCIO VAREJISTA\", \"COMERCIO VAREJISTA\", \"COMERCIO VAREJISTA\", \"COMERCIO VAREJISTA\", \"COMERCIO VAREJISTA\", \"COMERCIO VAREJISTA\", \"COMERCIO VAREJISTA\", \"COMERCIO VAREJISTA\", \"COMERCIO VAREJISTA\", \"COMERCIO VAREJISTA\", \"COMERCIO VAREJISTA\", \"COMERCIO VAREJISTA\", \"COMERCIO VAREJISTA\", \"COMERCIO VAREJISTA\", \"COMERCIO VAREJISTA\", \"COMERCIO VAREJISTA\", \"COMERCIO VAREJISTA\", \"COMERCIO VAREJISTA\", \"COMERCIO VAREJISTA\", \"COMERCIO VAREJISTA\", \"COMERCIO VAREJISTA\", \"COMERCIO VAREJISTA\", \"COMERCIO VAREJISTA\", \"COMERCIO VAREJISTA\", \"COMERCIO VAREJISTA\", \"COMERCIO VAREJISTA\", \"COMERCIO VAREJISTA\", \"COMERCIO VAREJISTA\", \"COMERCIO VAREJISTA\", \"COMERCIO VAREJISTA\", \"COMERCIO VAREJISTA\", \"COMERCIO VAREJISTA\", \"COMERCIO VAREJISTA\", \"COMERCIO VAREJISTA\", \"COMERCIO VAREJISTA\", \"COMERCIO VAREJISTA\", \"COMERCIO VAREJISTA\", \"COMERCIO VAREJISTA\", \"COMERCIO VAREJISTA\", \"COMERCIO VAREJISTA\", \"COMERCIO VAREJISTA\", \"COMERCIO VAREJISTA\", \"COMERCIO VAREJISTA\", \"COMERCIO VAREJISTA\", \"COMERCIO VAREJISTA\", \"COMERCIO VAREJISTA\", \"COMERCIO VAREJISTA\", \"COMERCIO VAREJISTA\", \"COMERCIO VAREJISTA\", \"COMERCIO VAREJISTA\", \"COMERCIO VAREJISTA\", \"COMERCIO VAREJISTA\", \"COMERCIO VAREJISTA\", \"COMERCIO VAREJISTA\", \"COMERCIO VAREJISTA\", \"COMERCIO VAREJISTA\", \"COMERCIO VAREJISTA\", \"COMERCIO VAREJISTA\", \"COMERCIO VAREJISTA\", \"COMERCIO VAREJISTA\", \"COMERCIO VAREJISTA\", \"COMERCIO VAREJISTA\", \"COMERCIO VAREJISTA\", \"COMERCIO VAREJISTA\", \"COMERCIO VAREJISTA\", \"COMERCIO VAREJISTA\", \"COMERCIO VAREJISTA\", \"COMERCIO VAREJISTA\", \"COMERCIO VAREJISTA\", \"COMERCIO VAREJISTA\", \"COMERCIO VAREJISTA\", \"COMERCIO VAREJISTA\", \"COMERCIO VAREJISTA\", \"COMERCIO VAREJISTA\", \"COMERCIO VAREJISTA\", \"COMERCIO VAREJISTA\", \"COMERCIO VAREJISTA\", \"COMERCIO VAREJISTA\", \"COMERCIO VAREJISTA\", \"COMERCIO VAREJISTA\", \"COMERCIO VAREJISTA\", \"COMERCIO VAREJISTA\", \"COMERCIO VAREJISTA\", \"COMERCIO VAREJISTA\", \"COMERCIO VAREJISTA\", \"COMERCIO VAREJISTA\", \"COMERCIO VAREJISTA\", \"COMERCIO VAREJISTA\", \"COMERCIO VAREJISTA\", \"COMERCIO VAREJISTA\", \"COMERCIO VAREJISTA\", \"COMERCIO VAREJISTA\", \"COMERCIO VAREJISTA\", \"COMERCIO VAREJISTA\", \"COMERCIO VAREJISTA\", \"COMERCIO VAREJISTA\", \"COMERCIO VAREJISTA\", \"COMERCIO VAREJISTA\", \"COMERCIO VAREJISTA\", \"COMERCIO VAREJISTA\", \"COMERCIO VAREJISTA\", \"COMERCIO VAREJISTA\", \"COMERCIO VAREJISTA\", \"COMERCIO VAREJISTA\", \"COMERCIO VAREJISTA\", \"COMERCIO VAREJISTA\", \"COMERCIO VAREJISTA\", \"COMERCIO VAREJISTA\", \"COMERCIO VAREJISTA\", \"COMERCIO VAREJISTA\", \"COMERCIO VAREJISTA\", \"COMERCIO VAREJISTA\", \"COMERCIO VAREJISTA\", \"COMERCIO VAREJISTA\", \"COMERCIO VAREJISTA\", \"COMERCIO VAREJISTA\", \"COMERCIO VAREJISTA\", \"COMERCIO VAREJISTA\", \"COMERCIO VAREJISTA\", \"COMERCIO VAREJISTA\", \"COMERCIO VAREJISTA\", \"COMERCIO VAREJISTA\", \"COMERCIO VAREJISTA\", \"COMERCIO VAREJISTA\", \"COMERCIO VAREJISTA\", \"COMERCIO VAREJISTA\", \"COMERCIO VAREJISTA\", \"COMERCIO VAREJISTA\", \"COMERCIO VAREJISTA\", \"COMERCIO VAREJISTA\", \"COMERCIO VAREJISTA\", \"COMERCIO VAREJISTA\", \"COMERCIO VAREJISTA\", \"COMERCIO VAREJISTA\", \"COMERCIO VAREJISTA\", \"COMERCIO VAREJISTA\", \"COMERCIO VAREJISTA\", \"COMERCIO VAREJISTA\", \"COMERCIO VAREJISTA\", \"COMERCIO VAREJISTA\", \"COMERCIO VAREJISTA\", \"COMERCIO VAREJISTA\", \"COMERCIO VAREJISTA\", \"COMERCIO VAREJISTA\", \"COMERCIO VAREJISTA\", \"COMERCIO VAREJISTA\", \"COMERCIO VAREJISTA\", \"COMERCIO VAREJISTA\", \"COMERCIO VAREJISTA\", \"COMERCIO VAREJISTA\", \"COMERCIO VAREJISTA\", \"COMERCIO VAREJISTA\", \"COMERCIO VAREJISTA\", \"COMERCIO VAREJISTA\", \"COMERCIO VAREJISTA\", \"COMERCIO VAREJISTA\", \"COMERCIO VAREJISTA\", \"COMERCIO VAREJISTA\", \"COMERCIO VAREJISTA\", \"COMERCIO VAREJISTA\", \"COMERCIO VAREJISTA\", \"COMERCIO VAREJISTA\", \"COMERCIO VAREJISTA\", \"COMERCIO VAREJISTA\", \"COMERCIO VAREJISTA\", \"COMERCIO VAREJISTA\", \"COMERCIO VAREJISTA\", \"COMERCIO VAREJISTA\", \"COMERCIO VAREJISTA\", \"COMERCIO VAREJISTA\", \"COMERCIO VAREJISTA\", \"COMERCIO VAREJISTA\", \"COMERCIO VAREJISTA\", \"COMERCIO VAREJISTA\", \"COMERCIO VAREJISTA\", \"COMERCIO VAREJISTA\", \"COMERCIO VAREJISTA\", \"COMERCIO VAREJISTA\", \"COMERCIO VAREJISTA\", \"COMERCIO VAREJISTA\", \"COMERCIO VAREJISTA\", \"COMERCIO VAREJISTA\", \"COMERCIO VAREJISTA\", \"COMERCIO VAREJISTA\", \"COMERCIO VAREJISTA\", \"COMERCIO VAREJISTA\", \"COMERCIO VAREJISTA\", \"COMERCIO VAREJISTA\", \"COMERCIO VAREJISTA\", \"COMERCIO VAREJISTA\", \"COMERCIO VAREJISTA\", \"COMERCIO VAREJISTA\", \"COMERCIO VAREJISTA\", \"COMERCIO VAREJISTA\", \"COMERCIO VAREJISTA\", \"COMERCIO VAREJISTA\", \"COMERCIO VAREJISTA\", \"COMERCIO VAREJISTA\", \"COMERCIO VAREJISTA\", \"COMERCIO VAREJISTA\", \"COMERCIO VAREJISTA\", \"COMERCIO VAREJISTA\", \"COMERCIO VAREJISTA\", \"COMERCIO VAREJISTA\", \"COMERCIO VAREJISTA\", \"COMERCIO VAREJISTA\", \"COMERCIO VAREJISTA\", \"COMERCIO VAREJISTA\", \"COMERCIO VAREJISTA\", \"COMERCIO VAREJISTA\", \"COMERCIO VAREJISTA\", \"COMERCIO VAREJISTA\", \"COMERCIO VAREJISTA\", \"COMERCIO VAREJISTA\", \"COMERCIO VAREJISTA\", \"COMERCIO VAREJISTA\", \"COMERCIO VAREJISTA\", \"COMERCIO VAREJISTA\", \"COMERCIO VAREJISTA\", \"COMERCIO VAREJISTA\", \"COMERCIO VAREJISTA\", \"COMERCIO VAREJISTA\", \"COMERCIO VAREJISTA\", \"COMERCIO VAREJISTA\", \"COMERCIO VAREJISTA\", \"COMERCIO VAREJISTA\", \"COMERCIO VAREJISTA\", \"COMERCIO VAREJISTA\", \"COMERCIO VAREJISTA\", \"COMERCIO VAREJISTA\", \"COMERCIO VAREJISTA\", \"COMERCIO VAREJISTA\", \"COMERCIO VAREJISTA\", \"COMERCIO VAREJISTA\", \"COMERCIO VAREJISTA\", \"COMERCIO VAREJISTA\", \"COMERCIO VAREJISTA\", \"COMERCIO VAREJISTA\", \"COMERCIO VAREJISTA\", \"COMERCIO VAREJISTA\", \"COMERCIO VAREJISTA\", \"COMERCIO VAREJISTA\", \"COMERCIO VAREJISTA\", \"COMERCIO VAREJISTA\", \"COMERCIO VAREJISTA\", \"COMERCIO VAREJISTA\", \"COMERCIO VAREJISTA\", \"COMERCIO VAREJISTA\", \"COMERCIO VAREJISTA\", \"COMERCIO VAREJISTA\", \"COMERCIO VAREJISTA\", \"COMERCIO VAREJISTA\", \"COMERCIO VAREJISTA\", \"COMERCIO VAREJISTA\", \"COMERCIO VAREJISTA\", \"COMERCIO VAREJISTA\", \"COMERCIO VAREJISTA\", \"COMERCIO VAREJISTA\", \"COMERCIO VAREJISTA\", \"COMERCIO VAREJISTA\", \"COMERCIO VAREJISTA\", \"COMERCIO VAREJISTA\", \"COMERCIO VAREJISTA\", \"COMERCIO VAREJISTA\", \"COMERCIO VAREJISTA\", \"COMERCIO VAREJISTA\", \"COMERCIO VAREJISTA\", \"COMERCIO VAREJISTA\", \"COMERCIO VAREJISTA\", \"COMERCIO VAREJISTA\", \"COMERCIO VAREJISTA\", \"COMERCIO VAREJISTA\", \"COMERCIO VAREJISTA\", \"COMERCIO VAREJISTA\", \"COMERCIO VAREJISTA\", \"COMERCIO VAREJISTA\", \"COMERCIO VAREJISTA\", \"COMERCIO VAREJISTA\", \"COMERCIO VAREJISTA\", \"COMERCIO VAREJISTA\", \"COMERCIO VAREJISTA\", \"COMERCIO VAREJISTA\", \"COMERCIO VAREJISTA\", \"COMERCIO VAREJISTA\", \"COMERCIO VAREJISTA\", \"COMERCIO VAREJISTA\", \"COMERCIO VAREJISTA\", \"COMERCIO VAREJISTA\", \"COMERCIO VAREJISTA\", \"COMERCIO VAREJISTA\", \"COMERCIO VAREJISTA\", \"COMERCIO VAREJISTA\", \"COMERCIO VAREJISTA\", \"COMERCIO VAREJISTA\", \"COMERCIO VAREJISTA\", \"COMERCIO VAREJISTA\", \"COMERCIO VAREJISTA\", \"COMERCIO VAREJISTA\", \"COMERCIO VAREJISTA\", \"COMERCIO VAREJISTA\", \"COMERCIO VAREJISTA\", \"COMERCIO VAREJISTA\", \"COMERCIO VAREJISTA\", \"COMERCIO VAREJISTA\", \"COMERCIO VAREJISTA\", \"COMERCIO VAREJISTA\", \"COMERCIO VAREJISTA\", \"COMERCIO VAREJISTA\", \"COMERCIO VAREJISTA\", \"COMERCIO VAREJISTA\", \"COMERCIO VAREJISTA\", \"COMERCIO VAREJISTA\", \"COMERCIO VAREJISTA\", \"COMERCIO VAREJISTA\", \"COMERCIO VAREJISTA\", \"COMERCIO VAREJISTA\", \"COMERCIO VAREJISTA\", \"COMERCIO VAREJISTA\", \"COMERCIO VAREJISTA\", \"COMERCIO VAREJISTA\", \"COMERCIO VAREJISTA\", \"COMERCIO VAREJISTA\", \"COMERCIO VAREJISTA\", \"COMERCIO VAREJISTA\", \"COMERCIO VAREJISTA\", \"COMERCIO VAREJISTA\", \"COMERCIO VAREJISTA\", \"COMERCIO VAREJISTA\", \"COMERCIO VAREJISTA\", \"COMERCIO VAREJISTA\", \"COMERCIO VAREJISTA\", \"COMERCIO VAREJISTA\", \"COMERCIO VAREJISTA\", \"COMERCIO VAREJISTA\", \"COMERCIO VAREJISTA\", \"COMERCIO VAREJISTA\", \"COMERCIO VAREJISTA\", \"COMERCIO VAREJISTA\", \"COMERCIO VAREJISTA\", \"COMERCIO VAREJISTA\", \"COMERCIO VAREJISTA\", \"COMERCIO VAREJISTA\", \"COMERCIO VAREJISTA\", \"COMERCIO VAREJISTA\", \"COMERCIO VAREJISTA\", \"COMERCIO VAREJISTA\", \"COMERCIO VAREJISTA\", \"COMERCIO VAREJISTA\", \"BENS DE CONSUMO\", \"COMERCIO VAREJISTA\", \"COMERCIO VAREJISTA\", \"COMERCIO VAREJISTA\", \"COMERCIO VAREJISTA\", \"COMERCIO VAREJISTA\", \"COMERCIO VAREJISTA\", \"COMERCIO VAREJISTA\", \"COMERCIO VAREJISTA\", \"COMERCIO VAREJISTA\", \"COMERCIO VAREJISTA\", \"COMERCIO VAREJISTA\", \"COMERCIO VAREJISTA\", \"COMERCIO VAREJISTA\", \"COMERCIO VAREJISTA\", \"COMERCIO VAREJISTA\", \"COMERCIO VAREJISTA\", \"COMERCIO VAREJISTA\", \"COMERCIO VAREJISTA\", \"COMERCIO VAREJISTA\", \"COMERCIO VAREJISTA\", \"COMERCIO VAREJISTA\", \"COMERCIO VAREJISTA\", \"COMERCIO VAREJISTA\", \"COMERCIO VAREJISTA\", \"COMERCIO VAREJISTA\", \"COMERCIO VAREJISTA\", \"COMERCIO VAREJISTA\", \"COMERCIO VAREJISTA\", \"COMERCIO VAREJISTA\", \"COMERCIO VAREJISTA\", \"COMERCIO VAREJISTA\", \"COMERCIO VAREJISTA\", \"COMERCIO VAREJISTA\", \"COMERCIO VAREJISTA\", \"COMERCIO VAREJISTA\", \"COMERCIO VAREJISTA\", \"COMERCIO VAREJISTA\", \"COMERCIO VAREJISTA\", \"COMERCIO VAREJISTA\", \"COMERCIO VAREJISTA\", \"COMERCIO VAREJISTA\", \"COMERCIO VAREJISTA\", \"COMERCIO VAREJISTA\", \"COMERCIO VAREJISTA\", \"COMERCIO VAREJISTA\", \"COMERCIO VAREJISTA\", \"COMERCIO VAREJISTA\", \"COMERCIO VAREJISTA\", \"COMERCIO VAREJISTA\", \"COMERCIO VAREJISTA\", \"COMERCIO VAREJISTA\", \"COMERCIO VAREJISTA\", \"COMERCIO VAREJISTA\", \"COMERCIO VAREJISTA\", \"COMERCIO VAREJISTA\", \"COMERCIO VAREJISTA\", \"COMERCIO VAREJISTA\", \"COMERCIO VAREJISTA\", \"COMERCIO VAREJISTA\", \"COMERCIO VAREJISTA\", \"COMERCIO VAREJISTA\", \"COMERCIO VAREJISTA\", \"COMERCIO VAREJISTA\", \"COMERCIO VAREJISTA\", \"COMERCIO VAREJISTA\", \"COMERCIO VAREJISTA\", \"COMERCIO VAREJISTA\", \"COMERCIO VAREJISTA\", \"COMERCIO VAREJISTA\", \"COMERCIO VAREJISTA\", \"COMERCIO VAREJISTA\", \"COMERCIO VAREJISTA\", \"COMERCIO VAREJISTA\", \"COMERCIO VAREJISTA\", \"COMERCIO VAREJISTA\", \"COMERCIO VAREJISTA\", \"COMERCIO VAREJISTA\", \"COMERCIO VAREJISTA\", \"COMERCIO VAREJISTA\", \"COMERCIO VAREJISTA\", \"COMERCIO VAREJISTA\", \"COMERCIO VAREJISTA\", \"COMERCIO VAREJISTA\", \"COMERCIO VAREJISTA\", \"COMERCIO VAREJISTA\", \"COMERCIO VAREJISTA\", \"COMERCIO VAREJISTA\", \"COMERCIO VAREJISTA\", \"COMERCIO VAREJISTA\", \"COMERCIO VAREJISTA\", \"COMERCIO VAREJISTA\", \"COMERCIO VAREJISTA\", \"COMERCIO VAREJISTA\", \"COMERCIO VAREJISTA\", \"COMERCIO VAREJISTA\", \"COMERCIO VAREJISTA\", \"COMERCIO VAREJISTA\", \"COMERCIO VAREJISTA\", \"COMERCIO VAREJISTA\", \"COMERCIO VAREJISTA\", \"COMERCIO VAREJISTA\", \"COMERCIO VAREJISTA\", \"COMERCIO VAREJISTA\", \"COMERCIO VAREJISTA\", \"COMERCIO VAREJISTA\", \"COMERCIO VAREJISTA\", \"COMERCIO VAREJISTA\", \"COMERCIO VAREJISTA\", \"COMERCIO VAREJISTA\", \"COMERCIO VAREJISTA\", \"COMERCIO VAREJISTA\", \"COMERCIO VAREJISTA\", \"COMERCIO VAREJISTA\", \"COMERCIO VAREJISTA\", \"COMERCIO VAREJISTA\", \"COMERCIO VAREJISTA\", \"COMERCIO VAREJISTA\", \"COMERCIO VAREJISTA\", \"COMERCIO VAREJISTA\", \"COMERCIO VAREJISTA\", \"COMERCIO VAREJISTA\", \"COMERCIO VAREJISTA\", \"COMERCIO VAREJISTA\", \"COMERCIO VAREJISTA\", \"COMERCIO VAREJISTA\", \"COMERCIO VAREJISTA\", \"COMERCIO VAREJISTA\", \"COMERCIO VAREJISTA\", \"COMERCIO VAREJISTA\", \"COMERCIO VAREJISTA\", \"COMERCIO VAREJISTA\", \"COMERCIO VAREJISTA\", \"COMERCIO VAREJISTA\", \"COMERCIO VAREJISTA\", \"COMERCIO VAREJISTA\", \"COMERCIO VAREJISTA\", \"COMERCIO VAREJISTA\", \"COMERCIO VAREJISTA\", \"COMERCIO VAREJISTA\", \"COMERCIO VAREJISTA\", \"COMERCIO VAREJISTA\", \"COMERCIO VAREJISTA\", \"COMERCIO VAREJISTA\", \"COMERCIO VAREJISTA\", \"COMERCIO VAREJISTA\", \"COMERCIO VAREJISTA\", \"COMERCIO VAREJISTA\", \"COMERCIO VAREJISTA\", \"COMERCIO VAREJISTA\", \"COMERCIO VAREJISTA\", \"COMERCIO VAREJISTA\", \"COMERCIO VAREJISTA\", \"COMERCIO VAREJISTA\", \"COMERCIO VAREJISTA\", \"COMERCIO VAREJISTA\", \"COMERCIO VAREJISTA\", \"COMERCIO VAREJISTA\", \"COMERCIO VAREJISTA\", \"COMERCIO VAREJISTA\", \"COMERCIO VAREJISTA\", \"COMERCIO VAREJISTA\", \"COMERCIO VAREJISTA\", \"COMERCIO VAREJISTA\", \"COMERCIO VAREJISTA\", \"COMERCIO VAREJISTA\", \"COMERCIO VAREJISTA\", \"COMERCIO VAREJISTA\", \"COMERCIO VAREJISTA\"]}, {\"label\": \"natureza_juridica_macro\", \"values\": [\"ENTIDADES EMPRESARIAIS\", \"OUTROS\", \"OUTROS\", \"OUTROS\", \"OUTROS\", \"OUTROS\", \"OUTROS\", \"OUTROS\", \"OUTROS\", \"OUTROS\", \"OUTROS\", \"OUTROS\", \"OUTROS\", \"OUTROS\", \"OUTROS\", \"ENTIDADES EMPRESARIAIS\", \"ENTIDADES EMPRESARIAIS\", \"ENTIDADES EMPRESARIAIS\", \"ENTIDADES EMPRESARIAIS\", \"ENTIDADES EMPRESARIAIS\", \"ENTIDADES EMPRESARIAIS\", \"ENTIDADES EMPRESARIAIS\", \"OUTROS\", \"OUTROS\", \"OUTROS\", \"OUTROS\", \"OUTROS\", \"OUTROS\", \"OUTROS\", \"OUTROS\", \"OUTROS\", \"OUTROS\", \"OUTROS\", \"OUTROS\", \"OUTROS\", \"OUTROS\", \"OUTROS\", \"OUTROS\", \"OUTROS\", \"OUTROS\", \"OUTROS\", \"OUTROS\", \"OUTROS\", \"OUTROS\", \"OUTROS\", \"OUTROS\", \"OUTROS\", \"OUTROS\", \"OUTROS\", \"OUTROS\", \"OUTROS\", \"OUTROS\", \"OUTROS\", \"OUTROS\", \"OUTROS\", \"OUTROS\", \"OUTROS\", \"OUTROS\", \"OUTROS\", \"OUTROS\", \"OUTROS\", \"OUTROS\", \"OUTROS\", \"OUTROS\", \"OUTROS\", \"OUTROS\", \"OUTROS\", \"OUTROS\", \"OUTROS\", \"OUTROS\", \"OUTROS\", \"OUTROS\", \"OUTROS\", \"OUTROS\", \"OUTROS\", \"OUTROS\", \"OUTROS\", \"OUTROS\", \"OUTROS\", \"OUTROS\", \"OUTROS\", \"OUTROS\", \"OUTROS\", \"OUTROS\", \"OUTROS\", \"OUTROS\", \"OUTROS\", \"OUTROS\", \"OUTROS\", \"OUTROS\", \"OUTROS\", \"OUTROS\", \"OUTROS\", \"OUTROS\", \"OUTROS\", \"OUTROS\", \"OUTROS\", \"ENTIDADES EMPRESARIAIS\", \"OUTROS\", \"ENTIDADES EMPRESARIAIS\", \"ENTIDADES EMPRESARIAIS\", \"ENTIDADES EMPRESARIAIS\", \"ENTIDADES EMPRESARIAIS\", \"ENTIDADES EMPRESARIAIS\", \"ENTIDADES EMPRESARIAIS\", \"ENTIDADES EMPRESARIAIS\", \"ENTIDADES EMPRESARIAIS\", \"ENTIDADES EMPRESARIAIS\", \"ENTIDADES EMPRESARIAIS\", \"ENTIDADES EMPRESARIAIS\", \"ENTIDADES EMPRESARIAIS\", \"ENTIDADES EMPRESARIAIS\", \"ENTIDADES EMPRESARIAIS\", \"ENTIDADES EMPRESARIAIS\", \"ENTIDADES EMPRESARIAIS\", \"ENTIDADES EMPRESARIAIS\", \"ENTIDADES EMPRESARIAIS\", \"ENTIDADES EMPRESARIAIS\", \"ENTIDADES EMPRESARIAIS\", \"ENTIDADES EMPRESARIAIS\", \"ENTIDADES EMPRESARIAIS\", \"ENTIDADES EMPRESARIAIS\", \"ENTIDADES EMPRESARIAIS\", \"ENTIDADES EMPRESARIAIS\", \"ENTIDADES EMPRESARIAIS\", \"ENTIDADES EMPRESARIAIS\", \"ENTIDADES EMPRESARIAIS\", \"ENTIDADES EMPRESARIAIS\", \"ENTIDADES EMPRESARIAIS\", \"ENTIDADES EMPRESARIAIS\", \"ENTIDADES EMPRESARIAIS\", \"ENTIDADES EMPRESARIAIS\", \"ENTIDADES EMPRESARIAIS\", \"ENTIDADES EMPRESARIAIS\", \"ENTIDADES EMPRESARIAIS\", \"ENTIDADES EMPRESARIAIS\", \"ENTIDADES EMPRESARIAIS\", \"ENTIDADES EMPRESARIAIS\", \"ENTIDADES EMPRESARIAIS\", \"ENTIDADES EMPRESARIAIS\", \"ENTIDADES EMPRESARIAIS\", \"ENTIDADES EMPRESARIAIS\", \"ENTIDADES EMPRESARIAIS\", \"ENTIDADES EMPRESARIAIS\", \"ENTIDADES EMPRESARIAIS\", \"ENTIDADES EMPRESARIAIS\", \"ENTIDADES EMPRESARIAIS\", \"ENTIDADES EMPRESARIAIS\", \"ENTIDADES EMPRESARIAIS\", \"ENTIDADES EMPRESARIAIS\", \"ENTIDADES EMPRESARIAIS\", \"ENTIDADES EMPRESARIAIS\", \"ENTIDADES EMPRESARIAIS\", \"ENTIDADES EMPRESARIAIS\", \"ENTIDADES EMPRESARIAIS\", \"ENTIDADES EMPRESARIAIS\", \"ENTIDADES EMPRESARIAIS\", \"ENTIDADES EMPRESARIAIS\", \"ENTIDADES EMPRESARIAIS\", \"ENTIDADES EMPRESARIAIS\", \"ENTIDADES EMPRESARIAIS\", \"ENTIDADES EMPRESARIAIS\", \"ENTIDADES EMPRESARIAIS\", \"ENTIDADES EMPRESARIAIS\", \"ENTIDADES EMPRESARIAIS\", \"ENTIDADES EMPRESARIAIS\", \"ENTIDADES EMPRESARIAIS\", \"ENTIDADES EMPRESARIAIS\", \"ENTIDADES EMPRESARIAIS\", \"ENTIDADES EMPRESARIAIS\", \"ENTIDADES EMPRESARIAIS\", \"ENTIDADES EMPRESARIAIS\", \"ENTIDADES EMPRESARIAIS\", \"ENTIDADES EMPRESARIAIS\", \"ENTIDADES EMPRESARIAIS\", \"ENTIDADES EMPRESARIAIS\", \"ENTIDADES EMPRESARIAIS\", \"ENTIDADES EMPRESARIAIS\", \"ENTIDADES EMPRESARIAIS\", \"ENTIDADES EMPRESARIAIS\", \"ENTIDADES EMPRESARIAIS\", \"ENTIDADES EMPRESARIAIS\", \"ENTIDADES EMPRESARIAIS\", \"ENTIDADES EMPRESARIAIS\", \"ENTIDADES EMPRESARIAIS\", \"ENTIDADES EMPRESARIAIS\", \"ENTIDADES EMPRESARIAIS\", \"ENTIDADES EMPRESARIAIS\", \"ENTIDADES EMPRESARIAIS\", \"ENTIDADES EMPRESARIAIS\", \"ENTIDADES EMPRESARIAIS\", \"ENTIDADES EMPRESARIAIS\", \"ENTIDADES EMPRESARIAIS\", \"ENTIDADES EMPRESARIAIS\", \"ENTIDADES EMPRESARIAIS\", \"ENTIDADES EMPRESARIAIS\", \"ENTIDADES EMPRESARIAIS\", \"ENTIDADES EMPRESARIAIS\", \"ENTIDADES EMPRESARIAIS\", \"ENTIDADES EMPRESARIAIS\", \"ENTIDADES EMPRESARIAIS\", \"OUTROS\", \"OUTROS\", \"ENTIDADES EMPRESARIAIS\", \"OUTROS\", \"ENTIDADES EMPRESARIAIS\", \"OUTROS\", \"OUTROS\", \"ENTIDADES EMPRESARIAIS\", \"OUTROS\", \"OUTROS\", \"OUTROS\", \"ENTIDADES EMPRESARIAIS\", \"ENTIDADES EMPRESARIAIS\", \"ENTIDADES EMPRESARIAIS\", \"ENTIDADES EMPRESARIAIS\", \"ENTIDADES EMPRESARIAIS\", \"ENTIDADES EMPRESARIAIS\", \"ENTIDADES EMPRESARIAIS\", \"ENTIDADES EMPRESARIAIS\", \"ENTIDADES EMPRESARIAIS\", \"ENTIDADES EMPRESARIAIS\", \"ENTIDADES EMPRESARIAIS\", \"ENTIDADES EMPRESARIAIS\", \"ENTIDADES EMPRESARIAIS\", \"ENTIDADES EMPRESARIAIS\", \"ENTIDADES EMPRESARIAIS\", \"ENTIDADES EMPRESARIAIS\", \"ENTIDADES EMPRESARIAIS\", \"ENTIDADES EMPRESARIAIS\", \"ENTIDADES EMPRESARIAIS\", \"ENTIDADES EMPRESARIAIS\", \"ENTIDADES EMPRESARIAIS\", \"ENTIDADES EMPRESARIAIS\", \"OUTROS\", \"OUTROS\", \"OUTROS\", \"OUTROS\", \"OUTROS\", \"OUTROS\", \"OUTROS\", \"OUTROS\", \"OUTROS\", \"OUTROS\", \"OUTROS\", \"OUTROS\", \"OUTROS\", \"OUTROS\", \"OUTROS\", \"OUTROS\", \"OUTROS\", \"OUTROS\", \"OUTROS\", \"OUTROS\", \"OUTROS\", \"OUTROS\", \"OUTROS\", \"OUTROS\", \"OUTROS\", \"OUTROS\", \"OUTROS\", \"OUTROS\", \"OUTROS\", \"OUTROS\", \"OUTROS\", \"OUTROS\", \"OUTROS\", \"OUTROS\", \"OUTROS\", \"OUTROS\", \"OUTROS\", \"OUTROS\", \"OUTROS\", \"OUTROS\", \"OUTROS\", \"OUTROS\", \"OUTROS\", \"OUTROS\", \"OUTROS\", \"OUTROS\", \"OUTROS\", \"OUTROS\", \"OUTROS\", \"OUTROS\", \"OUTROS\", \"OUTROS\", \"OUTROS\", \"OUTROS\", \"OUTROS\", \"OUTROS\", \"OUTROS\", \"OUTROS\", \"OUTROS\", \"OUTROS\", \"OUTROS\", \"OUTROS\", \"OUTROS\", \"OUTROS\", \"OUTROS\", \"OUTROS\", \"OUTROS\", \"OUTROS\", \"OUTROS\", \"OUTROS\", \"OUTROS\", \"OUTROS\", \"OUTROS\", \"OUTROS\", \"OUTROS\", \"OUTROS\", \"OUTROS\", \"OUTROS\", \"OUTROS\", \"OUTROS\", \"OUTROS\", \"OUTROS\", \"OUTROS\", \"OUTROS\", \"OUTROS\", \"OUTROS\", \"OUTROS\", \"OUTROS\", \"OUTROS\", \"OUTROS\", \"OUTROS\", \"OUTROS\", \"OUTROS\", \"OUTROS\", \"OUTROS\", \"OUTROS\", \"OUTROS\", \"OUTROS\", \"OUTROS\", \"OUTROS\", \"OUTROS\", \"OUTROS\", \"OUTROS\", \"OUTROS\", \"OUTROS\", \"OUTROS\", \"OUTROS\", \"OUTROS\", \"OUTROS\", \"OUTROS\", \"OUTROS\", \"OUTROS\", \"OUTROS\", \"OUTROS\", \"OUTROS\", \"OUTROS\", \"OUTROS\", \"OUTROS\", \"OUTROS\", \"OUTROS\", \"OUTROS\", \"OUTROS\", \"OUTROS\", \"OUTROS\", \"OUTROS\", \"OUTROS\", \"OUTROS\", \"OUTROS\", \"OUTROS\", \"OUTROS\", \"OUTROS\", \"OUTROS\", \"OUTROS\", \"OUTROS\", \"OUTROS\", \"OUTROS\", \"OUTROS\", \"OUTROS\", \"OUTROS\", \"OUTROS\", \"OUTROS\", \"OUTROS\", \"OUTROS\", \"OUTROS\", \"OUTROS\", \"OUTROS\", \"OUTROS\", \"OUTROS\", \"OUTROS\", \"OUTROS\", \"OUTROS\", \"OUTROS\", \"OUTROS\", \"OUTROS\", \"OUTROS\", \"OUTROS\", \"OUTROS\", \"OUTROS\", \"OUTROS\", \"OUTROS\", \"OUTROS\", \"OUTROS\", \"OUTROS\", \"OUTROS\", \"OUTROS\", \"OUTROS\", \"OUTROS\", \"OUTROS\", \"OUTROS\", \"OUTROS\", \"OUTROS\", \"OUTROS\", \"OUTROS\", \"OUTROS\", \"OUTROS\", \"OUTROS\", \"OUTROS\", \"OUTROS\", \"OUTROS\", \"OUTROS\", \"OUTROS\", \"OUTROS\", \"OUTROS\", \"OUTROS\", \"OUTROS\", \"OUTROS\", \"OUTROS\", \"OUTROS\", \"OUTROS\", \"OUTROS\", \"OUTROS\", \"OUTROS\", \"OUTROS\", \"OUTROS\", \"OUTROS\", \"OUTROS\", \"OUTROS\", \"OUTROS\", \"OUTROS\", \"OUTROS\", \"OUTROS\", \"OUTROS\", \"OUTROS\", \"OUTROS\", \"OUTROS\", \"OUTROS\", \"OUTROS\", \"OUTROS\", \"OUTROS\", \"OUTROS\", \"OUTROS\", \"OUTROS\", \"OUTROS\", \"OUTROS\", \"OUTROS\", \"OUTROS\", \"OUTROS\", \"OUTROS\", \"OUTROS\", \"OUTROS\", \"OUTROS\", \"OUTROS\", \"OUTROS\", \"OUTROS\", \"OUTROS\", \"OUTROS\", \"OUTROS\", \"OUTROS\", \"OUTROS\", \"OUTROS\", \"OUTROS\", \"OUTROS\", \"OUTROS\", \"OUTROS\", \"OUTROS\", \"OUTROS\", \"OUTROS\", \"OUTROS\", \"OUTROS\", \"OUTROS\", \"OUTROS\", \"OUTROS\", \"OUTROS\", \"OUTROS\", \"OUTROS\", \"OUTROS\", \"OUTROS\", \"OUTROS\", \"OUTROS\", \"OUTROS\", \"OUTROS\", \"OUTROS\", \"OUTROS\", \"OUTROS\", \"OUTROS\", \"OUTROS\", \"OUTROS\", \"OUTROS\", \"OUTROS\", \"OUTROS\", \"OUTROS\", \"OUTROS\", \"OUTROS\", \"OUTROS\", \"OUTROS\", \"OUTROS\", \"OUTROS\", \"OUTROS\", \"OUTROS\", \"OUTROS\", \"OUTROS\", \"OUTROS\", \"OUTROS\", \"OUTROS\", \"OUTROS\", \"OUTROS\", \"OUTROS\", \"OUTROS\", \"OUTROS\", \"OUTROS\", \"OUTROS\", \"OUTROS\", \"OUTROS\", \"OUTROS\", \"OUTROS\", \"OUTROS\", \"OUTROS\", \"OUTROS\", \"OUTROS\", \"OUTROS\", \"OUTROS\", \"OUTROS\", \"OUTROS\", \"OUTROS\", \"OUTROS\", \"OUTROS\", \"OUTROS\", \"OUTROS\", \"OUTROS\", \"OUTROS\", \"OUTROS\", \"OUTROS\", \"OUTROS\", \"OUTROS\", \"OUTROS\", \"OUTROS\", \"OUTROS\", \"OUTROS\", \"OUTROS\", \"OUTROS\", \"OUTROS\", \"OUTROS\", \"OUTROS\", \"OUTROS\", \"OUTROS\", \"OUTROS\", \"OUTROS\", \"OUTROS\", \"OUTROS\", \"OUTROS\", \"OUTROS\", \"OUTROS\", \"OUTROS\", \"OUTROS\", \"OUTROS\", \"OUTROS\", \"OUTROS\", \"OUTROS\", \"OUTROS\", \"OUTROS\", \"OUTROS\", \"OUTROS\", \"OUTROS\", \"OUTROS\", \"OUTROS\", \"OUTROS\", \"OUTROS\", \"OUTROS\", \"OUTROS\", \"OUTROS\", \"OUTROS\", \"OUTROS\", \"OUTROS\", \"OUTROS\", \"OUTROS\", \"OUTROS\", \"OUTROS\", \"OUTROS\", \"OUTROS\", \"OUTROS\", \"OUTROS\", \"OUTROS\", \"OUTROS\", \"OUTROS\", \"OUTROS\", \"OUTROS\", \"OUTROS\", \"OUTROS\", \"OUTROS\", \"OUTROS\", \"OUTROS\", \"OUTROS\", \"OUTROS\", \"ENTIDADES EMPRESARIAIS\", \"ENTIDADES EMPRESARIAIS\", \"ENTIDADES EMPRESARIAIS\", \"ENTIDADES EMPRESARIAIS\", \"ENTIDADES EMPRESARIAIS\", \"ENTIDADES EMPRESARIAIS\", \"ENTIDADES EMPRESARIAIS\", \"ENTIDADES EMPRESARIAIS\", \"ENTIDADES EMPRESARIAIS\", \"ENTIDADES EMPRESARIAIS\", \"ENTIDADES EMPRESARIAIS\", \"ENTIDADES EMPRESARIAIS\", \"ENTIDADES EMPRESARIAIS\", \"OUTROS\", \"OUTROS\", \"ENTIDADES EMPRESARIAIS\", \"ENTIDADES EMPRESARIAIS\", \"ENTIDADES EMPRESARIAIS\", \"OUTROS\", \"OUTROS\", \"ENTIDADES EMPRESARIAIS\", \"ENTIDADES EMPRESARIAIS\", \"ENTIDADES EMPRESARIAIS\", \"ENTIDADES EMPRESARIAIS\", \"ENTIDADES EMPRESARIAIS\", \"OUTROS\", \"ENTIDADES EMPRESARIAIS\", \"ENTIDADES EMPRESARIAIS\", \"OUTROS\", \"OUTROS\", \"ENTIDADES EMPRESARIAIS\", \"ENTIDADES EMPRESARIAIS\", \"OUTROS\", \"ENTIDADES EMPRESARIAIS\", \"OUTROS\", \"OUTROS\", \"ENTIDADES EMPRESARIAIS\", \"OUTROS\", \"ENTIDADES EMPRESARIAIS\", \"OUTROS\", \"OUTROS\", \"OUTROS\", \"ENTIDADES EMPRESARIAIS\", \"OUTROS\", \"OUTROS\", \"OUTROS\", \"OUTROS\", \"OUTROS\", \"OUTROS\", \"OUTROS\", \"OUTROS\", \"OUTROS\", \"ENTIDADES EMPRESARIAIS\", \"OUTROS\", \"OUTROS\", \"ENTIDADES EMPRESARIAIS\", \"OUTROS\", \"ENTIDADES EMPRESARIAIS\", \"ENTIDADES EMPRESARIAIS\", \"OUTROS\", \"ENTIDADES EMPRESARIAIS\", \"OUTROS\", \"OUTROS\", \"OUTROS\", \"ENTIDADES EMPRESARIAIS\", \"ENTIDADES EMPRESARIAIS\", \"ENTIDADES EMPRESARIAIS\", \"ENTIDADES EMPRESARIAIS\", \"ENTIDADES EMPRESARIAIS\", \"ENTIDADES EMPRESARIAIS\", \"ENTIDADES EMPRESARIAIS\", \"ENTIDADES EMPRESARIAIS\", \"ENTIDADES EMPRESARIAIS\", \"OUTROS\", \"ENTIDADES EMPRESARIAIS\", \"OUTROS\", \"ENTIDADES EMPRESARIAIS\", \"OUTROS\", \"OUTROS\", \"ENTIDADES EMPRESARIAIS\", \"ENTIDADES EMPRESARIAIS\", \"ENTIDADES EMPRESARIAIS\", \"ENTIDADES EMPRESARIAIS\", \"OUTROS\", \"ENTIDADES EMPRESARIAIS\", \"OUTROS\", \"OUTROS\", \"ENTIDADES EMPRESARIAIS\", \"ENTIDADES EMPRESARIAIS\", \"OUTROS\", \"ENTIDADES EMPRESARIAIS\", \"ENTIDADES EMPRESARIAIS\", \"OUTROS\", \"ENTIDADES EMPRESARIAIS\", \"ENTIDADES EMPRESARIAIS\", \"OUTROS\", \"OUTROS\", \"OUTROS\", \"OUTROS\", \"OUTROS\", \"ENTIDADES EMPRESARIAIS\", \"ENTIDADES EMPRESARIAIS\", \"OUTROS\", \"ENTIDADES EMPRESARIAIS\", \"OUTROS\", \"OUTROS\", \"ENTIDADES EMPRESARIAIS\", \"OUTROS\", \"OUTROS\", \"ENTIDADES EMPRESARIAIS\", \"OUTROS\", \"ENTIDADES EMPRESARIAIS\", \"OUTROS\", \"OUTROS\", \"OUTROS\", \"OUTROS\", \"OUTROS\", \"OUTROS\", \"ENTIDADES EMPRESARIAIS\", \"ENTIDADES EMPRESARIAIS\", \"ENTIDADES EMPRESARIAIS\", \"OUTROS\", \"ENTIDADES EMPRESARIAIS\", \"OUTROS\", \"OUTROS\", \"ENTIDADES EMPRESARIAIS\", \"ENTIDADES EMPRESARIAIS\", \"ENTIDADES EMPRESARIAIS\", \"ENTIDADES EMPRESARIAIS\", \"ENTIDADES EMPRESARIAIS\", \"ENTIDADES EMPRESARIAIS\", \"ENTIDADES EMPRESARIAIS\", \"ENTIDADES EMPRESARIAIS\", \"ENTIDADES EMPRESARIAIS\", \"ENTIDADES EMPRESARIAIS\", \"ENTIDADES EMPRESARIAIS\", \"ENTIDADES EMPRESARIAIS\", \"ENTIDADES EMPRESARIAIS\", \"OUTROS\", \"ENTIDADES EMPRESARIAIS\", \"ENTIDADES EMPRESARIAIS\", \"OUTROS\", \"OUTROS\", \"OUTROS\", \"OUTROS\", \"OUTROS\", \"OUTROS\", \"ENTIDADES EMPRESARIAIS\", \"OUTROS\", \"ENTIDADES EMPRESARIAIS\", \"ENTIDADES EMPRESARIAIS\", \"OUTROS\", \"OUTROS\", \"OUTROS\", \"OUTROS\", \"ENTIDADES EMPRESARIAIS\", \"ENTIDADES EMPRESARIAIS\", \"ENTIDADES EMPRESARIAIS\", \"ENTIDADES EMPRESARIAIS\", \"ENTIDADES EMPRESARIAIS\", \"ENTIDADES EMPRESARIAIS\", \"ENTIDADES EMPRESARIAIS\", \"ENTIDADES EMPRESARIAIS\", \"ENTIDADES EMPRESARIAIS\", \"ENTIDADES EMPRESARIAIS\", \"ENTIDADES EMPRESARIAIS\", \"ENTIDADES EMPRESARIAIS\", \"ENTIDADES EMPRESARIAIS\", \"ENTIDADES EMPRESARIAIS\", \"ENTIDADES EMPRESARIAIS\", \"ENTIDADES EMPRESARIAIS\", \"ENTIDADES EMPRESARIAIS\", \"ENTIDADES EMPRESARIAIS\", \"ENTIDADES EMPRESARIAIS\", \"ENTIDADES EMPRESARIAIS\", \"ENTIDADES EMPRESARIAIS\", \"ENTIDADES EMPRESARIAIS\", \"ENTIDADES EMPRESARIAIS\", \"ENTIDADES EMPRESARIAIS\", \"ENTIDADES EMPRESARIAIS\", \"ENTIDADES EMPRESARIAIS\", \"ENTIDADES EMPRESARIAIS\", \"ENTIDADES EMPRESARIAIS\", \"ENTIDADES EMPRESARIAIS\", \"ENTIDADES EMPRESARIAIS\", \"ENTIDADES EMPRESARIAIS\", \"ENTIDADES EMPRESARIAIS\", \"ENTIDADES EMPRESARIAIS\", \"ENTIDADES EMPRESARIAIS\", \"ENTIDADES EMPRESARIAIS\", \"ENTIDADES EMPRESARIAIS\", \"ENTIDADES EMPRESARIAIS\", \"ENTIDADES EMPRESARIAIS\", \"ENTIDADES EMPRESARIAIS\", \"ENTIDADES EMPRESARIAIS\", \"ENTIDADES EMPRESARIAIS\", \"ENTIDADES EMPRESARIAIS\", \"ENTIDADES EMPRESARIAIS\", \"ENTIDADES EMPRESARIAIS\", \"ENTIDADES EMPRESARIAIS\", \"ENTIDADES EMPRESARIAIS\", \"ENTIDADES EMPRESARIAIS\", \"ENTIDADES EMPRESARIAIS\", \"ENTIDADES EMPRESARIAIS\", \"ENTIDADES EMPRESARIAIS\", \"ENTIDADES EMPRESARIAIS\", \"ENTIDADES EMPRESARIAIS\", \"ENTIDADES EMPRESARIAIS\", \"ENTIDADES EMPRESARIAIS\", \"ENTIDADES EMPRESARIAIS\", \"ENTIDADES EMPRESARIAIS\", \"ENTIDADES EMPRESARIAIS\", \"ENTIDADES EMPRESARIAIS\", \"ENTIDADES EMPRESARIAIS\", \"ENTIDADES EMPRESARIAIS\", \"ENTIDADES EMPRESARIAIS\", \"ENTIDADES EMPRESARIAIS\", \"ENTIDADES EMPRESARIAIS\", \"ENTIDADES EMPRESARIAIS\", \"ENTIDADES EMPRESARIAIS\", \"ENTIDADES EMPRESARIAIS\", \"ENTIDADES EMPRESARIAIS\", \"ENTIDADES EMPRESARIAIS\", \"ENTIDADES EMPRESARIAIS\", \"ENTIDADES EMPRESARIAIS\", \"ENTIDADES EMPRESARIAIS\", \"ENTIDADES EMPRESARIAIS\", \"ENTIDADES EMPRESARIAIS\", \"ENTIDADES EMPRESARIAIS\", \"ENTIDADES EMPRESARIAIS\", \"ENTIDADES EMPRESARIAIS\", \"ENTIDADES EMPRESARIAIS\", \"ENTIDADES EMPRESARIAIS\", \"ENTIDADES EMPRESARIAIS\", \"ENTIDADES EMPRESARIAIS\", \"ENTIDADES EMPRESARIAIS\", \"ENTIDADES EMPRESARIAIS\", \"ENTIDADES EMPRESARIAIS\", \"ENTIDADES EMPRESARIAIS\", \"ENTIDADES EMPRESARIAIS\", \"ENTIDADES EMPRESARIAIS\", \"ENTIDADES EMPRESARIAIS\", \"ENTIDADES EMPRESARIAIS\", \"ENTIDADES EMPRESARIAIS\", \"ENTIDADES EMPRESARIAIS\", \"ENTIDADES EMPRESARIAIS\", \"ENTIDADES EMPRESARIAIS\", \"ENTIDADES EMPRESARIAIS\", \"ENTIDADES EMPRESARIAIS\", \"ENTIDADES EMPRESARIAIS\", \"ENTIDADES EMPRESARIAIS\", \"ENTIDADES EMPRESARIAIS\", \"ENTIDADES EMPRESARIAIS\", \"ENTIDADES EMPRESARIAIS\", \"ENTIDADES EMPRESARIAIS\", \"ENTIDADES EMPRESARIAIS\", \"ENTIDADES EMPRESARIAIS\", \"ENTIDADES EMPRESARIAIS\", \"ENTIDADES EMPRESARIAIS\", \"ENTIDADES EMPRESARIAIS\", \"ENTIDADES EMPRESARIAIS\", \"ENTIDADES EMPRESARIAIS\", \"ENTIDADES EMPRESARIAIS\", \"ENTIDADES EMPRESARIAIS\", \"ENTIDADES EMPRESARIAIS\", \"ENTIDADES EMPRESARIAIS\", \"ENTIDADES EMPRESARIAIS\", \"ENTIDADES EMPRESARIAIS\", \"ENTIDADES EMPRESARIAIS\", \"ENTIDADES EMPRESARIAIS\", \"ENTIDADES EMPRESARIAIS\", \"ENTIDADES EMPRESARIAIS\", \"ENTIDADES EMPRESARIAIS\", \"ENTIDADES EMPRESARIAIS\", \"ENTIDADES EMPRESARIAIS\", \"ENTIDADES EMPRESARIAIS\", \"ENTIDADES EMPRESARIAIS\", \"ENTIDADES EMPRESARIAIS\", \"ENTIDADES EMPRESARIAIS\", \"ENTIDADES EMPRESARIAIS\", \"OUTROS\", \"OUTROS\", \"OUTROS\", \"OUTROS\", \"ENTIDADES EMPRESARIAIS\", \"ENTIDADES EMPRESARIAIS\", \"ENTIDADES EMPRESARIAIS\", \"ENTIDADES EMPRESARIAIS\", \"ENTIDADES EMPRESARIAIS\", \"ENTIDADES EMPRESARIAIS\", \"ENTIDADES EMPRESARIAIS\", \"ENTIDADES EMPRESARIAIS\", \"ENTIDADES EMPRESARIAIS\", \"OUTROS\", \"ENTIDADES EMPRESARIAIS\", \"ENTIDADES EMPRESARIAIS\", \"ENTIDADES EMPRESARIAIS\", \"OUTROS\", \"OUTROS\", \"OUTROS\", \"OUTROS\", \"OUTROS\", \"OUTROS\", \"OUTROS\", \"OUTROS\", \"OUTROS\", \"OUTROS\", \"OUTROS\", \"OUTROS\", \"OUTROS\", \"OUTROS\", \"OUTROS\", \"OUTROS\", \"OUTROS\", \"OUTROS\", \"OUTROS\", \"OUTROS\", \"OUTROS\", \"OUTROS\", \"OUTROS\", \"OUTROS\", \"OUTROS\", \"OUTROS\", \"OUTROS\", \"OUTROS\", \"OUTROS\", \"OUTROS\", \"OUTROS\", \"OUTROS\", \"OUTROS\", \"OUTROS\", \"OUTROS\", \"OUTROS\", \"OUTROS\", \"ENTIDADES EMPRESARIAIS\", \"ENTIDADES EMPRESARIAIS\", \"ENTIDADES EMPRESARIAIS\", \"OUTROS\", \"OUTROS\", \"OUTROS\", \"OUTROS\", \"OUTROS\", \"OUTROS\", \"OUTROS\", \"ENTIDADES EMPRESARIAIS\", \"OUTROS\", \"OUTROS\", \"OUTROS\", \"OUTROS\", \"OUTROS\", \"OUTROS\", \"OUTROS\", \"OUTROS\", \"OUTROS\", \"OUTROS\", \"OUTROS\", \"OUTROS\", \"OUTROS\", \"OUTROS\", \"OUTROS\", \"OUTROS\", \"OUTROS\", \"OUTROS\", \"OUTROS\", \"OUTROS\", \"OUTROS\", \"OUTROS\", \"OUTROS\", \"OUTROS\", \"OUTROS\", \"OUTROS\", \"OUTROS\", \"OUTROS\", \"OUTROS\", \"OUTROS\", \"OUTROS\", \"OUTROS\", \"OUTROS\", \"OUTROS\", \"OUTROS\", \"OUTROS\", \"OUTROS\", \"OUTROS\", \"OUTROS\", \"OUTROS\", \"OUTROS\", \"OUTROS\", \"OUTROS\", \"OUTROS\", \"OUTROS\", \"OUTROS\", \"OUTROS\", \"OUTROS\", \"OUTROS\", \"OUTROS\", \"OUTROS\", \"OUTROS\", \"OUTROS\", \"OUTROS\", \"OUTROS\", \"OUTROS\", \"OUTROS\", \"OUTROS\", \"OUTROS\", \"OUTROS\", \"OUTROS\", \"OUTROS\", \"OUTROS\", \"OUTROS\", \"OUTROS\", \"OUTROS\", \"OUTROS\", \"OUTROS\", \"OUTROS\", \"OUTROS\", \"OUTROS\", \"OUTROS\", \"OUTROS\", \"OUTROS\", \"OUTROS\", \"OUTROS\", \"OUTROS\", \"OUTROS\", \"OUTROS\", \"OUTROS\", \"OUTROS\", \"OUTROS\", \"OUTROS\", \"OUTROS\", \"OUTROS\", \"OUTROS\", \"OUTROS\", \"OUTROS\", \"OUTROS\", \"OUTROS\", \"OUTROS\", \"OUTROS\", \"OUTROS\", \"OUTROS\", \"OUTROS\", \"OUTROS\", \"OUTROS\", \"OUTROS\", \"OUTROS\", \"OUTROS\", \"OUTROS\", \"OUTROS\", \"OUTROS\", \"OUTROS\", \"OUTROS\", \"OUTROS\", \"OUTROS\", \"OUTROS\", \"OUTROS\", \"OUTROS\", \"OUTROS\", \"OUTROS\", \"OUTROS\", \"OUTROS\", \"OUTROS\", \"OUTROS\", \"OUTROS\", \"OUTROS\", \"OUTROS\", \"OUTROS\", \"OUTROS\", \"OUTROS\", \"OUTROS\", \"OUTROS\", \"OUTROS\", \"OUTROS\", \"OUTROS\", \"OUTROS\", \"OUTROS\", \"OUTROS\", \"OUTROS\", \"OUTROS\", \"OUTROS\", \"OUTROS\", \"OUTROS\", \"OUTROS\", \"OUTROS\", \"OUTROS\", \"OUTROS\", \"OUTROS\", \"OUTROS\", \"OUTROS\", \"OUTROS\", \"OUTROS\", \"OUTROS\", \"OUTROS\", \"OUTROS\", \"OUTROS\", \"OUTROS\", \"OUTROS\", \"OUTROS\", \"OUTROS\", \"OUTROS\", \"OUTROS\", \"OUTROS\", \"OUTROS\", \"OUTROS\", \"OUTROS\", \"OUTROS\", \"OUTROS\", \"OUTROS\", \"OUTROS\", \"OUTROS\", \"OUTROS\", \"OUTROS\", \"OUTROS\", \"OUTROS\", \"OUTROS\"]}], \"domain\": {\"x\": [0.0, 1.0], \"y\": [0.0, 1.0]}, \"line\": {\"color\": [3.791780821917808, 8.931506849315069, 5.090410958904108, 7.868493150684931, 8.202739726027398, 7.63013698630137, 8.356164383561643, 5.972602739726027, 8.005479452054795, 7.64931506849315, 7.835616438356165, 7.528767123287671, 8.506849315068491, 9.161643835616438, 7.241095890410959, 9.575342465753424, 8.624657534246575, 8.597260273972603, 6.589041095890411, 2.912328767123288, 4.4219178082191775, 9.652054794520547, 8.912328767123286, 7.016438356164382, 9.931506849315069, 5.145205479452055, 6.16986301369863, 8.504109589041096, 6.054794520547945, 6.7232876712328755, 7.36986301369863, 6.073972602739726, 5.931506849315069, 7.964383561643835, 42.315068493150676, 9.904109589041097, 8.30958904109589, 7.238356164383561, 7.890410958904107, 8.367123287671232, 6.073972602739726, 5.131506849315068, 8.597260273972603, 7.564383561643837, 9.868493150684932, 7.772602739726027, 9.389041095890413, 9.12054794520548, 9.756164383561645, 8.95068493150685, 7.487671232876713, 9.958904109589039, 7.509589041095889, 7.783561643835616, 6.210958904109589, 6.210958904109589, 7.2958904109589025, 9.424657534246576, 5.994520547945205, 5.769863013698631, 7.035616438356165, 7.1205479452054785, 6.115068493150685, 9.920547945205481, 6.5178082191780815, 12.279452054794518, 12.26027397260274, 21.70684931506849, 24.6, 35.72054794520548, 36.638356164383566, 32.438356164383556, 20.18904109589041, 30.372602739726034, 23.12054794520548, 21.553424657534247, 21.073972602739726, 22.76164383561644, 25.79178082191781, 24.0, 36.07123287671233, 21.994520547945207, 26.257534246575347, 33.68767123287671, 23.26027397260274, 20.997260273972607, 8.109589041095889, 5.923287671232878, 6.764383561643837, 7.397260273972603, 8.58904109589041, 7.945205479452055, 8.027397260273974, 7.589041095890411, 5.498630136986302, 8.397260273972604, 15.065753424657535, 4.441095890410959, 18.441095890410963, 6.304109589041097, 6.660273972602741, 5.950684931506848, 7.7452054794520535, 3.095890410958904, 27.997260273972607, 25.405479452054795, 32.419178082191785, 25.86849315068493, 28.21917808219178, 25.695890410958906, 32.01917808219178, 35.49041095890411, 27.64931506849315, 26.90410958904109, 29.257534246575347, 26.64931506849315, 25.86849315068493, 27.336986301369862, 28.572602739726022, 34.26027397260274, 34.44931506849315, 32.50410958904109, 29.136986301369863, 29.85205479452055, 26.75890410958904, 24.794520547945204, 26.556164383561644, 25.912328767123288, 26.87945205479452, 31.698630136986303, 38.419178082191785, 26.893150684931502, 31.07397260273973, 27.50684931506849, 42.00821917808219, 33.03013698630137, 26.575342465753426, 25.65205479452055, 31.28767123287671, 29.136986301369863, 36.46849315068493, 32.44109589041096, 28.24383561643836, 29.087671232876712, 27.43835616438357, 28.145205479452056, 31.964383561643835, 26.558904109589037, 28.994520547945214, 24.252054794520546, 39.71232876712329, 33.109589041095894, 31.63835616438357, 31.906849315068488, 26.76164383561644, 27.589041095890412, 30.98630136986301, 27.56438356164384, 31.802739726027397, 26.616438356164387, 24.572602739726022, 28.197260273972606, 28.66575342465753, 30.61917808219178, 25.876712328767123, 33.74794520547945, 26.189041095890413, 37.652054794520545, 27.953424657534253, 29.71232876712329, 27.797260273972608, 27.717808219178075, 27.128767123287673, 24.698630136986303, 26.750684931506854, 25.495890410958904, 23.97808219178082, 27.126027397260273, 28.295890410958904, 32.536986301369865, 29.356164383561644, 29.16164383561644, 29.624657534246573, 4.331506849315068, 20.778082191780825, 30.446575342465753, 28.397260273972602, 24.39178082191781, 31.079452054794523, 35.12602739726027, 29.698630136986303, 26.556164383561644, 32.936986301369856, 28.2054794520548, 4.558904109589041, 20.575342465753426, 23.97808219178082, 1.7917808219178082, 3.2931506849315073, 2.736986301369863, 7.375342465753425, 1.4164383561643836, 1.5123287671232877, 3.1972602739726033, 1.6986301369863013, 1.9287671232876715, 1.7150684931506852, 1.4301369863013698, 2.356164383561644, 1.1205479452054794, 1.356164383561644, 1.1068493150684928, 16.92876712328767, 16.479452054794518, 5.7315068493150685, 3.5178082191780824, 19.827397260273973, 4.115068493150685, 19.378082191780823, 3.7178082191780817, 3.997260273972602, 3.4876712328767123, 9.345205479452057, 4.397260273972603, 9.057534246575342, 5.942465753424657, 8.09041095890411, 5.049315068493152, 7.695890410958903, 7.216438356164383, 7.449315068493152, 6.736986301369862, 8.052054794520547, 9.076712328767123, 4.76986301369863, 4.594520547945206, 4.991780821917809, 2.616438356164384, 3.304109589041096, 8.446575342465753, 7.860273972602741, 9.487671232876714, 7.279452054794521, 5.2602739726027385, 9.194520547945208, 8.643835616438357, 5.742465753424658, 5.69041095890411, 5.112328767123287, 7.772602739726027, 5.8054794520547945, 6.147945205479453, 8.164383561643836, 9.18082191780822, 7.589041095890411, 8.298630136986299, 8.868493150684932, 5.172602739726028, 7.032876712328767, 9.62191780821918, 6.843835616438357, 5.079452054794522, 5.558904109589042, 5.126027397260274, 7.301369863013699, 6.668493150684933, 6.4986301369863035, 6.191780821917808, 6.920547945205478, 5.665753424657535, 7.112328767123286, 7.758904109589041, 8.104109589041098, 5.241095890410959, 7.219178082191781, 8.213698630136987, 7.315068493150685, 5.668493150684933, 8.96986301369863, 5.860273972602741, 9.23013698630137, 6.490410958904111, 7.147945205479453, 8.336986301369864, 8.202739726027398, 7.301369863013699, 7.504109589041097, 8.816438356164383, 8.367123287671232, 6.72876712328767, 7.717808219178082, 6.624657534246575, 5.052054794520548, 9.024657534246575, 8.33972602739726, 7.490410958904111, 8.608219178082193, 6.104109589041097, 8.446575342465753, 7.772602739726027, 5.263013698630137, 9.523287671232877, 8.884931506849314, 5.553424657534246, 7.027397260273973, 7.9150684931506845, 6.6438356164383565, 8.865753424657534, 6.356164383561644, 9.509589041095893, 5.4219178082191775, 8.252054794520548, 5.531506849315068, 7.586301369863015, 8.117808219178082, 5.0109589041095886, 6.736986301369862, 5.6054794520547935, 5.613698630136986, 5.4219178082191775, 21.413698630136988, 23.767123287671232, 22.56164383561644, 7.178082191780822, 9.008219178082193, 8.167123287671233, 8.484931506849316, 10.0, 8.789041095890411, 9.26849315068493, 9.942465753424658, 26.65479452054794, 7.926027397260274, 22.78904109589041, 26.252054794520546, 26.687671232876717, 20.953424657534246, 32.71232876712329, 34.649315068493145, 29.41369863013699, 25.926027397260274, 22.56986301369863, 23.117808219178084, 6.18082191780822, 9.865753424657534, 9.194520547945208, 5.895890410958903, 5.27123287671233, 5.597260273972603, 6.282191780821918, 7.6054794520547935, 8.947945205479453, 8.602739726027396, 5.1863013698630125, 5.172602739726028, 8.504109589041096, 8.945205479452055, 7.63013698630137, 6.583561643835616, 7.638356164383563, 9.616438356164382, 8.252054794520548, 6.317808219178081, 6.589041095890411, 8.983561643835618, 7.797260273972602, 5.534246575342466, 9.287671232876713, 5.0410958904109595, 8.73150684931507, 5.5780821917808225, 9.652054794520547, 6.624657534246575, 7.81917808219178, 7.104109589041097, 5.701369863013697, 8.10684931506849, 7.3561643835616435, 9.865753424657534, 9.635616438356163, 9.405479452054797, 5.476712328767123, 7.9753424657534255, 8.53972602739726, 7.887671232876714, 7.361643835616437, 7.926027397260274, 6.326027397260273, 8.986301369863014, 10.597260273972603, 10.63013698630137, 12.96986301369863, 12.268493150684929, 13.901369863013699, 10.216438356164383, 10.556164383561645, 12.019178082191779, 14.169863013698633, 13.2986301369863, 12.942465753424658, 14.783561643835617, 5.882191780821918, 10.342465753424657, 21.36164383561644, 21.591780821917812, 23.591780821917812, 25.427397260273967, 25.79178082191781, 40.969863013698635, 20.246575342465754, 23.39178082191781, 26.298630136986297, 23.328767123287676, 30.375342465753427, 36.85753424657535, 29.16712328767123, 22.504109589041096, 21.301369863013694, 52.11780821917807, 25.0, 24.265753424657536, 31.43835616438357, 27.08493150684932, 25.504109589041096, 20.2986301369863, 20.671232876712327, 31.95890410958904, 23.12054794520548, 22.31232876712329, 23.295890410958904, 26.87945205479452, 33.01917808219178, 24.802739726027397, 35.56164383561644, 27.526027397260275, 30.408219178082188, 22.117808219178084, 39.41643835616439, 24.194520547945213, 26.75890410958904, 20.2027397260274, 21.591780821917812, 29.21643835616439, 23.2054794520548, 23.591780821917812, 21.526027397260275, 23.394520547945213, 25.80821917808219, 22.734246575342464, 20.12328767123288, 22.389041095890413, 33.20821917808219, 22.397260273972602, 21.145205479452056, 29.34520547945205, 31.389041095890413, 32.041095890410965, 21.523287671232875, 27.410958904109588, 24.197260273972606, 31.063013698630137, 33.0, 37.30684931506849, 21.216438356164385, 22.742465753424653, 29.358904109589037, 21.605479452054798, 30.945205479452056, 24.63835616438357, 24.16164383561644, 29.389041095890413, 25.28493150684932, 33.131506849315066, 23.432876712328767, 30.446575342465753, 21.953424657534246, 23.43013698630137, 24.28767123287671, 32.12054794520548, 22.942465753424653, 21.63835616438357, 24.252054794520546, 24.0, 27.98630136986301, 24.057534246575347, 30.315068493150694, 30.71506849315068, 24.232876712328768, 22.435616438356167, 25.29315068493151, 33.608219178082194, 27.660273972602734, 24.975342465753428, 25.47945205479452, 21.263013698630136, 26.802739726027397, 22.60821917808219, 24.980821917808214, 25.504109589041096, 20.756164383561643, 36.060273972602744, 22.463013698630142, 20.41917808219178, 23.063013698630137, 22.39452054794521, 24.454794520547942, 33.049315068493144, 23.18356164383561, 22.772602739726032, 24.21643835616439, 31.695890410958906, 29.52054794520548, 23.591780821917812, 21.216438356164385, 30.682191780821924, 5.0328767123287665, 7.756164383561643, 6.509589041095889, 8.109589041095889, 6.761643835616439, 5.742465753424658, 5.778082191780823, 7.328767123287673, 6.221917808219177, 7.775342465753424, 5.432876712328767, 5.6438356164383565, 7.9890410958904114, 7.942465753424657, 6.339726027397259, 8.679452054794519, 8.58904109589041, 5.5397260273972595, 7.756164383561643, 6.164383561643835, 5.5397260273972595, 5.860273972602741, 5.243835616438357, 6.594520547945206, 5.375342465753425, 8.202739726027398, 7.802739726027397, 5.665753424657535, 7.3945205479452065, 6.9753424657534255, 5.720547945205479, 7.03013698630137, 6.320547945205481, 7.5616438356164375, 6.375342465753425, 7.301369863013699, 8.068493150684931, 5.087671232876712, 5.5780821917808225, 5.652054794520548, 5.213698630136986, 8.665753424657536, 7.580821917808219, 5.027397260273973, 6.331506849315067, 5.93972602739726, 6.353424657534248, 6.0109589041095886, 6.0, 7.654794520547945, 6.441095890410958, 7.189041095890411, 6.402739726027397, 5.917808219178082, 5.0191780821917815, 5.443835616438356, 7.065753424657534, 5.268493150684932, 7.279452054794521, 8.002739726027396, 6.586301369863015, 5.117808219178082, 7.1589041095890416, 8.2, 6.008219178082192, 7.410958904109589, 6.493150684931508, 8.260273972602741, 8.136986301369863, 6.575342465753424, 7.419178082191781, 8.084931506849315, 6.950684931506848, 8.534246575342468, 5.454794520547946, 5.052054794520548, 7.36986301369863, 7.186301369863013, 7.3342465753424655, 6.506849315068492, 8.027397260273974, 18.367123287671234, 7.926027397260274, 7.164383561643835, 9.104109589041096, 7.506849315068492, 7.761643835616439, 5.9369863013698625, 9.967123287671232, 6.104109589041097, 5.536986301369864, 8.986301369863014, 7.128767123287672, 8.197260273972603, 7.775342465753424, 7.142465753424657, 1.2712328767123289, 27.394520547945213, 26.953424657534253, 26.745205479452054, 1.7150684931506852, 1.2136986301369863, 24.180821917808217, 28.14794520547945, 30.63013698630137, 28.046575342465754, 37.75616438356165, 1.2356164383561643, 3.5424657534246577, 33.156164383561645, 1.1013698630136983, 1.0602739726027397, 41.553424657534244, 28.695890410958906, 1.7534246575342465, 34.99178082191781, 1.7424657534246577, 1.5123287671232877, 28.583561643835612, 1.1945205479452057, 2.3123287671232875, 1.1945205479452057, 1.1095890410958904, 1.1205479452054794, 20.263013698630136, 1.3726027397260274, 1.3534246575342466, 1.1945205479452057, 1.3506849315068492, 1.0602739726027397, 1.3123287671232875, 1.1095890410958904, 1.1178082191780825, 1.0602739726027397, 30.19178082191781, 1.5835616438356164, 1.3589041095890408, 28.528767123287672, 1.03013698630137, 1.8712328767123287, 8.865753424657534, 1.2, 2.2164383561643834, 1.4027397260273973, 1.6082191780821915, 1.147945205479452, 16.824657534246573, 18.646575342465752, 19.290410958904108, 15.813698630136988, 9.865753424657534, 7.473972602739726, 16.479452054794518, 18.038356164383558, 18.252054794520546, 1.367123287671233, 12.624657534246573, 1.4164383561643836, 18.4986301369863, 1.2712328767123289, 1.2684931506849315, 2.7013698630136984, 16.983561643835618, 16.983561643835618, 18.791780821917808, 1.180821917808219, 19.556164383561644, 1.2356164383561643, 1.1232876712328768, 17.767123287671236, 10.323287671232876, 1.1643835616438356, 19.13150684931507, 17.254794520547946, 1.7506849315068491, 17.632876712328766, 16.673972602739727, 1.4246575342465753, 1.3315068493150686, 1.523287671232877, 1.1178082191780825, 1.0904109589041096, 2.46027397260274, 2.106849315068493, 1.5589041095890408, 3.7479452054794513, 1.3726027397260274, 1.4082191780821918, 2.0191780821917806, 1.4904109589041097, 1.295890410958904, 1.9616438356164383, 1.3835616438356164, 1.8739726027397257, 1.7506849315068491, 1.4712328767123288, 1.4301369863013698, 1.7561643835616438, 1.2328767123287672, 1.2986301369863014, 3.1890410958904107, 3.276712328767123, 2.1178082191780816, 1.0657534246575342, 4.923287671232877, 1.7315068493150685, 1.6054794520547946, 4.920547945205478, 4.076712328767123, 9.06027397260274, 6.843835616438357, 8.520547945205479, 9.063013698630137, 5.2465753424657535, 6.35068493150685, 6.167123287671232, 8.002739726027396, 7.515068493150685, 9.46027397260274, 7.63013698630137, 1.772602739726027, 6.320547945205481, 9.01095890410959, 1.1205479452054794, 1.0465753424657531, 1.4876712328767123, 1.336986301369863, 1.347945205479452, 1.3397260273972602, 3.136986301369863, 1.5123287671232877, 9.945205479452056, 5.838356164383563, 1.180821917808219, 1.695890410958904, 1.6383561643835616, 1.6465753424657534, 7.717808219178082, 33.958904109589035, 35.93150684931507, 27.83835616438356, 34.66027397260274, 23.6, 26.30958904109589, 28.29315068493151, 37.076712328767115, 23.449315068493146, 23.46575342465753, 28.221917808219175, 42.53150684931507, 36.18082191780822, 22.8, 32.97808219178082, 31.01643835616439, 37.78630136986301, 32.87671232876713, 25.78904109589041, 39.463013698630135, 29.12054794520548, 22.32054794520548, 24.038356164383558, 23.10410958904109, 52.12054794520548, 25.035616438356165, 28.76164383561644, 28.12054794520548, 29.397260273972602, 24.271232876712325, 32.534246575342465, 29.67397260273973, 22.126027397260273, 23.641095890410963, 29.23835616438356, 35.2, 23.49041095890411, 41.26575342465753, 37.536986301369865, 31.920547945205477, 34.45205479452055, 21.734246575342464, 22.008219178082193, 22.81369863013699, 28.58082191780822, 36.682191780821924, 27.591780821917812, 23.405479452054795, 29.923287671232877, 26.495890410958904, 31.054794520547944, 31.632876712328766, 43.2027397260274, 22.54520547945205, 23.75890410958904, 26.106849315068487, 28.950684931506853, 28.876712328767123, 25.271232876712325, 29.65753424657534, 24.734246575342464, 24.315068493150694, 28.336986301369862, 35.78082191780822, 26.213698630136985, 27.64931506849315, 27.61369863013699, 23.421917808219174, 23.928767123287674, 41.03287671232877, 25.906849315068488, 28.893150684931502, 27.16986301369863, 25.67397260273973, 25.03287671232877, 22.97260273972603, 27.435616438356167, 31.882191780821923, 28.05205479452055, 22.621917808219177, 28.106849315068487, 36.175342465753424, 33.46027397260274, 27.594520547945205, 25.66575342465753, 26.30958904109589, 29.05205479452055, 8.56986301369863, 35.85205479452055, 29.23835616438356, 22.36986301369863, 24.61917808219178, 32.016438356164386, 25.8, 23.136986301369863, 31.726027397260275, 27.038356164383558, 6.164383561643835, 25.23013698630137, 20.49041095890411, 31.046575342465754, 24.13150684931507, 30.008219178082193, 28.887671232876716, 25.556164383561644, 33.18904109589041, 26.627397260273966, 22.293150684931508, 31.02465753424657, 24.945205479452056, 23.928767123287674, 22.13972602739726, 7.778082191780823, 28.772602739726032, 25.82191780821918, 28.12054794520548, 29.926027397260274, 20.621917808219177, 33.34246575342465, 20.24109589041096, 25.936986301369863, 6.898630136986301, 2.904109589041096, 6.8054794520547945, 2.4876712328767123, 2.3835616438356166, 2.271232876712329, 3.191780821917808, 1.895890410958904, 2.317808219178082, 2.7534246575342465, 3.558904109589041, 4.5780821917808225, 4.293150684931507, 2.3917808219178083, 4.23013698630137, 3.0575342465753423, 11.134246575342466, 8.128767123287671, 6.8054794520547945, 5.419178082191781, 0.2958904109589041, 0.5506849315068493, 0.29863013698630136, 0.28493150684931506, 0.29863013698630136, 0.5616438356164384, 0.5342465753424658, 0.2931506849315069, 0.2465753424657534, 0.4054794520547945, 0.3945205479452055, 0.40821917808219177, 0.2821917808219178, 0.2410958904109589, 0.4356164383561644, 0.40821917808219177, 0.4273972602739726, 0.2821917808219178, 0.5671232876712329, 0.4328767123287671, 0.547945205479452, 0.3123287671232877, 0.3068493150684932, 0.5616438356164384, 0.3013698630136986, 0.5863013698630137, 0.4301369863013699, 0.5452054794520548, 0.547945205479452, 0.3013698630136986, 0.4191780821917808, 0.5452054794520548, 0.5671232876712329, 0.2767123287671233, 0.4767123287671233, 0.4328767123287671, 0.3945205479452055, 7.876712328767122, 5.668493150684933, 15.347945205479453, 8.654794520547945, 2.2767123287671227, 3.4191780821917814, 1.9890410958904108, 4.284931506849315, 2.1342465753424658, 2.068493150684932, 10.2, 6.8, 3.632876712328767, 2.5452054794520547, 4.2465753424657535, 4.802739726027396, 7.890410958904107, 5.608219178082192, 7.63013698630137, 8.643835616438357, 5.3424657534246585, 7.7232876712328755, 7.413698630136985, 9.219178082191783, 8.353424657534246, 5.402739726027397, 7.391780821917808, 9.36986301369863, 5.306849315068493, 5.402739726027397, 4.857534246575343, 6.372602739726028, 9.728767123287671, 5.221917808219177, 5.865753424657536, 6.652054794520548, 7.391780821917808, 8.315068493150685, 8.046575342465754, 7.312328767123287, 7.6, 6.6438356164383565, 5.128767123287672, 8.446575342465753, 7.4383561643835625, 5.1863013698630125, 7.493150684931508, 8.279452054794518, 7.3342465753424655, 8.2, 8.273972602739725, 7.698630136986301, 8.810958904109588, 9.076712328767123, 8.128767123287671, 6.2958904109589025, 5.863013698630137, 6.931506849315069, 6.572602739726027, 8.96986301369863, 5.279452054794521, 5.769863013698631, 5.241095890410959, 7.7452054794520535, 5.972602739726027, 7.065753424657534, 5.2465753424657535, 9.142465753424656, 8.331506849315069, 6.353424657534248, 8.791780821917808, 5.5917808219178085, 8.197260273972603, 7.131506849315069, 7.871232876712328, 9.942465753424658, 6.2465753424657535, 5.931506849315069, 7.167123287671232, 9.638356164383561, 8.378082191780821, 6.153424657534248, 7.36986301369863, 5.054794520547945, 9.254794520547943, 9.76986301369863, 8.723287671232876, 8.241095890410959, 6.9753424657534255, 9.594520547945203, 8.906849315068492, 9.76986301369863, 9.126027397260273, 9.063013698630137, 5.7315068493150685, 8.427397260273972, 9.287671232876713, 9.008219178082193, 9.405479452054797, 6.531506849315067, 9.210958904109587, 8.03013698630137, 6.221917808219177, 9.235616438356164, 5.243835616438357, 7.876712328767122, 6.128767123287672, 9.158904109589043, 6.490410958904111, 8.36986301369863, 7.2767123287671245, 9.720547945205482, 8.501369863013696, 9.597260273972603, 6.92876712328767, 6.068493150684931, 8.164383561643836, 6.586301369863015, 8.468493150684932, 5.4219178082191775, 6.7095890410958905, 8.468493150684932, 9.93972602739726, 9.35068493150685, 8.394520547945206, 6.189041095890411, 8.43013698630137, 33.03835616438357, 32.07945205479452, 31.97808219178082, 39.47671232876712, 23.90958904109589, 33.194520547945196, 29.682191780821924, 23.942465753424653, 9.235616438356164, 24.410958904109588, 32.895890410958906, 24.31232876712329, 32.15890410958904, 28.43835616438357, 37.39452054794521, 21.342465753424662, 29.723287671232878, 6.326027397260273, 30.197260273972606, 25.827397260273965, 5.093150684931507, 7.016438356164382, 23.591780821917812, 21.317808219178087, 20.873972602739727, 21.331506849315073, 29.487671232876714, 20.663013698630138, 9.065753424657537, 31.410958904109588, 20.717808219178078, 5.317808219178081, 5.923287671232878, 31.47945205479452, 32.46301369863013, 20.473972602739728, 24.83835616438356, 24.917808219178077, 33.0027397260274, 9.402739726027397, 31.057534246575347, 6.624657534246575, 25.079452054794523, 8.947945205479453, 21.052054794520547, 9.065753424657537, 5.956164383561643, 28.90958904109589, 21.268493150684925, 32.082191780821915, 7.9534246575342475, 21.353424657534248], \"coloraxis\": \"coloraxis\"}, \"name\": \"\", \"type\": \"parcats\"}],\n",
              "                        {\"coloraxis\": {\"colorbar\": {\"title\": {\"text\": \"idade_empresa_anos\"}}, \"colorscale\": [[0.0, \"#000004\"], [0.1111111111111111, \"#1b0c41\"], [0.2222222222222222, \"#4a0c6b\"], [0.3333333333333333, \"#781c6d\"], [0.4444444444444444, \"#a52c60\"], [0.5555555555555556, \"#cf4446\"], [0.6666666666666666, \"#ed6925\"], [0.7777777777777778, \"#fb9b06\"], [0.8888888888888888, \"#f7d13d\"], [1.0, \"#fcffa4\"]]}, \"height\": 500, \"legend\": {\"tracegroupgap\": 0}, \"margin\": {\"t\": 60}, \"template\": {\"data\": {\"bar\": [{\"error_x\": {\"color\": \"#2a3f5f\"}, \"error_y\": {\"color\": \"#2a3f5f\"}, \"marker\": {\"line\": {\"color\": \"#E5ECF6\", \"width\": 0.5}}, \"type\": \"bar\"}], \"barpolar\": [{\"marker\": {\"line\": {\"color\": \"#E5ECF6\", \"width\": 0.5}}, \"type\": \"barpolar\"}], \"carpet\": [{\"aaxis\": {\"endlinecolor\": \"#2a3f5f\", \"gridcolor\": \"white\", \"linecolor\": \"white\", \"minorgridcolor\": \"white\", \"startlinecolor\": \"#2a3f5f\"}, \"baxis\": {\"endlinecolor\": \"#2a3f5f\", \"gridcolor\": \"white\", \"linecolor\": \"white\", \"minorgridcolor\": \"white\", \"startlinecolor\": \"#2a3f5f\"}, \"type\": \"carpet\"}], \"choropleth\": [{\"colorbar\": {\"outlinewidth\": 0, \"ticks\": \"\"}, \"type\": \"choropleth\"}], \"contour\": [{\"colorbar\": {\"outlinewidth\": 0, \"ticks\": \"\"}, \"colorscale\": [[0.0, \"#0d0887\"], [0.1111111111111111, \"#46039f\"], [0.2222222222222222, \"#7201a8\"], [0.3333333333333333, \"#9c179e\"], [0.4444444444444444, \"#bd3786\"], [0.5555555555555556, \"#d8576b\"], [0.6666666666666666, \"#ed7953\"], [0.7777777777777778, \"#fb9f3a\"], [0.8888888888888888, \"#fdca26\"], [1.0, \"#f0f921\"]], \"type\": \"contour\"}], \"contourcarpet\": [{\"colorbar\": {\"outlinewidth\": 0, \"ticks\": \"\"}, \"type\": \"contourcarpet\"}], \"heatmap\": [{\"colorbar\": {\"outlinewidth\": 0, \"ticks\": \"\"}, \"colorscale\": [[0.0, \"#0d0887\"], [0.1111111111111111, \"#46039f\"], [0.2222222222222222, \"#7201a8\"], [0.3333333333333333, \"#9c179e\"], [0.4444444444444444, \"#bd3786\"], [0.5555555555555556, \"#d8576b\"], [0.6666666666666666, \"#ed7953\"], [0.7777777777777778, \"#fb9f3a\"], [0.8888888888888888, \"#fdca26\"], [1.0, \"#f0f921\"]], \"type\": \"heatmap\"}], \"heatmapgl\": [{\"colorbar\": {\"outlinewidth\": 0, \"ticks\": \"\"}, \"colorscale\": [[0.0, \"#0d0887\"], [0.1111111111111111, \"#46039f\"], [0.2222222222222222, \"#7201a8\"], [0.3333333333333333, \"#9c179e\"], [0.4444444444444444, \"#bd3786\"], [0.5555555555555556, \"#d8576b\"], [0.6666666666666666, \"#ed7953\"], [0.7777777777777778, \"#fb9f3a\"], [0.8888888888888888, \"#fdca26\"], [1.0, \"#f0f921\"]], \"type\": \"heatmapgl\"}], \"histogram\": [{\"marker\": {\"colorbar\": {\"outlinewidth\": 0, \"ticks\": \"\"}}, \"type\": \"histogram\"}], \"histogram2d\": [{\"colorbar\": {\"outlinewidth\": 0, \"ticks\": \"\"}, \"colorscale\": [[0.0, \"#0d0887\"], [0.1111111111111111, \"#46039f\"], [0.2222222222222222, \"#7201a8\"], [0.3333333333333333, \"#9c179e\"], [0.4444444444444444, \"#bd3786\"], [0.5555555555555556, \"#d8576b\"], [0.6666666666666666, \"#ed7953\"], [0.7777777777777778, \"#fb9f3a\"], [0.8888888888888888, \"#fdca26\"], [1.0, \"#f0f921\"]], \"type\": \"histogram2d\"}], \"histogram2dcontour\": [{\"colorbar\": {\"outlinewidth\": 0, \"ticks\": \"\"}, \"colorscale\": [[0.0, \"#0d0887\"], [0.1111111111111111, \"#46039f\"], [0.2222222222222222, \"#7201a8\"], [0.3333333333333333, \"#9c179e\"], [0.4444444444444444, \"#bd3786\"], [0.5555555555555556, \"#d8576b\"], [0.6666666666666666, \"#ed7953\"], [0.7777777777777778, \"#fb9f3a\"], [0.8888888888888888, \"#fdca26\"], [1.0, \"#f0f921\"]], \"type\": \"histogram2dcontour\"}], \"mesh3d\": [{\"colorbar\": {\"outlinewidth\": 0, \"ticks\": \"\"}, \"type\": \"mesh3d\"}], \"parcoords\": [{\"line\": {\"colorbar\": {\"outlinewidth\": 0, \"ticks\": \"\"}}, \"type\": \"parcoords\"}], \"pie\": [{\"automargin\": true, \"type\": \"pie\"}], \"scatter\": [{\"marker\": {\"colorbar\": {\"outlinewidth\": 0, \"ticks\": \"\"}}, \"type\": \"scatter\"}], \"scatter3d\": [{\"line\": {\"colorbar\": {\"outlinewidth\": 0, \"ticks\": \"\"}}, \"marker\": {\"colorbar\": {\"outlinewidth\": 0, \"ticks\": \"\"}}, \"type\": \"scatter3d\"}], \"scattercarpet\": [{\"marker\": {\"colorbar\": {\"outlinewidth\": 0, \"ticks\": \"\"}}, \"type\": \"scattercarpet\"}], \"scattergeo\": [{\"marker\": {\"colorbar\": {\"outlinewidth\": 0, \"ticks\": \"\"}}, \"type\": \"scattergeo\"}], \"scattergl\": [{\"marker\": {\"colorbar\": {\"outlinewidth\": 0, \"ticks\": \"\"}}, \"type\": \"scattergl\"}], \"scattermapbox\": [{\"marker\": {\"colorbar\": {\"outlinewidth\": 0, \"ticks\": \"\"}}, \"type\": \"scattermapbox\"}], \"scatterpolar\": [{\"marker\": {\"colorbar\": {\"outlinewidth\": 0, \"ticks\": \"\"}}, \"type\": \"scatterpolar\"}], \"scatterpolargl\": [{\"marker\": {\"colorbar\": {\"outlinewidth\": 0, \"ticks\": \"\"}}, \"type\": \"scatterpolargl\"}], \"scatterternary\": [{\"marker\": {\"colorbar\": {\"outlinewidth\": 0, \"ticks\": \"\"}}, \"type\": \"scatterternary\"}], \"surface\": [{\"colorbar\": {\"outlinewidth\": 0, \"ticks\": \"\"}, \"colorscale\": [[0.0, \"#0d0887\"], [0.1111111111111111, \"#46039f\"], [0.2222222222222222, \"#7201a8\"], [0.3333333333333333, \"#9c179e\"], [0.4444444444444444, \"#bd3786\"], [0.5555555555555556, \"#d8576b\"], [0.6666666666666666, \"#ed7953\"], [0.7777777777777778, \"#fb9f3a\"], [0.8888888888888888, \"#fdca26\"], [1.0, \"#f0f921\"]], \"type\": \"surface\"}], \"table\": [{\"cells\": {\"fill\": {\"color\": \"#EBF0F8\"}, \"line\": {\"color\": \"white\"}}, \"header\": {\"fill\": {\"color\": \"#C8D4E3\"}, \"line\": {\"color\": \"white\"}}, \"type\": \"table\"}]}, \"layout\": {\"annotationdefaults\": {\"arrowcolor\": \"#2a3f5f\", \"arrowhead\": 0, \"arrowwidth\": 1}, \"coloraxis\": {\"colorbar\": {\"outlinewidth\": 0, \"ticks\": \"\"}}, \"colorscale\": {\"diverging\": [[0, \"#8e0152\"], [0.1, \"#c51b7d\"], [0.2, \"#de77ae\"], [0.3, \"#f1b6da\"], [0.4, \"#fde0ef\"], [0.5, \"#f7f7f7\"], [0.6, \"#e6f5d0\"], [0.7, \"#b8e186\"], [0.8, \"#7fbc41\"], [0.9, \"#4d9221\"], [1, \"#276419\"]], \"sequential\": [[0.0, \"#0d0887\"], [0.1111111111111111, \"#46039f\"], [0.2222222222222222, \"#7201a8\"], [0.3333333333333333, \"#9c179e\"], [0.4444444444444444, \"#bd3786\"], [0.5555555555555556, \"#d8576b\"], [0.6666666666666666, \"#ed7953\"], [0.7777777777777778, \"#fb9f3a\"], [0.8888888888888888, \"#fdca26\"], [1.0, \"#f0f921\"]], \"sequentialminus\": [[0.0, \"#0d0887\"], [0.1111111111111111, \"#46039f\"], [0.2222222222222222, \"#7201a8\"], [0.3333333333333333, \"#9c179e\"], [0.4444444444444444, \"#bd3786\"], [0.5555555555555556, \"#d8576b\"], [0.6666666666666666, \"#ed7953\"], [0.7777777777777778, \"#fb9f3a\"], [0.8888888888888888, \"#fdca26\"], [1.0, \"#f0f921\"]]}, \"colorway\": [\"#636efa\", \"#EF553B\", \"#00cc96\", \"#ab63fa\", \"#FFA15A\", \"#19d3f3\", \"#FF6692\", \"#B6E880\", \"#FF97FF\", \"#FECB52\"], \"font\": {\"color\": \"#2a3f5f\"}, \"geo\": {\"bgcolor\": \"white\", \"lakecolor\": \"white\", \"landcolor\": \"#E5ECF6\", \"showlakes\": true, \"showland\": true, \"subunitcolor\": \"white\"}, \"hoverlabel\": {\"align\": \"left\"}, \"hovermode\": \"closest\", \"mapbox\": {\"style\": \"light\"}, \"paper_bgcolor\": \"white\", \"plot_bgcolor\": \"#E5ECF6\", \"polar\": {\"angularaxis\": {\"gridcolor\": \"white\", \"linecolor\": \"white\", \"ticks\": \"\"}, \"bgcolor\": \"#E5ECF6\", \"radialaxis\": {\"gridcolor\": \"white\", \"linecolor\": \"white\", \"ticks\": \"\"}}, \"scene\": {\"xaxis\": {\"backgroundcolor\": \"#E5ECF6\", \"gridcolor\": \"white\", \"gridwidth\": 2, \"linecolor\": \"white\", \"showbackground\": true, \"ticks\": \"\", \"zerolinecolor\": \"white\"}, \"yaxis\": {\"backgroundcolor\": \"#E5ECF6\", \"gridcolor\": \"white\", \"gridwidth\": 2, \"linecolor\": \"white\", \"showbackground\": true, \"ticks\": \"\", \"zerolinecolor\": \"white\"}, \"zaxis\": {\"backgroundcolor\": \"#E5ECF6\", \"gridcolor\": \"white\", \"gridwidth\": 2, \"linecolor\": \"white\", \"showbackground\": true, \"ticks\": \"\", \"zerolinecolor\": \"white\"}}, \"shapedefaults\": {\"line\": {\"color\": \"#2a3f5f\"}}, \"ternary\": {\"aaxis\": {\"gridcolor\": \"white\", \"linecolor\": \"white\", \"ticks\": \"\"}, \"baxis\": {\"gridcolor\": \"white\", \"linecolor\": \"white\", \"ticks\": \"\"}, \"bgcolor\": \"#E5ECF6\", \"caxis\": {\"gridcolor\": \"white\", \"linecolor\": \"white\", \"ticks\": \"\"}}, \"title\": {\"x\": 0.05}, \"xaxis\": {\"automargin\": true, \"gridcolor\": \"white\", \"linecolor\": \"white\", \"ticks\": \"\", \"title\": {\"standoff\": 15}, \"zerolinecolor\": \"white\", \"zerolinewidth\": 2}, \"yaxis\": {\"automargin\": true, \"gridcolor\": \"white\", \"linecolor\": \"white\", \"ticks\": \"\", \"title\": {\"standoff\": 15}, \"zerolinecolor\": \"white\", \"zerolinewidth\": 2}}}, \"width\": 1000},\n",
              "                        {\"responsive\": true}\n",
              "                    ).then(function(){\n",
              "                            \n",
              "var gd = document.getElementById('11aa5621-c07a-4457-9511-27a70f23f91a');\n",
              "var x = new MutationObserver(function (mutations, observer) {{\n",
              "        var display = window.getComputedStyle(gd).display;\n",
              "        if (!display || display === 'none') {{\n",
              "            console.log([gd, 'removed!']);\n",
              "            Plotly.purge(gd);\n",
              "            observer.disconnect();\n",
              "        }}\n",
              "}});\n",
              "\n",
              "// Listen for the removal of the full notebook cells\n",
              "var notebookContainer = gd.closest('#notebook-container');\n",
              "if (notebookContainer) {{\n",
              "    x.observe(notebookContainer, {childList: true});\n",
              "}}\n",
              "\n",
              "// Listen for the clearing of the current output cell\n",
              "var outputEl = gd.closest('.output');\n",
              "if (outputEl) {{\n",
              "    x.observe(outputEl, {childList: true});\n",
              "}}\n",
              "\n",
              "                        })\n",
              "                };\n",
              "                \n",
              "            </script>\n",
              "        </div>\n",
              "</body>\n",
              "</html>"
            ]
          },
          "metadata": {
            "tags": []
          }
        }
      ]
    },
    {
      "cell_type": "code",
      "metadata": {
        "id": "p1ORlwj_lxvW",
        "colab_type": "code",
        "colab": {
          "base_uri": "https://localhost:8080/",
          "height": 517
        },
        "outputId": "4aff354d-41b8-4abe-e37d-51ae0b972571"
      },
      "source": [
        "user_items = get_user_companies(path, user.format(2))\n",
        "cols = ['setor', 'de_ramo', 'natureza_juridica_macro']\n",
        "value = 'idade_empresa_anos'  \n",
        "\n",
        "user_companies = pd.merge(user_items[['id']], market, on='id', how='inner', left_index=True)\n",
        "\n",
        "px.parallel_categories(user_companies , \n",
        "                       dimensions = cols,\n",
        "                       color=value, \n",
        "                       color_continuous_scale=px.colors.sequential.Inferno)"
      ],
      "execution_count": 65,
      "outputs": [
        {
          "output_type": "display_data",
          "data": {
            "text/html": [
              "<html>\n",
              "<head><meta charset=\"utf-8\" /></head>\n",
              "<body>\n",
              "    <div>\n",
              "            <script src=\"https://cdnjs.cloudflare.com/ajax/libs/mathjax/2.7.5/MathJax.js?config=TeX-AMS-MML_SVG\"></script><script type=\"text/javascript\">if (window.MathJax) {MathJax.Hub.Config({SVG: {font: \"STIX-Web\"}});}</script>\n",
              "                <script type=\"text/javascript\">window.PlotlyConfig = {MathJaxConfig: 'local'};</script>\n",
              "        <script src=\"https://cdn.plot.ly/plotly-latest.min.js\"></script>    \n",
              "            <div id=\"be759fe5-5ef8-4cbe-bf21-a01b139b6a7e\" class=\"plotly-graph-div\" style=\"height:500px; width:1000px;\"></div>\n",
              "            <script type=\"text/javascript\">\n",
              "                \n",
              "                    window.PLOTLYENV=window.PLOTLYENV || {};\n",
              "                    \n",
              "                if (document.getElementById(\"be759fe5-5ef8-4cbe-bf21-a01b139b6a7e\")) {\n",
              "                    Plotly.newPlot(\n",
              "                        'be759fe5-5ef8-4cbe-bf21-a01b139b6a7e',\n",
              "                        [{\"dimensions\": [{\"label\": \"setor\", \"values\": [\"SERVI\\u00c7O\", \"SERVI\\u00c7O\", \"SERVI\\u00c7O\", \"SERVI\\u00c7O\", \"AGROPECUARIA\", \"SERVI\\u00c7O\", \"SERVI\\u00c7O\", \"COMERCIO\", \"COMERCIO\", \"SERVI\\u00c7O\", \"SERVI\\u00c7O\", \"AGROPECUARIA\", \"SERVI\\u00c7O\", \"CONSTRU\\u00c7\\u00c3O CIVIL\", \"SERVI\\u00c7O\", \"SERVI\\u00c7O\", \"SERVI\\u00c7O\", \"COMERCIO\", \"CONSTRU\\u00c7\\u00c3O CIVIL\", \"SERVI\\u00c7O\", \"CONSTRU\\u00c7\\u00c3O CIVIL\", \"SERVI\\u00c7O\", \"COMERCIO\", \"INDUSTRIA\", \"SERVI\\u00c7O\", \"SERVI\\u00c7O\", \"SERVI\\u00c7O\", \"COMERCIO\", \"SERVI\\u00c7O\", \"CONSTRU\\u00c7\\u00c3O CIVIL\", \"CONSTRU\\u00c7\\u00c3O CIVIL\", \"COMERCIO\", \"SERVI\\u00c7O\", \"INDUSTRIA\", \"SERVI\\u00c7O\", \"COMERCIO\", \"COMERCIO\", \"SERVI\\u00c7O\", \"COMERCIO\", \"SERVI\\u00c7O\", \"SERVI\\u00c7O\", \"SERVI\\u00c7O\", \"SERVI\\u00c7O\", \"SERVI\\u00c7O\", \"SERVI\\u00c7O\", \"CONSTRU\\u00c7\\u00c3O CIVIL\", \"CONSTRU\\u00c7\\u00c3O CIVIL\", \"SERVI\\u00c7O\", \"SERVI\\u00c7O\", \"COMERCIO\", \"SERVI\\u00c7O\", \"SERVI\\u00c7O\", \"SERVI\\u00c7O\", \"SERVI\\u00c7O\", \"COMERCIO\", \"SERVI\\u00c7O\", \"SERVI\\u00c7O\", \"COMERCIO\", \"SERVI\\u00c7O\", \"SERVI\\u00c7O\", \"COMERCIO\", \"SERVI\\u00c7O\", \"CONSTRU\\u00c7\\u00c3O CIVIL\", \"SERVI\\u00c7O\", \"SERVI\\u00c7O\", \"COMERCIO\", \"SERVI\\u00c7O\", \"COMERCIO\", \"SERVI\\u00c7O\", \"COMERCIO\", \"SERVI\\u00c7O\", \"SERVI\\u00c7O\", \"SERVI\\u00c7O\", \"SERVI\\u00c7O\", \"SERVI\\u00c7O\", \"SERVI\\u00c7O\", \"SERVI\\u00c7O\", \"SERVI\\u00c7O\", \"SERVI\\u00c7O\", \"SERVI\\u00c7O\", \"SERVI\\u00c7O\", \"SERVI\\u00c7O\", \"INDUSTRIA\", \"SERVI\\u00c7O\", \"SERVI\\u00c7O\", \"COMERCIO\", \"SERVI\\u00c7O\", \"COMERCIO\", \"CONSTRU\\u00c7\\u00c3O CIVIL\", \"INDUSTRIA\", \"SERVI\\u00c7O\", \"SERVI\\u00c7O\", \"COMERCIO\", \"CONSTRU\\u00c7\\u00c3O CIVIL\", \"SERVI\\u00c7O\", \"SERVI\\u00c7O\", \"INDUSTRIA\", \"CONSTRU\\u00c7\\u00c3O CIVIL\", \"SERVI\\u00c7O\", \"CONSTRU\\u00c7\\u00c3O CIVIL\", \"SERVI\\u00c7O\", \"SERVI\\u00c7O\", \"SERVI\\u00c7O\", \"COMERCIO\", \"CONSTRU\\u00c7\\u00c3O CIVIL\", \"SERVI\\u00c7O\", \"INDUSTRIA\", \"SERVI\\u00c7O\", \"COMERCIO\", \"SERVI\\u00c7O\", \"COMERCIO\", \"SERVI\\u00c7O\", \"SERVI\\u00c7O\", \"SERVI\\u00c7O\", \"SERVI\\u00c7O\", \"COMERCIO\", \"SERVI\\u00c7O\", \"SERVI\\u00c7O\", \"SERVI\\u00c7O\", \"INDUSTRIA\", \"COMERCIO\", \"COMERCIO\", \"SERVI\\u00c7O\", \"SERVI\\u00c7O\", \"SERVI\\u00c7O\", \"SERVI\\u00c7O\", \"SERVI\\u00c7O\", \"AGROPECUARIA\", \"SERVI\\u00c7O\", \"SERVI\\u00c7O\", \"INDUSTRIA\", \"SERVI\\u00c7O\", \"CONSTRU\\u00c7\\u00c3O CIVIL\", \"SERVI\\u00c7O\", \"SERVI\\u00c7O\", \"INDUSTRIA\", \"SERVI\\u00c7O\", \"INDUSTRIA\", \"COMERCIO\", \"SERVI\\u00c7O\", \"AGROPECUARIA\", \"INDUSTRIA\", \"INDUSTRIA\", \"CONSTRU\\u00c7\\u00c3O CIVIL\", \"SERVI\\u00c7O\", \"CONSTRU\\u00c7\\u00c3O CIVIL\", \"SERVI\\u00c7O\", \"CONSTRU\\u00c7\\u00c3O CIVIL\", \"SERVI\\u00c7O\", \"SERVI\\u00c7O\", \"INDUSTRIA\", \"COMERCIO\", \"SERVI\\u00c7O\", \"SERVI\\u00c7O\", \"SERVI\\u00c7O\", \"SERVI\\u00c7O\", \"SERVI\\u00c7O\", \"SERVI\\u00c7O\", \"COMERCIO\", \"COMERCIO\", \"SERVI\\u00c7O\", \"INDUSTRIA\", \"SERVI\\u00c7O\", \"COMERCIO\", \"COMERCIO\", \"SERVI\\u00c7O\", \"INDUSTRIA\", \"INDUSTRIA\", \"SERVI\\u00c7O\", \"CONSTRU\\u00c7\\u00c3O CIVIL\", \"SERVI\\u00c7O\", \"SERVI\\u00c7O\", \"CONSTRU\\u00c7\\u00c3O CIVIL\", \"SERVI\\u00c7O\", \"COMERCIO\", \"CONSTRU\\u00c7\\u00c3O CIVIL\", \"SERVI\\u00c7O\", \"INDUSTRIA\", \"COMERCIO\", \"AGROPECUARIA\", \"COMERCIO\", \"SERVI\\u00c7O\", \"SERVI\\u00c7O\", \"COMERCIO\", \"SERVI\\u00c7O\", \"INDUSTRIA\", \"SERVI\\u00c7O\", \"SERVI\\u00c7O\", \"SERVI\\u00c7O\", \"COMERCIO\", \"COMERCIO\", \"SERVI\\u00c7O\", \"SERVI\\u00c7O\", \"SERVI\\u00c7O\", \"SERVI\\u00c7O\", \"SERVI\\u00c7O\", \"CONSTRU\\u00c7\\u00c3O CIVIL\", \"COMERCIO\", \"SERVI\\u00c7O\", \"SERVI\\u00c7O\", \"SERVI\\u00c7O\", \"SERVI\\u00c7O\", \"SERVI\\u00c7O\", \"INDUSTRIA\", \"SERVI\\u00c7O\", \"SERVI\\u00c7O\", \"SERVI\\u00c7O\", \"SERVI\\u00c7O\", \"SERVI\\u00c7O\", \"SERVI\\u00c7O\", \"COMERCIO\", \"SERVI\\u00c7O\", \"SERVI\\u00c7O\", \"SERVI\\u00c7O\", \"SERVI\\u00c7O\", \"INDUSTRIA\", \"SERVI\\u00c7O\", \"COMERCIO\", \"SERVI\\u00c7O\", \"CONSTRU\\u00c7\\u00c3O CIVIL\", \"COMERCIO\", \"SERVI\\u00c7O\", \"SERVI\\u00c7O\", \"SERVI\\u00c7O\", \"SERVI\\u00c7O\", \"SERVI\\u00c7O\", \"SERVI\\u00c7O\", \"INDUSTRIA\", \"INDUSTRIA\", \"SERVI\\u00c7O\", \"INDUSTRIA\", \"SERVI\\u00c7O\", \"SERVI\\u00c7O\", \"SERVI\\u00c7O\", \"INDUSTRIA\", \"SERVI\\u00c7O\", \"INDUSTRIA\", \"SERVI\\u00c7O\", \"SERVI\\u00c7O\", \"SERVI\\u00c7O\", \"INDUSTRIA\", \"COMERCIO\", \"SERVI\\u00c7O\", \"COMERCIO\", \"SERVI\\u00c7O\", \"COMERCIO\", \"SERVI\\u00c7O\", \"SERVI\\u00c7O\", \"SERVI\\u00c7O\", \"INDUSTRIA\", \"SERVI\\u00c7O\", \"SERVI\\u00c7O\", \"SERVI\\u00c7O\", \"SERVI\\u00c7O\", \"AGROPECUARIA\", \"SERVI\\u00c7O\", \"SERVI\\u00c7O\", \"SERVI\\u00c7O\", \"SERVI\\u00c7O\", \"SERVI\\u00c7O\", \"SERVI\\u00c7O\", \"COMERCIO\", \"SERVI\\u00c7O\", \"AGROPECUARIA\", \"SERVI\\u00c7O\", \"SERVI\\u00c7O\", \"SERVI\\u00c7O\", \"COMERCIO\", \"INDUSTRIA\", \"COMERCIO\", \"SERVI\\u00c7O\", \"CONSTRU\\u00c7\\u00c3O CIVIL\", \"SERVI\\u00c7O\", \"SERVI\\u00c7O\", \"SERVI\\u00c7O\", \"SERVI\\u00c7O\", \"COMERCIO\", \"INDUSTRIA\", \"SERVI\\u00c7O\", \"SERVI\\u00c7O\", \"SERVI\\u00c7O\", \"COMERCIO\", \"CONSTRU\\u00c7\\u00c3O CIVIL\", \"INDUSTRIA\", \"CONSTRU\\u00c7\\u00c3O CIVIL\", \"INDUSTRIA\", \"CONSTRU\\u00c7\\u00c3O CIVIL\", \"SERVI\\u00c7O\", \"INDUSTRIA\", \"SERVI\\u00c7O\", \"SERVI\\u00c7O\", \"INDUSTRIA\", \"SERVI\\u00c7O\", \"SERVI\\u00c7O\", \"INDUSTRIA\", \"SERVI\\u00c7O\", \"INDUSTRIA\", \"SERVI\\u00c7O\", \"COMERCIO\", \"SERVI\\u00c7O\", \"SERVI\\u00c7O\", \"INDUSTRIA\", \"SERVI\\u00c7O\", \"SERVI\\u00c7O\", \"INDUSTRIA\", \"INDUSTRIA\", \"COMERCIO\", \"SERVI\\u00c7O\", \"CONSTRU\\u00c7\\u00c3O CIVIL\", \"SERVI\\u00c7O\", \"SERVI\\u00c7O\", \"SERVI\\u00c7O\", \"SERVI\\u00c7O\", \"CONSTRU\\u00c7\\u00c3O CIVIL\", \"SERVI\\u00c7O\", \"SERVI\\u00c7O\", \"COMERCIO\", \"SERVI\\u00c7O\", \"COMERCIO\", \"SERVI\\u00c7O\", \"SERVI\\u00c7O\", \"COMERCIO\", \"SERVI\\u00c7O\", \"CONSTRU\\u00c7\\u00c3O CIVIL\", \"SERVI\\u00c7O\", \"COMERCIO\", \"SERVI\\u00c7O\", \"COMERCIO\", \"SERVI\\u00c7O\", \"SERVI\\u00c7O\", \"INDUSTRIA\", \"SERVI\\u00c7O\", \"SERVI\\u00c7O\", \"CONSTRU\\u00c7\\u00c3O CIVIL\", \"CONSTRU\\u00c7\\u00c3O CIVIL\", \"SERVI\\u00c7O\", \"SERVI\\u00c7O\", \"SERVI\\u00c7O\", \"SERVI\\u00c7O\", \"COMERCIO\", \"SERVI\\u00c7O\", \"COMERCIO\", \"SERVI\\u00c7O\", \"INDUSTRIA\", \"SERVI\\u00c7O\", \"CONSTRU\\u00c7\\u00c3O CIVIL\", \"COMERCIO\", \"SERVI\\u00c7O\", \"COMERCIO\", \"SERVI\\u00c7O\", \"SERVI\\u00c7O\", \"SERVI\\u00c7O\", \"COMERCIO\", \"SERVI\\u00c7O\", \"SERVI\\u00c7O\", \"SERVI\\u00c7O\", \"SERVI\\u00c7O\", \"INDUSTRIA\", \"COMERCIO\", \"SERVI\\u00c7O\", \"SERVI\\u00c7O\", \"COMERCIO\", \"CONSTRU\\u00c7\\u00c3O CIVIL\", \"SERVI\\u00c7O\", \"AGROPECUARIA\", \"CONSTRU\\u00c7\\u00c3O CIVIL\", \"SERVI\\u00c7O\", \"SERVI\\u00c7O\", \"SERVI\\u00c7O\", \"COMERCIO\", \"SERVI\\u00c7O\", \"INDUSTRIA\", \"COMERCIO\", \"INDUSTRIA\", \"INDUSTRIA\", \"SERVI\\u00c7O\", \"SERVI\\u00c7O\", \"INDUSTRIA\", \"SERVI\\u00c7O\", \"SERVI\\u00c7O\", \"COMERCIO\", \"COMERCIO\", \"SERVI\\u00c7O\", \"COMERCIO\", \"SERVI\\u00c7O\", \"SERVI\\u00c7O\", \"SERVI\\u00c7O\", \"SERVI\\u00c7O\", \"COMERCIO\", \"SERVI\\u00c7O\", \"SERVI\\u00c7O\", \"COMERCIO\", \"INDUSTRIA\", \"SERVI\\u00c7O\", \"SERVI\\u00c7O\", \"INDUSTRIA\", \"SERVI\\u00c7O\", \"CONSTRU\\u00c7\\u00c3O CIVIL\", \"INDUSTRIA\", \"SERVI\\u00c7O\", \"COMERCIO\", \"SERVI\\u00c7O\", \"COMERCIO\", \"SERVI\\u00c7O\", \"INDUSTRIA\", \"SERVI\\u00c7O\", \"SERVI\\u00c7O\", \"CONSTRU\\u00c7\\u00c3O CIVIL\", \"COMERCIO\", \"COMERCIO\", \"COMERCIO\", \"INDUSTRIA\", \"COMERCIO\", \"SERVI\\u00c7O\", \"SERVI\\u00c7O\", \"INDUSTRIA\", \"SERVI\\u00c7O\", \"CONSTRU\\u00c7\\u00c3O CIVIL\", \"SERVI\\u00c7O\", \"INDUSTRIA\", \"COMERCIO\", \"SERVI\\u00c7O\", \"SERVI\\u00c7O\", \"SERVI\\u00c7O\", \"SERVI\\u00c7O\", \"SERVI\\u00c7O\", \"SERVI\\u00c7O\", \"SERVI\\u00c7O\", \"COMERCIO\", \"INDUSTRIA\", \"COMERCIO\", \"SERVI\\u00c7O\", \"SERVI\\u00c7O\", \"INDUSTRIA\", \"SERVI\\u00c7O\", \"INDUSTRIA\", \"SERVI\\u00c7O\", \"SERVI\\u00c7O\", \"SERVI\\u00c7O\", \"COMERCIO\", \"SERVI\\u00c7O\", \"INDUSTRIA\", \"SERVI\\u00c7O\", \"CONSTRU\\u00c7\\u00c3O CIVIL\", \"SERVI\\u00c7O\", \"COMERCIO\", \"INDUSTRIA\", \"COMERCIO\", \"CONSTRU\\u00c7\\u00c3O CIVIL\", \"COMERCIO\", \"SERVI\\u00c7O\", \"INDUSTRIA\", \"INDUSTRIA\", \"SERVI\\u00c7O\", \"SERVI\\u00c7O\", \"SERVI\\u00c7O\", \"SERVI\\u00c7O\", \"COMERCIO\", \"SERVI\\u00c7O\", \"COMERCIO\", \"SERVI\\u00c7O\", \"SERVI\\u00c7O\", \"SERVI\\u00c7O\", \"SERVI\\u00c7O\", \"COMERCIO\", \"SERVI\\u00c7O\", \"CONSTRU\\u00c7\\u00c3O CIVIL\", \"SERVI\\u00c7O\", \"SERVI\\u00c7O\", \"SERVI\\u00c7O\", \"SERVI\\u00c7O\", \"INDUSTRIA\", \"SERVI\\u00c7O\", \"SERVI\\u00c7O\", \"COMERCIO\", \"COMERCIO\", \"SERVI\\u00c7O\", \"SERVI\\u00c7O\", \"SERVI\\u00c7O\", \"COMERCIO\", \"SERVI\\u00c7O\", \"SERVI\\u00c7O\", \"SERVI\\u00c7O\", \"COMERCIO\", \"CONSTRU\\u00c7\\u00c3O CIVIL\", \"SERVI\\u00c7O\", \"SERVI\\u00c7O\", \"INDUSTRIA\", \"CONSTRU\\u00c7\\u00c3O CIVIL\", \"COMERCIO\", \"SERVI\\u00c7O\", \"SERVI\\u00c7O\", \"SERVI\\u00c7O\", \"SERVI\\u00c7O\", \"COMERCIO\", \"COMERCIO\", \"SERVI\\u00c7O\", \"SERVI\\u00c7O\", \"SERVI\\u00c7O\", \"SERVI\\u00c7O\", \"SERVI\\u00c7O\", \"SERVI\\u00c7O\", \"SERVI\\u00c7O\", \"INDUSTRIA\", \"COMERCIO\", \"COMERCIO\", \"SERVI\\u00c7O\", \"COMERCIO\", \"SERVI\\u00c7O\", \"SERVI\\u00c7O\", \"COMERCIO\", \"COMERCIO\", \"SERVI\\u00c7O\", \"SERVI\\u00c7O\", \"CONSTRU\\u00c7\\u00c3O CIVIL\", \"SERVI\\u00c7O\", \"INDUSTRIA\", \"CONSTRU\\u00c7\\u00c3O CIVIL\", \"SERVI\\u00c7O\", \"SERVI\\u00c7O\", \"COMERCIO\", \"SERVI\\u00c7O\", \"SERVI\\u00c7O\", \"CONSTRU\\u00c7\\u00c3O CIVIL\", \"INDUSTRIA\", \"COMERCIO\", \"SERVI\\u00c7O\", \"SERVI\\u00c7O\", \"SERVI\\u00c7O\", \"SERVI\\u00c7O\", \"SERVI\\u00c7O\", \"SERVI\\u00c7O\", \"SERVI\\u00c7O\", \"SERVI\\u00c7O\", \"SERVI\\u00c7O\", \"SERVI\\u00c7O\", \"COMERCIO\", \"SERVI\\u00c7O\", \"SERVI\\u00c7O\", \"SERVI\\u00c7O\", \"COMERCIO\", \"INDUSTRIA\", \"SERVI\\u00c7O\", \"SERVI\\u00c7O\", \"SERVI\\u00c7O\", \"COMERCIO\", \"SERVI\\u00c7O\", \"SERVI\\u00c7O\", \"INDUSTRIA\", \"INDUSTRIA\", \"SERVI\\u00c7O\", \"SERVI\\u00c7O\", \"COMERCIO\", \"SERVI\\u00c7O\", \"SERVI\\u00c7O\", \"SERVI\\u00c7O\", \"COMERCIO\", \"SERVI\\u00c7O\", \"INDUSTRIA\", \"COMERCIO\", \"SERVI\\u00c7O\", \"SERVI\\u00c7O\", \"COMERCIO\", \"INDUSTRIA\", \"SERVI\\u00c7O\", \"CONSTRU\\u00c7\\u00c3O CIVIL\"]}, {\"label\": \"natureza_juridica_macro\", \"values\": [\"ADMINISTRACAO PUBLICA\", \"OUTROS\", \"ENTIDADES EMPRESARIAIS\", \"OUTROS\", \"ENTIDADES EMPRESARIAIS\", \"ENTIDADES EMPRESARIAIS\", \"ENTIDADES SEM FINS LUCRATIVOS\", \"ENTIDADES EMPRESARIAIS\", \"ENTIDADES EMPRESARIAIS\", \"OUTROS\", \"OUTROS\", \"ENTIDADES EMPRESARIAIS\", \"ENTIDADES EMPRESARIAIS\", \"ENTIDADES EMPRESARIAIS\", \"OUTROS\", \"ENTIDADES SEM FINS LUCRATIVOS\", \"ENTIDADES EMPRESARIAIS\", \"ENTIDADES EMPRESARIAIS\", \"ENTIDADES EMPRESARIAIS\", \"OUTROS\", \"OUTROS\", \"ADMINISTRACAO PUBLICA\", \"ENTIDADES EMPRESARIAIS\", \"ENTIDADES EMPRESARIAIS\", \"OUTROS\", \"ADMINISTRACAO PUBLICA\", \"OUTROS\", \"ENTIDADES EMPRESARIAIS\", \"ENTIDADES EMPRESARIAIS\", \"OUTROS\", \"ENTIDADES EMPRESARIAIS\", \"ENTIDADES EMPRESARIAIS\", \"ENTIDADES SEM FINS LUCRATIVOS\", \"ENTIDADES EMPRESARIAIS\", \"ENTIDADES EMPRESARIAIS\", \"ENTIDADES EMPRESARIAIS\", \"ENTIDADES EMPRESARIAIS\", \"ADMINISTRACAO PUBLICA\", \"ENTIDADES EMPRESARIAIS\", \"ENTIDADES EMPRESARIAIS\", \"ENTIDADES EMPRESARIAIS\", \"ADMINISTRACAO PUBLICA\", \"ENTIDADES EMPRESARIAIS\", \"OUTROS\", \"ENTIDADES SEM FINS LUCRATIVOS\", \"ENTIDADES EMPRESARIAIS\", \"ENTIDADES EMPRESARIAIS\", \"OUTROS\", \"OUTROS\", \"ENTIDADES EMPRESARIAIS\", \"ENTIDADES EMPRESARIAIS\", \"ENTIDADES EMPRESARIAIS\", \"ENTIDADES EMPRESARIAIS\", \"ADMINISTRACAO PUBLICA\", \"ENTIDADES EMPRESARIAIS\", \"OUTROS\", \"ENTIDADES EMPRESARIAIS\", \"OUTROS\", \"ENTIDADES EMPRESARIAIS\", \"ENTIDADES SEM FINS LUCRATIVOS\", \"ENTIDADES EMPRESARIAIS\", \"OUTROS\", \"ENTIDADES EMPRESARIAIS\", \"ENTIDADES EMPRESARIAIS\", \"OUTROS\", \"ENTIDADES EMPRESARIAIS\", \"ENTIDADES EMPRESARIAIS\", \"ENTIDADES EMPRESARIAIS\", \"ENTIDADES EMPRESARIAIS\", \"ENTIDADES EMPRESARIAIS\", \"ADMINISTRACAO PUBLICA\", \"OUTROS\", \"ENTIDADES EMPRESARIAIS\", \"ENTIDADES EMPRESARIAIS\", \"OUTROS\", \"OUTROS\", \"OUTROS\", \"OUTROS\", \"ENTIDADES EMPRESARIAIS\", \"ENTIDADES EMPRESARIAIS\", \"OUTROS\", \"ENTIDADES EMPRESARIAIS\", \"ENTIDADES EMPRESARIAIS\", \"ENTIDADES EMPRESARIAIS\", \"OUTROS\", \"ENTIDADES EMPRESARIAIS\", \"OUTROS\", \"ENTIDADES EMPRESARIAIS\", \"ENTIDADES EMPRESARIAIS\", \"ENTIDADES EMPRESARIAIS\", \"ADMINISTRACAO PUBLICA\", \"ADMINISTRACAO PUBLICA\", \"OUTROS\", \"ENTIDADES EMPRESARIAIS\", \"ENTIDADES EMPRESARIAIS\", \"ENTIDADES EMPRESARIAIS\", \"ENTIDADES EMPRESARIAIS\", \"ENTIDADES EMPRESARIAIS\", \"OUTROS\", \"ENTIDADES EMPRESARIAIS\", \"ENTIDADES EMPRESARIAIS\", \"OUTROS\", \"OUTROS\", \"OUTROS\", \"OUTROS\", \"OUTROS\", \"ENTIDADES EMPRESARIAIS\", \"OUTROS\", \"ENTIDADES EMPRESARIAIS\", \"OUTROS\", \"ENTIDADES EMPRESARIAIS\", \"OUTROS\", \"OUTROS\", \"OUTROS\", \"ENTIDADES EMPRESARIAIS\", \"OUTROS\", \"OUTROS\", \"ENTIDADES EMPRESARIAIS\", \"ENTIDADES EMPRESARIAIS\", \"ENTIDADES EMPRESARIAIS\", \"ENTIDADES EMPRESARIAIS\", \"ENTIDADES EMPRESARIAIS\", \"ENTIDADES EMPRESARIAIS\", \"OUTROS\", \"ADMINISTRACAO PUBLICA\", \"ADMINISTRACAO PUBLICA\", \"OUTROS\", \"ENTIDADES EMPRESARIAIS\", \"OUTROS\", \"ADMINISTRACAO PUBLICA\", \"OUTROS\", \"ENTIDADES EMPRESARIAIS\", \"ENTIDADES EMPRESARIAIS\", \"OUTROS\", \"OUTROS\", \"ENTIDADES EMPRESARIAIS\", \"ADMINISTRACAO PUBLICA\", \"ENTIDADES EMPRESARIAIS\", \"ENTIDADES EMPRESARIAIS\", \"ENTIDADES EMPRESARIAIS\", \"ENTIDADES EMPRESARIAIS\", \"ENTIDADES EMPRESARIAIS\", \"ENTIDADES EMPRESARIAIS\", \"ENTIDADES EMPRESARIAIS\", \"OUTROS\", \"ENTIDADES EMPRESARIAIS\", \"OUTROS\", \"ENTIDADES EMPRESARIAIS\", \"ENTIDADES EMPRESARIAIS\", \"ENTIDADES EMPRESARIAIS\", \"ENTIDADES EMPRESARIAIS\", \"OUTROS\", \"OUTROS\", \"ENTIDADES EMPRESARIAIS\", \"ADMINISTRACAO PUBLICA\", \"ENTIDADES SEM FINS LUCRATIVOS\", \"ADMINISTRACAO PUBLICA\", \"OUTROS\", \"OUTROS\", \"ENTIDADES EMPRESARIAIS\", \"OUTROS\", \"ENTIDADES EMPRESARIAIS\", \"OUTROS\", \"ENTIDADES EMPRESARIAIS\", \"ENTIDADES EMPRESARIAIS\", \"ENTIDADES SEM FINS LUCRATIVOS\", \"ENTIDADES EMPRESARIAIS\", \"OUTROS\", \"ADMINISTRACAO PUBLICA\", \"ENTIDADES EMPRESARIAIS\", \"ENTIDADES EMPRESARIAIS\", \"OUTROS\", \"ENTIDADES EMPRESARIAIS\", \"ADMINISTRACAO PUBLICA\", \"ENTIDADES EMPRESARIAIS\", \"ENTIDADES EMPRESARIAIS\", \"ADMINISTRACAO PUBLICA\", \"ENTIDADES EMPRESARIAIS\", \"ENTIDADES EMPRESARIAIS\", \"OUTROS\", \"ENTIDADES EMPRESARIAIS\", \"OUTROS\", \"ENTIDADES EMPRESARIAIS\", \"ENTIDADES EMPRESARIAIS\", \"OUTROS\", \"ENTIDADES EMPRESARIAIS\", \"OUTROS\", \"ENTIDADES EMPRESARIAIS\", \"ENTIDADES EMPRESARIAIS\", \"ENTIDADES EMPRESARIAIS\", \"ENTIDADES EMPRESARIAIS\", \"OUTROS\", \"OUTROS\", \"OUTROS\", \"OUTROS\", \"ENTIDADES EMPRESARIAIS\", \"ENTIDADES EMPRESARIAIS\", \"ENTIDADES EMPRESARIAIS\", \"ENTIDADES SEM FINS LUCRATIVOS\", \"ADMINISTRACAO PUBLICA\", \"ENTIDADES EMPRESARIAIS\", \"ENTIDADES EMPRESARIAIS\", \"OUTROS\", \"ENTIDADES EMPRESARIAIS\", \"OUTROS\", \"ENTIDADES EMPRESARIAIS\", \"ENTIDADES EMPRESARIAIS\", \"OUTROS\", \"OUTROS\", \"ADMINISTRACAO PUBLICA\", \"ENTIDADES EMPRESARIAIS\", \"OUTROS\", \"ENTIDADES EMPRESARIAIS\", \"ADMINISTRACAO PUBLICA\", \"OUTROS\", \"ENTIDADES EMPRESARIAIS\", \"ENTIDADES EMPRESARIAIS\", \"ENTIDADES EMPRESARIAIS\", \"ADMINISTRACAO PUBLICA\", \"ENTIDADES EMPRESARIAIS\", \"ENTIDADES EMPRESARIAIS\", \"ENTIDADES EMPRESARIAIS\", \"ENTIDADES EMPRESARIAIS\", \"ENTIDADES EMPRESARIAIS\", \"OUTROS\", \"ENTIDADES EMPRESARIAIS\", \"ADMINISTRACAO PUBLICA\", \"ENTIDADES EMPRESARIAIS\", \"ENTIDADES EMPRESARIAIS\", \"ADMINISTRACAO PUBLICA\", \"ENTIDADES EMPRESARIAIS\", \"OUTROS\", \"OUTROS\", \"ADMINISTRACAO PUBLICA\", \"OUTROS\", \"ENTIDADES SEM FINS LUCRATIVOS\", \"ENTIDADES EMPRESARIAIS\", \"ENTIDADES EMPRESARIAIS\", \"ENTIDADES EMPRESARIAIS\", \"ENTIDADES EMPRESARIAIS\", \"ENTIDADES EMPRESARIAIS\", \"ENTIDADES EMPRESARIAIS\", \"OUTROS\", \"ENTIDADES EMPRESARIAIS\", \"OUTROS\", \"ENTIDADES EMPRESARIAIS\", \"ENTIDADES SEM FINS LUCRATIVOS\", \"OUTROS\", \"OUTROS\", \"ENTIDADES EMPRESARIAIS\", \"ENTIDADES SEM FINS LUCRATIVOS\", \"OUTROS\", \"ENTIDADES EMPRESARIAIS\", \"OUTROS\", \"ENTIDADES EMPRESARIAIS\", \"OUTROS\", \"OUTROS\", \"OUTROS\", \"ADMINISTRACAO PUBLICA\", \"ENTIDADES EMPRESARIAIS\", \"ENTIDADES EMPRESARIAIS\", \"ENTIDADES EMPRESARIAIS\", \"ENTIDADES EMPRESARIAIS\", \"OUTROS\", \"ADMINISTRACAO PUBLICA\", \"ENTIDADES SEM FINS LUCRATIVOS\", \"ENTIDADES EMPRESARIAIS\", \"ENTIDADES EMPRESARIAIS\", \"ENTIDADES EMPRESARIAIS\", \"ENTIDADES EMPRESARIAIS\", \"ADMINISTRACAO PUBLICA\", \"OUTROS\", \"OUTROS\", \"OUTROS\", \"ENTIDADES EMPRESARIAIS\", \"OUTROS\", \"ENTIDADES EMPRESARIAIS\", \"ENTIDADES EMPRESARIAIS\", \"OUTROS\", \"OUTROS\", \"ENTIDADES EMPRESARIAIS\", \"ENTIDADES EMPRESARIAIS\", \"ENTIDADES EMPRESARIAIS\", \"ENTIDADES EMPRESARIAIS\", \"ENTIDADES EMPRESARIAIS\", \"ENTIDADES EMPRESARIAIS\", \"OUTROS\", \"ENTIDADES SEM FINS LUCRATIVOS\", \"ENTIDADES EMPRESARIAIS\", \"ENTIDADES EMPRESARIAIS\", \"ADMINISTRACAO PUBLICA\", \"ENTIDADES EMPRESARIAIS\", \"OUTROS\", \"ENTIDADES EMPRESARIAIS\", \"ENTIDADES EMPRESARIAIS\", \"OUTROS\", \"ENTIDADES EMPRESARIAIS\", \"ADMINISTRACAO PUBLICA\", \"ENTIDADES EMPRESARIAIS\", \"ADMINISTRACAO PUBLICA\", \"ENTIDADES EMPRESARIAIS\", \"ENTIDADES EMPRESARIAIS\", \"OUTROS\", \"OUTROS\", \"ENTIDADES EMPRESARIAIS\", \"ENTIDADES EMPRESARIAIS\", \"ENTIDADES EMPRESARIAIS\", \"ADMINISTRACAO PUBLICA\", \"ENTIDADES EMPRESARIAIS\", \"OUTROS\", \"ENTIDADES SEM FINS LUCRATIVOS\", \"OUTROS\", \"ENTIDADES EMPRESARIAIS\", \"ENTIDADES EMPRESARIAIS\", \"OUTROS\", \"OUTROS\", \"ENTIDADES EMPRESARIAIS\", \"ENTIDADES EMPRESARIAIS\", \"ENTIDADES EMPRESARIAIS\", \"OUTROS\", \"ENTIDADES EMPRESARIAIS\", \"OUTROS\", \"OUTROS\", \"ENTIDADES EMPRESARIAIS\", \"OUTROS\", \"ENTIDADES EMPRESARIAIS\", \"ENTIDADES SEM FINS LUCRATIVOS\", \"ENTIDADES EMPRESARIAIS\", \"ENTIDADES EMPRESARIAIS\", \"ENTIDADES SEM FINS LUCRATIVOS\", \"ENTIDADES EMPRESARIAIS\", \"ENTIDADES SEM FINS LUCRATIVOS\", \"OUTROS\", \"ENTIDADES EMPRESARIAIS\", \"ENTIDADES EMPRESARIAIS\", \"OUTROS\", \"OUTROS\", \"OUTROS\", \"ADMINISTRACAO PUBLICA\", \"ENTIDADES EMPRESARIAIS\", \"OUTROS\", \"ENTIDADES EMPRESARIAIS\", \"OUTROS\", \"ENTIDADES EMPRESARIAIS\", \"ENTIDADES EMPRESARIAIS\", \"ENTIDADES EMPRESARIAIS\", \"ENTIDADES EMPRESARIAIS\", \"OUTROS\", \"ENTIDADES EMPRESARIAIS\", \"ENTIDADES EMPRESARIAIS\", \"OUTROS\", \"ENTIDADES EMPRESARIAIS\", \"ENTIDADES EMPRESARIAIS\", \"ENTIDADES EMPRESARIAIS\", \"OUTROS\", \"OUTROS\", \"ENTIDADES EMPRESARIAIS\", \"ENTIDADES EMPRESARIAIS\", \"ENTIDADES EMPRESARIAIS\", \"ENTIDADES EMPRESARIAIS\", \"OUTROS\", \"ENTIDADES EMPRESARIAIS\", \"ENTIDADES EMPRESARIAIS\", \"OUTROS\", \"ENTIDADES EMPRESARIAIS\", \"ENTIDADES EMPRESARIAIS\", \"ADMINISTRACAO PUBLICA\", \"ENTIDADES EMPRESARIAIS\", \"ENTIDADES EMPRESARIAIS\", \"ENTIDADES EMPRESARIAIS\", \"ADMINISTRACAO PUBLICA\", \"ENTIDADES EMPRESARIAIS\", \"ENTIDADES EMPRESARIAIS\", \"ENTIDADES EMPRESARIAIS\", \"ENTIDADES EMPRESARIAIS\", \"ENTIDADES SEM FINS LUCRATIVOS\", \"ENTIDADES EMPRESARIAIS\", \"ENTIDADES EMPRESARIAIS\", \"ENTIDADES SEM FINS LUCRATIVOS\", \"ADMINISTRACAO PUBLICA\", \"ENTIDADES EMPRESARIAIS\", \"ENTIDADES EMPRESARIAIS\", \"OUTROS\", \"ENTIDADES EMPRESARIAIS\", \"ENTIDADES SEM FINS LUCRATIVOS\", \"ENTIDADES EMPRESARIAIS\", \"ENTIDADES EMPRESARIAIS\", \"OUTROS\", \"ENTIDADES EMPRESARIAIS\", \"OUTROS\", \"ADMINISTRACAO PUBLICA\", \"ENTIDADES EMPRESARIAIS\", \"ENTIDADES EMPRESARIAIS\", \"ENTIDADES EMPRESARIAIS\", \"ENTIDADES SEM FINS LUCRATIVOS\", \"ENTIDADES EMPRESARIAIS\", \"ENTIDADES SEM FINS LUCRATIVOS\", \"ENTIDADES EMPRESARIAIS\", \"ENTIDADES EMPRESARIAIS\", \"ENTIDADES EMPRESARIAIS\", \"OUTROS\", \"OUTROS\", \"ENTIDADES EMPRESARIAIS\", \"OUTROS\", \"ENTIDADES EMPRESARIAIS\", \"ENTIDADES EMPRESARIAIS\", \"ENTIDADES EMPRESARIAIS\", \"ENTIDADES EMPRESARIAIS\", \"ENTIDADES EMPRESARIAIS\", \"ENTIDADES EMPRESARIAIS\", \"ENTIDADES EMPRESARIAIS\", \"ENTIDADES EMPRESARIAIS\", \"ENTIDADES EMPRESARIAIS\", \"OUTROS\", \"OUTROS\", \"ENTIDADES EMPRESARIAIS\", \"ENTIDADES SEM FINS LUCRATIVOS\", \"ENTIDADES EMPRESARIAIS\", \"ENTIDADES EMPRESARIAIS\", \"ENTIDADES EMPRESARIAIS\", \"ENTIDADES EMPRESARIAIS\", \"ENTIDADES SEM FINS LUCRATIVOS\", \"ADMINISTRACAO PUBLICA\", \"ENTIDADES EMPRESARIAIS\", \"ADMINISTRACAO PUBLICA\", \"ENTIDADES EMPRESARIAIS\", \"ADMINISTRACAO PUBLICA\", \"OUTROS\", \"ENTIDADES EMPRESARIAIS\", \"ENTIDADES EMPRESARIAIS\", \"ENTIDADES EMPRESARIAIS\", \"ENTIDADES SEM FINS LUCRATIVOS\", \"ENTIDADES EMPRESARIAIS\", \"ENTIDADES EMPRESARIAIS\", \"ENTIDADES SEM FINS LUCRATIVOS\", \"ENTIDADES EMPRESARIAIS\", \"ENTIDADES EMPRESARIAIS\", \"ADMINISTRACAO PUBLICA\", \"OUTROS\", \"ENTIDADES EMPRESARIAIS\", \"ENTIDADES EMPRESARIAIS\", \"ENTIDADES EMPRESARIAIS\", \"OUTROS\", \"ENTIDADES EMPRESARIAIS\", \"OUTROS\", \"ENTIDADES EMPRESARIAIS\", \"ENTIDADES EMPRESARIAIS\", \"ENTIDADES EMPRESARIAIS\", \"ENTIDADES EMPRESARIAIS\", \"ENTIDADES EMPRESARIAIS\", \"OUTROS\", \"ENTIDADES EMPRESARIAIS\", \"ENTIDADES EMPRESARIAIS\", \"OUTROS\", \"OUTROS\", \"ENTIDADES EMPRESARIAIS\", \"ADMINISTRACAO PUBLICA\", \"ENTIDADES EMPRESARIAIS\", \"OUTROS\", \"ENTIDADES EMPRESARIAIS\", \"ENTIDADES SEM FINS LUCRATIVOS\", \"ENTIDADES SEM FINS LUCRATIVOS\", \"OUTROS\", \"ADMINISTRACAO PUBLICA\", \"ENTIDADES EMPRESARIAIS\", \"OUTROS\", \"ENTIDADES EMPRESARIAIS\", \"ENTIDADES SEM FINS LUCRATIVOS\", \"OUTROS\", \"OUTROS\", \"ENTIDADES EMPRESARIAIS\", \"ENTIDADES EMPRESARIAIS\", \"OUTROS\", \"ADMINISTRACAO PUBLICA\", \"ENTIDADES EMPRESARIAIS\", \"ENTIDADES EMPRESARIAIS\", \"ADMINISTRACAO PUBLICA\", \"ENTIDADES EMPRESARIAIS\", \"OUTROS\", \"ENTIDADES EMPRESARIAIS\", \"ADMINISTRACAO PUBLICA\", \"ADMINISTRACAO PUBLICA\", \"ENTIDADES EMPRESARIAIS\", \"ENTIDADES EMPRESARIAIS\", \"ENTIDADES EMPRESARIAIS\", \"ENTIDADES EMPRESARIAIS\", \"ENTIDADES EMPRESARIAIS\", \"ENTIDADES EMPRESARIAIS\", \"ENTIDADES EMPRESARIAIS\", \"ENTIDADES EMPRESARIAIS\", \"ENTIDADES EMPRESARIAIS\", \"OUTROS\", \"ENTIDADES EMPRESARIAIS\", \"ENTIDADES SEM FINS LUCRATIVOS\", \"ENTIDADES EMPRESARIAIS\", \"ENTIDADES EMPRESARIAIS\", \"ENTIDADES EMPRESARIAIS\", \"ENTIDADES EMPRESARIAIS\", \"ENTIDADES EMPRESARIAIS\", \"ENTIDADES EMPRESARIAIS\", \"OUTROS\", \"ENTIDADES EMPRESARIAIS\", \"ENTIDADES EMPRESARIAIS\", \"ENTIDADES EMPRESARIAIS\", \"ENTIDADES EMPRESARIAIS\", \"ENTIDADES EMPRESARIAIS\", \"ADMINISTRACAO PUBLICA\", \"ENTIDADES EMPRESARIAIS\", \"OUTROS\", \"ENTIDADES SEM FINS LUCRATIVOS\", \"OUTROS\", \"OUTROS\", \"OUTROS\", \"ENTIDADES EMPRESARIAIS\", \"ENTIDADES EMPRESARIAIS\", \"ENTIDADES EMPRESARIAIS\", \"ENTIDADES EMPRESARIAIS\", \"ENTIDADES EMPRESARIAIS\", \"OUTROS\", \"OUTROS\", \"ENTIDADES EMPRESARIAIS\", \"OUTROS\", \"OUTROS\", \"ENTIDADES EMPRESARIAIS\", \"ENTIDADES EMPRESARIAIS\", \"ENTIDADES EMPRESARIAIS\", \"ENTIDADES EMPRESARIAIS\", \"ADMINISTRACAO PUBLICA\", \"OUTROS\", \"ENTIDADES SEM FINS LUCRATIVOS\", \"ADMINISTRACAO PUBLICA\", \"ADMINISTRACAO PUBLICA\", \"OUTROS\", \"ADMINISTRACAO PUBLICA\", \"ADMINISTRACAO PUBLICA\", \"ENTIDADES SEM FINS LUCRATIVOS\", \"ENTIDADES EMPRESARIAIS\", \"ENTIDADES EMPRESARIAIS\", \"OUTROS\", \"ENTIDADES EMPRESARIAIS\", \"ENTIDADES EMPRESARIAIS\", \"ENTIDADES EMPRESARIAIS\", \"OUTROS\", \"ENTIDADES EMPRESARIAIS\", \"ADMINISTRACAO PUBLICA\", \"ENTIDADES EMPRESARIAIS\", \"OUTROS\", \"OUTROS\", \"ENTIDADES EMPRESARIAIS\", \"ENTIDADES EMPRESARIAIS\", \"ADMINISTRACAO PUBLICA\", \"ENTIDADES EMPRESARIAIS\", \"ENTIDADES EMPRESARIAIS\", \"ENTIDADES EMPRESARIAIS\", \"ENTIDADES EMPRESARIAIS\", \"ADMINISTRACAO PUBLICA\", \"ENTIDADES EMPRESARIAIS\", \"ENTIDADES SEM FINS LUCRATIVOS\", \"ENTIDADES EMPRESARIAIS\", \"ENTIDADES EMPRESARIAIS\", \"ENTIDADES EMPRESARIAIS\", \"ENTIDADES EMPRESARIAIS\", \"ENTIDADES EMPRESARIAIS\", \"ENTIDADES EMPRESARIAIS\", \"ENTIDADES SEM FINS LUCRATIVOS\", \"ENTIDADES EMPRESARIAIS\"]}], \"domain\": {\"x\": [0.0, 1.0], \"y\": [0.0, 1.0]}, \"line\": {\"color\": [11.243835616438355, 43.789041095890404, 16.389041095890413, 39.671232876712324, 20.268493150684925, 20.030136986301372, 18.906849315068488, 21.947945205479456, 19.610958904109584, 43.854794520547955, 43.865753424657534, 30.58082191780822, 11.805479452054794, 27.517808219178075, 17.36986301369863, 52.13698630136986, 11.035616438356163, 32.671232876712324, 13.441095890410958, 43.846575342465755, 14.643835616438356, 19.723287671232878, 16.273972602739725, 24.64931506849315, 43.865753424657534, 43.8, 13.649315068493149, 13.545205479452054, 21.528767123287672, 17.904109589041095, 31.082191780821923, 18.88493150684932, 10.504109589041096, 21.876712328767123, 19.60821917808219, 10.712328767123287, 44.56164383561644, 43.63561643835617, 32.78356164383562, 15.07123287671233, 14.964383561643837, 25.726027397260275, 26.18630136986301, 21.81643835616439, 19.95890410958904, 30.39178082191781, 11.917808219178085, 21.835616438356166, 21.835616438356166, 12.69041095890411, 28.484931506849318, 10.961643835616439, 21.83287671232877, 14.986301369863016, 20.046575342465754, 21.835616438356166, 14.4, 14.936986301369865, 45.81917808219178, 24.304109589041094, 16.756164383561643, 21.397260273972602, 26.34520547945205, 40.12876712328767, 21.835616438356166, 17.257534246575347, 20.158904109589038, 18.24931506849315, 13.780821917808215, 41.320547945205476, 45.728767123287675, 24.252054794520546, 15.75068493150685, 28.189041095890413, 43.56712328767122, 21.81643835616439, 21.81369863013699, 43.865753424657534, 24.14246575342466, 18.975342465753428, 21.835616438356166, 24.65205479452055, 28.468493150684928, 22.797260273972608, 35.109589041095894, 23.45205479452055, 21.835616438356166, 26.364383561643837, 12.232876712328768, 14.523287671232874, 43.8, 21.594520547945205, 27.627397260273966, 11.786301369863011, 34.797260273972604, 28.257534246575347, 20.912328767123288, 20.816438356164387, 21.895890410958906, 10.945205479452056, 24.786301369863008, 21.835616438356166, 43.835616438356155, 12.556164383561645, 11.676712328767126, 43.865753424657534, 38.630136986301366, 41.85205479452055, 16.832876712328765, 43.854794520547955, 21.265753424657536, 27.358904109589037, 43.865753424657534, 43.41095890410959, 25.441095890410963, 13.035616438356163, 21.835616438356166, 36.6, 39.249315068493146, 13.038356164383561, 31.94794520547945, 17.441095890410963, 22.695890410958906, 21.835616438356166, 13.835616438356164, 25.684931506849317, 43.854794520547955, 15.216438356164383, 43.832876712328776, 24.61917808219178, 24.213698630136985, 25.463013698630142, 27.4027397260274, 43.813698630136976, 43.18082191780822, 28.841095890410962, 20.90958904109589, 38.016438356164386, 43.07123287671233, 15.893150684931507, 14.167123287671233, 50.95342465753425, 16.413698630136988, 41.202739726027396, 41.83835616438356, 29.75342465753425, 43.865753424657534, 23.35342465753425, 28.32054794520548, 27.54520547945205, 14.665753424657536, 32.6, 25.884931506849323, 24.824657534246573, 43.8, 40.610958904109594, 10.967123287671232, 43.854794520547955, 36.298630136986304, 11.246575342465754, 42.435616438356156, 31.80821917808219, 44.336986301369855, 22.09041095890411, 14.128767123287673, 22.232876712328768, 33.97534246575343, 28.298630136986297, 47.91506849315069, 23.906849315068488, 18.268493150684925, 17.767123287671236, 11.024657534246575, 21.75890410958904, 37.315068493150676, 30.117808219178084, 16.506849315068493, 10.904109589041095, 17.846575342465755, 13.69041095890411, 50.336986301369855, 30.317808219178087, 36.5013698630137, 40.59178082191781, 21.835616438356166, 52.273972602739725, 43.87671232876714, 48.94794520547945, 31.882191780821923, 21.76438356164384, 32.52054794520548, 43.750684931506854, 21.835616438356166, 44.08219178082192, 21.835616438356166, 29.83835616438356, 39.08219178082192, 13.191780821917806, 50.66027397260274, 31.693150684931503, 29.23835616438356, 11.915068493150685, 20.413698630136988, 14.41917808219178, 43.86849315068493, 15.753424657534245, 24.334246575342465, 43.854794520547955, 24.172602739726035, 44.84383561643836, 22.526027397260275, 21.835616438356166, 21.14794520547945, 42.04657534246575, 43.854794520547955, 45.73698630136986, 20.997260273972607, 39.865753424657534, 43.854794520547955, 11.17260273972603, 10.89041095890411, 28.13972602739726, 43.83013698630136, 24.4, 21.83287671232877, 44.605479452054794, 17.709589041095892, 33.821917808219176, 18.975342465753428, 20.28493150684932, 16.34794520547945, 21.66575342465753, 21.81369863013699, 39.61643835616439, 15.931506849315069, 19.520547945205482, 33.07671232876712, 22.136986301369863, 35.85205479452055, 22.85205479452055, 12.816438356164383, 12.416438356164385, 17.756164383561643, 25.2054794520548, 43.320547945205476, 41.30684931506849, 31.06027397260274, 21.83287671232877, 23.098630136986298, 35.186301369863024, 19.76438356164384, 47.175342465753424, 27.446575342465753, 14.219178082191785, 14.046575342465756, 43.85753424657535, 10.038356164383561, 43.854794520547955, 48.41643835616439, 14.2986301369863, 16.243835616438357, 22.487671232876714, 32.35890410958904, 18.304109589041094, 41.2958904109589, 24.602739726027398, 14.454794520547946, 28.334246575342465, 40.84109589041096, 15.635616438356163, 15.775342465753427, 17.084931506849315, 43.86849315068493, 43.41369863013698, 30.44383561643836, 43.865753424657534, 31.4027397260274, 23.079452054794523, 43.87671232876714, 21.624657534246573, 26.78082191780822, 35.18904109589041, 11.76986301369863, 25.306849315068487, 20.630136986301373, 13.58904109589041, 12.693150684931505, 48.43287671232878, 15.027397260273972, 10.323287671232876, 15.397260273972602, 13.876712328767125, 47.42465753424658, 32.632876712328766, 18.128767123287673, 21.81643835616439, 28.315068493150694, 43.88767123287671, 23.923287671232877, 25.81643835616439, 10.961643835616439, 15.58082191780822, 43.865753424657534, 21.835616438356166, 17.923287671232874, 21.945205479452056, 14.126027397260273, 47.26301369863014, 14.320547945205481, 33.3041095890411, 18.572602739726022, 34.81369863013698, 23.115068493150684, 25.819178082191783, 13.032876712328768, 14.484931506849316, 18.194520547945206, 10.87945205479452, 30.421917808219174, 44.51780821917808, 34.28767123287671, 12.920547945205481, 43.86849315068493, 18.473972602739728, 41.057534246575344, 30.76986301369863, 26.05205479452055, 37.40821917808219, 31.52054794520548, 23.5972602739726, 26.802739726027397, 12.512328767123286, 51.80821917808219, 20.898630136986306, 17.827397260273973, 15.257534246575347, 31.83013698630137, 43.86849315068493, 11.553424657534249, 49.397260273972606, 43.86849315068493, 24.39178082191781, 21.871232876712327, 41.48767123287672, 22.446575342465753, 38.14246575342465, 36.049315068493144, 43.87671232876714, 26.49041095890411, 14.276712328767125, 21.83287671232877, 36.08767123287672, 25.73150684931507, 28.13150684931507, 43.58904109589041, 23.56164383561644, 19.528767123287672, 10.065753424657537, 21.82191780821918, 39.638356164383566, 43.854794520547955, 16.479452054794518, 29.720547945205478, 39.654794520547945, 40.09041095890411, 15.676712328767126, 15.065753424657535, 19.97808219178082, 51.33424657534246, 26.41369863013699, 42.52328767123288, 30.4027397260274, 14.449315068493151, 14.397260273972602, 13.652054794520547, 39.654794520547945, 19.397260273972602, 22.45205479452055, 18.51232876712329, 14.950684931506851, 42.93150684931507, 22.10958904109589, 44.67123287671233, 10.364383561643837, 18.51780821917808, 10.936986301369863, 13.767123287671232, 21.83287671232877, 19.75068493150685, 20.876712328767127, 19.980821917808214, 17.802739726027394, 15.547945205479452, 34.14794520547945, 51.673972602739724, 39.671232876712324, 26.249315068493146, 17.405479452054795, 19.91506849315068, 20.613698630136987, 15.068493150684931, 42.04657534246575, 11.805479452054794, 43.854794520547955, 11.863013698630136, 25.589041095890412, 14.876712328767125, 27.704109589041096, 39.350684931506855, 17.709589041095892, 47.167123287671224, 43.15616438356165, 12.7013698630137, 21.83287671232877, 13.441095890410958, 18.783561643835615, 43.85205479452055, 17.345205479452055, 28.928767123287674, 20.413698630136988, 12.972602739726028, 48.85753424657535, 38.610958904109594, 55.12602739726027, 43.854794520547955, 31.082191780821923, 20.895890410958906, 36.983561643835614, 25.454794520547942, 19.594520547945205, 20.531506849315072, 39.21369863013699, 13.96986301369863, 17.07945205479452, 18.638356164383566, 20.65205479452055, 14.893150684931507, 25.60821917808219, 25.895890410958906, 21.416438356164385, 35.23561643835617, 23.19178082191781, 21.82191780821918, 21.04383561643836, 43.87671232876714, 19.02191780821918, 13.460273972602739, 39.35890410958904, 51.85205479452055, 18.78082191780822, 21.01095890410959, 41.77534246575343, 39.36712328767123, 43.865753424657534, 43.865753424657534, 36.339726027397255, 15.75068493150685, 20.51232876712329, 23.31232876712329, 30.52054794520548, 18.51232876712329, 12.586301369863017, 21.835616438356166, 11.668493150684931, 20.12328767123288, 43.854794520547955, 33.36164383561644, 18.942465753424656, 43.854794520547955, 43.87671232876714, 34.43013698630137, 12.095890410958905, 26.495890410958904, 12.797260273972602, 26.213698630136985, 11.920547945205481, 21.372602739726027, 24.942465753424653, 48.78356164383562, 26.36164383561644, 27.66575342465753, 40.08767123287672, 31.93972602739726, 12.098630136986301, 29.794520547945204, 21.583561643835612, 31.446575342465753, 38.62191780821918, 22.926027397260274, 15.838356164383562, 10.898630136986304, 21.835616438356166, 27.317808219178087, 47.528767123287665, 11.887671232876713, 26.383561643835613, 21.24109589041096, 21.317808219178087, 38.76986301369863, 19.364383561643837, 26.49041095890411, 17.08219178082192, 46.098630136986294, 19.68219178082192, 26.36164383561644, 14.950684931506851, 23.31232876712329, 11.926027397260276, 39.704109589041096, 50.92876712328767, 23.076712328767123, 24.578082191780826, 26.221917808219175, 20.668493150684927, 19.473972602739728, 11.07123287671233, 11.29041095890411, 35.419178082191785, 39.750684931506854, 43.813698630136976, 10.284931506849317, 43.78082191780822, 21.871232876712327, 20.493150684931507, 45.09315068493151, 29.99178082191781, 20.21917808219178, 17.660273972602738, 14.802739726027394, 43.835616438356155, 39.52328767123288, 11.882191780821916, 43.87671232876714, 15.854794520547946, 21.83287671232877, 11.07123287671233, 21.50958904109589, 18.169863013698627, 35.698630136986296, 45.10136986301371, 24.17808219178082, 40.652054794520545, 43.854794520547955, 24.10958904109589, 19.654794520547945, 26.64931506849315, 43.85753424657535, 43.53972602739726, 13.972602739726028, 18.93972602739726, 19.843835616438355, 19.76164383561644, 33.4027397260274, 41.09041095890411, 26.682191780821924, 17.846575342465755, 40.72054794520548, 11.726027397260275, 52.03561643835617, 42.72328767123288, 12.745205479452055, 10.794520547945206, 15.583561643835615, 23.698630136986303, 18.58082191780822, 41.164383561643845], \"coloraxis\": \"coloraxis\"}, \"name\": \"\", \"type\": \"parcats\"}],\n",
              "                        {\"coloraxis\": {\"colorbar\": {\"title\": {\"text\": \"idade_empresa_anos\"}}, \"colorscale\": [[0.0, \"#000004\"], [0.1111111111111111, \"#1b0c41\"], [0.2222222222222222, \"#4a0c6b\"], [0.3333333333333333, \"#781c6d\"], [0.4444444444444444, \"#a52c60\"], [0.5555555555555556, \"#cf4446\"], [0.6666666666666666, \"#ed6925\"], [0.7777777777777778, \"#fb9b06\"], [0.8888888888888888, \"#f7d13d\"], [1.0, \"#fcffa4\"]]}, \"height\": 500, \"legend\": {\"tracegroupgap\": 0}, \"margin\": {\"t\": 60}, \"template\": {\"data\": {\"bar\": [{\"error_x\": {\"color\": \"#2a3f5f\"}, \"error_y\": {\"color\": \"#2a3f5f\"}, \"marker\": {\"line\": {\"color\": \"#E5ECF6\", \"width\": 0.5}}, \"type\": \"bar\"}], \"barpolar\": [{\"marker\": {\"line\": {\"color\": \"#E5ECF6\", \"width\": 0.5}}, \"type\": \"barpolar\"}], \"carpet\": [{\"aaxis\": {\"endlinecolor\": \"#2a3f5f\", \"gridcolor\": \"white\", \"linecolor\": \"white\", \"minorgridcolor\": \"white\", \"startlinecolor\": \"#2a3f5f\"}, \"baxis\": {\"endlinecolor\": \"#2a3f5f\", \"gridcolor\": \"white\", \"linecolor\": \"white\", \"minorgridcolor\": \"white\", \"startlinecolor\": \"#2a3f5f\"}, \"type\": \"carpet\"}], \"choropleth\": [{\"colorbar\": {\"outlinewidth\": 0, \"ticks\": \"\"}, \"type\": \"choropleth\"}], \"contour\": [{\"colorbar\": {\"outlinewidth\": 0, \"ticks\": \"\"}, \"colorscale\": [[0.0, \"#0d0887\"], [0.1111111111111111, \"#46039f\"], [0.2222222222222222, \"#7201a8\"], [0.3333333333333333, \"#9c179e\"], [0.4444444444444444, \"#bd3786\"], [0.5555555555555556, \"#d8576b\"], [0.6666666666666666, \"#ed7953\"], [0.7777777777777778, \"#fb9f3a\"], [0.8888888888888888, \"#fdca26\"], [1.0, \"#f0f921\"]], \"type\": \"contour\"}], \"contourcarpet\": [{\"colorbar\": {\"outlinewidth\": 0, \"ticks\": \"\"}, \"type\": \"contourcarpet\"}], \"heatmap\": [{\"colorbar\": {\"outlinewidth\": 0, \"ticks\": \"\"}, \"colorscale\": [[0.0, \"#0d0887\"], [0.1111111111111111, \"#46039f\"], [0.2222222222222222, \"#7201a8\"], [0.3333333333333333, \"#9c179e\"], [0.4444444444444444, \"#bd3786\"], [0.5555555555555556, \"#d8576b\"], [0.6666666666666666, \"#ed7953\"], [0.7777777777777778, \"#fb9f3a\"], [0.8888888888888888, \"#fdca26\"], [1.0, \"#f0f921\"]], \"type\": \"heatmap\"}], \"heatmapgl\": [{\"colorbar\": {\"outlinewidth\": 0, \"ticks\": \"\"}, \"colorscale\": [[0.0, \"#0d0887\"], [0.1111111111111111, \"#46039f\"], [0.2222222222222222, \"#7201a8\"], [0.3333333333333333, \"#9c179e\"], [0.4444444444444444, \"#bd3786\"], [0.5555555555555556, \"#d8576b\"], [0.6666666666666666, \"#ed7953\"], [0.7777777777777778, \"#fb9f3a\"], [0.8888888888888888, \"#fdca26\"], [1.0, \"#f0f921\"]], \"type\": \"heatmapgl\"}], \"histogram\": [{\"marker\": {\"colorbar\": {\"outlinewidth\": 0, \"ticks\": \"\"}}, \"type\": \"histogram\"}], \"histogram2d\": [{\"colorbar\": {\"outlinewidth\": 0, \"ticks\": \"\"}, \"colorscale\": [[0.0, \"#0d0887\"], [0.1111111111111111, \"#46039f\"], [0.2222222222222222, \"#7201a8\"], [0.3333333333333333, \"#9c179e\"], [0.4444444444444444, \"#bd3786\"], [0.5555555555555556, \"#d8576b\"], [0.6666666666666666, \"#ed7953\"], [0.7777777777777778, \"#fb9f3a\"], [0.8888888888888888, \"#fdca26\"], [1.0, \"#f0f921\"]], \"type\": \"histogram2d\"}], \"histogram2dcontour\": [{\"colorbar\": {\"outlinewidth\": 0, \"ticks\": \"\"}, \"colorscale\": [[0.0, \"#0d0887\"], [0.1111111111111111, \"#46039f\"], [0.2222222222222222, \"#7201a8\"], [0.3333333333333333, \"#9c179e\"], [0.4444444444444444, \"#bd3786\"], [0.5555555555555556, \"#d8576b\"], [0.6666666666666666, \"#ed7953\"], [0.7777777777777778, \"#fb9f3a\"], [0.8888888888888888, \"#fdca26\"], [1.0, \"#f0f921\"]], \"type\": \"histogram2dcontour\"}], \"mesh3d\": [{\"colorbar\": {\"outlinewidth\": 0, \"ticks\": \"\"}, \"type\": \"mesh3d\"}], \"parcoords\": [{\"line\": {\"colorbar\": {\"outlinewidth\": 0, \"ticks\": \"\"}}, \"type\": \"parcoords\"}], \"pie\": [{\"automargin\": true, \"type\": \"pie\"}], \"scatter\": [{\"marker\": {\"colorbar\": {\"outlinewidth\": 0, \"ticks\": \"\"}}, \"type\": \"scatter\"}], \"scatter3d\": [{\"line\": {\"colorbar\": {\"outlinewidth\": 0, \"ticks\": \"\"}}, \"marker\": {\"colorbar\": {\"outlinewidth\": 0, \"ticks\": \"\"}}, \"type\": \"scatter3d\"}], \"scattercarpet\": [{\"marker\": {\"colorbar\": {\"outlinewidth\": 0, \"ticks\": \"\"}}, \"type\": \"scattercarpet\"}], \"scattergeo\": [{\"marker\": {\"colorbar\": {\"outlinewidth\": 0, \"ticks\": \"\"}}, \"type\": \"scattergeo\"}], \"scattergl\": [{\"marker\": {\"colorbar\": {\"outlinewidth\": 0, \"ticks\": \"\"}}, \"type\": \"scattergl\"}], \"scattermapbox\": [{\"marker\": {\"colorbar\": {\"outlinewidth\": 0, \"ticks\": \"\"}}, \"type\": \"scattermapbox\"}], \"scatterpolar\": [{\"marker\": {\"colorbar\": {\"outlinewidth\": 0, \"ticks\": \"\"}}, \"type\": \"scatterpolar\"}], \"scatterpolargl\": [{\"marker\": {\"colorbar\": {\"outlinewidth\": 0, \"ticks\": \"\"}}, \"type\": \"scatterpolargl\"}], \"scatterternary\": [{\"marker\": {\"colorbar\": {\"outlinewidth\": 0, \"ticks\": \"\"}}, \"type\": \"scatterternary\"}], \"surface\": [{\"colorbar\": {\"outlinewidth\": 0, \"ticks\": \"\"}, \"colorscale\": [[0.0, \"#0d0887\"], [0.1111111111111111, \"#46039f\"], [0.2222222222222222, \"#7201a8\"], [0.3333333333333333, \"#9c179e\"], [0.4444444444444444, \"#bd3786\"], [0.5555555555555556, \"#d8576b\"], [0.6666666666666666, \"#ed7953\"], [0.7777777777777778, \"#fb9f3a\"], [0.8888888888888888, \"#fdca26\"], [1.0, \"#f0f921\"]], \"type\": \"surface\"}], \"table\": [{\"cells\": {\"fill\": {\"color\": \"#EBF0F8\"}, \"line\": {\"color\": \"white\"}}, \"header\": {\"fill\": {\"color\": \"#C8D4E3\"}, \"line\": {\"color\": \"white\"}}, \"type\": \"table\"}]}, \"layout\": {\"annotationdefaults\": {\"arrowcolor\": \"#2a3f5f\", \"arrowhead\": 0, \"arrowwidth\": 1}, \"coloraxis\": {\"colorbar\": {\"outlinewidth\": 0, \"ticks\": \"\"}}, \"colorscale\": {\"diverging\": [[0, \"#8e0152\"], [0.1, \"#c51b7d\"], [0.2, \"#de77ae\"], [0.3, \"#f1b6da\"], [0.4, \"#fde0ef\"], [0.5, \"#f7f7f7\"], [0.6, \"#e6f5d0\"], [0.7, \"#b8e186\"], [0.8, \"#7fbc41\"], [0.9, \"#4d9221\"], [1, \"#276419\"]], \"sequential\": [[0.0, \"#0d0887\"], [0.1111111111111111, \"#46039f\"], [0.2222222222222222, \"#7201a8\"], [0.3333333333333333, \"#9c179e\"], [0.4444444444444444, \"#bd3786\"], [0.5555555555555556, \"#d8576b\"], [0.6666666666666666, \"#ed7953\"], [0.7777777777777778, \"#fb9f3a\"], [0.8888888888888888, \"#fdca26\"], [1.0, \"#f0f921\"]], \"sequentialminus\": [[0.0, \"#0d0887\"], [0.1111111111111111, \"#46039f\"], [0.2222222222222222, \"#7201a8\"], [0.3333333333333333, \"#9c179e\"], [0.4444444444444444, \"#bd3786\"], [0.5555555555555556, \"#d8576b\"], [0.6666666666666666, \"#ed7953\"], [0.7777777777777778, \"#fb9f3a\"], [0.8888888888888888, \"#fdca26\"], [1.0, \"#f0f921\"]]}, \"colorway\": [\"#636efa\", \"#EF553B\", \"#00cc96\", \"#ab63fa\", \"#FFA15A\", \"#19d3f3\", \"#FF6692\", \"#B6E880\", \"#FF97FF\", \"#FECB52\"], \"font\": {\"color\": \"#2a3f5f\"}, \"geo\": {\"bgcolor\": \"white\", \"lakecolor\": \"white\", \"landcolor\": \"#E5ECF6\", \"showlakes\": true, \"showland\": true, \"subunitcolor\": \"white\"}, \"hoverlabel\": {\"align\": \"left\"}, \"hovermode\": \"closest\", \"mapbox\": {\"style\": \"light\"}, \"paper_bgcolor\": \"white\", \"plot_bgcolor\": \"#E5ECF6\", \"polar\": {\"angularaxis\": {\"gridcolor\": \"white\", \"linecolor\": \"white\", \"ticks\": \"\"}, \"bgcolor\": \"#E5ECF6\", \"radialaxis\": {\"gridcolor\": \"white\", \"linecolor\": \"white\", \"ticks\": \"\"}}, \"scene\": {\"xaxis\": {\"backgroundcolor\": \"#E5ECF6\", \"gridcolor\": \"white\", \"gridwidth\": 2, \"linecolor\": \"white\", \"showbackground\": true, \"ticks\": \"\", \"zerolinecolor\": \"white\"}, \"yaxis\": {\"backgroundcolor\": \"#E5ECF6\", \"gridcolor\": \"white\", \"gridwidth\": 2, \"linecolor\": \"white\", \"showbackground\": true, \"ticks\": \"\", \"zerolinecolor\": \"white\"}, \"zaxis\": {\"backgroundcolor\": \"#E5ECF6\", \"gridcolor\": \"white\", \"gridwidth\": 2, \"linecolor\": \"white\", \"showbackground\": true, \"ticks\": \"\", \"zerolinecolor\": \"white\"}}, \"shapedefaults\": {\"line\": {\"color\": \"#2a3f5f\"}}, \"ternary\": {\"aaxis\": {\"gridcolor\": \"white\", \"linecolor\": \"white\", \"ticks\": \"\"}, \"baxis\": {\"gridcolor\": \"white\", \"linecolor\": \"white\", \"ticks\": \"\"}, \"bgcolor\": \"#E5ECF6\", \"caxis\": {\"gridcolor\": \"white\", \"linecolor\": \"white\", \"ticks\": \"\"}}, \"title\": {\"x\": 0.05}, \"xaxis\": {\"automargin\": true, \"gridcolor\": \"white\", \"linecolor\": \"white\", \"ticks\": \"\", \"title\": {\"standoff\": 15}, \"zerolinecolor\": \"white\", \"zerolinewidth\": 2}, \"yaxis\": {\"automargin\": true, \"gridcolor\": \"white\", \"linecolor\": \"white\", \"ticks\": \"\", \"title\": {\"standoff\": 15}, \"zerolinecolor\": \"white\", \"zerolinewidth\": 2}}}, \"width\": 1000},\n",
              "                        {\"responsive\": true}\n",
              "                    ).then(function(){\n",
              "                            \n",
              "var gd = document.getElementById('be759fe5-5ef8-4cbe-bf21-a01b139b6a7e');\n",
              "var x = new MutationObserver(function (mutations, observer) {{\n",
              "        var display = window.getComputedStyle(gd).display;\n",
              "        if (!display || display === 'none') {{\n",
              "            console.log([gd, 'removed!']);\n",
              "            Plotly.purge(gd);\n",
              "            observer.disconnect();\n",
              "        }}\n",
              "}});\n",
              "\n",
              "// Listen for the removal of the full notebook cells\n",
              "var notebookContainer = gd.closest('#notebook-container');\n",
              "if (notebookContainer) {{\n",
              "    x.observe(notebookContainer, {childList: true});\n",
              "}}\n",
              "\n",
              "// Listen for the clearing of the current output cell\n",
              "var outputEl = gd.closest('.output');\n",
              "if (outputEl) {{\n",
              "    x.observe(outputEl, {childList: true});\n",
              "}}\n",
              "\n",
              "                        })\n",
              "                };\n",
              "                \n",
              "            </script>\n",
              "        </div>\n",
              "</body>\n",
              "</html>"
            ]
          },
          "metadata": {
            "tags": []
          }
        }
      ]
    },
    {
      "cell_type": "code",
      "metadata": {
        "id": "SonEvG0elxSn",
        "colab_type": "code",
        "colab": {
          "base_uri": "https://localhost:8080/",
          "height": 517
        },
        "outputId": "1a1d2175-0992-4ff3-eb0b-003cfaf302fd"
      },
      "source": [
        "portfolio_leads = 'portfolio{}_leads.csv'\n",
        "\n",
        "cols = ['setor', 'de_ramo', 'natureza_juridica_macro']\n",
        "value = 'idade_empresa_anos'\n",
        "\n",
        "portfolio_leads_ = get_user_companies(path, portfolio_leads.format(2)).reset_index()\n",
        "user_leads = pd.merge(portfolio_leads_[['id']], market, on='id', how='inner', left_index=True)\n",
        "px.parallel_categories(user_leads.iloc[:len(user_companies)] , \n",
        "                       dimensions = cols,\n",
        "                       color=value, \n",
        "                       color_continuous_scale=px.colors.sequential.Inferno)"
      ],
      "execution_count": 67,
      "outputs": [
        {
          "output_type": "display_data",
          "data": {
            "text/html": [
              "<html>\n",
              "<head><meta charset=\"utf-8\" /></head>\n",
              "<body>\n",
              "    <div>\n",
              "            <script src=\"https://cdnjs.cloudflare.com/ajax/libs/mathjax/2.7.5/MathJax.js?config=TeX-AMS-MML_SVG\"></script><script type=\"text/javascript\">if (window.MathJax) {MathJax.Hub.Config({SVG: {font: \"STIX-Web\"}});}</script>\n",
              "                <script type=\"text/javascript\">window.PlotlyConfig = {MathJaxConfig: 'local'};</script>\n",
              "        <script src=\"https://cdn.plot.ly/plotly-latest.min.js\"></script>    \n",
              "            <div id=\"dfa4dc8a-14df-40fc-88aa-8da64d84d43c\" class=\"plotly-graph-div\" style=\"height:500px; width:1000px;\"></div>\n",
              "            <script type=\"text/javascript\">\n",
              "                \n",
              "                    window.PLOTLYENV=window.PLOTLYENV || {};\n",
              "                    \n",
              "                if (document.getElementById(\"dfa4dc8a-14df-40fc-88aa-8da64d84d43c\")) {\n",
              "                    Plotly.newPlot(\n",
              "                        'dfa4dc8a-14df-40fc-88aa-8da64d84d43c',\n",
              "                        [{\"dimensions\": [{\"label\": \"setor\", \"values\": [\"SERVI\\u00c7O\", \"SERVI\\u00c7O\", \"SERVI\\u00c7O\", \"SERVI\\u00c7O\", \"SERVI\\u00c7O\", \"SERVI\\u00c7O\", \"SERVI\\u00c7O\", \"SERVI\\u00c7O\", \"SERVI\\u00c7O\", \"SERVI\\u00c7O\", \"SERVI\\u00c7O\", \"SERVI\\u00c7O\", \"SERVI\\u00c7O\", \"SERVI\\u00c7O\", \"SERVI\\u00c7O\", \"SERVI\\u00c7O\", \"SERVI\\u00c7O\", \"SERVI\\u00c7O\", \"SERVI\\u00c7O\", \"SERVI\\u00c7O\", \"SERVI\\u00c7O\", \"SERVI\\u00c7O\", \"SERVI\\u00c7O\", \"SERVI\\u00c7O\", \"SERVI\\u00c7O\", \"SERVI\\u00c7O\", \"SERVI\\u00c7O\", \"SERVI\\u00c7O\", \"SERVI\\u00c7O\", \"SERVI\\u00c7O\", \"SERVI\\u00c7O\", \"SERVI\\u00c7O\", \"SERVI\\u00c7O\", \"SERVI\\u00c7O\", \"SERVI\\u00c7O\", \"SERVI\\u00c7O\", \"SERVI\\u00c7O\", \"SERVI\\u00c7O\", \"SERVI\\u00c7O\", \"SERVI\\u00c7O\", \"SERVI\\u00c7O\", \"SERVI\\u00c7O\", \"SERVI\\u00c7O\", \"SERVI\\u00c7O\", \"SERVI\\u00c7O\", \"SERVI\\u00c7O\", \"SERVI\\u00c7O\", \"SERVI\\u00c7O\", \"SERVI\\u00c7O\", \"SERVI\\u00c7O\", \"SERVI\\u00c7O\", \"SERVI\\u00c7O\", \"SERVI\\u00c7O\", \"SERVI\\u00c7O\", \"SERVI\\u00c7O\", \"SERVI\\u00c7O\", \"SERVI\\u00c7O\", \"SERVI\\u00c7O\", \"SERVI\\u00c7O\", \"SERVI\\u00c7O\", \"SERVI\\u00c7O\", \"SERVI\\u00c7O\", \"SERVI\\u00c7O\", \"SERVI\\u00c7O\", \"SERVI\\u00c7O\", \"SERVI\\u00c7O\", \"SERVI\\u00c7O\", \"SERVI\\u00c7O\", \"SERVI\\u00c7O\", \"SERVI\\u00c7O\", \"SERVI\\u00c7O\", \"SERVI\\u00c7O\", \"SERVI\\u00c7O\", \"SERVI\\u00c7O\", \"SERVI\\u00c7O\", \"SERVI\\u00c7O\", \"SERVI\\u00c7O\", \"SERVI\\u00c7O\", \"SERVI\\u00c7O\", \"SERVI\\u00c7O\", \"SERVI\\u00c7O\", \"SERVI\\u00c7O\", \"SERVI\\u00c7O\", \"SERVI\\u00c7O\", \"SERVI\\u00c7O\", \"SERVI\\u00c7O\", \"SERVI\\u00c7O\", \"SERVI\\u00c7O\", \"SERVI\\u00c7O\", \"SERVI\\u00c7O\", \"SERVI\\u00c7O\", \"SERVI\\u00c7O\", \"SERVI\\u00c7O\", \"SERVI\\u00c7O\", \"SERVI\\u00c7O\", \"SERVI\\u00c7O\", \"SERVI\\u00c7O\", \"SERVI\\u00c7O\", \"SERVI\\u00c7O\", \"SERVI\\u00c7O\", \"SERVI\\u00c7O\", \"SERVI\\u00c7O\", \"SERVI\\u00c7O\", \"SERVI\\u00c7O\", \"SERVI\\u00c7O\", \"SERVI\\u00c7O\", \"SERVI\\u00c7O\", \"SERVI\\u00c7O\", \"SERVI\\u00c7O\", \"SERVI\\u00c7O\", \"SERVI\\u00c7O\", \"SERVI\\u00c7O\", \"SERVI\\u00c7O\", \"SERVI\\u00c7O\", \"SERVI\\u00c7O\", \"SERVI\\u00c7O\", \"SERVI\\u00c7O\", \"SERVI\\u00c7O\", \"SERVI\\u00c7O\", \"SERVI\\u00c7O\", \"SERVI\\u00c7O\", \"SERVI\\u00c7O\", \"SERVI\\u00c7O\", \"SERVI\\u00c7O\", \"SERVI\\u00c7O\", \"SERVI\\u00c7O\", \"SERVI\\u00c7O\", \"SERVI\\u00c7O\", \"SERVI\\u00c7O\", \"SERVI\\u00c7O\", \"SERVI\\u00c7O\", \"SERVI\\u00c7O\", \"SERVI\\u00c7O\", \"SERVI\\u00c7O\", \"SERVI\\u00c7O\", \"SERVI\\u00c7O\", \"SERVI\\u00c7O\", \"SERVI\\u00c7O\", \"SERVI\\u00c7O\", \"SERVI\\u00c7O\", \"SERVI\\u00c7O\", \"SERVI\\u00c7O\", \"SERVI\\u00c7O\", \"SERVI\\u00c7O\", \"SERVI\\u00c7O\", \"SERVI\\u00c7O\", \"SERVI\\u00c7O\", \"SERVI\\u00c7O\", \"SERVI\\u00c7O\", \"SERVI\\u00c7O\", \"SERVI\\u00c7O\", \"SERVI\\u00c7O\", \"SERVI\\u00c7O\", \"SERVI\\u00c7O\", \"SERVI\\u00c7O\", \"SERVI\\u00c7O\", \"SERVI\\u00c7O\", \"SERVI\\u00c7O\", \"SERVI\\u00c7O\", \"SERVI\\u00c7O\", \"SERVI\\u00c7O\", \"SERVI\\u00c7O\", \"SERVI\\u00c7O\", \"SERVI\\u00c7O\", \"SERVI\\u00c7O\", \"SERVI\\u00c7O\", \"SERVI\\u00c7O\", \"SERVI\\u00c7O\", \"SERVI\\u00c7O\", \"SERVI\\u00c7O\", \"SERVI\\u00c7O\", \"SERVI\\u00c7O\", \"SERVI\\u00c7O\", \"SERVI\\u00c7O\", \"SERVI\\u00c7O\", \"SERVI\\u00c7O\", \"SERVI\\u00c7O\", \"COMERCIO\", \"SERVI\\u00c7O\", \"SERVI\\u00c7O\", \"SERVI\\u00c7O\", \"SERVI\\u00c7O\", \"SERVI\\u00c7O\", \"SERVI\\u00c7O\", \"SERVI\\u00c7O\", \"SERVI\\u00c7O\", \"SERVI\\u00c7O\", \"SERVI\\u00c7O\", \"COMERCIO\", \"SERVI\\u00c7O\", \"SERVI\\u00c7O\", \"COMERCIO\", \"SERVI\\u00c7O\", \"SERVI\\u00c7O\", \"SERVI\\u00c7O\", \"SERVI\\u00c7O\", \"SERVI\\u00c7O\", \"SERVI\\u00c7O\", \"SERVI\\u00c7O\", \"SERVI\\u00c7O\", \"SERVI\\u00c7O\", \"SERVI\\u00c7O\", \"SERVI\\u00c7O\", \"SERVI\\u00c7O\", \"COMERCIO\", \"COMERCIO\", \"SERVI\\u00c7O\", \"SERVI\\u00c7O\", \"SERVI\\u00c7O\", \"CONSTRU\\u00c7\\u00c3O CIVIL\", \"INDUSTRIA\", \"COMERCIO\", \"CONSTRU\\u00c7\\u00c3O CIVIL\", \"COMERCIO\", \"SERVI\\u00c7O\", \"INDUSTRIA\", \"CONSTRU\\u00c7\\u00c3O CIVIL\", \"CONSTRU\\u00c7\\u00c3O CIVIL\", \"SERVI\\u00c7O\", \"SERVI\\u00c7O\", \"INDUSTRIA\", \"COMERCIO\", \"SERVI\\u00c7O\", \"SERVI\\u00c7O\", \"CONSTRU\\u00c7\\u00c3O CIVIL\", \"COMERCIO\", \"SERVI\\u00c7O\", \"SERVI\\u00c7O\", \"SERVI\\u00c7O\", \"CONSTRU\\u00c7\\u00c3O CIVIL\", \"INDUSTRIA\", \"SERVI\\u00c7O\", \"CONSTRU\\u00c7\\u00c3O CIVIL\", \"INDUSTRIA\", \"SERVI\\u00c7O\", \"INDUSTRIA\", \"SERVI\\u00c7O\", \"COMERCIO\", \"COMERCIO\", \"CONSTRU\\u00c7\\u00c3O CIVIL\", \"INDUSTRIA\", \"CONSTRU\\u00c7\\u00c3O CIVIL\", \"SERVI\\u00c7O\", \"INDUSTRIA\", \"SERVI\\u00c7O\", \"CONSTRU\\u00c7\\u00c3O CIVIL\", \"SERVI\\u00c7O\", \"COMERCIO\", \"SERVI\\u00c7O\", \"SERVI\\u00c7O\", \"CONSTRU\\u00c7\\u00c3O CIVIL\", \"CONSTRU\\u00c7\\u00c3O CIVIL\", \"INDUSTRIA\", \"SERVI\\u00c7O\", \"SERVI\\u00c7O\", \"INDUSTRIA\", \"INDUSTRIA\", \"INDUSTRIA\", \"INDUSTRIA\", \"SERVI\\u00c7O\", \"INDUSTRIA\", \"SERVI\\u00c7O\", \"SERVI\\u00c7O\", \"CONSTRU\\u00c7\\u00c3O CIVIL\", \"SERVI\\u00c7O\", \"COMERCIO\", \"SERVI\\u00c7O\", \"SERVI\\u00c7O\", \"SERVI\\u00c7O\", \"CONSTRU\\u00c7\\u00c3O CIVIL\", \"SERVI\\u00c7O\", \"SERVI\\u00c7O\", \"SERVI\\u00c7O\", \"SERVI\\u00c7O\", \"SERVI\\u00c7O\", \"COMERCIO\", \"SERVI\\u00c7O\", \"SERVI\\u00c7O\", \"INDUSTRIA\", \"SERVI\\u00c7O\", \"INDUSTRIA\", \"INDUSTRIA\", \"SERVI\\u00c7O\", \"SERVI\\u00c7O\", \"SERVI\\u00c7O\", \"SERVI\\u00c7O\", \"SERVI\\u00c7O\", \"COMERCIO\", \"COMERCIO\", \"SERVI\\u00c7O\", \"COMERCIO\", \"SERVI\\u00c7O\", \"SERVI\\u00c7O\", \"CONSTRU\\u00c7\\u00c3O CIVIL\", \"INDUSTRIA\", \"SERVI\\u00c7O\", \"SERVI\\u00c7O\", \"COMERCIO\", \"COMERCIO\", \"COMERCIO\", \"SERVI\\u00c7O\", \"SERVI\\u00c7O\", \"SERVI\\u00c7O\", \"COMERCIO\", \"INDUSTRIA\", \"COMERCIO\", \"SERVI\\u00c7O\", \"SERVI\\u00c7O\", \"SERVI\\u00c7O\", \"COMERCIO\", \"SERVI\\u00c7O\", \"SERVI\\u00c7O\", \"SERVI\\u00c7O\", \"SERVI\\u00c7O\", \"SERVI\\u00c7O\", \"SERVI\\u00c7O\", \"COMERCIO\", \"SERVI\\u00c7O\", \"INDUSTRIA\", \"CONSTRU\\u00c7\\u00c3O CIVIL\", \"COMERCIO\", \"SERVI\\u00c7O\", \"SERVI\\u00c7O\", \"COMERCIO\", \"SERVI\\u00c7O\", \"INDUSTRIA\", \"SERVI\\u00c7O\", \"INDUSTRIA\", \"SERVI\\u00c7O\", \"SERVI\\u00c7O\", \"INDUSTRIA\", \"COMERCIO\", \"SERVI\\u00c7O\", \"COMERCIO\", \"INDUSTRIA\", \"COMERCIO\", \"CONSTRU\\u00c7\\u00c3O CIVIL\", \"SERVI\\u00c7O\", \"SERVI\\u00c7O\", \"SERVI\\u00c7O\", \"SERVI\\u00c7O\", \"INDUSTRIA\", \"INDUSTRIA\", \"INDUSTRIA\", \"SERVI\\u00c7O\", \"SERVI\\u00c7O\", \"SERVI\\u00c7O\", \"COMERCIO\", \"INDUSTRIA\", \"CONSTRU\\u00c7\\u00c3O CIVIL\", \"SERVI\\u00c7O\", \"SERVI\\u00c7O\", \"SERVI\\u00c7O\", \"SERVI\\u00c7O\", \"SERVI\\u00c7O\", \"SERVI\\u00c7O\", \"SERVI\\u00c7O\", \"SERVI\\u00c7O\", \"SERVI\\u00c7O\", \"COMERCIO\", \"SERVI\\u00c7O\", \"SERVI\\u00c7O\", \"INDUSTRIA\", \"SERVI\\u00c7O\", \"SERVI\\u00c7O\", \"SERVI\\u00c7O\", \"INDUSTRIA\", \"SERVI\\u00c7O\", \"COMERCIO\", \"SERVI\\u00c7O\", \"SERVI\\u00c7O\", \"SERVI\\u00c7O\", \"SERVI\\u00c7O\", \"SERVI\\u00c7O\", \"SERVI\\u00c7O\", \"INDUSTRIA\", \"COMERCIO\", \"INDUSTRIA\", \"SERVI\\u00c7O\", \"SERVI\\u00c7O\", \"SERVI\\u00c7O\", \"SERVI\\u00c7O\", \"SERVI\\u00c7O\", \"SERVI\\u00c7O\", \"COMERCIO\", \"SERVI\\u00c7O\", \"SERVI\\u00c7O\", \"COMERCIO\", \"INDUSTRIA\", \"SERVI\\u00c7O\", \"SERVI\\u00c7O\", \"INDUSTRIA\", \"INDUSTRIA\", \"INDUSTRIA\", \"SERVI\\u00c7O\", \"INDUSTRIA\", \"COMERCIO\", \"CONSTRU\\u00c7\\u00c3O CIVIL\", \"SERVI\\u00c7O\", \"COMERCIO\", \"CONSTRU\\u00c7\\u00c3O CIVIL\", \"SERVI\\u00c7O\", \"INDUSTRIA\", \"CONSTRU\\u00c7\\u00c3O CIVIL\", \"INDUSTRIA\", \"INDUSTRIA\", \"SERVI\\u00c7O\", \"INDUSTRIA\", \"SERVI\\u00c7O\", \"SERVI\\u00c7O\", \"SERVI\\u00c7O\", \"SERVI\\u00c7O\", \"SERVI\\u00c7O\", \"SERVI\\u00c7O\", \"SERVI\\u00c7O\", \"INDUSTRIA\", \"COMERCIO\", \"SERVI\\u00c7O\", \"COMERCIO\", \"SERVI\\u00c7O\", \"SERVI\\u00c7O\", \"SERVI\\u00c7O\", \"COMERCIO\", \"SERVI\\u00c7O\", \"SERVI\\u00c7O\", \"COMERCIO\", \"INDUSTRIA\", \"SERVI\\u00c7O\", \"SERVI\\u00c7O\", \"COMERCIO\", \"CONSTRU\\u00c7\\u00c3O CIVIL\", \"INDUSTRIA\", \"INDUSTRIA\", \"INDUSTRIA\", \"SERVI\\u00c7O\", \"INDUSTRIA\", \"SERVI\\u00c7O\", \"SERVI\\u00c7O\", \"INDUSTRIA\", \"COMERCIO\", \"CONSTRU\\u00c7\\u00c3O CIVIL\", \"SERVI\\u00c7O\", \"CONSTRU\\u00c7\\u00c3O CIVIL\", \"SERVI\\u00c7O\", \"SERVI\\u00c7O\", \"INDUSTRIA\", \"SERVI\\u00c7O\", \"SERVI\\u00c7O\", \"SERVI\\u00c7O\", \"SERVI\\u00c7O\", \"SERVI\\u00c7O\", \"SERVI\\u00c7O\", \"INDUSTRIA\", \"SERVI\\u00c7O\", \"SERVI\\u00c7O\", \"SERVI\\u00c7O\", \"SERVI\\u00c7O\", \"SERVI\\u00c7O\", \"INDUSTRIA\", \"SERVI\\u00c7O\", \"COMERCIO\", \"COMERCIO\", \"COMERCIO\", \"COMERCIO\", \"INDUSTRIA\", \"SERVI\\u00c7O\", \"SERVI\\u00c7O\", \"INDUSTRIA\", \"INDUSTRIA\", \"SERVI\\u00c7O\", \"COMERCIO\", \"COMERCIO\", \"COMERCIO\", \"COMERCIO\", \"COMERCIO\", \"SERVI\\u00c7O\", \"COMERCIO\", \"SERVI\\u00c7O\", \"INDUSTRIA\", \"CONSTRU\\u00c7\\u00c3O CIVIL\", \"SERVI\\u00c7O\", \"SERVI\\u00c7O\", \"SERVI\\u00c7O\", \"COMERCIO\", \"CONSTRU\\u00c7\\u00c3O CIVIL\", \"SERVI\\u00c7O\", \"INDUSTRIA\", \"INDUSTRIA\", \"SERVI\\u00c7O\", \"INDUSTRIA\", \"INDUSTRIA\", \"COMERCIO\", \"SERVI\\u00c7O\", \"SERVI\\u00c7O\", \"SERVI\\u00c7O\", \"SERVI\\u00c7O\", \"COMERCIO\", \"INDUSTRIA\", \"SERVI\\u00c7O\", \"SERVI\\u00c7O\", \"SERVI\\u00c7O\", \"INDUSTRIA\", \"SERVI\\u00c7O\", \"INDUSTRIA\", \"CONSTRU\\u00c7\\u00c3O CIVIL\", \"SERVI\\u00c7O\", \"SERVI\\u00c7O\", \"COMERCIO\", \"SERVI\\u00c7O\", \"SERVI\\u00c7O\", \"SERVI\\u00c7O\", \"INDUSTRIA\", \"COMERCIO\", \"COMERCIO\", \"SERVI\\u00c7O\", \"CONSTRU\\u00c7\\u00c3O CIVIL\", \"COMERCIO\", \"CONSTRU\\u00c7\\u00c3O CIVIL\", \"SERVI\\u00c7O\", \"SERVI\\u00c7O\", \"INDUSTRIA\", \"SERVI\\u00c7O\", \"SERVI\\u00c7O\", \"SERVI\\u00c7O\", \"INDUSTRIA\", \"INDUSTRIA\", \"SERVI\\u00c7O\", \"SERVI\\u00c7O\", \"SERVI\\u00c7O\", \"INDUSTRIA\", \"SERVI\\u00c7O\", \"COMERCIO\", \"COMERCIO\", \"COMERCIO\", \"INDUSTRIA\", \"COMERCIO\", \"SERVI\\u00c7O\", \"INDUSTRIA\", \"SERVI\\u00c7O\", \"INDUSTRIA\", \"SERVI\\u00c7O\", \"SERVI\\u00c7O\", \"SERVI\\u00c7O\", \"INDUSTRIA\", \"SERVI\\u00c7O\", \"SERVI\\u00c7O\", \"COMERCIO\", \"COMERCIO\", \"COMERCIO\", \"CONSTRU\\u00c7\\u00c3O CIVIL\", \"INDUSTRIA\", \"SERVI\\u00c7O\", \"COMERCIO\", \"SERVI\\u00c7O\", \"COMERCIO\", \"SERVI\\u00c7O\", \"INDUSTRIA\", \"COMERCIO\", \"INDUSTRIA\", \"COMERCIO\", \"INDUSTRIA\", \"COMERCIO\", \"COMERCIO\", \"INDUSTRIA\", \"CONSTRU\\u00c7\\u00c3O CIVIL\", \"SERVI\\u00c7O\"]}, {\"label\": \"de_ramo\", \"values\": [\"ADMINISTRACAO PUBLICA, DEFESA E SEGURIDADE SOCIAL\", \"ADMINISTRACAO PUBLICA, DEFESA E SEGURIDADE SOCIAL\", \"ADMINISTRACAO PUBLICA, DEFESA E SEGURIDADE SOCIAL\", \"ADMINISTRACAO PUBLICA, DEFESA E SEGURIDADE SOCIAL\", \"ADMINISTRACAO PUBLICA, DEFESA E SEGURIDADE SOCIAL\", \"ADMINISTRACAO PUBLICA, DEFESA E SEGURIDADE SOCIAL\", \"ADMINISTRACAO PUBLICA, DEFESA E SEGURIDADE SOCIAL\", \"ADMINISTRACAO PUBLICA, DEFESA E SEGURIDADE SOCIAL\", \"ADMINISTRACAO PUBLICA, DEFESA E SEGURIDADE SOCIAL\", \"ADMINISTRACAO PUBLICA, DEFESA E SEGURIDADE SOCIAL\", \"ADMINISTRACAO PUBLICA, DEFESA E SEGURIDADE SOCIAL\", \"ADMINISTRACAO PUBLICA, DEFESA E SEGURIDADE SOCIAL\", \"ADMINISTRACAO PUBLICA, DEFESA E SEGURIDADE SOCIAL\", \"ADMINISTRACAO PUBLICA, DEFESA E SEGURIDADE SOCIAL\", \"ADMINISTRACAO PUBLICA, DEFESA E SEGURIDADE SOCIAL\", \"ADMINISTRACAO PUBLICA, DEFESA E SEGURIDADE SOCIAL\", \"ADMINISTRACAO PUBLICA, DEFESA E SEGURIDADE SOCIAL\", \"ADMINISTRACAO PUBLICA, DEFESA E SEGURIDADE SOCIAL\", \"ADMINISTRACAO PUBLICA, DEFESA E SEGURIDADE SOCIAL\", \"ADMINISTRACAO PUBLICA, DEFESA E SEGURIDADE SOCIAL\", \"ADMINISTRACAO PUBLICA, DEFESA E SEGURIDADE SOCIAL\", \"ADMINISTRACAO PUBLICA, DEFESA E SEGURIDADE SOCIAL\", \"ADMINISTRACAO PUBLICA, DEFESA E SEGURIDADE SOCIAL\", \"ADMINISTRACAO PUBLICA, DEFESA E SEGURIDADE SOCIAL\", \"ADMINISTRACAO PUBLICA, DEFESA E SEGURIDADE SOCIAL\", \"ADMINISTRACAO PUBLICA, DEFESA E SEGURIDADE SOCIAL\", \"ADMINISTRACAO PUBLICA, DEFESA E SEGURIDADE SOCIAL\", \"ADMINISTRACAO PUBLICA, DEFESA E SEGURIDADE SOCIAL\", \"ADMINISTRACAO PUBLICA, DEFESA E SEGURIDADE SOCIAL\", \"ADMINISTRACAO PUBLICA, DEFESA E SEGURIDADE SOCIAL\", \"ADMINISTRACAO PUBLICA, DEFESA E SEGURIDADE SOCIAL\", \"ADMINISTRACAO PUBLICA, DEFESA E SEGURIDADE SOCIAL\", \"ADMINISTRACAO PUBLICA, DEFESA E SEGURIDADE SOCIAL\", \"ADMINISTRACAO PUBLICA, DEFESA E SEGURIDADE SOCIAL\", \"ADMINISTRACAO PUBLICA, DEFESA E SEGURIDADE SOCIAL\", \"ADMINISTRACAO PUBLICA, DEFESA E SEGURIDADE SOCIAL\", \"ADMINISTRACAO PUBLICA, DEFESA E SEGURIDADE SOCIAL\", \"ADMINISTRACAO PUBLICA, DEFESA E SEGURIDADE SOCIAL\", \"ADMINISTRACAO PUBLICA, DEFESA E SEGURIDADE SOCIAL\", \"ADMINISTRACAO PUBLICA, DEFESA E SEGURIDADE SOCIAL\", \"ADMINISTRACAO PUBLICA, DEFESA E SEGURIDADE SOCIAL\", \"ADMINISTRACAO PUBLICA, DEFESA E SEGURIDADE SOCIAL\", \"ADMINISTRACAO PUBLICA, DEFESA E SEGURIDADE SOCIAL\", \"ADMINISTRACAO PUBLICA, DEFESA E SEGURIDADE SOCIAL\", \"ADMINISTRACAO PUBLICA, DEFESA E SEGURIDADE SOCIAL\", \"ADMINISTRACAO PUBLICA, DEFESA E SEGURIDADE SOCIAL\", \"ADMINISTRACAO PUBLICA, DEFESA E SEGURIDADE SOCIAL\", \"ADMINISTRACAO PUBLICA, DEFESA E SEGURIDADE SOCIAL\", \"ADMINISTRACAO PUBLICA, DEFESA E SEGURIDADE SOCIAL\", \"ADMINISTRACAO PUBLICA, DEFESA E SEGURIDADE SOCIAL\", \"ADMINISTRACAO PUBLICA, DEFESA E SEGURIDADE SOCIAL\", \"ADMINISTRACAO PUBLICA, DEFESA E SEGURIDADE SOCIAL\", \"ADMINISTRACAO PUBLICA, DEFESA E SEGURIDADE SOCIAL\", \"ADMINISTRACAO PUBLICA, DEFESA E SEGURIDADE SOCIAL\", \"ADMINISTRACAO PUBLICA, DEFESA E SEGURIDADE SOCIAL\", \"ADMINISTRACAO PUBLICA, DEFESA E SEGURIDADE SOCIAL\", \"ADMINISTRACAO PUBLICA, DEFESA E SEGURIDADE SOCIAL\", \"ADMINISTRACAO PUBLICA, DEFESA E SEGURIDADE SOCIAL\", \"ADMINISTRACAO PUBLICA, DEFESA E SEGURIDADE SOCIAL\", \"ADMINISTRACAO PUBLICA, DEFESA E SEGURIDADE SOCIAL\", \"ADMINISTRACAO PUBLICA, DEFESA E SEGURIDADE SOCIAL\", \"ADMINISTRACAO PUBLICA, DEFESA E SEGURIDADE SOCIAL\", \"ADMINISTRACAO PUBLICA, DEFESA E SEGURIDADE SOCIAL\", \"ADMINISTRACAO PUBLICA, DEFESA E SEGURIDADE SOCIAL\", \"ADMINISTRACAO PUBLICA, DEFESA E SEGURIDADE SOCIAL\", \"ADMINISTRACAO PUBLICA, DEFESA E SEGURIDADE SOCIAL\", \"ADMINISTRACAO PUBLICA, DEFESA E SEGURIDADE SOCIAL\", \"ADMINISTRACAO PUBLICA, DEFESA E SEGURIDADE SOCIAL\", \"ADMINISTRACAO PUBLICA, DEFESA E SEGURIDADE SOCIAL\", \"ADMINISTRACAO PUBLICA, DEFESA E SEGURIDADE SOCIAL\", \"ADMINISTRACAO PUBLICA, DEFESA E SEGURIDADE SOCIAL\", \"ADMINISTRACAO PUBLICA, DEFESA E SEGURIDADE SOCIAL\", \"ADMINISTRACAO PUBLICA, DEFESA E SEGURIDADE SOCIAL\", \"ADMINISTRACAO PUBLICA, DEFESA E SEGURIDADE SOCIAL\", \"ADMINISTRACAO PUBLICA, DEFESA E SEGURIDADE SOCIAL\", \"ADMINISTRACAO PUBLICA, DEFESA E SEGURIDADE SOCIAL\", \"ADMINISTRACAO PUBLICA, DEFESA E SEGURIDADE SOCIAL\", \"ADMINISTRACAO PUBLICA, DEFESA E SEGURIDADE SOCIAL\", \"ADMINISTRACAO PUBLICA, DEFESA E SEGURIDADE SOCIAL\", \"ADMINISTRACAO PUBLICA, DEFESA E SEGURIDADE SOCIAL\", \"ADMINISTRACAO PUBLICA, DEFESA E SEGURIDADE SOCIAL\", \"ADMINISTRACAO PUBLICA, DEFESA E SEGURIDADE SOCIAL\", \"ADMINISTRACAO PUBLICA, DEFESA E SEGURIDADE SOCIAL\", \"ADMINISTRACAO PUBLICA, DEFESA E SEGURIDADE SOCIAL\", \"ADMINISTRACAO PUBLICA, DEFESA E SEGURIDADE SOCIAL\", \"ADMINISTRACAO PUBLICA, DEFESA E SEGURIDADE SOCIAL\", \"ADMINISTRACAO PUBLICA, DEFESA E SEGURIDADE SOCIAL\", \"ADMINISTRACAO PUBLICA, DEFESA E SEGURIDADE SOCIAL\", \"ADMINISTRACAO PUBLICA, DEFESA E SEGURIDADE SOCIAL\", \"ADMINISTRACAO PUBLICA, DEFESA E SEGURIDADE SOCIAL\", \"ADMINISTRACAO PUBLICA, DEFESA E SEGURIDADE SOCIAL\", \"ADMINISTRACAO PUBLICA, DEFESA E SEGURIDADE SOCIAL\", \"ADMINISTRACAO PUBLICA, DEFESA E SEGURIDADE SOCIAL\", \"ADMINISTRACAO PUBLICA, DEFESA E SEGURIDADE SOCIAL\", \"ADMINISTRACAO PUBLICA, DEFESA E SEGURIDADE SOCIAL\", \"ADMINISTRACAO PUBLICA, DEFESA E SEGURIDADE SOCIAL\", \"ADMINISTRACAO PUBLICA, DEFESA E SEGURIDADE SOCIAL\", \"ADMINISTRACAO PUBLICA, DEFESA E SEGURIDADE SOCIAL\", \"ADMINISTRACAO PUBLICA, DEFESA E SEGURIDADE SOCIAL\", \"ADMINISTRACAO PUBLICA, DEFESA E SEGURIDADE SOCIAL\", \"ADMINISTRACAO PUBLICA, DEFESA E SEGURIDADE SOCIAL\", \"ADMINISTRACAO PUBLICA, DEFESA E SEGURIDADE SOCIAL\", \"ADMINISTRACAO PUBLICA, DEFESA E SEGURIDADE SOCIAL\", \"ADMINISTRACAO PUBLICA, DEFESA E SEGURIDADE SOCIAL\", \"ADMINISTRACAO PUBLICA, DEFESA E SEGURIDADE SOCIAL\", \"ADMINISTRACAO PUBLICA, DEFESA E SEGURIDADE SOCIAL\", \"ADMINISTRACAO PUBLICA, DEFESA E SEGURIDADE SOCIAL\", \"ADMINISTRACAO PUBLICA, DEFESA E SEGURIDADE SOCIAL\", \"ADMINISTRACAO PUBLICA, DEFESA E SEGURIDADE SOCIAL\", \"ADMINISTRACAO PUBLICA, DEFESA E SEGURIDADE SOCIAL\", \"ADMINISTRACAO PUBLICA, DEFESA E SEGURIDADE SOCIAL\", \"ADMINISTRACAO PUBLICA, DEFESA E SEGURIDADE SOCIAL\", \"ADMINISTRACAO PUBLICA, DEFESA E SEGURIDADE SOCIAL\", \"ADMINISTRACAO PUBLICA, DEFESA E SEGURIDADE SOCIAL\", \"ADMINISTRACAO PUBLICA, DEFESA E SEGURIDADE SOCIAL\", \"ADMINISTRACAO PUBLICA, DEFESA E SEGURIDADE SOCIAL\", \"ADMINISTRACAO PUBLICA, DEFESA E SEGURIDADE SOCIAL\", \"ADMINISTRACAO PUBLICA, DEFESA E SEGURIDADE SOCIAL\", \"ADMINISTRACAO PUBLICA, DEFESA E SEGURIDADE SOCIAL\", \"ADMINISTRACAO PUBLICA, DEFESA E SEGURIDADE SOCIAL\", \"ADMINISTRACAO PUBLICA, DEFESA E SEGURIDADE SOCIAL\", \"ADMINISTRACAO PUBLICA, DEFESA E SEGURIDADE SOCIAL\", \"ADMINISTRACAO PUBLICA, DEFESA E SEGURIDADE SOCIAL\", \"ADMINISTRACAO PUBLICA, DEFESA E SEGURIDADE SOCIAL\", \"ADMINISTRACAO PUBLICA, DEFESA E SEGURIDADE SOCIAL\", \"ADMINISTRACAO PUBLICA, DEFESA E SEGURIDADE SOCIAL\", \"ADMINISTRACAO PUBLICA, DEFESA E SEGURIDADE SOCIAL\", \"ADMINISTRACAO PUBLICA, DEFESA E SEGURIDADE SOCIAL\", \"ADMINISTRACAO PUBLICA, DEFESA E SEGURIDADE SOCIAL\", \"ADMINISTRACAO PUBLICA, DEFESA E SEGURIDADE SOCIAL\", \"ADMINISTRACAO PUBLICA, DEFESA E SEGURIDADE SOCIAL\", \"ADMINISTRACAO PUBLICA, DEFESA E SEGURIDADE SOCIAL\", \"ADMINISTRACAO PUBLICA, DEFESA E SEGURIDADE SOCIAL\", \"ADMINISTRACAO PUBLICA, DEFESA E SEGURIDADE SOCIAL\", \"ADMINISTRACAO PUBLICA, DEFESA E SEGURIDADE SOCIAL\", \"ADMINISTRACAO PUBLICA, DEFESA E SEGURIDADE SOCIAL\", \"ADMINISTRACAO PUBLICA, DEFESA E SEGURIDADE SOCIAL\", \"ADMINISTRACAO PUBLICA, DEFESA E SEGURIDADE SOCIAL\", \"ADMINISTRACAO PUBLICA, DEFESA E SEGURIDADE SOCIAL\", \"ADMINISTRACAO PUBLICA, DEFESA E SEGURIDADE SOCIAL\", \"ADMINISTRACAO PUBLICA, DEFESA E SEGURIDADE SOCIAL\", \"ADMINISTRACAO PUBLICA, DEFESA E SEGURIDADE SOCIAL\", \"ADMINISTRACAO PUBLICA, DEFESA E SEGURIDADE SOCIAL\", \"ADMINISTRACAO PUBLICA, DEFESA E SEGURIDADE SOCIAL\", \"ADMINISTRACAO PUBLICA, DEFESA E SEGURIDADE SOCIAL\", \"ADMINISTRACAO PUBLICA, DEFESA E SEGURIDADE SOCIAL\", \"ADMINISTRACAO PUBLICA, DEFESA E SEGURIDADE SOCIAL\", \"ADMINISTRACAO PUBLICA, DEFESA E SEGURIDADE SOCIAL\", \"ADMINISTRACAO PUBLICA, DEFESA E SEGURIDADE SOCIAL\", \"ADMINISTRACAO PUBLICA, DEFESA E SEGURIDADE SOCIAL\", \"ADMINISTRACAO PUBLICA, DEFESA E SEGURIDADE SOCIAL\", \"ADMINISTRACAO PUBLICA, DEFESA E SEGURIDADE SOCIAL\", \"ADMINISTRACAO PUBLICA, DEFESA E SEGURIDADE SOCIAL\", \"ADMINISTRACAO PUBLICA, DEFESA E SEGURIDADE SOCIAL\", \"ADMINISTRACAO PUBLICA, DEFESA E SEGURIDADE SOCIAL\", \"ADMINISTRACAO PUBLICA, DEFESA E SEGURIDADE SOCIAL\", \"ADMINISTRACAO PUBLICA, DEFESA E SEGURIDADE SOCIAL\", \"ADMINISTRACAO PUBLICA, DEFESA E SEGURIDADE SOCIAL\", \"ADMINISTRACAO PUBLICA, DEFESA E SEGURIDADE SOCIAL\", \"ADMINISTRACAO PUBLICA, DEFESA E SEGURIDADE SOCIAL\", \"ADMINISTRACAO PUBLICA, DEFESA E SEGURIDADE SOCIAL\", \"ADMINISTRACAO PUBLICA, DEFESA E SEGURIDADE SOCIAL\", \"ADMINISTRACAO PUBLICA, DEFESA E SEGURIDADE SOCIAL\", \"ADMINISTRACAO PUBLICA, DEFESA E SEGURIDADE SOCIAL\", \"ADMINISTRACAO PUBLICA, DEFESA E SEGURIDADE SOCIAL\", \"ADMINISTRACAO PUBLICA, DEFESA E SEGURIDADE SOCIAL\", \"ADMINISTRACAO PUBLICA, DEFESA E SEGURIDADE SOCIAL\", \"ADMINISTRACAO PUBLICA, DEFESA E SEGURIDADE SOCIAL\", \"ADMINISTRACAO PUBLICA, DEFESA E SEGURIDADE SOCIAL\", \"ADMINISTRACAO PUBLICA, DEFESA E SEGURIDADE SOCIAL\", \"ADMINISTRACAO PUBLICA, DEFESA E SEGURIDADE SOCIAL\", \"ADMINISTRACAO PUBLICA, DEFESA E SEGURIDADE SOCIAL\", \"ADMINISTRACAO PUBLICA, DEFESA E SEGURIDADE SOCIAL\", \"ADMINISTRACAO PUBLICA, DEFESA E SEGURIDADE SOCIAL\", \"ADMINISTRACAO PUBLICA, DEFESA E SEGURIDADE SOCIAL\", \"ADMINISTRACAO PUBLICA, DEFESA E SEGURIDADE SOCIAL\", \"ADMINISTRACAO PUBLICA, DEFESA E SEGURIDADE SOCIAL\", \"COMERCIO VAREJISTA\", \"ADMINISTRACAO PUBLICA, DEFESA E SEGURIDADE SOCIAL\", \"ADMINISTRACAO PUBLICA, DEFESA E SEGURIDADE SOCIAL\", \"ADMINISTRACAO PUBLICA, DEFESA E SEGURIDADE SOCIAL\", \"ADMINISTRACAO PUBLICA, DEFESA E SEGURIDADE SOCIAL\", \"ADMINISTRACAO PUBLICA, DEFESA E SEGURIDADE SOCIAL\", \"ADMINISTRACAO PUBLICA, DEFESA E SEGURIDADE SOCIAL\", \"ADMINISTRACAO PUBLICA, DEFESA E SEGURIDADE SOCIAL\", \"ADMINISTRACAO PUBLICA, DEFESA E SEGURIDADE SOCIAL\", \"ADMINISTRACAO PUBLICA, DEFESA E SEGURIDADE SOCIAL\", \"ADMINISTRACAO PUBLICA, DEFESA E SEGURIDADE SOCIAL\", \"COMERCIO VAREJISTA\", \"ADMINISTRACAO PUBLICA, DEFESA E SEGURIDADE SOCIAL\", \"ADMINISTRACAO PUBLICA, DEFESA E SEGURIDADE SOCIAL\", \"COMERCIO VAREJISTA\", \"ADMINISTRACAO PUBLICA, DEFESA E SEGURIDADE SOCIAL\", \"ADMINISTRACAO PUBLICA, DEFESA E SEGURIDADE SOCIAL\", \"ADMINISTRACAO PUBLICA, DEFESA E SEGURIDADE SOCIAL\", \"ADMINISTRACAO PUBLICA, DEFESA E SEGURIDADE SOCIAL\", \"ADMINISTRACAO PUBLICA, DEFESA E SEGURIDADE SOCIAL\", \"BENS DE CONSUMO\", \"ADMINISTRACAO PUBLICA, DEFESA E SEGURIDADE SOCIAL\", \"ADMINISTRACAO PUBLICA, DEFESA E SEGURIDADE SOCIAL\", \"ADMINISTRACAO PUBLICA, DEFESA E SEGURIDADE SOCIAL\", \"ADMINISTRACAO PUBLICA, DEFESA E SEGURIDADE SOCIAL\", \"ADMINISTRACAO PUBLICA, DEFESA E SEGURIDADE SOCIAL\", \"ADMINISTRACAO PUBLICA, DEFESA E SEGURIDADE SOCIAL\", \"COMERCIO VAREJISTA\", \"COMERCIO E REPARACAO DE VEICULOS\", \"ADMINISTRACAO PUBLICA, DEFESA E SEGURIDADE SOCIAL\", \"TRANSPORTE, ARMAZENAGEM E CORREIO\", \"ADMINISTRACAO PUBLICA, DEFESA E SEGURIDADE SOCIAL\", \"INDUSTRIA DA CONSTRUCAO\", \"QUIMICA-PETROQUIMICA\", \"COMERCIO E REPARACAO DE VEICULOS\", \"INDUSTRIA DA CONSTRUCAO\", \"COMERCIO VAREJISTA\", \"ADMINISTRACAO PUBLICA, DEFESA E SEGURIDADE SOCIAL\", \"BENS DE CONSUMO\", \"INDUSTRIA DA CONSTRUCAO\", \"INDUSTRIA DA CONSTRUCAO\", \"ADMINISTRACAO PUBLICA, DEFESA E SEGURIDADE SOCIAL\", \"ADMINISTRACAO PUBLICA, DEFESA E SEGURIDADE SOCIAL\", \"PAPEL E CELULOSE\", \"COMERCIO POR ATACADO\", \"ADMINISTRACAO PUBLICA, DEFESA E SEGURIDADE SOCIAL\", \"ADMINISTRACAO PUBLICA, DEFESA E SEGURIDADE SOCIAL\", \"INDUSTRIA DA CONSTRUCAO\", \"COMERCIO POR ATACADO\", \"ADMINISTRACAO PUBLICA, DEFESA E SEGURIDADE SOCIAL\", \"BENS DE CONSUMO\", \"SERVICOS DE SAUDE\", \"INDUSTRIA DA CONSTRUCAO\", \"BENS DE CONSUMO\", \"ADMINISTRACAO PUBLICA, DEFESA E SEGURIDADE SOCIAL\", \"INDUSTRIA DA CONSTRUCAO\", \"BENS DE CONSUMO\", \"ADMINISTRACAO PUBLICA, DEFESA E SEGURIDADE SOCIAL\", \"PAPEL E CELULOSE\", \"ADMINISTRACAO PUBLICA, DEFESA E SEGURIDADE SOCIAL\", \"COMERCIO E REPARACAO DE VEICULOS\", \"COMERCIO POR ATACADO\", \"INDUSTRIA DA CONSTRUCAO\", \"BENS DE CONSUMO\", \"INDUSTRIA DA CONSTRUCAO\", \"SERVICOS DE SAUDE\", \"BENS DE CONSUMO\", \"ADMINISTRACAO PUBLICA, DEFESA E SEGURIDADE SOCIAL\", \"INDUSTRIA DA CONSTRUCAO\", \"SERVICOS DE SAUDE\", \"COMERCIO VAREJISTA\", \"SERVICOS PROFISSIONAIS, TECNICOS E CIENTIFICOS\", \"TRANSPORTE, ARMAZENAGEM E CORREIO\", \"INDUSTRIA DA CONSTRUCAO\", \"INDUSTRIA DA CONSTRUCAO\", \"QUIMICA-PETROQUIMICA\", \"ADMINISTRACAO PUBLICA, DEFESA E SEGURIDADE SOCIAL\", \"SERVICOS DE EDUCACAO\", \"QUIMICA-PETROQUIMICA\", \"BENS DE CONSUMO\", \"BENS DE CONSUMO\", \"QUIMICA-PETROQUIMICA\", \"SERVICOS ADMINISTRATIVOS\", \"SIDERURGICA-METALURGIA\", \"ADMINISTRACAO PUBLICA, DEFESA E SEGURIDADE SOCIAL\", \"SERVICOS ADMINISTRATIVOS\", \"INDUSTRIA DA CONSTRUCAO\", \"SERVICOS ADMINISTRATIVOS\", \"COMERCIO E REPARACAO DE VEICULOS\", \"ADMINISTRACAO PUBLICA, DEFESA E SEGURIDADE SOCIAL\", \"ADMINISTRACAO PUBLICA, DEFESA E SEGURIDADE SOCIAL\", \"ADMINISTRACAO PUBLICA, DEFESA E SEGURIDADE SOCIAL\", \"INDUSTRIA DA CONSTRUCAO\", \"ADMINISTRACAO PUBLICA, DEFESA E SEGURIDADE SOCIAL\", \"SERVICOS ADMINISTRATIVOS\", \"ADMINISTRACAO PUBLICA, DEFESA E SEGURIDADE SOCIAL\", \"ADMINISTRACAO PUBLICA, DEFESA E SEGURIDADE SOCIAL\", \"ADMINISTRACAO PUBLICA, DEFESA E SEGURIDADE SOCIAL\", \"COMERCIO VAREJISTA\", \"ADMINISTRACAO PUBLICA, DEFESA E SEGURIDADE SOCIAL\", \"ADMINISTRACAO PUBLICA, DEFESA E SEGURIDADE SOCIAL\", \"PAPEL E CELULOSE\", \"ADMINISTRACAO PUBLICA, DEFESA E SEGURIDADE SOCIAL\", \"PAPEL E CELULOSE\", \"QUIMICA-PETROQUIMICA\", \"ADMINISTRACAO PUBLICA, DEFESA E SEGURIDADE SOCIAL\", \"SERVICOS DIVERSOS\", \"ADMINISTRACAO PUBLICA, DEFESA E SEGURIDADE SOCIAL\", \"ADMINISTRACAO PUBLICA, DEFESA E SEGURIDADE SOCIAL\", \"SERVICOS ADMINISTRATIVOS\", \"COMERCIO E REPARACAO DE VEICULOS\", \"COMERCIO VAREJISTA\", \"SERVICOS DE SAUDE\", \"COMERCIO VAREJISTA\", \"ADMINISTRACAO PUBLICA, DEFESA E SEGURIDADE SOCIAL\", \"ADMINISTRACAO PUBLICA, DEFESA E SEGURIDADE SOCIAL\", \"INDUSTRIA DA CONSTRUCAO\", \"SIDERURGICA-METALURGIA\", \"SERVICOS ADMINISTRATIVOS\", \"ADMINISTRACAO PUBLICA, DEFESA E SEGURIDADE SOCIAL\", \"COMERCIO POR ATACADO\", \"COMERCIO POR ATACADO\", \"COMERCIO VAREJISTA\", \"ADMINISTRACAO PUBLICA, DEFESA E SEGURIDADE SOCIAL\", \"ADMINISTRACAO PUBLICA, DEFESA E SEGURIDADE SOCIAL\", \"SERVICOS ADMINISTRATIVOS\", \"COMERCIO VAREJISTA\", \"QUIMICA-PETROQUIMICA\", \"COMERCIO VAREJISTA\", \"ADMINISTRACAO PUBLICA, DEFESA E SEGURIDADE SOCIAL\", \"TRANSPORTE, ARMAZENAGEM E CORREIO\", \"ADMINISTRACAO PUBLICA, DEFESA E SEGURIDADE SOCIAL\", \"COMERCIO VAREJISTA\", \"TRANSPORTE, ARMAZENAGEM E CORREIO\", \"ADMINISTRACAO PUBLICA, DEFESA E SEGURIDADE SOCIAL\", \"ADMINISTRACAO PUBLICA, DEFESA E SEGURIDADE SOCIAL\", \"ADMINISTRACAO PUBLICA, DEFESA E SEGURIDADE SOCIAL\", \"ADMINISTRACAO PUBLICA, DEFESA E SEGURIDADE SOCIAL\", \"ADMINISTRACAO PUBLICA, DEFESA E SEGURIDADE SOCIAL\", \"COMERCIO E REPARACAO DE VEICULOS\", \"ADMINISTRACAO PUBLICA, DEFESA E SEGURIDADE SOCIAL\", \"QUIMICA-PETROQUIMICA\", \"INDUSTRIA DA CONSTRUCAO\", \"COMERCIO POR ATACADO\", \"ADMINISTRACAO PUBLICA, DEFESA E SEGURIDADE SOCIAL\", \"ADMINISTRACAO PUBLICA, DEFESA E SEGURIDADE SOCIAL\", \"COMERCIO VAREJISTA\", \"ADMINISTRACAO PUBLICA, DEFESA E SEGURIDADE SOCIAL\", \"ELETROELETRONICOS\", \"SERVICOS DE SAUDE\", \"BENS DE CONSUMO\", \"ADMINISTRACAO PUBLICA, DEFESA E SEGURIDADE SOCIAL\", \"ADMINISTRACAO PUBLICA, DEFESA E SEGURIDADE SOCIAL\", \"INDUSTRIA AUTOMOTIVA\", \"COMERCIO VAREJISTA\", \"ADMINISTRACAO PUBLICA, DEFESA E SEGURIDADE SOCIAL\", \"COMERCIO E REPARACAO DE VEICULOS\", \"SIDERURGICA-METALURGIA\", \"COMERCIO POR ATACADO\", \"INDUSTRIA DA CONSTRUCAO\", \"ADMINISTRACAO PUBLICA, DEFESA E SEGURIDADE SOCIAL\", \"ADMINISTRACAO PUBLICA, DEFESA E SEGURIDADE SOCIAL\", \"ADMINISTRACAO PUBLICA, DEFESA E SEGURIDADE SOCIAL\", \"ADMINISTRACAO PUBLICA, DEFESA E SEGURIDADE SOCIAL\", \"QUIMICA-PETROQUIMICA\", \"SIDERURGICA-METALURGIA\", \"QUIMICA-PETROQUIMICA\", \"ADMINISTRACAO PUBLICA, DEFESA E SEGURIDADE SOCIAL\", \"SERVICOS DE SAUDE\", \"ADMINISTRACAO PUBLICA, DEFESA E SEGURIDADE SOCIAL\", \"COMERCIO VAREJISTA\", \"SIDERURGICA-METALURGIA\", \"INDUSTRIA DA CONSTRUCAO\", \"TRANSPORTE, ARMAZENAGEM E CORREIO\", \"ADMINISTRACAO PUBLICA, DEFESA E SEGURIDADE SOCIAL\", \"ADMINISTRACAO PUBLICA, DEFESA E SEGURIDADE SOCIAL\", \"ADMINISTRACAO PUBLICA, DEFESA E SEGURIDADE SOCIAL\", \"ADMINISTRACAO PUBLICA, DEFESA E SEGURIDADE SOCIAL\", \"ADMINISTRACAO PUBLICA, DEFESA E SEGURIDADE SOCIAL\", \"ADMINISTRACAO PUBLICA, DEFESA E SEGURIDADE SOCIAL\", \"SERVICOS ADMINISTRATIVOS\", \"ADMINISTRACAO PUBLICA, DEFESA E SEGURIDADE SOCIAL\", \"COMERCIO POR ATACADO\", \"SERVICOS DE EDUCACAO\", \"ADMINISTRACAO PUBLICA, DEFESA E SEGURIDADE SOCIAL\", \"SIDERURGICA-METALURGIA\", \"ADMINISTRACAO PUBLICA, DEFESA E SEGURIDADE SOCIAL\", \"ADMINISTRACAO PUBLICA, DEFESA E SEGURIDADE SOCIAL\", \"ADMINISTRACAO PUBLICA, DEFESA E SEGURIDADE SOCIAL\", \"BENS DE CONSUMO\", \"ADMINISTRACAO PUBLICA, DEFESA E SEGURIDADE SOCIAL\", \"COMERCIO VAREJISTA\", \"ADMINISTRACAO PUBLICA, DEFESA E SEGURIDADE SOCIAL\", \"ADMINISTRACAO PUBLICA, DEFESA E SEGURIDADE SOCIAL\", \"ADMINISTRACAO PUBLICA, DEFESA E SEGURIDADE SOCIAL\", \"ADMINISTRACAO PUBLICA, DEFESA E SEGURIDADE SOCIAL\", \"ADMINISTRACAO PUBLICA, DEFESA E SEGURIDADE SOCIAL\", \"ADMINISTRACAO PUBLICA, DEFESA E SEGURIDADE SOCIAL\", \"BENS DE CONSUMO\", \"COMERCIO VAREJISTA\", \"BENS DE CONSUMO\", \"ADMINISTRACAO PUBLICA, DEFESA E SEGURIDADE SOCIAL\", \"SERVICOS DE SAUDE\", \"SERVICOS DE ALOJAMENTO/ALIMENTACAO\", \"TRANSPORTE, ARMAZENAGEM E CORREIO\", \"ADMINISTRACAO PUBLICA, DEFESA E SEGURIDADE SOCIAL\", \"SERVICOS ADMINISTRATIVOS\", \"COMERCIO POR ATACADO\", \"ADMINISTRACAO PUBLICA, DEFESA E SEGURIDADE SOCIAL\", \"ADMINISTRACAO PUBLICA, DEFESA E SEGURIDADE SOCIAL\", \"COMERCIO VAREJISTA\", \"QUIMICA-PETROQUIMICA\", \"ADMINISTRACAO PUBLICA, DEFESA E SEGURIDADE SOCIAL\", \"ADMINISTRACAO PUBLICA, DEFESA E SEGURIDADE SOCIAL\", \"QUIMICA-PETROQUIMICA\", \"QUIMICA-PETROQUIMICA\", \"SIDERURGICA-METALURGIA\", \"ADMINISTRACAO PUBLICA, DEFESA E SEGURIDADE SOCIAL\", \"INDUSTRIA AUTOMOTIVA\", \"COMERCIO E REPARACAO DE VEICULOS\", \"INDUSTRIA DA CONSTRUCAO\", \"ADMINISTRACAO PUBLICA, DEFESA E SEGURIDADE SOCIAL\", \"COMERCIO VAREJISTA\", \"INDUSTRIA DA CONSTRUCAO\", \"ADMINISTRACAO PUBLICA, DEFESA E SEGURIDADE SOCIAL\", \"PAPEL E CELULOSE\", \"INDUSTRIA DA CONSTRUCAO\", \"PAPEL E CELULOSE\", \"PAPEL E CELULOSE\", \"SERVICOS DE SAUDE\", \"SIDERURGICA-METALURGIA\", \"ADMINISTRACAO PUBLICA, DEFESA E SEGURIDADE SOCIAL\", \"SERVICOS DE SAUDE\", \"ADMINISTRACAO PUBLICA, DEFESA E SEGURIDADE SOCIAL\", \"TRANSPORTE, ARMAZENAGEM E CORREIO\", \"ADMINISTRACAO PUBLICA, DEFESA E SEGURIDADE SOCIAL\", \"ADMINISTRACAO PUBLICA, DEFESA E SEGURIDADE SOCIAL\", \"ADMINISTRACAO PUBLICA, DEFESA E SEGURIDADE SOCIAL\", \"QUIMICA-PETROQUIMICA\", \"COMERCIO POR ATACADO\", \"ADMINISTRACAO PUBLICA, DEFESA E SEGURIDADE SOCIAL\", \"COMERCIO VAREJISTA\", \"SERVICOS ADMINISTRATIVOS\", \"ADMINISTRACAO PUBLICA, DEFESA E SEGURIDADE SOCIAL\", \"SERVICOS DE EDUCACAO\", \"COMERCIO VAREJISTA\", \"ADMINISTRACAO PUBLICA, DEFESA E SEGURIDADE SOCIAL\", \"BENS DE CONSUMO\", \"COMERCIO POR ATACADO\", \"BENS DE CONSUMO\", \"ADMINISTRACAO PUBLICA, DEFESA E SEGURIDADE SOCIAL\", \"ADMINISTRACAO PUBLICA, DEFESA E SEGURIDADE SOCIAL\", \"COMERCIO E REPARACAO DE VEICULOS\", \"INDUSTRIA DA CONSTRUCAO\", \"INDUSTRIA AUTOMOTIVA\", \"PAPEL E CELULOSE\", \"QUIMICA-PETROQUIMICA\", \"ADMINISTRACAO PUBLICA, DEFESA E SEGURIDADE SOCIAL\", \"SIDERURGICA-METALURGIA\", \"ADMINISTRACAO PUBLICA, DEFESA E SEGURIDADE SOCIAL\", \"ADMINISTRACAO PUBLICA, DEFESA E SEGURIDADE SOCIAL\", \"ELETROELETRONICOS\", \"COMERCIO POR ATACADO\", \"INDUSTRIA DA CONSTRUCAO\", \"ADMINISTRACAO PUBLICA, DEFESA E SEGURIDADE SOCIAL\", \"INDUSTRIA DA CONSTRUCAO\", \"ADMINISTRACAO PUBLICA, DEFESA E SEGURIDADE SOCIAL\", \"SERVICOS PROFISSIONAIS, TECNICOS E CIENTIFICOS\", \"SIDERURGICA-METALURGIA\", \"ADMINISTRACAO PUBLICA, DEFESA E SEGURIDADE SOCIAL\", \"ADMINISTRACAO PUBLICA, DEFESA E SEGURIDADE SOCIAL\", \"ADMINISTRACAO PUBLICA, DEFESA E SEGURIDADE SOCIAL\", \"ADMINISTRACAO PUBLICA, DEFESA E SEGURIDADE SOCIAL\", \"ADMINISTRACAO PUBLICA, DEFESA E SEGURIDADE SOCIAL\", \"ADMINISTRACAO PUBLICA, DEFESA E SEGURIDADE SOCIAL\", \"QUIMICA-PETROQUIMICA\", \"ADMINISTRACAO PUBLICA, DEFESA E SEGURIDADE SOCIAL\", \"ADMINISTRACAO PUBLICA, DEFESA E SEGURIDADE SOCIAL\", \"ADMINISTRACAO PUBLICA, DEFESA E SEGURIDADE SOCIAL\", \"TRANSPORTE, ARMAZENAGEM E CORREIO\", \"SERVICOS ADMINISTRATIVOS\", \"BENS DE CONSUMO\", \"SERVICOS ADMINISTRATIVOS\", \"COMERCIO VAREJISTA\", \"COMERCIO POR ATACADO\", \"COMERCIO VAREJISTA\", \"COMERCIO POR ATACADO\", \"INDUSTRIA AUTOMOTIVA\", \"ADMINISTRACAO PUBLICA, DEFESA E SEGURIDADE SOCIAL\", \"ADMINISTRACAO PUBLICA, DEFESA E SEGURIDADE SOCIAL\", \"SIDERURGICA-METALURGIA\", \"ELETROELETRONICOS\", \"ADMINISTRACAO PUBLICA, DEFESA E SEGURIDADE SOCIAL\", \"COMERCIO VAREJISTA\", \"COMERCIO VAREJISTA\", \"COMERCIO VAREJISTA\", \"COMERCIO VAREJISTA\", \"COMERCIO VAREJISTA\", \"ADMINISTRACAO PUBLICA, DEFESA E SEGURIDADE SOCIAL\", \"COMERCIO VAREJISTA\", \"TRANSPORTE, ARMAZENAGEM E CORREIO\", \"PAPEL E CELULOSE\", \"INDUSTRIA DA CONSTRUCAO\", \"ADMINISTRACAO PUBLICA, DEFESA E SEGURIDADE SOCIAL\", \"ADMINISTRACAO PUBLICA, DEFESA E SEGURIDADE SOCIAL\", \"INDUSTRIA DIGITAL\", \"COMERCIO VAREJISTA\", \"INDUSTRIA DA CONSTRUCAO\", \"SERVICOS ADMINISTRATIVOS\", \"BENS DE CONSUMO\", \"QUIMICA-PETROQUIMICA\", \"ADMINISTRACAO PUBLICA, DEFESA E SEGURIDADE SOCIAL\", \"QUIMICA-PETROQUIMICA\", \"QUIMICA-PETROQUIMICA\", \"COMERCIO POR ATACADO\", \"SERVICOS DE SAUDE\", \"ADMINISTRACAO PUBLICA, DEFESA E SEGURIDADE SOCIAL\", \"ADMINISTRACAO PUBLICA, DEFESA E SEGURIDADE SOCIAL\", \"ADMINISTRACAO PUBLICA, DEFESA E SEGURIDADE SOCIAL\", \"COMERCIO E REPARACAO DE VEICULOS\", \"SIDERURGICA-METALURGIA\", \"ADMINISTRACAO PUBLICA, DEFESA E SEGURIDADE SOCIAL\", \"ADMINISTRACAO PUBLICA, DEFESA E SEGURIDADE SOCIAL\", \"ADMINISTRACAO PUBLICA, DEFESA E SEGURIDADE SOCIAL\", \"BENS DE CONSUMO\", \"SERVICOS DE EDUCACAO\", \"SIDERURGICA-METALURGIA\", \"INDUSTRIA DA CONSTRUCAO\", \"ADMINISTRACAO PUBLICA, DEFESA E SEGURIDADE SOCIAL\", \"ADMINISTRACAO PUBLICA, DEFESA E SEGURIDADE SOCIAL\", \"COMERCIO VAREJISTA\", \"ADMINISTRACAO PUBLICA, DEFESA E SEGURIDADE SOCIAL\", \"ADMINISTRACAO PUBLICA, DEFESA E SEGURIDADE SOCIAL\", \"ADMINISTRACAO PUBLICA, DEFESA E SEGURIDADE SOCIAL\", \"QUIMICA-PETROQUIMICA\", \"COMERCIO VAREJISTA\", \"COMERCIO VAREJISTA\", \"ADMINISTRACAO PUBLICA, DEFESA E SEGURIDADE SOCIAL\", \"INDUSTRIA DA CONSTRUCAO\", \"COMERCIO VAREJISTA\", \"INDUSTRIA DA CONSTRUCAO\", \"ADMINISTRACAO PUBLICA, DEFESA E SEGURIDADE SOCIAL\", \"ADMINISTRACAO PUBLICA, DEFESA E SEGURIDADE SOCIAL\", \"SIDERURGICA-METALURGIA\", \"ADMINISTRACAO PUBLICA, DEFESA E SEGURIDADE SOCIAL\", \"TRANSPORTE, ARMAZENAGEM E CORREIO\", \"SERVICOS ADMINISTRATIVOS\", \"QUIMICA-PETROQUIMICA\", \"BENS DE CONSUMO\", \"ADMINISTRACAO PUBLICA, DEFESA E SEGURIDADE SOCIAL\", \"ADMINISTRACAO PUBLICA, DEFESA E SEGURIDADE SOCIAL\", \"ADMINISTRACAO PUBLICA, DEFESA E SEGURIDADE SOCIAL\", \"QUIMICA-PETROQUIMICA\", \"TRANSPORTE, ARMAZENAGEM E CORREIO\", \"COMERCIO VAREJISTA\", \"COMERCIO VAREJISTA\", \"COMERCIO VAREJISTA\", \"PAPEL E CELULOSE\", \"COMERCIO VAREJISTA\", \"ADMINISTRACAO PUBLICA, DEFESA E SEGURIDADE SOCIAL\", \"SIDERURGICA-METALURGIA\", \"ADMINISTRACAO PUBLICA, DEFESA E SEGURIDADE SOCIAL\", \"BENS DE CONSUMO\", \"ADMINISTRACAO PUBLICA, DEFESA E SEGURIDADE SOCIAL\", \"ADMINISTRACAO PUBLICA, DEFESA E SEGURIDADE SOCIAL\", \"ADMINISTRACAO PUBLICA, DEFESA E SEGURIDADE SOCIAL\", \"BENS DE CONSUMO\", \"ADMINISTRACAO PUBLICA, DEFESA E SEGURIDADE SOCIAL\", \"ADMINISTRACAO PUBLICA, DEFESA E SEGURIDADE SOCIAL\", \"COMERCIO VAREJISTA\", \"COMERCIO VAREJISTA\", \"COMERCIO VAREJISTA\", \"INDUSTRIA DA CONSTRUCAO\", \"QUIMICA-PETROQUIMICA\", \"ADMINISTRACAO PUBLICA, DEFESA E SEGURIDADE SOCIAL\", \"COMERCIO VAREJISTA\", \"ADMINISTRACAO PUBLICA, DEFESA E SEGURIDADE SOCIAL\", \"COMERCIO E REPARACAO DE VEICULOS\", \"ADMINISTRACAO PUBLICA, DEFESA E SEGURIDADE SOCIAL\", \"ELETROELETRONICOS\", \"COMERCIO VAREJISTA\", \"ELETROELETRONICOS\", \"COMERCIO VAREJISTA\", \"SIDERURGICA-METALURGIA\", \"COMERCIO POR ATACADO\", \"COMERCIO VAREJISTA\", \"QUIMICA-PETROQUIMICA\", \"INDUSTRIA DA CONSTRUCAO\", \"ADMINISTRACAO PUBLICA, DEFESA E SEGURIDADE SOCIAL\"]}, {\"label\": \"natureza_juridica_macro\", \"values\": [\"OUTROS\", \"OUTROS\", \"OUTROS\", \"OUTROS\", \"OUTROS\", \"OUTROS\", \"OUTROS\", \"OUTROS\", \"OUTROS\", \"OUTROS\", \"OUTROS\", \"OUTROS\", \"OUTROS\", \"OUTROS\", \"OUTROS\", \"OUTROS\", \"OUTROS\", \"OUTROS\", \"OUTROS\", \"OUTROS\", \"OUTROS\", \"OUTROS\", \"OUTROS\", \"OUTROS\", \"OUTROS\", \"OUTROS\", \"OUTROS\", \"OUTROS\", \"OUTROS\", \"OUTROS\", \"OUTROS\", \"OUTROS\", \"OUTROS\", \"OUTROS\", \"OUTROS\", \"OUTROS\", \"OUTROS\", \"OUTROS\", \"OUTROS\", \"OUTROS\", \"OUTROS\", \"OUTROS\", \"OUTROS\", \"OUTROS\", \"OUTROS\", \"OUTROS\", \"OUTROS\", \"OUTROS\", \"OUTROS\", \"OUTROS\", \"OUTROS\", \"OUTROS\", \"OUTROS\", \"OUTROS\", \"OUTROS\", \"OUTROS\", \"OUTROS\", \"OUTROS\", \"OUTROS\", \"OUTROS\", \"OUTROS\", \"OUTROS\", \"OUTROS\", \"OUTROS\", \"OUTROS\", \"OUTROS\", \"OUTROS\", \"OUTROS\", \"OUTROS\", \"OUTROS\", \"OUTROS\", \"OUTROS\", \"OUTROS\", \"OUTROS\", \"OUTROS\", \"OUTROS\", \"OUTROS\", \"OUTROS\", \"OUTROS\", \"OUTROS\", \"OUTROS\", \"OUTROS\", \"OUTROS\", \"OUTROS\", \"OUTROS\", \"OUTROS\", \"OUTROS\", \"OUTROS\", \"OUTROS\", \"OUTROS\", \"OUTROS\", \"OUTROS\", \"OUTROS\", \"OUTROS\", \"OUTROS\", \"OUTROS\", \"OUTROS\", \"OUTROS\", \"OUTROS\", \"OUTROS\", \"OUTROS\", \"OUTROS\", \"OUTROS\", \"OUTROS\", \"OUTROS\", \"OUTROS\", \"OUTROS\", \"OUTROS\", \"OUTROS\", \"OUTROS\", \"OUTROS\", \"OUTROS\", \"OUTROS\", \"OUTROS\", \"OUTROS\", \"OUTROS\", \"OUTROS\", \"OUTROS\", \"OUTROS\", \"OUTROS\", \"OUTROS\", \"OUTROS\", \"OUTROS\", \"OUTROS\", \"OUTROS\", \"OUTROS\", \"OUTROS\", \"OUTROS\", \"OUTROS\", \"OUTROS\", \"OUTROS\", \"OUTROS\", \"OUTROS\", \"OUTROS\", \"OUTROS\", \"OUTROS\", \"OUTROS\", \"OUTROS\", \"OUTROS\", \"OUTROS\", \"OUTROS\", \"OUTROS\", \"OUTROS\", \"OUTROS\", \"OUTROS\", \"OUTROS\", \"OUTROS\", \"OUTROS\", \"OUTROS\", \"OUTROS\", \"OUTROS\", \"OUTROS\", \"OUTROS\", \"OUTROS\", \"OUTROS\", \"OUTROS\", \"OUTROS\", \"OUTROS\", \"OUTROS\", \"OUTROS\", \"OUTROS\", \"OUTROS\", \"OUTROS\", \"OUTROS\", \"OUTROS\", \"OUTROS\", \"OUTROS\", \"OUTROS\", \"ADMINISTRACAO PUBLICA\", \"OUTROS\", \"ADMINISTRACAO PUBLICA\", \"OUTROS\", \"OUTROS\", \"OUTROS\", \"OUTROS\", \"ADMINISTRACAO PUBLICA\", \"OUTROS\", \"ENTIDADES EMPRESARIAIS\", \"OUTROS\", \"OUTROS\", \"ADMINISTRACAO PUBLICA\", \"OUTROS\", \"OUTROS\", \"OUTROS\", \"ADMINISTRACAO PUBLICA\", \"ADMINISTRACAO PUBLICA\", \"OUTROS\", \"OUTROS\", \"ENTIDADES EMPRESARIAIS\", \"OUTROS\", \"ADMINISTRACAO PUBLICA\", \"ENTIDADES EMPRESARIAIS\", \"OUTROS\", \"OUTROS\", \"OUTROS\", \"OUTROS\", \"ADMINISTRACAO PUBLICA\", \"ENTIDADES EMPRESARIAIS\", \"ADMINISTRACAO PUBLICA\", \"OUTROS\", \"ADMINISTRACAO PUBLICA\", \"OUTROS\", \"OUTROS\", \"OUTROS\", \"ENTIDADES EMPRESARIAIS\", \"ENTIDADES EMPRESARIAIS\", \"OUTROS\", \"ENTIDADES EMPRESARIAIS\", \"OUTROS\", \"ENTIDADES EMPRESARIAIS\", \"ENTIDADES EMPRESARIAIS\", \"ENTIDADES EMPRESARIAIS\", \"ENTIDADES EMPRESARIAIS\", \"ENTIDADES EMPRESARIAIS\", \"OUTROS\", \"ENTIDADES EMPRESARIAIS\", \"ENTIDADES EMPRESARIAIS\", \"ENTIDADES EMPRESARIAIS\", \"OUTROS\", \"OUTROS\", \"ENTIDADES EMPRESARIAIS\", \"ENTIDADES EMPRESARIAIS\", \"OUTROS\", \"OUTROS\", \"ENTIDADES EMPRESARIAIS\", \"ENTIDADES EMPRESARIAIS\", \"OUTROS\", \"ENTIDADES EMPRESARIAIS\", \"ENTIDADES EMPRESARIAIS\", \"ENTIDADES EMPRESARIAIS\", \"ENTIDADES EMPRESARIAIS\", \"ADMINISTRACAO PUBLICA\", \"ENTIDADES EMPRESARIAIS\", \"ENTIDADES EMPRESARIAIS\", \"ADMINISTRACAO PUBLICA\", \"ENTIDADES EMPRESARIAIS\", \"ADMINISTRACAO PUBLICA\", \"ENTIDADES EMPRESARIAIS\", \"ENTIDADES EMPRESARIAIS\", \"ENTIDADES EMPRESARIAIS\", \"ENTIDADES EMPRESARIAIS\", \"ENTIDADES EMPRESARIAIS\", \"ENTIDADES EMPRESARIAIS\", \"ENTIDADES EMPRESARIAIS\", \"ADMINISTRACAO PUBLICA\", \"ENTIDADES EMPRESARIAIS\", \"ENTIDADES EMPRESARIAIS\", \"ENTIDADES EMPRESARIAIS\", \"ENTIDADES EMPRESARIAIS\", \"ENTIDADES EMPRESARIAIS\", \"ENTIDADES EMPRESARIAIS\", \"ENTIDADES EMPRESARIAIS\", \"ENTIDADES EMPRESARIAIS\", \"ADMINISTRACAO PUBLICA\", \"ENTIDADES EMPRESARIAIS\", \"ENTIDADES EMPRESARIAIS\", \"ENTIDADES EMPRESARIAIS\", \"ENTIDADES EMPRESARIAIS\", \"ENTIDADES EMPRESARIAIS\", \"ENTIDADES EMPRESARIAIS\", \"ENTIDADES EMPRESARIAIS\", \"OUTROS\", \"ENTIDADES EMPRESARIAIS\", \"ENTIDADES EMPRESARIAIS\", \"ENTIDADES EMPRESARIAIS\", \"ENTIDADES EMPRESARIAIS\", \"ADMINISTRACAO PUBLICA\", \"ADMINISTRACAO PUBLICA\", \"ADMINISTRACAO PUBLICA\", \"ENTIDADES EMPRESARIAIS\", \"ADMINISTRACAO PUBLICA\", \"ENTIDADES EMPRESARIAIS\", \"ADMINISTRACAO PUBLICA\", \"ADMINISTRACAO PUBLICA\", \"ADMINISTRACAO PUBLICA\", \"ENTIDADES EMPRESARIAIS\", \"ADMINISTRACAO PUBLICA\", \"ADMINISTRACAO PUBLICA\", \"ENTIDADES EMPRESARIAIS\", \"OUTROS\", \"ENTIDADES EMPRESARIAIS\", \"ENTIDADES EMPRESARIAIS\", \"ADMINISTRACAO PUBLICA\", \"ENTIDADES EMPRESARIAIS\", \"OUTROS\", \"ADMINISTRACAO PUBLICA\", \"ENTIDADES EMPRESARIAIS\", \"ENTIDADES EMPRESARIAIS\", \"ENTIDADES EMPRESARIAIS\", \"ENTIDADES EMPRESARIAIS\", \"ENTIDADES EMPRESARIAIS\", \"OUTROS\", \"ADMINISTRACAO PUBLICA\", \"ENTIDADES EMPRESARIAIS\", \"ENTIDADES EMPRESARIAIS\", \"ENTIDADES EMPRESARIAIS\", \"OUTROS\", \"ENTIDADES EMPRESARIAIS\", \"ENTIDADES EMPRESARIAIS\", \"ENTIDADES EMPRESARIAIS\", \"ADMINISTRACAO PUBLICA\", \"ADMINISTRACAO PUBLICA\", \"ENTIDADES EMPRESARIAIS\", \"ENTIDADES EMPRESARIAIS\", \"ENTIDADES EMPRESARIAIS\", \"ENTIDADES EMPRESARIAIS\", \"OUTROS\", \"ENTIDADES EMPRESARIAIS\", \"OUTROS\", \"ENTIDADES EMPRESARIAIS\", \"ENTIDADES EMPRESARIAIS\", \"ADMINISTRACAO PUBLICA\", \"ADMINISTRACAO PUBLICA\", \"OUTROS\", \"ADMINISTRACAO PUBLICA\", \"ADMINISTRACAO PUBLICA\", \"ENTIDADES EMPRESARIAIS\", \"ADMINISTRACAO PUBLICA\", \"ENTIDADES EMPRESARIAIS\", \"ENTIDADES EMPRESARIAIS\", \"ENTIDADES EMPRESARIAIS\", \"OUTROS\", \"OUTROS\", \"ENTIDADES EMPRESARIAIS\", \"ADMINISTRACAO PUBLICA\", \"ENTIDADES EMPRESARIAIS\", \"ENTIDADES EMPRESARIAIS\", \"ENTIDADES EMPRESARIAIS\", \"ADMINISTRACAO PUBLICA\", \"ADMINISTRACAO PUBLICA\", \"ENTIDADES EMPRESARIAIS\", \"ENTIDADES EMPRESARIAIS\", \"ADMINISTRACAO PUBLICA\", \"ENTIDADES EMPRESARIAIS\", \"ENTIDADES EMPRESARIAIS\", \"ENTIDADES EMPRESARIAIS\", \"ENTIDADES EMPRESARIAIS\", \"ADMINISTRACAO PUBLICA\", \"ADMINISTRACAO PUBLICA\", \"ADMINISTRACAO PUBLICA\", \"ADMINISTRACAO PUBLICA\", \"ENTIDADES EMPRESARIAIS\", \"ENTIDADES EMPRESARIAIS\", \"ENTIDADES EMPRESARIAIS\", \"ADMINISTRACAO PUBLICA\", \"ENTIDADES EMPRESARIAIS\", \"ADMINISTRACAO PUBLICA\", \"ENTIDADES EMPRESARIAIS\", \"ENTIDADES EMPRESARIAIS\", \"ENTIDADES EMPRESARIAIS\", \"ENTIDADES EMPRESARIAIS\", \"ADMINISTRACAO PUBLICA\", \"ADMINISTRACAO PUBLICA\", \"ADMINISTRACAO PUBLICA\", \"ADMINISTRACAO PUBLICA\", \"ADMINISTRACAO PUBLICA\", \"ADMINISTRACAO PUBLICA\", \"ENTIDADES EMPRESARIAIS\", \"OUTROS\", \"ENTIDADES EMPRESARIAIS\", \"ENTIDADES EMPRESARIAIS\", \"ADMINISTRACAO PUBLICA\", \"ENTIDADES EMPRESARIAIS\", \"OUTROS\", \"ADMINISTRACAO PUBLICA\", \"ADMINISTRACAO PUBLICA\", \"ENTIDADES EMPRESARIAIS\", \"ADMINISTRACAO PUBLICA\", \"ENTIDADES EMPRESARIAIS\", \"ADMINISTRACAO PUBLICA\", \"ADMINISTRACAO PUBLICA\", \"OUTROS\", \"ADMINISTRACAO PUBLICA\", \"OUTROS\", \"OUTROS\", \"ENTIDADES EMPRESARIAIS\", \"ENTIDADES EMPRESARIAIS\", \"ENTIDADES EMPRESARIAIS\", \"ADMINISTRACAO PUBLICA\", \"ENTIDADES EMPRESARIAIS\", \"ENTIDADES EMPRESARIAIS\", \"ENTIDADES EMPRESARIAIS\", \"ADMINISTRACAO PUBLICA\", \"ENTIDADES EMPRESARIAIS\", \"ENTIDADES EMPRESARIAIS\", \"OUTROS\", \"OUTROS\", \"ENTIDADES EMPRESARIAIS\", \"ENTIDADES EMPRESARIAIS\", \"ADMINISTRACAO PUBLICA\", \"OUTROS\", \"ENTIDADES EMPRESARIAIS\", \"ENTIDADES EMPRESARIAIS\", \"ENTIDADES EMPRESARIAIS\", \"ADMINISTRACAO PUBLICA\", \"ENTIDADES EMPRESARIAIS\", \"ENTIDADES EMPRESARIAIS\", \"ENTIDADES EMPRESARIAIS\", \"OUTROS\", \"ENTIDADES EMPRESARIAIS\", \"ENTIDADES EMPRESARIAIS\", \"ADMINISTRACAO PUBLICA\", \"ENTIDADES EMPRESARIAIS\", \"ENTIDADES EMPRESARIAIS\", \"ENTIDADES EMPRESARIAIS\", \"ENTIDADES EMPRESARIAIS\", \"ENTIDADES EMPRESARIAIS\", \"ENTIDADES EMPRESARIAIS\", \"ADMINISTRACAO PUBLICA\", \"ENTIDADES EMPRESARIAIS\", \"ADMINISTRACAO PUBLICA\", \"ENTIDADES EMPRESARIAIS\", \"ADMINISTRACAO PUBLICA\", \"ADMINISTRACAO PUBLICA\", \"ADMINISTRACAO PUBLICA\", \"ENTIDADES EMPRESARIAIS\", \"ENTIDADES EMPRESARIAIS\", \"ADMINISTRACAO PUBLICA\", \"ENTIDADES EMPRESARIAIS\", \"ENTIDADES EMPRESARIAIS\", \"ADMINISTRACAO PUBLICA\", \"ENTIDADES EMPRESARIAIS\", \"ENTIDADES EMPRESARIAIS\", \"ADMINISTRACAO PUBLICA\", \"ENTIDADES EMPRESARIAIS\", \"ENTIDADES EMPRESARIAIS\", \"ENTIDADES EMPRESARIAIS\", \"ADMINISTRACAO PUBLICA\", \"OUTROS\", \"ENTIDADES EMPRESARIAIS\", \"ENTIDADES EMPRESARIAIS\", \"ENTIDADES EMPRESARIAIS\", \"ENTIDADES EMPRESARIAIS\", \"ENTIDADES EMPRESARIAIS\", \"ADMINISTRACAO PUBLICA\", \"ENTIDADES EMPRESARIAIS\", \"ADMINISTRACAO PUBLICA\", \"ADMINISTRACAO PUBLICA\", \"ENTIDADES EMPRESARIAIS\", \"ENTIDADES EMPRESARIAIS\", \"ENTIDADES EMPRESARIAIS\", \"ADMINISTRACAO PUBLICA\", \"ENTIDADES EMPRESARIAIS\", \"ADMINISTRACAO PUBLICA\", \"ENTIDADES EMPRESARIAIS\", \"ENTIDADES EMPRESARIAIS\", \"ADMINISTRACAO PUBLICA\", \"ADMINISTRACAO PUBLICA\", \"ADMINISTRACAO PUBLICA\", \"ADMINISTRACAO PUBLICA\", \"ADMINISTRACAO PUBLICA\", \"ADMINISTRACAO PUBLICA\", \"ENTIDADES EMPRESARIAIS\", \"ADMINISTRACAO PUBLICA\", \"OUTROS\", \"ADMINISTRACAO PUBLICA\", \"ENTIDADES EMPRESARIAIS\", \"ENTIDADES EMPRESARIAIS\", \"ENTIDADES EMPRESARIAIS\", \"ENTIDADES EMPRESARIAIS\", \"ENTIDADES EMPRESARIAIS\", \"ENTIDADES EMPRESARIAIS\", \"ENTIDADES EMPRESARIAIS\", \"ENTIDADES EMPRESARIAIS\", \"ENTIDADES EMPRESARIAIS\", \"ADMINISTRACAO PUBLICA\", \"ADMINISTRACAO PUBLICA\", \"ENTIDADES EMPRESARIAIS\", \"ENTIDADES EMPRESARIAIS\", \"ADMINISTRACAO PUBLICA\", \"ENTIDADES EMPRESARIAIS\", \"ENTIDADES EMPRESARIAIS\", \"ENTIDADES EMPRESARIAIS\", \"ENTIDADES EMPRESARIAIS\", \"ENTIDADES EMPRESARIAIS\", \"OUTROS\", \"ENTIDADES EMPRESARIAIS\", \"ENTIDADES EMPRESARIAIS\", \"ENTIDADES EMPRESARIAIS\", \"ENTIDADES EMPRESARIAIS\", \"ADMINISTRACAO PUBLICA\", \"ADMINISTRACAO PUBLICA\", \"ENTIDADES EMPRESARIAIS\", \"ENTIDADES EMPRESARIAIS\", \"ENTIDADES EMPRESARIAIS\", \"ENTIDADES EMPRESARIAIS\", \"ENTIDADES EMPRESARIAIS\", \"ENTIDADES EMPRESARIAIS\", \"ADMINISTRACAO PUBLICA\", \"ENTIDADES EMPRESARIAIS\", \"ENTIDADES EMPRESARIAIS\", \"ENTIDADES EMPRESARIAIS\", \"ENTIDADES EMPRESARIAIS\", \"OUTROS\", \"OUTROS\", \"OUTROS\", \"ENTIDADES EMPRESARIAIS\", \"ENTIDADES EMPRESARIAIS\", \"ADMINISTRACAO PUBLICA\", \"ADMINISTRACAO PUBLICA\", \"ADMINISTRACAO PUBLICA\", \"ENTIDADES EMPRESARIAIS\", \"ENTIDADES EMPRESARIAIS\", \"ENTIDADES EMPRESARIAIS\", \"ENTIDADES EMPRESARIAIS\", \"ADMINISTRACAO PUBLICA\", \"ADMINISTRACAO PUBLICA\", \"ENTIDADES EMPRESARIAIS\", \"ADMINISTRACAO PUBLICA\", \"ADMINISTRACAO PUBLICA\", \"ADMINISTRACAO PUBLICA\", \"ENTIDADES EMPRESARIAIS\", \"ENTIDADES EMPRESARIAIS\", \"ENTIDADES EMPRESARIAIS\", \"ADMINISTRACAO PUBLICA\", \"ENTIDADES EMPRESARIAIS\", \"ENTIDADES EMPRESARIAIS\", \"ENTIDADES EMPRESARIAIS\", \"ADMINISTRACAO PUBLICA\", \"ADMINISTRACAO PUBLICA\", \"ENTIDADES EMPRESARIAIS\", \"OUTROS\", \"ENTIDADES EMPRESARIAIS\", \"ENTIDADES EMPRESARIAIS\", \"ENTIDADES EMPRESARIAIS\", \"ENTIDADES EMPRESARIAIS\", \"ADMINISTRACAO PUBLICA\", \"ADMINISTRACAO PUBLICA\", \"ADMINISTRACAO PUBLICA\", \"ENTIDADES EMPRESARIAIS\", \"ENTIDADES EMPRESARIAIS\", \"ENTIDADES EMPRESARIAIS\", \"ENTIDADES EMPRESARIAIS\", \"ENTIDADES EMPRESARIAIS\", \"ENTIDADES EMPRESARIAIS\", \"ENTIDADES EMPRESARIAIS\", \"OUTROS\", \"ENTIDADES EMPRESARIAIS\", \"OUTROS\", \"ENTIDADES EMPRESARIAIS\", \"ADMINISTRACAO PUBLICA\", \"OUTROS\", \"ADMINISTRACAO PUBLICA\", \"ENTIDADES EMPRESARIAIS\", \"ADMINISTRACAO PUBLICA\", \"ADMINISTRACAO PUBLICA\", \"ENTIDADES EMPRESARIAIS\", \"ENTIDADES EMPRESARIAIS\", \"ENTIDADES EMPRESARIAIS\", \"ENTIDADES EMPRESARIAIS\", \"ENTIDADES EMPRESARIAIS\", \"ADMINISTRACAO PUBLICA\", \"ENTIDADES EMPRESARIAIS\", \"OUTROS\", \"ENTIDADES EMPRESARIAIS\", \"ADMINISTRACAO PUBLICA\", \"ENTIDADES EMPRESARIAIS\", \"ENTIDADES EMPRESARIAIS\", \"ENTIDADES EMPRESARIAIS\", \"ENTIDADES EMPRESARIAIS\", \"ENTIDADES EMPRESARIAIS\", \"ENTIDADES EMPRESARIAIS\", \"ENTIDADES EMPRESARIAIS\", \"ENTIDADES EMPRESARIAIS\", \"ENTIDADES EMPRESARIAIS\", \"ADMINISTRACAO PUBLICA\"]}], \"domain\": {\"x\": [0.0, 1.0], \"y\": [0.0, 1.0]}, \"line\": {\"color\": [21.835616438356166, 35.62191780821918, 21.835616438356166, 21.835616438356166, 21.835616438356166, 23.950684931506853, 21.835616438356166, 43.854794520547955, 30.271232876712325, 25.93972602739726, 43.87397260273973, 31.824657534246573, 26.723287671232878, 31.019178082191786, 48.342465753424655, 23.912328767123288, 42.85205479452055, 21.83287671232877, 43.854794520547955, 43.865753424657534, 43.87671232876714, 43.87671232876714, 33.76712328767123, 25.926027397260274, 43.832876712328776, 43.854794520547955, 41.57534246575342, 48.85753424657535, 29.372602739726034, 39.446575342465756, 41.69041095890411, 43.832876712328776, 43.85753424657535, 43.854794520547955, 21.871232876712327, 43.854794520547955, 43.53972602739726, 43.854794520547955, 48.85753424657535, 44.01917808219178, 43.778082191780825, 44.71506849315068, 21.83287671232877, 43.846575342465755, 21.81643835616439, 43.835616438356155, 44.049315068493144, 21.81643835616439, 21.835616438356166, 49.62191780821917, 43.463013698630135, 21.835616438356166, 43.865753424657534, 43.85753424657535, 43.865753424657534, 43.854794520547955, 43.865753424657534, 43.87671232876714, 43.85753424657535, 43.87671232876714, 43.87671232876714, 43.854794520547955, 45.84931506849315, 43.865753424657534, 46.909589041095884, 43.87397260273973, 21.835616438356166, 48.85753424657535, 43.83013698630136, 38.44931506849315, 43.610958904109594, 31.150684931506852, 43.854794520547955, 21.835616438356166, 43.854794520547955, 43.854794520547955, 48.75890410958904, 43.865753424657534, 43.471232876712335, 35.273972602739725, 39.673972602739724, 35.701369863013696, 21.835616438356166, 25.884931506849323, 43.865753424657534, 43.53972602739726, 43.832876712328776, 44.67123287671233, 21.83287671232877, 48.85753424657535, 21.81369863013699, 25.290410958904108, 43.865753424657534, 45.12602739726027, 43.86849315068493, 43.854794520547955, 43.846575342465755, 43.87671232876714, 38.405479452054784, 43.832876712328776, 45.58356164383562, 26.495890410958904, 22.85205479452055, 21.835616438356166, 43.854794520547955, 43.854794520547955, 43.84931506849315, 21.83287671232877, 44.49863013698629, 33.010958904109586, 27.263013698630136, 21.835616438356166, 21.893150684931502, 21.81643835616439, 40.35616438356164, 43.65753424657535, 30.827397260273965, 44.70958904109589, 41.435616438356156, 21.81643835616439, 21.835616438356166, 21.835616438356166, 21.835616438356166, 39.684931506849324, 43.865753424657534, 43.865753424657534, 43.832876712328776, 21.81643835616439, 43.846575342465755, 37.369863013698634, 43.854794520547955, 21.835616438356166, 21.835616438356166, 51.49863013698629, 29.83287671232877, 25.884931506849323, 21.835616438356166, 21.81643835616439, 25.550684931506854, 43.865753424657534, 47.186301369863024, 29.65479452054794, 43.14794520547945, 23.408219178082188, 43.87671232876714, 35.68767123287671, 43.865753424657534, 43.87671232876714, 35.684931506849324, 21.835616438356166, 43.865753424657534, 35.684931506849324, 43.865753424657534, 21.835616438356166, 21.835616438356166, 43.865753424657534, 40.52876712328767, 21.835616438356166, 23.81369863013699, 21.835616438356166, 43.8, 35.016438356164386, 23.298630136986297, 43.86849315068493, 30.487671232876714, 21.835616438356166, 46.884931506849306, 27.14246575342466, 43.8, 21.835616438356166, 40.347945205479455, 41.389041095890406, 43.865753424657534, 21.835616438356166, 30.449315068493146, 42.83287671232877, 21.835616438356166, 22.175342465753427, 43.854794520547955, 43.87671232876714, 21.701369863013703, 43.50136986301371, 43.50136986301371, 27.78082191780822, 43.893150684931506, 23.08493150684932, 44.213698630136996, 42.854794520547955, 21.46575342465753, 42.835616438356155, 23.575342465753426, 24.252054794520546, 21.86849315068493, 43.87671232876714, 44.375342465753434, 27.854794520547944, 40.01095890410959, 21.21917808219178, 41.594520547945216, 21.835616438356166, 29.416438356164388, 47.38082191780822, 21.835616438356166, 26.728767123287675, 34.37808219178082, 22.81369863013699, 43.865753424657534, 38.813698630136976, 43.854794520547955, 27.16986301369863, 24.47945205479452, 25.254794520547943, 25.454794520547942, 28.08493150684932, 47.44383561643836, 41.08493150684932, 22.86575342465753, 34.630136986301366, 43.854794520547955, 21.835616438356166, 18.34520547945205, 26.454794520547942, 25.884931506849323, 25.884931506849323, 23.24109589041096, 17.252054794520546, 43.85753424657535, 18.843835616438355, 22.17808219178082, 23.279452054794522, 21.104109589041094, 11.167123287671233, 38.86027397260274, 27.16986301369863, 11.167123287671233, 36.175342465753424, 52.44383561643836, 21.342465753424662, 17.517808219178082, 27.54520547945205, 34.43013698630137, 23.56438356164384, 23.145205479452056, 45.06027397260274, 38.97534246575343, 23.65753424657534, 22.67945205479452, 13.076712328767126, 30.295890410958904, 14.073972602739724, 10.38082191780822, 11.128767123287673, 28.64931506849315, 4.923287671232877, 23.605479452054798, 25.079452054794523, 17.884931506849316, 8.663013698630136, 4.205479452054795, 18.876712328767127, 52.16164383561644, 23.76986301369863, 18.676712328767124, 22.8, 16.621917808219177, 24.43013698630137, 23.367123287671234, 36.81643835616438, 35.876712328767134, 29.10410958904109, 20.383561643835613, 26.02465753424657, 36.73150684931507, 22.97260273972603, 16.528767123287672, 8.367123287671232, 43.88767123287671, 11.553424657534249, 14.104109589041094, 43.854794520547955, 13.24931506849315, 25.895890410958906, 7.827397260273971, 20.106849315068494, 27.536986301369858, 36.73150684931507, 16.923287671232874, 32.87945205479452, 7.564383561643837, 25.627397260273966, 11.972602739726028, 24.372602739726034, 11.167123287671233, 9.041095890410961, 20.02739726027397, 6.397260273972603, 21.117808219178084, 30.97808219178082, 19.282191780821922, 18.34520547945205, 17.638356164383566, 17.638356164383566, 21.745205479452054, 10.326027397260274, 24.572602739726022, 26.805479452054797, 20.610958904109584, 12.134246575342464, 24.410958904109588, 19.66575342465753, 17.78904109589041, 20.32054794520548, 24.78356164383561, 21.663013698630138, 43.854794520547955, 40.38082191780822, 23.6, 26.936986301369863, 10.52054794520548, 25.961643835616442, 15.295890410958906, 21.81643835616439, 11.882191780821916, 9.183561643835617, 11.553424657534249, 10.364383561643837, 34.18904109589041, 21.86027397260274, 14.490410958904107, 34.90958904109589, 20.627397260273973, 36.46849315068493, 18.936986301369863, 22.04383561643836, 30.076712328767123, 8.953424657534246, 31.805479452054797, 29.67945205479452, 5.2465753424657535, 37.85753424657535, 43.854794520547955, 40.53972602739726, 23.12054794520548, 21.435616438356163, 24.172602739726035, 13.967123287671232, 43.854794520547955, 27.008219178082193, 22.06575342465753, 26.356164383561644, 15.794520547945206, 11.167123287671233, 21.83287671232877, 24.610958904109587, 27.572602739726022, 17.473972602739725, 9.852054794520548, 6.978082191780822, 9.095890410958903, 16.441095890410963, 19.282191780821922, 43.75342465753425, 20.709589041095892, 24.019178082191786, 23.23835616438356, 20.145205479452056, 20.991780821917807, 8.665753424657536, 45.06027397260274, 20.43013698630137, 27.049315068493147, 25.35068493150685, 21.183561643835613, 21.835616438356166, 15.446575342465751, 42.22465753424658, 20.660273972602734, 20.142465753424663, 25.78356164383561, 18.369863013698627, 18.610958904109584, 30.082191780821923, 13.18082191780822, 7.945205479452055, 15.73972602739726, 43.35890410958904, 22.03013698630137, 19.48219178082192, 14.972602739726028, 23.728767123287675, 21.835616438356166, 30.87397260273973, 32.367123287671234, 27.583561643835612, 25.4986301369863, 10.424657534246576, 37.11506849315069, 19.128767123287673, 23.901369863013702, 11.887671232876713, 19.876712328767127, 43.56712328767122, 27.93972602739726, 10.75068493150685, 22.336986301369862, 22.52054794520548, 22.493150684931507, 33.553424657534244, 52.44931506849315, 31.101369863013698, 43.64657534246575, 6.9013698630136995, 25.64931506849315, 21.835616438356166, 32.405479452054784, 13.402739726027393, 18.82191780821918, 19.575342465753426, 21.936986301369863, 15.583561643835615, 35.50684931506849, 34.9013698630137, 6.717808219178082, 43.16164383561644, 5.7835616438356166, 21.276712328767122, 12.079452054794519, 19.841095890410962, 43.36712328767122, 28.704109589041096, 13.493150684931507, 16.106849315068494, 35.52602739726027, 6.284931506849315, 32.83835616438356, 31.082191780821923, 23.487671232876714, 25.824657534246573, 29.810958904109587, 21.63013698630137, 25.358904109589037, 9.830136986301367, 7.378082191780821, 27.34246575342466, 18.783561643835615, 29.660273972602734, 36.55890410958904, 23.063013698630137, 35.016438356164386, 34.86027397260274, 29.682191780821924, 33.057534246575344, 29.175342465753427, 27.364383561643837, 21.745205479452054, 22.83561643835617, 14.912328767123286, 10.076712328767123, 48.72602739726028, 6.473972602739726, 10.495890410958904, 14.857534246575346, 7.419178082191781, 9.786301369863011, 26.093150684931512, 21.50958904109589, 34.97808219178082, 15.789041095890413, 14.873972602739727, 22.695890410958906, 26.07397260273973, 49.75890410958904, 25.304109589041094, 22.290410958904108, 23.14794520547945, 26.98904109589041, 12.224657534246573, 6.03013698630137, 22.049315068493147, 12.490410958904107, 31.04383561643836, 29.871232876712327, 17.457534246575342, 20.624657534246573, 17.254794520547946, 6.556164383561644, 14.62191780821918, 15.06027397260274, 31.78356164383561, 17.34794520547945, 10.323287671232876, 20.621917808219177, 16.520547945205482, 42.813698630136976, 42.813698630136976, 42.813698630136976, 23.85205479452055, 11.035616438356163, 21.810958904109587, 23.367123287671234, 42.701369863013696, 13.641095890410963, 34.816438356164376, 36.454794520547935, 44.52602739726027, 22.6, 26.605479452054798, 27.326027397260276, 25.71506849315068, 34.74520547945205, 31.534246575342465, 23.421917808219174, 15.887671232876713, 19.64383561643836, 3.5808219178082186, 16.183561643835617, 11.613698630136984, 11.726027397260275, 38.18082191780822, 48.68493150684932, 31.95616438356164, 43.405479452054784, 32.61643835616438, 11.312328767123287, 7.065753424657534, 21.895890410958906, 38.02191780821918, 35.586301369863016, 17.638356164383566, 7.465753424657534, 16.747945205479454, 15.953424657534244, 8.605479452054794, 25.786301369863008, 13.487671232876714, 41.8, 21.835616438356166, 13.547945205479452, 27.594520547945205, 11.284931506849315, 21.79178082191781, 25.30958904109589, 43.865753424657534, 20.26027397260274, 21.54794520547945, 37.794520547945204, 20.723287671232878, 22.052054794520544, 26.28767123287671, 5.8931506849315065, 12.224657534246573, 20.90958904109589, 30.16164383561644, 43.854794520547955, 15.876712328767125, 14.780821917808215, 7.465753424657534, 9.273972602739725, 21.583561643835612, 24.61369863013699, 34.86027397260274, 26.16712328767123, 28.663013698630138, 4.265753424657534, 9.158904109589043, 42.26575342465753], \"coloraxis\": \"coloraxis\"}, \"name\": \"\", \"type\": \"parcats\"}],\n",
              "                        {\"coloraxis\": {\"colorbar\": {\"title\": {\"text\": \"idade_empresa_anos\"}}, \"colorscale\": [[0.0, \"#000004\"], [0.1111111111111111, \"#1b0c41\"], [0.2222222222222222, \"#4a0c6b\"], [0.3333333333333333, \"#781c6d\"], [0.4444444444444444, \"#a52c60\"], [0.5555555555555556, \"#cf4446\"], [0.6666666666666666, \"#ed6925\"], [0.7777777777777778, \"#fb9b06\"], [0.8888888888888888, \"#f7d13d\"], [1.0, \"#fcffa4\"]]}, \"height\": 500, \"legend\": {\"tracegroupgap\": 0}, \"margin\": {\"t\": 60}, \"template\": {\"data\": {\"bar\": [{\"error_x\": {\"color\": \"#2a3f5f\"}, \"error_y\": {\"color\": \"#2a3f5f\"}, \"marker\": {\"line\": {\"color\": \"#E5ECF6\", \"width\": 0.5}}, \"type\": \"bar\"}], \"barpolar\": [{\"marker\": {\"line\": {\"color\": \"#E5ECF6\", \"width\": 0.5}}, \"type\": \"barpolar\"}], \"carpet\": [{\"aaxis\": {\"endlinecolor\": \"#2a3f5f\", \"gridcolor\": \"white\", \"linecolor\": \"white\", \"minorgridcolor\": \"white\", \"startlinecolor\": \"#2a3f5f\"}, \"baxis\": {\"endlinecolor\": \"#2a3f5f\", \"gridcolor\": \"white\", \"linecolor\": \"white\", \"minorgridcolor\": \"white\", \"startlinecolor\": \"#2a3f5f\"}, \"type\": \"carpet\"}], \"choropleth\": [{\"colorbar\": {\"outlinewidth\": 0, \"ticks\": \"\"}, \"type\": \"choropleth\"}], \"contour\": [{\"colorbar\": {\"outlinewidth\": 0, \"ticks\": \"\"}, \"colorscale\": [[0.0, \"#0d0887\"], [0.1111111111111111, \"#46039f\"], [0.2222222222222222, \"#7201a8\"], [0.3333333333333333, \"#9c179e\"], [0.4444444444444444, \"#bd3786\"], [0.5555555555555556, \"#d8576b\"], [0.6666666666666666, \"#ed7953\"], [0.7777777777777778, \"#fb9f3a\"], [0.8888888888888888, \"#fdca26\"], [1.0, \"#f0f921\"]], \"type\": \"contour\"}], \"contourcarpet\": [{\"colorbar\": {\"outlinewidth\": 0, \"ticks\": \"\"}, \"type\": \"contourcarpet\"}], \"heatmap\": [{\"colorbar\": {\"outlinewidth\": 0, \"ticks\": \"\"}, \"colorscale\": [[0.0, \"#0d0887\"], [0.1111111111111111, \"#46039f\"], [0.2222222222222222, \"#7201a8\"], [0.3333333333333333, \"#9c179e\"], [0.4444444444444444, \"#bd3786\"], [0.5555555555555556, \"#d8576b\"], [0.6666666666666666, \"#ed7953\"], [0.7777777777777778, \"#fb9f3a\"], [0.8888888888888888, \"#fdca26\"], [1.0, \"#f0f921\"]], \"type\": \"heatmap\"}], \"heatmapgl\": [{\"colorbar\": {\"outlinewidth\": 0, \"ticks\": \"\"}, \"colorscale\": [[0.0, \"#0d0887\"], [0.1111111111111111, \"#46039f\"], [0.2222222222222222, \"#7201a8\"], [0.3333333333333333, \"#9c179e\"], [0.4444444444444444, \"#bd3786\"], [0.5555555555555556, \"#d8576b\"], [0.6666666666666666, \"#ed7953\"], [0.7777777777777778, \"#fb9f3a\"], [0.8888888888888888, \"#fdca26\"], [1.0, \"#f0f921\"]], \"type\": \"heatmapgl\"}], \"histogram\": [{\"marker\": {\"colorbar\": {\"outlinewidth\": 0, \"ticks\": \"\"}}, \"type\": \"histogram\"}], \"histogram2d\": [{\"colorbar\": {\"outlinewidth\": 0, \"ticks\": \"\"}, \"colorscale\": [[0.0, \"#0d0887\"], [0.1111111111111111, \"#46039f\"], [0.2222222222222222, \"#7201a8\"], [0.3333333333333333, \"#9c179e\"], [0.4444444444444444, \"#bd3786\"], [0.5555555555555556, \"#d8576b\"], [0.6666666666666666, \"#ed7953\"], [0.7777777777777778, \"#fb9f3a\"], [0.8888888888888888, \"#fdca26\"], [1.0, \"#f0f921\"]], \"type\": \"histogram2d\"}], \"histogram2dcontour\": [{\"colorbar\": {\"outlinewidth\": 0, \"ticks\": \"\"}, \"colorscale\": [[0.0, \"#0d0887\"], [0.1111111111111111, \"#46039f\"], [0.2222222222222222, \"#7201a8\"], [0.3333333333333333, \"#9c179e\"], [0.4444444444444444, \"#bd3786\"], [0.5555555555555556, \"#d8576b\"], [0.6666666666666666, \"#ed7953\"], [0.7777777777777778, \"#fb9f3a\"], [0.8888888888888888, \"#fdca26\"], [1.0, \"#f0f921\"]], \"type\": \"histogram2dcontour\"}], \"mesh3d\": [{\"colorbar\": {\"outlinewidth\": 0, \"ticks\": \"\"}, \"type\": \"mesh3d\"}], \"parcoords\": [{\"line\": {\"colorbar\": {\"outlinewidth\": 0, \"ticks\": \"\"}}, \"type\": \"parcoords\"}], \"pie\": [{\"automargin\": true, \"type\": \"pie\"}], \"scatter\": [{\"marker\": {\"colorbar\": {\"outlinewidth\": 0, \"ticks\": \"\"}}, \"type\": \"scatter\"}], \"scatter3d\": [{\"line\": {\"colorbar\": {\"outlinewidth\": 0, \"ticks\": \"\"}}, \"marker\": {\"colorbar\": {\"outlinewidth\": 0, \"ticks\": \"\"}}, \"type\": \"scatter3d\"}], \"scattercarpet\": [{\"marker\": {\"colorbar\": {\"outlinewidth\": 0, \"ticks\": \"\"}}, \"type\": \"scattercarpet\"}], \"scattergeo\": [{\"marker\": {\"colorbar\": {\"outlinewidth\": 0, \"ticks\": \"\"}}, \"type\": \"scattergeo\"}], \"scattergl\": [{\"marker\": {\"colorbar\": {\"outlinewidth\": 0, \"ticks\": \"\"}}, \"type\": \"scattergl\"}], \"scattermapbox\": [{\"marker\": {\"colorbar\": {\"outlinewidth\": 0, \"ticks\": \"\"}}, \"type\": \"scattermapbox\"}], \"scatterpolar\": [{\"marker\": {\"colorbar\": {\"outlinewidth\": 0, \"ticks\": \"\"}}, \"type\": \"scatterpolar\"}], \"scatterpolargl\": [{\"marker\": {\"colorbar\": {\"outlinewidth\": 0, \"ticks\": \"\"}}, \"type\": \"scatterpolargl\"}], \"scatterternary\": [{\"marker\": {\"colorbar\": {\"outlinewidth\": 0, \"ticks\": \"\"}}, \"type\": \"scatterternary\"}], \"surface\": [{\"colorbar\": {\"outlinewidth\": 0, \"ticks\": \"\"}, \"colorscale\": [[0.0, \"#0d0887\"], [0.1111111111111111, \"#46039f\"], [0.2222222222222222, \"#7201a8\"], [0.3333333333333333, \"#9c179e\"], [0.4444444444444444, \"#bd3786\"], [0.5555555555555556, \"#d8576b\"], [0.6666666666666666, \"#ed7953\"], [0.7777777777777778, \"#fb9f3a\"], [0.8888888888888888, \"#fdca26\"], [1.0, \"#f0f921\"]], \"type\": \"surface\"}], \"table\": [{\"cells\": {\"fill\": {\"color\": \"#EBF0F8\"}, \"line\": {\"color\": \"white\"}}, \"header\": {\"fill\": {\"color\": \"#C8D4E3\"}, \"line\": {\"color\": \"white\"}}, \"type\": \"table\"}]}, \"layout\": {\"annotationdefaults\": {\"arrowcolor\": \"#2a3f5f\", \"arrowhead\": 0, \"arrowwidth\": 1}, \"coloraxis\": {\"colorbar\": {\"outlinewidth\": 0, \"ticks\": \"\"}}, \"colorscale\": {\"diverging\": [[0, \"#8e0152\"], [0.1, \"#c51b7d\"], [0.2, \"#de77ae\"], [0.3, \"#f1b6da\"], [0.4, \"#fde0ef\"], [0.5, \"#f7f7f7\"], [0.6, \"#e6f5d0\"], [0.7, \"#b8e186\"], [0.8, \"#7fbc41\"], [0.9, \"#4d9221\"], [1, \"#276419\"]], \"sequential\": [[0.0, \"#0d0887\"], [0.1111111111111111, \"#46039f\"], [0.2222222222222222, \"#7201a8\"], [0.3333333333333333, \"#9c179e\"], [0.4444444444444444, \"#bd3786\"], [0.5555555555555556, \"#d8576b\"], [0.6666666666666666, \"#ed7953\"], [0.7777777777777778, \"#fb9f3a\"], [0.8888888888888888, \"#fdca26\"], [1.0, \"#f0f921\"]], \"sequentialminus\": [[0.0, \"#0d0887\"], [0.1111111111111111, \"#46039f\"], [0.2222222222222222, \"#7201a8\"], [0.3333333333333333, \"#9c179e\"], [0.4444444444444444, \"#bd3786\"], [0.5555555555555556, \"#d8576b\"], [0.6666666666666666, \"#ed7953\"], [0.7777777777777778, \"#fb9f3a\"], [0.8888888888888888, \"#fdca26\"], [1.0, \"#f0f921\"]]}, \"colorway\": [\"#636efa\", \"#EF553B\", \"#00cc96\", \"#ab63fa\", \"#FFA15A\", \"#19d3f3\", \"#FF6692\", \"#B6E880\", \"#FF97FF\", \"#FECB52\"], \"font\": {\"color\": \"#2a3f5f\"}, \"geo\": {\"bgcolor\": \"white\", \"lakecolor\": \"white\", \"landcolor\": \"#E5ECF6\", \"showlakes\": true, \"showland\": true, \"subunitcolor\": \"white\"}, \"hoverlabel\": {\"align\": \"left\"}, \"hovermode\": \"closest\", \"mapbox\": {\"style\": \"light\"}, \"paper_bgcolor\": \"white\", \"plot_bgcolor\": \"#E5ECF6\", \"polar\": {\"angularaxis\": {\"gridcolor\": \"white\", \"linecolor\": \"white\", \"ticks\": \"\"}, \"bgcolor\": \"#E5ECF6\", \"radialaxis\": {\"gridcolor\": \"white\", \"linecolor\": \"white\", \"ticks\": \"\"}}, \"scene\": {\"xaxis\": {\"backgroundcolor\": \"#E5ECF6\", \"gridcolor\": \"white\", \"gridwidth\": 2, \"linecolor\": \"white\", \"showbackground\": true, \"ticks\": \"\", \"zerolinecolor\": \"white\"}, \"yaxis\": {\"backgroundcolor\": \"#E5ECF6\", \"gridcolor\": \"white\", \"gridwidth\": 2, \"linecolor\": \"white\", \"showbackground\": true, \"ticks\": \"\", \"zerolinecolor\": \"white\"}, \"zaxis\": {\"backgroundcolor\": \"#E5ECF6\", \"gridcolor\": \"white\", \"gridwidth\": 2, \"linecolor\": \"white\", \"showbackground\": true, \"ticks\": \"\", \"zerolinecolor\": \"white\"}}, \"shapedefaults\": {\"line\": {\"color\": \"#2a3f5f\"}}, \"ternary\": {\"aaxis\": {\"gridcolor\": \"white\", \"linecolor\": \"white\", \"ticks\": \"\"}, \"baxis\": {\"gridcolor\": \"white\", \"linecolor\": \"white\", \"ticks\": \"\"}, \"bgcolor\": \"#E5ECF6\", \"caxis\": {\"gridcolor\": \"white\", \"linecolor\": \"white\", \"ticks\": \"\"}}, \"title\": {\"x\": 0.05}, \"xaxis\": {\"automargin\": true, \"gridcolor\": \"white\", \"linecolor\": \"white\", \"ticks\": \"\", \"title\": {\"standoff\": 15}, \"zerolinecolor\": \"white\", \"zerolinewidth\": 2}, \"yaxis\": {\"automargin\": true, \"gridcolor\": \"white\", \"linecolor\": \"white\", \"ticks\": \"\", \"title\": {\"standoff\": 15}, \"zerolinecolor\": \"white\", \"zerolinewidth\": 2}}}, \"width\": 1000},\n",
              "                        {\"responsive\": true}\n",
              "                    ).then(function(){\n",
              "                            \n",
              "var gd = document.getElementById('dfa4dc8a-14df-40fc-88aa-8da64d84d43c');\n",
              "var x = new MutationObserver(function (mutations, observer) {{\n",
              "        var display = window.getComputedStyle(gd).display;\n",
              "        if (!display || display === 'none') {{\n",
              "            console.log([gd, 'removed!']);\n",
              "            Plotly.purge(gd);\n",
              "            observer.disconnect();\n",
              "        }}\n",
              "}});\n",
              "\n",
              "// Listen for the removal of the full notebook cells\n",
              "var notebookContainer = gd.closest('#notebook-container');\n",
              "if (notebookContainer) {{\n",
              "    x.observe(notebookContainer, {childList: true});\n",
              "}}\n",
              "\n",
              "// Listen for the clearing of the current output cell\n",
              "var outputEl = gd.closest('.output');\n",
              "if (outputEl) {{\n",
              "    x.observe(outputEl, {childList: true});\n",
              "}}\n",
              "\n",
              "                        })\n",
              "                };\n",
              "                \n",
              "            </script>\n",
              "        </div>\n",
              "</body>\n",
              "</html>"
            ]
          },
          "metadata": {
            "tags": []
          }
        }
      ]
    },
    {
      "cell_type": "code",
      "metadata": {
        "id": "oeXn0Sb8je4o",
        "colab_type": "code",
        "colab": {
          "base_uri": "https://localhost:8080/",
          "height": 517
        },
        "outputId": "ef72212d-405c-40c6-d840-34d042680f69"
      },
      "source": [
        "user_items = get_user_companies(path, user.format(3))\n",
        "cols = ['setor', 'de_ramo', 'natureza_juridica_macro']\n",
        "value = 'idade_empresa_anos'  \n",
        "\n",
        "user_companies = pd.merge(user_items[['id']], market, on='id', how='inner', left_index=True)\n",
        "\n",
        "px.parallel_categories(user_companies , \n",
        "                       dimensions = cols,\n",
        "                       color=value, \n",
        "                       color_continuous_scale=px.colors.sequential.Inferno)"
      ],
      "execution_count": 60,
      "outputs": [
        {
          "output_type": "display_data",
          "data": {
            "text/html": [
              "<html>\n",
              "<head><meta charset=\"utf-8\" /></head>\n",
              "<body>\n",
              "    <div>\n",
              "            <script src=\"https://cdnjs.cloudflare.com/ajax/libs/mathjax/2.7.5/MathJax.js?config=TeX-AMS-MML_SVG\"></script><script type=\"text/javascript\">if (window.MathJax) {MathJax.Hub.Config({SVG: {font: \"STIX-Web\"}});}</script>\n",
              "                <script type=\"text/javascript\">window.PlotlyConfig = {MathJaxConfig: 'local'};</script>\n",
              "        <script src=\"https://cdn.plot.ly/plotly-latest.min.js\"></script>    \n",
              "            <div id=\"4611434a-2dcc-4ea0-9a60-e6d6570ac32f\" class=\"plotly-graph-div\" style=\"height:500px; width:1000px;\"></div>\n",
              "            <script type=\"text/javascript\">\n",
              "                \n",
              "                    window.PLOTLYENV=window.PLOTLYENV || {};\n",
              "                    \n",
              "                if (document.getElementById(\"4611434a-2dcc-4ea0-9a60-e6d6570ac32f\")) {\n",
              "                    Plotly.newPlot(\n",
              "                        '4611434a-2dcc-4ea0-9a60-e6d6570ac32f',\n",
              "                        [{\"dimensions\": [{\"label\": \"setor\", \"values\": [\"SERVI\\u00c7O\", \"SERVI\\u00c7O\", \"SERVI\\u00c7O\", \"SERVI\\u00c7O\", \"SERVI\\u00c7O\", \"SERVI\\u00c7O\", \"SERVI\\u00c7O\", \"SERVI\\u00c7O\", \"SERVI\\u00c7O\", \"SERVI\\u00c7O\", \"SERVI\\u00c7O\", \"SERVI\\u00c7O\", \"SERVI\\u00c7O\", \"SERVI\\u00c7O\", \"SERVI\\u00c7O\", \"SERVI\\u00c7O\", \"SERVI\\u00c7O\", \"SERVI\\u00c7O\", \"SERVI\\u00c7O\", \"SERVI\\u00c7O\", \"SERVI\\u00c7O\", \"SERVI\\u00c7O\", \"SERVI\\u00c7O\", \"SERVI\\u00c7O\", \"SERVI\\u00c7O\", \"SERVI\\u00c7O\", \"SERVI\\u00c7O\", \"SERVI\\u00c7O\", \"SERVI\\u00c7O\", \"SERVI\\u00c7O\", \"SERVI\\u00c7O\", \"SERVI\\u00c7O\", \"SERVI\\u00c7O\", \"SERVI\\u00c7O\", \"SERVI\\u00c7O\", \"SERVI\\u00c7O\", \"SERVI\\u00c7O\", \"SERVI\\u00c7O\", \"SERVI\\u00c7O\", \"SERVI\\u00c7O\", \"SERVI\\u00c7O\", \"SERVI\\u00c7O\", \"SERVI\\u00c7O\", \"SERVI\\u00c7O\", \"SERVI\\u00c7O\", \"SERVI\\u00c7O\", \"SERVI\\u00c7O\", \"SERVI\\u00c7O\", \"SERVI\\u00c7O\", \"SERVI\\u00c7O\", \"SERVI\\u00c7O\", \"SERVI\\u00c7O\", \"SERVI\\u00c7O\", \"SERVI\\u00c7O\", \"SERVI\\u00c7O\", \"SERVI\\u00c7O\", \"SERVI\\u00c7O\", \"SERVI\\u00c7O\", \"SERVI\\u00c7O\", \"SERVI\\u00c7O\", \"SERVI\\u00c7O\", \"SERVI\\u00c7O\", \"SERVI\\u00c7O\", \"SERVI\\u00c7O\", \"SERVI\\u00c7O\", \"SERVI\\u00c7O\", \"SERVI\\u00c7O\", \"SERVI\\u00c7O\", \"SERVI\\u00c7O\", \"SERVI\\u00c7O\", \"SERVI\\u00c7O\", \"SERVI\\u00c7O\", \"SERVI\\u00c7O\", \"SERVI\\u00c7O\", \"SERVI\\u00c7O\", \"SERVI\\u00c7O\", \"SERVI\\u00c7O\", \"SERVI\\u00c7O\", \"SERVI\\u00c7O\", \"SERVI\\u00c7O\", \"SERVI\\u00c7O\", \"SERVI\\u00c7O\", \"SERVI\\u00c7O\", \"SERVI\\u00c7O\", \"SERVI\\u00c7O\", \"SERVI\\u00c7O\", \"SERVI\\u00c7O\", \"SERVI\\u00c7O\", \"SERVI\\u00c7O\", \"SERVI\\u00c7O\", \"SERVI\\u00c7O\", \"SERVI\\u00c7O\", \"SERVI\\u00c7O\", \"SERVI\\u00c7O\", \"SERVI\\u00c7O\", \"SERVI\\u00c7O\", \"SERVI\\u00c7O\", \"SERVI\\u00c7O\", \"SERVI\\u00c7O\", \"SERVI\\u00c7O\", \"SERVI\\u00c7O\", \"SERVI\\u00c7O\", \"SERVI\\u00c7O\", \"SERVI\\u00c7O\", \"SERVI\\u00c7O\", \"SERVI\\u00c7O\", \"SERVI\\u00c7O\", \"SERVI\\u00c7O\", \"SERVI\\u00c7O\", \"SERVI\\u00c7O\", \"SERVI\\u00c7O\", \"SERVI\\u00c7O\", \"SERVI\\u00c7O\", \"SERVI\\u00c7O\", \"SERVI\\u00c7O\", \"SERVI\\u00c7O\", \"SERVI\\u00c7O\", \"SERVI\\u00c7O\", \"SERVI\\u00c7O\", \"SERVI\\u00c7O\", \"SERVI\\u00c7O\", \"SERVI\\u00c7O\", \"SERVI\\u00c7O\", \"SERVI\\u00c7O\", \"SERVI\\u00c7O\", \"SERVI\\u00c7O\", \"SERVI\\u00c7O\", \"SERVI\\u00c7O\", \"SERVI\\u00c7O\", \"SERVI\\u00c7O\", \"SERVI\\u00c7O\", \"SERVI\\u00c7O\", \"SERVI\\u00c7O\", \"SERVI\\u00c7O\", \"SERVI\\u00c7O\", \"SERVI\\u00c7O\", \"SERVI\\u00c7O\", \"SERVI\\u00c7O\", \"SERVI\\u00c7O\", \"SERVI\\u00c7O\", \"SERVI\\u00c7O\", \"SERVI\\u00c7O\", \"SERVI\\u00c7O\", \"SERVI\\u00c7O\", \"SERVI\\u00c7O\", \"SERVI\\u00c7O\", \"SERVI\\u00c7O\", \"SERVI\\u00c7O\", \"SERVI\\u00c7O\", \"SERVI\\u00c7O\", \"SERVI\\u00c7O\", \"SERVI\\u00c7O\", \"SERVI\\u00c7O\", \"SERVI\\u00c7O\", \"SERVI\\u00c7O\", \"SERVI\\u00c7O\", \"SERVI\\u00c7O\", \"SERVI\\u00c7O\", \"SERVI\\u00c7O\", \"SERVI\\u00c7O\", \"SERVI\\u00c7O\", \"SERVI\\u00c7O\", \"SERVI\\u00c7O\", \"SERVI\\u00c7O\", \"SERVI\\u00c7O\", \"SERVI\\u00c7O\", \"SERVI\\u00c7O\", \"SERVI\\u00c7O\", \"SERVI\\u00c7O\", \"SERVI\\u00c7O\", \"SERVI\\u00c7O\", \"SERVI\\u00c7O\", \"SERVI\\u00c7O\", \"SERVI\\u00c7O\", \"SERVI\\u00c7O\", \"SERVI\\u00c7O\", \"SERVI\\u00c7O\", \"SERVI\\u00c7O\", \"SERVI\\u00c7O\", \"SERVI\\u00c7O\", \"SERVI\\u00c7O\", \"SERVI\\u00c7O\", \"SERVI\\u00c7O\", \"SERVI\\u00c7O\", \"SERVI\\u00c7O\", \"SERVI\\u00c7O\", \"SERVI\\u00c7O\", \"SERVI\\u00c7O\", \"SERVI\\u00c7O\", \"SERVI\\u00c7O\", \"SERVI\\u00c7O\", \"SERVI\\u00c7O\", \"SERVI\\u00c7O\", \"SERVI\\u00c7O\", \"SERVI\\u00c7O\", \"SERVI\\u00c7O\", \"SERVI\\u00c7O\", \"SERVI\\u00c7O\", \"SERVI\\u00c7O\", \"SERVI\\u00c7O\", \"SERVI\\u00c7O\", \"SERVI\\u00c7O\", \"SERVI\\u00c7O\", \"SERVI\\u00c7O\", \"SERVI\\u00c7O\", \"SERVI\\u00c7O\", \"SERVI\\u00c7O\", \"SERVI\\u00c7O\", \"SERVI\\u00c7O\", \"SERVI\\u00c7O\", \"SERVI\\u00c7O\", \"SERVI\\u00c7O\", \"SERVI\\u00c7O\", \"SERVI\\u00c7O\", \"SERVI\\u00c7O\", \"SERVI\\u00c7O\", \"SERVI\\u00c7O\", \"SERVI\\u00c7O\", \"SERVI\\u00c7O\", \"SERVI\\u00c7O\", \"SERVI\\u00c7O\", \"SERVI\\u00c7O\", \"SERVI\\u00c7O\", \"SERVI\\u00c7O\", \"SERVI\\u00c7O\", \"SERVI\\u00c7O\", \"SERVI\\u00c7O\", \"SERVI\\u00c7O\", \"SERVI\\u00c7O\", \"SERVI\\u00c7O\", \"SERVI\\u00c7O\", \"SERVI\\u00c7O\", \"SERVI\\u00c7O\", \"SERVI\\u00c7O\", \"SERVI\\u00c7O\", \"SERVI\\u00c7O\", \"SERVI\\u00c7O\", \"SERVI\\u00c7O\", \"SERVI\\u00c7O\", \"SERVI\\u00c7O\", \"SERVI\\u00c7O\", \"SERVI\\u00c7O\", \"SERVI\\u00c7O\", \"SERVI\\u00c7O\", \"SERVI\\u00c7O\", \"SERVI\\u00c7O\", \"SERVI\\u00c7O\", \"SERVI\\u00c7O\", \"SERVI\\u00c7O\", \"SERVI\\u00c7O\", \"SERVI\\u00c7O\", \"SERVI\\u00c7O\", \"SERVI\\u00c7O\", \"SERVI\\u00c7O\", \"SERVI\\u00c7O\", \"SERVI\\u00c7O\", \"SERVI\\u00c7O\", \"SERVI\\u00c7O\", \"SERVI\\u00c7O\", \"SERVI\\u00c7O\", \"SERVI\\u00c7O\", \"SERVI\\u00c7O\", \"SERVI\\u00c7O\", \"SERVI\\u00c7O\", \"SERVI\\u00c7O\"]}, {\"label\": \"de_ramo\", \"values\": [\"ADMINISTRACAO PUBLICA, DEFESA E SEGURIDADE SOCIAL\", \"SERVICOS DE EDUCACAO\", \"ADMINISTRACAO PUBLICA, DEFESA E SEGURIDADE SOCIAL\", \"ADMINISTRACAO PUBLICA, DEFESA E SEGURIDADE SOCIAL\", \"ADMINISTRACAO PUBLICA, DEFESA E SEGURIDADE SOCIAL\", \"SERVICOS DE EDUCACAO\", \"ADMINISTRACAO PUBLICA, DEFESA E SEGURIDADE SOCIAL\", \"SERVICOS DE ALOJAMENTO/ALIMENTACAO\", \"SERVICOS PROFISSIONAIS, TECNICOS E CIENTIFICOS\", \"SERVICOS ADMINISTRATIVOS\", \"SERVICOS DE ALOJAMENTO/ALIMENTACAO\", \"ADMINISTRACAO PUBLICA, DEFESA E SEGURIDADE SOCIAL\", \"ADMINISTRACAO PUBLICA, DEFESA E SEGURIDADE SOCIAL\", \"ADMINISTRACAO PUBLICA, DEFESA E SEGURIDADE SOCIAL\", \"ADMINISTRACAO PUBLICA, DEFESA E SEGURIDADE SOCIAL\", \"SERVICOS DE EDUCACAO\", \"ADMINISTRACAO PUBLICA, DEFESA E SEGURIDADE SOCIAL\", \"SERVICOS DIVERSOS\", \"SERVICOS DE EDUCACAO\", \"ADMINISTRACAO PUBLICA, DEFESA E SEGURIDADE SOCIAL\", \"SERVICOS ADMINISTRATIVOS\", \"SERVICOS DE ALOJAMENTO/ALIMENTACAO\", \"SERVICOS SOCIAIS\", \"ADMINISTRACAO PUBLICA, DEFESA E SEGURIDADE SOCIAL\", \"ADMINISTRACAO PUBLICA, DEFESA E SEGURIDADE SOCIAL\", \"SERVICOS DE EDUCACAO\", \"SERVICOS DE SAUDE\", \"TRANSPORTE, ARMAZENAGEM E CORREIO\", \"ADMINISTRACAO PUBLICA, DEFESA E SEGURIDADE SOCIAL\", \"ADMINISTRACAO PUBLICA, DEFESA E SEGURIDADE SOCIAL\", \"SERVICOS ADMINISTRATIVOS\", \"ADMINISTRACAO PUBLICA, DEFESA E SEGURIDADE SOCIAL\", \"ADMINISTRACAO PUBLICA, DEFESA E SEGURIDADE SOCIAL\", \"ADMINISTRACAO PUBLICA, DEFESA E SEGURIDADE SOCIAL\", \"ADMINISTRACAO PUBLICA, DEFESA E SEGURIDADE SOCIAL\", \"ADMINISTRACAO PUBLICA, DEFESA E SEGURIDADE SOCIAL\", \"ADMINISTRACAO PUBLICA, DEFESA E SEGURIDADE SOCIAL\", \"ADMINISTRACAO PUBLICA, DEFESA E SEGURIDADE SOCIAL\", \"ADMINISTRACAO PUBLICA, DEFESA E SEGURIDADE SOCIAL\", \"ADMINISTRACAO PUBLICA, DEFESA E SEGURIDADE SOCIAL\", \"ADMINISTRACAO PUBLICA, DEFESA E SEGURIDADE SOCIAL\", \"ADMINISTRACAO PUBLICA, DEFESA E SEGURIDADE SOCIAL\", \"TRANSPORTE, ARMAZENAGEM E CORREIO\", \"SERVICOS ADMINISTRATIVOS\", \"ADMINISTRACAO PUBLICA, DEFESA E SEGURIDADE SOCIAL\", \"SEGUROS, PLANOS DE PREVIDENCIA E PLANOS DE SAUDE\", \"TRANSPORTE, ARMAZENAGEM E CORREIO\", \"ADMINISTRACAO PUBLICA, DEFESA E SEGURIDADE SOCIAL\", \"ADMINISTRACAO PUBLICA, DEFESA E SEGURIDADE SOCIAL\", \"SERVICOS DE SAUDE\", \"ADMINISTRACAO PUBLICA, DEFESA E SEGURIDADE SOCIAL\", \"ADMINISTRACAO PUBLICA, DEFESA E SEGURIDADE SOCIAL\", \"SERVICOS DE SANEAMENTO BASICO\", \"ADMINISTRACAO PUBLICA, DEFESA E SEGURIDADE SOCIAL\", \"SERVICOS ADMINISTRATIVOS\", \"ADMINISTRACAO PUBLICA, DEFESA E SEGURIDADE SOCIAL\", \"SERVICOS ADMINISTRATIVOS\", \"ADMINISTRACAO PUBLICA, DEFESA E SEGURIDADE SOCIAL\", \"ADMINISTRACAO PUBLICA, DEFESA E SEGURIDADE SOCIAL\", \"ADMINISTRACAO PUBLICA, DEFESA E SEGURIDADE SOCIAL\", \"ADMINISTRACAO PUBLICA, DEFESA E SEGURIDADE SOCIAL\", \"ADMINISTRACAO PUBLICA, DEFESA E SEGURIDADE SOCIAL\", \"ADMINISTRACAO PUBLICA, DEFESA E SEGURIDADE SOCIAL\", \"ADMINISTRACAO PUBLICA, DEFESA E SEGURIDADE SOCIAL\", \"ADMINISTRACAO PUBLICA, DEFESA E SEGURIDADE SOCIAL\", \"ADMINISTRACAO PUBLICA, DEFESA E SEGURIDADE SOCIAL\", \"ADMINISTRACAO PUBLICA, DEFESA E SEGURIDADE SOCIAL\", \"TRANSPORTE, ARMAZENAGEM E CORREIO\", \"ADMINISTRACAO PUBLICA, DEFESA E SEGURIDADE SOCIAL\", \"ADMINISTRACAO PUBLICA, DEFESA E SEGURIDADE SOCIAL\", \"CULTURA, ESPORTE E RECREACAO\", \"ADMINISTRACAO PUBLICA, DEFESA E SEGURIDADE SOCIAL\", \"ADMINISTRACAO PUBLICA, DEFESA E SEGURIDADE SOCIAL\", \"ADMINISTRACAO PUBLICA, DEFESA E SEGURIDADE SOCIAL\", \"ADMINISTRACAO PUBLICA, DEFESA E SEGURIDADE SOCIAL\", \"TRANSPORTE, ARMAZENAGEM E CORREIO\", \"ADMINISTRACAO PUBLICA, DEFESA E SEGURIDADE SOCIAL\", \"ADMINISTRACAO PUBLICA, DEFESA E SEGURIDADE SOCIAL\", \"ADMINISTRACAO PUBLICA, DEFESA E SEGURIDADE SOCIAL\", \"ADMINISTRACAO PUBLICA, DEFESA E SEGURIDADE SOCIAL\", \"ADMINISTRACAO PUBLICA, DEFESA E SEGURIDADE SOCIAL\", \"SERVICOS DE SANEAMENTO BASICO\", \"ADMINISTRACAO PUBLICA, DEFESA E SEGURIDADE SOCIAL\", \"ADMINISTRACAO PUBLICA, DEFESA E SEGURIDADE SOCIAL\", \"SERVICOS ADMINISTRATIVOS\", \"TRANSPORTE, ARMAZENAGEM E CORREIO\", \"ADMINISTRACAO PUBLICA, DEFESA E SEGURIDADE SOCIAL\", \"TRANSPORTE, ARMAZENAGEM E CORREIO\", \"SERVICOS ADMINISTRATIVOS\", \"TRANSPORTE, ARMAZENAGEM E CORREIO\", \"ADMINISTRACAO PUBLICA, DEFESA E SEGURIDADE SOCIAL\", \"ADMINISTRACAO PUBLICA, DEFESA E SEGURIDADE SOCIAL\", \"SERVICOS DE EDUCACAO\", \"SERVICOS DE SAUDE\", \"SERVICOS ADMINISTRATIVOS\", \"SERVICOS DE EDUCACAO\", \"ADMINISTRACAO PUBLICA, DEFESA E SEGURIDADE SOCIAL\", \"SERVICOS ADMINISTRATIVOS\", \"ADMINISTRACAO PUBLICA, DEFESA E SEGURIDADE SOCIAL\", \"SERVICOS DE EDUCACAO\", \"ADMINISTRACAO PUBLICA, DEFESA E SEGURIDADE SOCIAL\", \"SERVICOS ADMINISTRATIVOS\", \"SERVICOS DE SAUDE\", \"ADMINISTRACAO PUBLICA, DEFESA E SEGURIDADE SOCIAL\", \"SERVICOS ADMINISTRATIVOS\", \"ADMINISTRACAO PUBLICA, DEFESA E SEGURIDADE SOCIAL\", \"ADMINISTRACAO PUBLICA, DEFESA E SEGURIDADE SOCIAL\", \"SERVICOS DE EDUCACAO\", \"ADMINISTRACAO PUBLICA, DEFESA E SEGURIDADE SOCIAL\", \"ADMINISTRACAO PUBLICA, DEFESA E SEGURIDADE SOCIAL\", \"SERVICOS ADMINISTRATIVOS\", \"ADMINISTRACAO PUBLICA, DEFESA E SEGURIDADE SOCIAL\", \"ADMINISTRACAO PUBLICA, DEFESA E SEGURIDADE SOCIAL\", \"SERVICOS DE EDUCACAO\", \"SEGUROS, PLANOS DE PREVIDENCIA E PLANOS DE SAUDE\", \"ADMINISTRACAO PUBLICA, DEFESA E SEGURIDADE SOCIAL\", \"ADMINISTRACAO PUBLICA, DEFESA E SEGURIDADE SOCIAL\", \"SERVICOS ADMINISTRATIVOS\", \"ADMINISTRACAO PUBLICA, DEFESA E SEGURIDADE SOCIAL\", \"ADMINISTRACAO PUBLICA, DEFESA E SEGURIDADE SOCIAL\", \"ADMINISTRACAO PUBLICA, DEFESA E SEGURIDADE SOCIAL\", \"ADMINISTRACAO PUBLICA, DEFESA E SEGURIDADE SOCIAL\", \"ADMINISTRACAO PUBLICA, DEFESA E SEGURIDADE SOCIAL\", \"TRANSPORTE, ARMAZENAGEM E CORREIO\", \"ADMINISTRACAO PUBLICA, DEFESA E SEGURIDADE SOCIAL\", \"ADMINISTRACAO PUBLICA, DEFESA E SEGURIDADE SOCIAL\", \"ADMINISTRACAO PUBLICA, DEFESA E SEGURIDADE SOCIAL\", \"ADMINISTRACAO PUBLICA, DEFESA E SEGURIDADE SOCIAL\", \"SERVICOS DE EDUCACAO\", \"ADMINISTRACAO PUBLICA, DEFESA E SEGURIDADE SOCIAL\", \"SERVICOS ADMINISTRATIVOS\", \"ADMINISTRACAO PUBLICA, DEFESA E SEGURIDADE SOCIAL\", \"SERVICOS ADMINISTRATIVOS\", \"ADMINISTRACAO PUBLICA, DEFESA E SEGURIDADE SOCIAL\", \"SERVICOS DE SAUDE\", \"ADMINISTRACAO PUBLICA, DEFESA E SEGURIDADE SOCIAL\", \"SERVICOS DE SANEAMENTO BASICO\", \"SERVICOS ADMINISTRATIVOS\", \"ADMINISTRACAO PUBLICA, DEFESA E SEGURIDADE SOCIAL\", \"ADMINISTRACAO PUBLICA, DEFESA E SEGURIDADE SOCIAL\", \"SERVICOS DIVERSOS\", \"ADMINISTRACAO PUBLICA, DEFESA E SEGURIDADE SOCIAL\", \"SERVICOS ADMINISTRATIVOS\", \"SERVICOS DE ALOJAMENTO/ALIMENTACAO\", \"SERVICOS ADMINISTRATIVOS\", \"ADMINISTRACAO PUBLICA, DEFESA E SEGURIDADE SOCIAL\", \"SERVICOS DE EDUCACAO\", \"ADMINISTRACAO PUBLICA, DEFESA E SEGURIDADE SOCIAL\", \"ADMINISTRACAO PUBLICA, DEFESA E SEGURIDADE SOCIAL\", \"SERVICOS DE SAUDE\", \"ADMINISTRACAO PUBLICA, DEFESA E SEGURIDADE SOCIAL\", \"ADMINISTRACAO PUBLICA, DEFESA E SEGURIDADE SOCIAL\", \"ADMINISTRACAO PUBLICA, DEFESA E SEGURIDADE SOCIAL\", \"SERVICOS DE EDUCACAO\", \"ADMINISTRACAO PUBLICA, DEFESA E SEGURIDADE SOCIAL\", \"ADMINISTRACAO PUBLICA, DEFESA E SEGURIDADE SOCIAL\", \"ADMINISTRACAO PUBLICA, DEFESA E SEGURIDADE SOCIAL\", \"ADMINISTRACAO PUBLICA, DEFESA E SEGURIDADE SOCIAL\", \"ADMINISTRACAO PUBLICA, DEFESA E SEGURIDADE SOCIAL\", \"ADMINISTRACAO PUBLICA, DEFESA E SEGURIDADE SOCIAL\", \"ADMINISTRACAO PUBLICA, DEFESA E SEGURIDADE SOCIAL\", \"SERVICOS ADMINISTRATIVOS\", \"TRANSPORTE, ARMAZENAGEM E CORREIO\", \"SERVICOS ADMINISTRATIVOS\", \"TELECOM\", \"SERVICOS ADMINISTRATIVOS\", \"SERVICOS DE EDUCACAO\", \"ADMINISTRACAO PUBLICA, DEFESA E SEGURIDADE SOCIAL\", \"SERVICOS DE EDUCACAO\", \"ADMINISTRACAO PUBLICA, DEFESA E SEGURIDADE SOCIAL\", \"ADMINISTRACAO PUBLICA, DEFESA E SEGURIDADE SOCIAL\", \"SERVICOS ADMINISTRATIVOS\", \"ADMINISTRACAO PUBLICA, DEFESA E SEGURIDADE SOCIAL\", \"SERVICOS ADMINISTRATIVOS\", \"ADMINISTRACAO PUBLICA, DEFESA E SEGURIDADE SOCIAL\", \"SERVICOS ADMINISTRATIVOS\", \"SERVICOS DE EDUCACAO\", \"SERVICOS ADMINISTRATIVOS\", \"SERVICOS DE EDUCACAO\", \"ADMINISTRACAO PUBLICA, DEFESA E SEGURIDADE SOCIAL\", \"ADMINISTRACAO PUBLICA, DEFESA E SEGURIDADE SOCIAL\", \"ADMINISTRACAO PUBLICA, DEFESA E SEGURIDADE SOCIAL\", \"ADMINISTRACAO PUBLICA, DEFESA E SEGURIDADE SOCIAL\", \"ADMINISTRACAO PUBLICA, DEFESA E SEGURIDADE SOCIAL\", \"ADMINISTRACAO PUBLICA, DEFESA E SEGURIDADE SOCIAL\", \"TRANSPORTE, ARMAZENAGEM E CORREIO\", \"SERVICOS DE SAUDE\", \"SERVICOS DE EDUCACAO\", \"ADMINISTRACAO PUBLICA, DEFESA E SEGURIDADE SOCIAL\", \"SERVICOS DIVERSOS\", \"SERVICOS DE EDUCACAO\", \"ADMINISTRACAO PUBLICA, DEFESA E SEGURIDADE SOCIAL\", \"SERVICOS ADMINISTRATIVOS\", \"ADMINISTRACAO PUBLICA, DEFESA E SEGURIDADE SOCIAL\", \"SERVICOS ADMINISTRATIVOS\", \"ADMINISTRACAO PUBLICA, DEFESA E SEGURIDADE SOCIAL\", \"TELECOM\", \"ADMINISTRACAO PUBLICA, DEFESA E SEGURIDADE SOCIAL\", \"ADMINISTRACAO PUBLICA, DEFESA E SEGURIDADE SOCIAL\", \"ADMINISTRACAO PUBLICA, DEFESA E SEGURIDADE SOCIAL\", \"ADMINISTRACAO PUBLICA, DEFESA E SEGURIDADE SOCIAL\", \"ADMINISTRACAO PUBLICA, DEFESA E SEGURIDADE SOCIAL\", \"TRANSPORTE, ARMAZENAGEM E CORREIO\", \"ADMINISTRACAO PUBLICA, DEFESA E SEGURIDADE SOCIAL\", \"SERVICOS DE SAUDE\", \"ADMINISTRACAO PUBLICA, DEFESA E SEGURIDADE SOCIAL\", \"SERVICOS DE ALOJAMENTO/ALIMENTACAO\", \"ADMINISTRACAO PUBLICA, DEFESA E SEGURIDADE SOCIAL\", \"ADMINISTRACAO PUBLICA, DEFESA E SEGURIDADE SOCIAL\", \"ADMINISTRACAO PUBLICA, DEFESA E SEGURIDADE SOCIAL\", \"SERVICOS PROFISSIONAIS, TECNICOS E CIENTIFICOS\", \"ADMINISTRACAO PUBLICA, DEFESA E SEGURIDADE SOCIAL\", \"ADMINISTRACAO PUBLICA, DEFESA E SEGURIDADE SOCIAL\", \"ADMINISTRACAO PUBLICA, DEFESA E SEGURIDADE SOCIAL\", \"SERVICOS DE SANEAMENTO BASICO\", \"ADMINISTRACAO PUBLICA, DEFESA E SEGURIDADE SOCIAL\", \"ADMINISTRACAO PUBLICA, DEFESA E SEGURIDADE SOCIAL\", \"ADMINISTRACAO PUBLICA, DEFESA E SEGURIDADE SOCIAL\", \"SERVICOS ADMINISTRATIVOS\", \"SERVICOS ADMINISTRATIVOS\", \"SERVICOS ADMINISTRATIVOS\", \"ADMINISTRACAO PUBLICA, DEFESA E SEGURIDADE SOCIAL\", \"ADMINISTRACAO PUBLICA, DEFESA E SEGURIDADE SOCIAL\", \"SERVICOS ADMINISTRATIVOS\", \"ADMINISTRACAO PUBLICA, DEFESA E SEGURIDADE SOCIAL\", \"SERVICOS DE EDUCACAO\", \"SERVICOS DIVERSOS\", \"ADMINISTRACAO PUBLICA, DEFESA E SEGURIDADE SOCIAL\", \"SERVICOS FINANCEIROS\", \"SERVICOS DE SAUDE\", \"TRANSPORTE, ARMAZENAGEM E CORREIO\", \"TELECOM\", \"SERVICOS PROFISSIONAIS, TECNICOS E CIENTIFICOS\", \"SERVICOS ADMINISTRATIVOS\", \"ADMINISTRACAO PUBLICA, DEFESA E SEGURIDADE SOCIAL\", \"SERVICOS DE EDUCACAO\", \"SERVICOS ADMINISTRATIVOS\", \"SERVICOS DE SAUDE\", \"SERVICOS DE SAUDE\", \"ADMINISTRACAO PUBLICA, DEFESA E SEGURIDADE SOCIAL\", \"ADMINISTRACAO PUBLICA, DEFESA E SEGURIDADE SOCIAL\", \"ADMINISTRACAO PUBLICA, DEFESA E SEGURIDADE SOCIAL\", \"ADMINISTRACAO PUBLICA, DEFESA E SEGURIDADE SOCIAL\", \"ADMINISTRACAO PUBLICA, DEFESA E SEGURIDADE SOCIAL\", \"SERVICOS DE SANEAMENTO BASICO\", \"ADMINISTRACAO PUBLICA, DEFESA E SEGURIDADE SOCIAL\", \"ADMINISTRACAO PUBLICA, DEFESA E SEGURIDADE SOCIAL\", \"ADMINISTRACAO PUBLICA, DEFESA E SEGURIDADE SOCIAL\", \"SERVICOS DE EDUCACAO\", \"ATIVIDADES IMOBILIARIAS\", \"ADMINISTRACAO PUBLICA, DEFESA E SEGURIDADE SOCIAL\", \"SERVICOS ADMINISTRATIVOS\", \"ADMINISTRACAO PUBLICA, DEFESA E SEGURIDADE SOCIAL\", \"TRANSPORTE, ARMAZENAGEM E CORREIO\", \"ADMINISTRACAO PUBLICA, DEFESA E SEGURIDADE SOCIAL\", \"ADMINISTRACAO PUBLICA, DEFESA E SEGURIDADE SOCIAL\", \"SERVICOS DE SAUDE\", \"SERVICOS PROFISSIONAIS, TECNICOS E CIENTIFICOS\", \"ADMINISTRACAO PUBLICA, DEFESA E SEGURIDADE SOCIAL\", \"ADMINISTRACAO PUBLICA, DEFESA E SEGURIDADE SOCIAL\", \"SERVICOS FINANCEIROS\", \"SERVICOS DE SAUDE\", \"SERVICOS PROFISSIONAIS, TECNICOS E CIENTIFICOS\", \"SEGUROS, PLANOS DE PREVIDENCIA E PLANOS DE SAUDE\", \"INDUSTRIA DIGITAL\"]}, {\"label\": \"natureza_juridica_macro\", \"values\": [\"OUTROS\", \"ENTIDADES EMPRESARIAIS\", \"ADMINISTRACAO PUBLICA\", \"OUTROS\", \"OUTROS\", \"ENTIDADES SEM FINS LUCRATIVOS\", \"ADMINISTRACAO PUBLICA\", \"OUTROS\", \"ENTIDADES EMPRESARIAIS\", \"ENTIDADES EMPRESARIAIS\", \"ENTIDADES EMPRESARIAIS\", \"OUTROS\", \"OUTROS\", \"ADMINISTRACAO PUBLICA\", \"OUTROS\", \"ENTIDADES EMPRESARIAIS\", \"OUTROS\", \"ENTIDADES SEM FINS LUCRATIVOS\", \"ENTIDADES EMPRESARIAIS\", \"OUTROS\", \"ENTIDADES EMPRESARIAIS\", \"ENTIDADES EMPRESARIAIS\", \"ENTIDADES SEM FINS LUCRATIVOS\", \"OUTROS\", \"OUTROS\", \"ENTIDADES SEM FINS LUCRATIVOS\", \"ENTIDADES EMPRESARIAIS\", \"OUTROS\", \"OUTROS\", \"OUTROS\", \"ENTIDADES EMPRESARIAIS\", \"OUTROS\", \"OUTROS\", \"OUTROS\", \"OUTROS\", \"ADMINISTRACAO PUBLICA\", \"OUTROS\", \"OUTROS\", \"OUTROS\", \"OUTROS\", \"ADMINISTRACAO PUBLICA\", \"ADMINISTRACAO PUBLICA\", \"ENTIDADES EMPRESARIAIS\", \"ENTIDADES EMPRESARIAIS\", \"ADMINISTRACAO PUBLICA\", \"ENTIDADES EMPRESARIAIS\", \"ENTIDADES EMPRESARIAIS\", \"OUTROS\", \"OUTROS\", \"ENTIDADES EMPRESARIAIS\", \"OUTROS\", \"OUTROS\", \"ENTIDADES EMPRESARIAIS\", \"ADMINISTRACAO PUBLICA\", \"OUTROS\", \"OUTROS\", \"OUTROS\", \"OUTROS\", \"OUTROS\", \"OUTROS\", \"ADMINISTRACAO PUBLICA\", \"OUTROS\", \"ADMINISTRACAO PUBLICA\", \"OUTROS\", \"OUTROS\", \"ADMINISTRACAO PUBLICA\", \"OUTROS\", \"ENTIDADES EMPRESARIAIS\", \"OUTROS\", \"OUTROS\", \"OUTROS\", \"ADMINISTRACAO PUBLICA\", \"OUTROS\", \"ADMINISTRACAO PUBLICA\", \"ADMINISTRACAO PUBLICA\", \"ENTIDADES EMPRESARIAIS\", \"OUTROS\", \"OUTROS\", \"OUTROS\", \"ADMINISTRACAO PUBLICA\", \"OUTROS\", \"ADMINISTRACAO PUBLICA\", \"ADMINISTRACAO PUBLICA\", \"ADMINISTRACAO PUBLICA\", \"ENTIDADES EMPRESARIAIS\", \"ENTIDADES EMPRESARIAIS\", \"OUTROS\", \"ENTIDADES EMPRESARIAIS\", \"ENTIDADES EMPRESARIAIS\", \"ENTIDADES EMPRESARIAIS\", \"ADMINISTRACAO PUBLICA\", \"OUTROS\", \"ADMINISTRACAO PUBLICA\", \"ENTIDADES SEM FINS LUCRATIVOS\", \"ENTIDADES EMPRESARIAIS\", \"ENTIDADES SEM FINS LUCRATIVOS\", \"OUTROS\", \"ENTIDADES EMPRESARIAIS\", \"ADMINISTRACAO PUBLICA\", \"ENTIDADES EMPRESARIAIS\", \"OUTROS\", \"ENTIDADES EMPRESARIAIS\", \"ENTIDADES EMPRESARIAIS\", \"ADMINISTRACAO PUBLICA\", \"ENTIDADES EMPRESARIAIS\", \"ADMINISTRACAO PUBLICA\", \"OUTROS\", \"ENTIDADES EMPRESARIAIS\", \"OUTROS\", \"OUTROS\", \"ENTIDADES EMPRESARIAIS\", \"OUTROS\", \"OUTROS\", \"ADMINISTRACAO PUBLICA\", \"OUTROS\", \"OUTROS\", \"OUTROS\", \"ENTIDADES EMPRESARIAIS\", \"OUTROS\", \"ADMINISTRACAO PUBLICA\", \"ADMINISTRACAO PUBLICA\", \"ADMINISTRACAO PUBLICA\", \"OUTROS\", \"ENTIDADES EMPRESARIAIS\", \"OUTROS\", \"OUTROS\", \"OUTROS\", \"ADMINISTRACAO PUBLICA\", \"ENTIDADES SEM FINS LUCRATIVOS\", \"ADMINISTRACAO PUBLICA\", \"OUTROS\", \"ADMINISTRACAO PUBLICA\", \"ENTIDADES EMPRESARIAIS\", \"ADMINISTRACAO PUBLICA\", \"ENTIDADES EMPRESARIAIS\", \"OUTROS\", \"ENTIDADES EMPRESARIAIS\", \"OUTROS\", \"ADMINISTRACAO PUBLICA\", \"OUTROS\", \"ENTIDADES EMPRESARIAIS\", \"OUTROS\", \"OUTROS\", \"ENTIDADES EMPRESARIAIS\", \"OUTROS\", \"OUTROS\", \"ENTIDADES SEM FINS LUCRATIVOS\", \"OUTROS\", \"OUTROS\", \"ENTIDADES SEM FINS LUCRATIVOS\", \"OUTROS\", \"OUTROS\", \"OUTROS\", \"ENTIDADES SEM FINS LUCRATIVOS\", \"OUTROS\", \"OUTROS\", \"OUTROS\", \"OUTROS\", \"OUTROS\", \"OUTROS\", \"OUTROS\", \"ENTIDADES EMPRESARIAIS\", \"ENTIDADES EMPRESARIAIS\", \"ENTIDADES EMPRESARIAIS\", \"ENTIDADES EMPRESARIAIS\", \"OUTROS\", \"ENTIDADES EMPRESARIAIS\", \"OUTROS\", \"ENTIDADES SEM FINS LUCRATIVOS\", \"OUTROS\", \"OUTROS\", \"ENTIDADES EMPRESARIAIS\", \"OUTROS\", \"ENTIDADES EMPRESARIAIS\", \"OUTROS\", \"ENTIDADES SEM FINS LUCRATIVOS\", \"ADMINISTRACAO PUBLICA\", \"ENTIDADES EMPRESARIAIS\", \"ENTIDADES EMPRESARIAIS\", \"OUTROS\", \"OUTROS\", \"OUTROS\", \"OUTROS\", \"OUTROS\", \"OUTROS\", \"ENTIDADES EMPRESARIAIS\", \"ENTIDADES SEM FINS LUCRATIVOS\", \"ADMINISTRACAO PUBLICA\", \"ADMINISTRACAO PUBLICA\", \"ENTIDADES SEM FINS LUCRATIVOS\", \"ENTIDADES EMPRESARIAIS\", \"OUTROS\", \"ENTIDADES EMPRESARIAIS\", \"OUTROS\", \"OUTROS\", \"OUTROS\", \"ENTIDADES EMPRESARIAIS\", \"OUTROS\", \"OUTROS\", \"ADMINISTRACAO PUBLICA\", \"OUTROS\", \"ADMINISTRACAO PUBLICA\", \"ENTIDADES EMPRESARIAIS\", \"OUTROS\", \"OUTROS\", \"ADMINISTRACAO PUBLICA\", \"ENTIDADES EMPRESARIAIS\", \"OUTROS\", \"OUTROS\", \"OUTROS\", \"ADMINISTRACAO PUBLICA\", \"OUTROS\", \"OUTROS\", \"OUTROS\", \"ENTIDADES EMPRESARIAIS\", \"OUTROS\", \"ADMINISTRACAO PUBLICA\", \"OUTROS\", \"OUTROS\", \"ENTIDADES EMPRESARIAIS\", \"ENTIDADES EMPRESARIAIS\", \"ADMINISTRACAO PUBLICA\", \"OUTROS\", \"ENTIDADES EMPRESARIAIS\", \"ADMINISTRACAO PUBLICA\", \"ENTIDADES EMPRESARIAIS\", \"ENTIDADES SEM FINS LUCRATIVOS\", \"OUTROS\", \"ENTIDADES EMPRESARIAIS\", \"ENTIDADES EMPRESARIAIS\", \"ENTIDADES EMPRESARIAIS\", \"ENTIDADES EMPRESARIAIS\", \"ENTIDADES SEM FINS LUCRATIVOS\", \"OUTROS\", \"OUTROS\", \"ENTIDADES SEM FINS LUCRATIVOS\", \"OUTROS\", \"ENTIDADES EMPRESARIAIS\", \"OUTROS\", \"OUTROS\", \"OUTROS\", \"OUTROS\", \"OUTROS\", \"OUTROS\", \"ENTIDADES EMPRESARIAIS\", \"OUTROS\", \"OUTROS\", \"ADMINISTRACAO PUBLICA\", \"ADMINISTRACAO PUBLICA\", \"ENTIDADES EMPRESARIAIS\", \"OUTROS\", \"ENTIDADES EMPRESARIAIS\", \"ADMINISTRACAO PUBLICA\", \"ENTIDADES EMPRESARIAIS\", \"OUTROS\", \"ADMINISTRACAO PUBLICA\", \"ENTIDADES EMPRESARIAIS\", \"OUTROS\", \"ADMINISTRACAO PUBLICA\", \"OUTROS\", \"ENTIDADES EMPRESARIAIS\", \"ENTIDADES EMPRESARIAIS\", \"ENTIDADES EMPRESARIAIS\", \"ENTIDADES EMPRESARIAIS\", \"ENTIDADES EMPRESARIAIS\"]}], \"domain\": {\"x\": [0.0, 1.0], \"y\": [0.0, 1.0]}, \"line\": {\"color\": [21.81369863013699, 16.389041095890413, 40.38082191780822, 43.854794520547955, 43.865753424657534, 47.08767123287672, 15.734246575342464, 26.52054794520548, 8.446575342465753, 11.035616438356163, 5.9753424657534255, 29.65479452054794, 43.846575342465755, 19.723287671232878, 43.854794520547955, 21.528767123287672, 51.49863013698629, 18.627397260273973, 19.60821917808219, 14.41095890410959, 15.07123287671233, 14.964383561643837, 17.947945205479453, 43.865753424657534, 21.835616438356166, 33.5013698630137, 10.961643835616439, 13.315068493150685, 29.372602739726034, 48.85753424657535, 13.780821917808215, 43.87671232876714, 24.252054794520546, 43.854794520547955, 21.81643835616439, 14.515068493150684, 21.81369863013699, 21.835616438356166, 43.854794520547955, 35.109589041095894, 41.594520547945216, 43.8, 25.47945205479452, 3.8520547945205488, 7.827397260273971, 34.797260273972604, 28.257534246575347, 21.895890410958906, 43.846575342465755, 24.786301369863008, 25.550684931506854, 43.865753424657534, 46.865753424657534, 40.01095890410959, 9.75068493150685, 43.865753424657534, 18.416438356164385, 21.835616438356166, 21.86849315068493, 43.85753424657535, 25.684931506849317, 43.832876712328776, 8.835616438356164, 43.813698630136976, 43.18082191780822, 3.5808219178082186, 21.835616438356166, 14.126027397260273, 48.85753424657535, 21.81643835616439, 24.07397260273973, 19.841095890410962, 23.81369863013699, 13.18082191780822, 43.8, 6.03013698630137, 43.86849315068493, 42.435616438356156, 44.336986301369855, 23.575342465753426, 39.446575342465756, 21.75890410958904, 16.506849315068493, 15.75068493150685, 18.876712328767127, 43.54246575342465, 21.835616438356166, 48.94794520547945, 31.882191780821923, 9.164383561643836, 17.638356164383566, 21.835616438356166, 9.832876712328767, 50.66027397260274, 11.915068493150685, 36.14794520547945, 43.86849315068493, 5.950684931506848, 44.84383561643836, 21.14794520547945, 43.463013698630135, 13.372602739726029, 20.997260273972607, 43.854794520547955, 8.545205479452052, 17.709589041095892, 40.35616438356164, 9.983561643835618, 21.81369863013699, 33.76712328767123, 9.087671232876714, 23.408219178082188, 45.84931506849315, 21.83287671232877, 18.076712328767126, 21.83287671232877, 47.175342465753424, 27.10410958904109, 43.854794520547955, 11.389041095890413, 9.789041095890413, 41.2958904109589, 43.8, 15.175342465753426, 43.865753424657534, 43.86849315068493, 43.41369863013698, 43.56712328767122, 33.0958904109589, 19.432876712328767, 6.189041095890411, 36.50410958904109, 10.323287671232876, 15.397260273972602, 25.627397260273966, 47.42465753424658, 7.726027397260274, 21.101369863013694, 25.81643835616439, 44.01917808219178, 19.808219178082194, 33.3041095890411, 5.364383561643836, 18.610958904109584, 7.449315068493152, 43.854794520547955, 18.58082191780822, 42.85205479452055, 45.58356164383562, 12.512328767123286, 51.80821917808219, 31.83013698630137, 43.86849315068493, 18.5013698630137, 43.846575342465755, 21.871232876712327, 43.87671232876714, 21.81643835616439, 21.83287671232877, 43.58904109589041, 43.471232876712335, 19.528767123287672, 12.208219178082194, 9.717808219178082, 51.33424657534246, 4.16986301369863, 17.389041095890413, 41.57534246575342, 18.51232876712329, 43.854794520547955, 44.67123287671233, 8.197260273972603, 43.854794520547955, 6.038356164383561, 45.12602739726027, 5.0027397260273965, 28.43835616438357, 9.641095890410961, 0.7616438356164383, 42.04657534246575, 43.854794520547955, 43.87397260273973, 49.62191780821917, 21.83287671232877, 43.832876712328776, 14.63013698630137, 43.85205479452055, 9.835616438356164, 42.83287671232877, 44.43013698630136, 44.2027397260274, 15.293150684931504, 2.6, 21.835616438356166, 25.895890410958906, 21.83287671232877, 35.23561643835617, 21.82191780821918, 43.87671232876714, 11.167123287671233, 21.835616438356166, 43.16164383561644, 2.958904109589041, 46.884931506849306, 21.26027397260274, 11.553424657534249, 8.915068493150686, 27.14246575342466, 35.701369863013696, 43.854794520547955, 23.86575342465753, 26.495890410958904, 48.75890410958904, 48.78356164383562, 8.312328767123287, 43.87671232876714, 40.08767123287672, 43.832876712328776, 6.419178082191781, 21.583561643835612, 31.446575342465753, 20.145205479452056, 35.684931506849324, 10.898630136986304, 18.936986301369863, 27.317808219178087, 47.528767123287665, 46.909589041095884, 21.24109589041096, 21.317808219178087, 38.76986301369863, 34.701369863013696, 37.73424657534247, 2.4986301369863013, 39.704109589041096, 50.92876712328767, 26.221917808219175, 20.668493150684927, 1.0027397260273974, 43.846575342465755, 43.813698630136976, 43.865753424657534, 21.871232876712327, 25.884931506849323, 20.21917808219178, 43.87671232876714, 21.835616438356166, 29.778082191780825, 9.835616438356164, 45.10136986301371, 21.83287671232877, 24.10958904109589, 19.654794520547945, 27.950684931506853, 43.53972602739726, 19.843835616438355, 19.76164383561644, 16.76986301369863, 17.846575342465755, 43.53972602739726, 18.980821917808214, 22.493150684931507, 12.745205479452055, 26.4027397260274, 10.794520547945206], \"coloraxis\": \"coloraxis\"}, \"name\": \"\", \"type\": \"parcats\"}],\n",
              "                        {\"coloraxis\": {\"colorbar\": {\"title\": {\"text\": \"idade_empresa_anos\"}}, \"colorscale\": [[0.0, \"#000004\"], [0.1111111111111111, \"#1b0c41\"], [0.2222222222222222, \"#4a0c6b\"], [0.3333333333333333, \"#781c6d\"], [0.4444444444444444, \"#a52c60\"], [0.5555555555555556, \"#cf4446\"], [0.6666666666666666, \"#ed6925\"], [0.7777777777777778, \"#fb9b06\"], [0.8888888888888888, \"#f7d13d\"], [1.0, \"#fcffa4\"]]}, \"height\": 500, \"legend\": {\"tracegroupgap\": 0}, \"margin\": {\"t\": 60}, \"template\": {\"data\": {\"bar\": [{\"error_x\": {\"color\": \"#2a3f5f\"}, \"error_y\": {\"color\": \"#2a3f5f\"}, \"marker\": {\"line\": {\"color\": \"#E5ECF6\", \"width\": 0.5}}, \"type\": \"bar\"}], \"barpolar\": [{\"marker\": {\"line\": {\"color\": \"#E5ECF6\", \"width\": 0.5}}, \"type\": \"barpolar\"}], \"carpet\": [{\"aaxis\": {\"endlinecolor\": \"#2a3f5f\", \"gridcolor\": \"white\", \"linecolor\": \"white\", \"minorgridcolor\": \"white\", \"startlinecolor\": \"#2a3f5f\"}, \"baxis\": {\"endlinecolor\": \"#2a3f5f\", \"gridcolor\": \"white\", \"linecolor\": \"white\", \"minorgridcolor\": \"white\", \"startlinecolor\": \"#2a3f5f\"}, \"type\": \"carpet\"}], \"choropleth\": [{\"colorbar\": {\"outlinewidth\": 0, \"ticks\": \"\"}, \"type\": \"choropleth\"}], \"contour\": [{\"colorbar\": {\"outlinewidth\": 0, \"ticks\": \"\"}, \"colorscale\": [[0.0, \"#0d0887\"], [0.1111111111111111, \"#46039f\"], [0.2222222222222222, \"#7201a8\"], [0.3333333333333333, \"#9c179e\"], [0.4444444444444444, \"#bd3786\"], [0.5555555555555556, \"#d8576b\"], [0.6666666666666666, \"#ed7953\"], [0.7777777777777778, \"#fb9f3a\"], [0.8888888888888888, \"#fdca26\"], [1.0, \"#f0f921\"]], \"type\": \"contour\"}], \"contourcarpet\": [{\"colorbar\": {\"outlinewidth\": 0, \"ticks\": \"\"}, \"type\": \"contourcarpet\"}], \"heatmap\": [{\"colorbar\": {\"outlinewidth\": 0, \"ticks\": \"\"}, \"colorscale\": [[0.0, \"#0d0887\"], [0.1111111111111111, \"#46039f\"], [0.2222222222222222, \"#7201a8\"], [0.3333333333333333, \"#9c179e\"], [0.4444444444444444, \"#bd3786\"], [0.5555555555555556, \"#d8576b\"], [0.6666666666666666, \"#ed7953\"], [0.7777777777777778, \"#fb9f3a\"], [0.8888888888888888, \"#fdca26\"], [1.0, \"#f0f921\"]], \"type\": \"heatmap\"}], \"heatmapgl\": [{\"colorbar\": {\"outlinewidth\": 0, \"ticks\": \"\"}, \"colorscale\": [[0.0, \"#0d0887\"], [0.1111111111111111, \"#46039f\"], [0.2222222222222222, \"#7201a8\"], [0.3333333333333333, \"#9c179e\"], [0.4444444444444444, \"#bd3786\"], [0.5555555555555556, \"#d8576b\"], [0.6666666666666666, \"#ed7953\"], [0.7777777777777778, \"#fb9f3a\"], [0.8888888888888888, \"#fdca26\"], [1.0, \"#f0f921\"]], \"type\": \"heatmapgl\"}], \"histogram\": [{\"marker\": {\"colorbar\": {\"outlinewidth\": 0, \"ticks\": \"\"}}, \"type\": \"histogram\"}], \"histogram2d\": [{\"colorbar\": {\"outlinewidth\": 0, \"ticks\": \"\"}, \"colorscale\": [[0.0, \"#0d0887\"], [0.1111111111111111, \"#46039f\"], [0.2222222222222222, \"#7201a8\"], [0.3333333333333333, \"#9c179e\"], [0.4444444444444444, \"#bd3786\"], [0.5555555555555556, \"#d8576b\"], [0.6666666666666666, \"#ed7953\"], [0.7777777777777778, \"#fb9f3a\"], [0.8888888888888888, \"#fdca26\"], [1.0, \"#f0f921\"]], \"type\": \"histogram2d\"}], \"histogram2dcontour\": [{\"colorbar\": {\"outlinewidth\": 0, \"ticks\": \"\"}, \"colorscale\": [[0.0, \"#0d0887\"], [0.1111111111111111, \"#46039f\"], [0.2222222222222222, \"#7201a8\"], [0.3333333333333333, \"#9c179e\"], [0.4444444444444444, \"#bd3786\"], [0.5555555555555556, \"#d8576b\"], [0.6666666666666666, \"#ed7953\"], [0.7777777777777778, \"#fb9f3a\"], [0.8888888888888888, \"#fdca26\"], [1.0, \"#f0f921\"]], \"type\": \"histogram2dcontour\"}], \"mesh3d\": [{\"colorbar\": {\"outlinewidth\": 0, \"ticks\": \"\"}, \"type\": \"mesh3d\"}], \"parcoords\": [{\"line\": {\"colorbar\": {\"outlinewidth\": 0, \"ticks\": \"\"}}, \"type\": \"parcoords\"}], \"pie\": [{\"automargin\": true, \"type\": \"pie\"}], \"scatter\": [{\"marker\": {\"colorbar\": {\"outlinewidth\": 0, \"ticks\": \"\"}}, \"type\": \"scatter\"}], \"scatter3d\": [{\"line\": {\"colorbar\": {\"outlinewidth\": 0, \"ticks\": \"\"}}, \"marker\": {\"colorbar\": {\"outlinewidth\": 0, \"ticks\": \"\"}}, \"type\": \"scatter3d\"}], \"scattercarpet\": [{\"marker\": {\"colorbar\": {\"outlinewidth\": 0, \"ticks\": \"\"}}, \"type\": \"scattercarpet\"}], \"scattergeo\": [{\"marker\": {\"colorbar\": {\"outlinewidth\": 0, \"ticks\": \"\"}}, \"type\": \"scattergeo\"}], \"scattergl\": [{\"marker\": {\"colorbar\": {\"outlinewidth\": 0, \"ticks\": \"\"}}, \"type\": \"scattergl\"}], \"scattermapbox\": [{\"marker\": {\"colorbar\": {\"outlinewidth\": 0, \"ticks\": \"\"}}, \"type\": \"scattermapbox\"}], \"scatterpolar\": [{\"marker\": {\"colorbar\": {\"outlinewidth\": 0, \"ticks\": \"\"}}, \"type\": \"scatterpolar\"}], \"scatterpolargl\": [{\"marker\": {\"colorbar\": {\"outlinewidth\": 0, \"ticks\": \"\"}}, \"type\": \"scatterpolargl\"}], \"scatterternary\": [{\"marker\": {\"colorbar\": {\"outlinewidth\": 0, \"ticks\": \"\"}}, \"type\": \"scatterternary\"}], \"surface\": [{\"colorbar\": {\"outlinewidth\": 0, \"ticks\": \"\"}, \"colorscale\": [[0.0, \"#0d0887\"], [0.1111111111111111, \"#46039f\"], [0.2222222222222222, \"#7201a8\"], [0.3333333333333333, \"#9c179e\"], [0.4444444444444444, \"#bd3786\"], [0.5555555555555556, \"#d8576b\"], [0.6666666666666666, \"#ed7953\"], [0.7777777777777778, \"#fb9f3a\"], [0.8888888888888888, \"#fdca26\"], [1.0, \"#f0f921\"]], \"type\": \"surface\"}], \"table\": [{\"cells\": {\"fill\": {\"color\": \"#EBF0F8\"}, \"line\": {\"color\": \"white\"}}, \"header\": {\"fill\": {\"color\": \"#C8D4E3\"}, \"line\": {\"color\": \"white\"}}, \"type\": \"table\"}]}, \"layout\": {\"annotationdefaults\": {\"arrowcolor\": \"#2a3f5f\", \"arrowhead\": 0, \"arrowwidth\": 1}, \"coloraxis\": {\"colorbar\": {\"outlinewidth\": 0, \"ticks\": \"\"}}, \"colorscale\": {\"diverging\": [[0, \"#8e0152\"], [0.1, \"#c51b7d\"], [0.2, \"#de77ae\"], [0.3, \"#f1b6da\"], [0.4, \"#fde0ef\"], [0.5, \"#f7f7f7\"], [0.6, \"#e6f5d0\"], [0.7, \"#b8e186\"], [0.8, \"#7fbc41\"], [0.9, \"#4d9221\"], [1, \"#276419\"]], \"sequential\": [[0.0, \"#0d0887\"], [0.1111111111111111, \"#46039f\"], [0.2222222222222222, \"#7201a8\"], [0.3333333333333333, \"#9c179e\"], [0.4444444444444444, \"#bd3786\"], [0.5555555555555556, \"#d8576b\"], [0.6666666666666666, \"#ed7953\"], [0.7777777777777778, \"#fb9f3a\"], [0.8888888888888888, \"#fdca26\"], [1.0, \"#f0f921\"]], \"sequentialminus\": [[0.0, \"#0d0887\"], [0.1111111111111111, \"#46039f\"], [0.2222222222222222, \"#7201a8\"], [0.3333333333333333, \"#9c179e\"], [0.4444444444444444, \"#bd3786\"], [0.5555555555555556, \"#d8576b\"], [0.6666666666666666, \"#ed7953\"], [0.7777777777777778, \"#fb9f3a\"], [0.8888888888888888, \"#fdca26\"], [1.0, \"#f0f921\"]]}, \"colorway\": [\"#636efa\", \"#EF553B\", \"#00cc96\", \"#ab63fa\", \"#FFA15A\", \"#19d3f3\", \"#FF6692\", \"#B6E880\", \"#FF97FF\", \"#FECB52\"], \"font\": {\"color\": \"#2a3f5f\"}, \"geo\": {\"bgcolor\": \"white\", \"lakecolor\": \"white\", \"landcolor\": \"#E5ECF6\", \"showlakes\": true, \"showland\": true, \"subunitcolor\": \"white\"}, \"hoverlabel\": {\"align\": \"left\"}, \"hovermode\": \"closest\", \"mapbox\": {\"style\": \"light\"}, \"paper_bgcolor\": \"white\", \"plot_bgcolor\": \"#E5ECF6\", \"polar\": {\"angularaxis\": {\"gridcolor\": \"white\", \"linecolor\": \"white\", \"ticks\": \"\"}, \"bgcolor\": \"#E5ECF6\", \"radialaxis\": {\"gridcolor\": \"white\", \"linecolor\": \"white\", \"ticks\": \"\"}}, \"scene\": {\"xaxis\": {\"backgroundcolor\": \"#E5ECF6\", \"gridcolor\": \"white\", \"gridwidth\": 2, \"linecolor\": \"white\", \"showbackground\": true, \"ticks\": \"\", \"zerolinecolor\": \"white\"}, \"yaxis\": {\"backgroundcolor\": \"#E5ECF6\", \"gridcolor\": \"white\", \"gridwidth\": 2, \"linecolor\": \"white\", \"showbackground\": true, \"ticks\": \"\", \"zerolinecolor\": \"white\"}, \"zaxis\": {\"backgroundcolor\": \"#E5ECF6\", \"gridcolor\": \"white\", \"gridwidth\": 2, \"linecolor\": \"white\", \"showbackground\": true, \"ticks\": \"\", \"zerolinecolor\": \"white\"}}, \"shapedefaults\": {\"line\": {\"color\": \"#2a3f5f\"}}, \"ternary\": {\"aaxis\": {\"gridcolor\": \"white\", \"linecolor\": \"white\", \"ticks\": \"\"}, \"baxis\": {\"gridcolor\": \"white\", \"linecolor\": \"white\", \"ticks\": \"\"}, \"bgcolor\": \"#E5ECF6\", \"caxis\": {\"gridcolor\": \"white\", \"linecolor\": \"white\", \"ticks\": \"\"}}, \"title\": {\"x\": 0.05}, \"xaxis\": {\"automargin\": true, \"gridcolor\": \"white\", \"linecolor\": \"white\", \"ticks\": \"\", \"title\": {\"standoff\": 15}, \"zerolinecolor\": \"white\", \"zerolinewidth\": 2}, \"yaxis\": {\"automargin\": true, \"gridcolor\": \"white\", \"linecolor\": \"white\", \"ticks\": \"\", \"title\": {\"standoff\": 15}, \"zerolinecolor\": \"white\", \"zerolinewidth\": 2}}}, \"width\": 1000},\n",
              "                        {\"responsive\": true}\n",
              "                    ).then(function(){\n",
              "                            \n",
              "var gd = document.getElementById('4611434a-2dcc-4ea0-9a60-e6d6570ac32f');\n",
              "var x = new MutationObserver(function (mutations, observer) {{\n",
              "        var display = window.getComputedStyle(gd).display;\n",
              "        if (!display || display === 'none') {{\n",
              "            console.log([gd, 'removed!']);\n",
              "            Plotly.purge(gd);\n",
              "            observer.disconnect();\n",
              "        }}\n",
              "}});\n",
              "\n",
              "// Listen for the removal of the full notebook cells\n",
              "var notebookContainer = gd.closest('#notebook-container');\n",
              "if (notebookContainer) {{\n",
              "    x.observe(notebookContainer, {childList: true});\n",
              "}}\n",
              "\n",
              "// Listen for the clearing of the current output cell\n",
              "var outputEl = gd.closest('.output');\n",
              "if (outputEl) {{\n",
              "    x.observe(outputEl, {childList: true});\n",
              "}}\n",
              "\n",
              "                        })\n",
              "                };\n",
              "                \n",
              "            </script>\n",
              "        </div>\n",
              "</body>\n",
              "</html>"
            ]
          },
          "metadata": {
            "tags": []
          }
        }
      ]
    },
    {
      "cell_type": "code",
      "metadata": {
        "id": "X-9LDjvbqKcZ",
        "colab_type": "code",
        "colab": {
          "base_uri": "https://localhost:8080/",
          "height": 517
        },
        "outputId": "aa212ef3-827b-41fa-b3d3-a84f75ab8294"
      },
      "source": [
        "portfolio_leads = 'portfolio{}_leads.csv'\n",
        "\n",
        "cols = ['setor', 'de_ramo', 'natureza_juridica_macro']\n",
        "value = 'idade_empresa_anos'\n",
        "\n",
        "portfolio_leads_ = get_user_companies(path, portfolio_leads.format(3)).reset_index()\n",
        "user_leads = pd.merge(portfolio_leads_[['id']], market, on='id', how='inner', left_index=True)\n",
        "px.parallel_categories(user_leads.iloc[:2*len(user_companies)] , \n",
        "                       dimensions = cols,\n",
        "                       color=value, \n",
        "                       color_continuous_scale=px.colors.sequential.Inferno)"
      ],
      "execution_count": 62,
      "outputs": [
        {
          "output_type": "display_data",
          "data": {
            "text/html": [
              "<html>\n",
              "<head><meta charset=\"utf-8\" /></head>\n",
              "<body>\n",
              "    <div>\n",
              "            <script src=\"https://cdnjs.cloudflare.com/ajax/libs/mathjax/2.7.5/MathJax.js?config=TeX-AMS-MML_SVG\"></script><script type=\"text/javascript\">if (window.MathJax) {MathJax.Hub.Config({SVG: {font: \"STIX-Web\"}});}</script>\n",
              "                <script type=\"text/javascript\">window.PlotlyConfig = {MathJaxConfig: 'local'};</script>\n",
              "        <script src=\"https://cdn.plot.ly/plotly-latest.min.js\"></script>    \n",
              "            <div id=\"945bbc13-0afb-4df3-957c-da63a1494915\" class=\"plotly-graph-div\" style=\"height:500px; width:1000px;\"></div>\n",
              "            <script type=\"text/javascript\">\n",
              "                \n",
              "                    window.PLOTLYENV=window.PLOTLYENV || {};\n",
              "                    \n",
              "                if (document.getElementById(\"945bbc13-0afb-4df3-957c-da63a1494915\")) {\n",
              "                    Plotly.newPlot(\n",
              "                        '945bbc13-0afb-4df3-957c-da63a1494915',\n",
              "                        [{\"dimensions\": [{\"label\": \"setor\", \"values\": [\"SERVI\\u00c7O\", \"SERVI\\u00c7O\", \"SERVI\\u00c7O\", \"SERVI\\u00c7O\", \"SERVI\\u00c7O\", \"SERVI\\u00c7O\", \"SERVI\\u00c7O\", \"SERVI\\u00c7O\", \"SERVI\\u00c7O\", \"SERVI\\u00c7O\", \"SERVI\\u00c7O\", \"SERVI\\u00c7O\", \"SERVI\\u00c7O\", \"SERVI\\u00c7O\", \"SERVI\\u00c7O\", \"SERVI\\u00c7O\", \"SERVI\\u00c7O\", \"SERVI\\u00c7O\", \"SERVI\\u00c7O\", \"SERVI\\u00c7O\", \"SERVI\\u00c7O\", \"SERVI\\u00c7O\", \"SERVI\\u00c7O\", \"SERVI\\u00c7O\", \"SERVI\\u00c7O\", \"SERVI\\u00c7O\", \"SERVI\\u00c7O\", \"SERVI\\u00c7O\", \"SERVI\\u00c7O\", \"SERVI\\u00c7O\", \"SERVI\\u00c7O\", \"SERVI\\u00c7O\", \"SERVI\\u00c7O\", \"SERVI\\u00c7O\", \"SERVI\\u00c7O\", \"SERVI\\u00c7O\", \"SERVI\\u00c7O\", \"SERVI\\u00c7O\", \"SERVI\\u00c7O\", \"SERVI\\u00c7O\", \"SERVI\\u00c7O\", \"SERVI\\u00c7O\", \"SERVI\\u00c7O\", \"SERVI\\u00c7O\", \"SERVI\\u00c7O\", \"SERVI\\u00c7O\", \"SERVI\\u00c7O\", \"SERVI\\u00c7O\", \"SERVI\\u00c7O\", \"SERVI\\u00c7O\", \"SERVI\\u00c7O\", \"SERVI\\u00c7O\", \"SERVI\\u00c7O\", \"SERVI\\u00c7O\", \"SERVI\\u00c7O\", \"SERVI\\u00c7O\", \"SERVI\\u00c7O\", \"SERVI\\u00c7O\", \"SERVI\\u00c7O\", \"SERVI\\u00c7O\", \"SERVI\\u00c7O\", \"SERVI\\u00c7O\", \"SERVI\\u00c7O\", \"SERVI\\u00c7O\", \"SERVI\\u00c7O\", \"SERVI\\u00c7O\", \"SERVI\\u00c7O\", \"SERVI\\u00c7O\", \"SERVI\\u00c7O\", \"SERVI\\u00c7O\", \"SERVI\\u00c7O\", \"SERVI\\u00c7O\", \"SERVI\\u00c7O\", \"SERVI\\u00c7O\", \"SERVI\\u00c7O\", \"SERVI\\u00c7O\", \"SERVI\\u00c7O\", \"SERVI\\u00c7O\", \"SERVI\\u00c7O\", \"SERVI\\u00c7O\", \"SERVI\\u00c7O\", \"SERVI\\u00c7O\", \"SERVI\\u00c7O\", \"SERVI\\u00c7O\", \"SERVI\\u00c7O\", \"SERVI\\u00c7O\", \"SERVI\\u00c7O\", \"SERVI\\u00c7O\", \"SERVI\\u00c7O\", \"SERVI\\u00c7O\", \"SERVI\\u00c7O\", \"SERVI\\u00c7O\", \"SERVI\\u00c7O\", \"SERVI\\u00c7O\", \"SERVI\\u00c7O\", \"SERVI\\u00c7O\", \"SERVI\\u00c7O\", \"SERVI\\u00c7O\", \"SERVI\\u00c7O\", \"SERVI\\u00c7O\", \"SERVI\\u00c7O\", \"SERVI\\u00c7O\", \"SERVI\\u00c7O\", \"SERVI\\u00c7O\", \"SERVI\\u00c7O\", \"SERVI\\u00c7O\", \"SERVI\\u00c7O\", \"SERVI\\u00c7O\", \"SERVI\\u00c7O\", \"SERVI\\u00c7O\", \"SERVI\\u00c7O\", \"SERVI\\u00c7O\", \"SERVI\\u00c7O\", \"SERVI\\u00c7O\", \"SERVI\\u00c7O\", \"SERVI\\u00c7O\", \"SERVI\\u00c7O\", \"SERVI\\u00c7O\", \"SERVI\\u00c7O\", \"SERVI\\u00c7O\", \"SERVI\\u00c7O\", \"SERVI\\u00c7O\", \"SERVI\\u00c7O\", \"SERVI\\u00c7O\", \"SERVI\\u00c7O\", \"SERVI\\u00c7O\", \"SERVI\\u00c7O\", \"SERVI\\u00c7O\", \"SERVI\\u00c7O\", \"SERVI\\u00c7O\", \"SERVI\\u00c7O\", \"SERVI\\u00c7O\", \"SERVI\\u00c7O\", \"SERVI\\u00c7O\", \"SERVI\\u00c7O\", \"SERVI\\u00c7O\", \"SERVI\\u00c7O\", \"SERVI\\u00c7O\", \"SERVI\\u00c7O\", \"SERVI\\u00c7O\", \"SERVI\\u00c7O\", \"SERVI\\u00c7O\", \"SERVI\\u00c7O\", \"SERVI\\u00c7O\", \"SERVI\\u00c7O\", \"SERVI\\u00c7O\", \"SERVI\\u00c7O\", \"SERVI\\u00c7O\", \"SERVI\\u00c7O\", \"SERVI\\u00c7O\", \"SERVI\\u00c7O\", \"SERVI\\u00c7O\", \"SERVI\\u00c7O\", \"SERVI\\u00c7O\", \"SERVI\\u00c7O\", \"SERVI\\u00c7O\", \"SERVI\\u00c7O\", \"SERVI\\u00c7O\", \"SERVI\\u00c7O\", \"SERVI\\u00c7O\", \"SERVI\\u00c7O\", \"SERVI\\u00c7O\", \"SERVI\\u00c7O\", \"SERVI\\u00c7O\", \"SERVI\\u00c7O\", \"SERVI\\u00c7O\", \"SERVI\\u00c7O\", \"SERVI\\u00c7O\", \"SERVI\\u00c7O\", \"SERVI\\u00c7O\", \"SERVI\\u00c7O\", \"SERVI\\u00c7O\", \"SERVI\\u00c7O\", \"SERVI\\u00c7O\", \"SERVI\\u00c7O\", \"SERVI\\u00c7O\", \"SERVI\\u00c7O\", \"SERVI\\u00c7O\", \"SERVI\\u00c7O\", \"SERVI\\u00c7O\", \"SERVI\\u00c7O\", \"SERVI\\u00c7O\", \"SERVI\\u00c7O\", \"SERVI\\u00c7O\", \"SERVI\\u00c7O\", \"SERVI\\u00c7O\", \"SERVI\\u00c7O\", \"SERVI\\u00c7O\", \"SERVI\\u00c7O\", \"SERVI\\u00c7O\", \"SERVI\\u00c7O\", \"SERVI\\u00c7O\", \"SERVI\\u00c7O\", \"SERVI\\u00c7O\", \"SERVI\\u00c7O\", \"SERVI\\u00c7O\", \"SERVI\\u00c7O\", \"SERVI\\u00c7O\", \"SERVI\\u00c7O\", \"SERVI\\u00c7O\", \"SERVI\\u00c7O\", \"SERVI\\u00c7O\", \"SERVI\\u00c7O\", \"SERVI\\u00c7O\", \"SERVI\\u00c7O\", \"SERVI\\u00c7O\", \"SERVI\\u00c7O\", \"SERVI\\u00c7O\", \"SERVI\\u00c7O\", \"SERVI\\u00c7O\", \"SERVI\\u00c7O\", \"SERVI\\u00c7O\", \"SERVI\\u00c7O\", \"SERVI\\u00c7O\", \"SERVI\\u00c7O\", \"SERVI\\u00c7O\", \"SERVI\\u00c7O\", \"SERVI\\u00c7O\", \"SERVI\\u00c7O\", \"SERVI\\u00c7O\", \"SERVI\\u00c7O\", \"SERVI\\u00c7O\", \"SERVI\\u00c7O\", \"SERVI\\u00c7O\", \"SERVI\\u00c7O\", \"SERVI\\u00c7O\", \"SERVI\\u00c7O\", \"SERVI\\u00c7O\", \"SERVI\\u00c7O\", \"SERVI\\u00c7O\", \"SERVI\\u00c7O\", \"SERVI\\u00c7O\", \"SERVI\\u00c7O\", \"SERVI\\u00c7O\", \"SERVI\\u00c7O\", \"SERVI\\u00c7O\", \"SERVI\\u00c7O\", \"SERVI\\u00c7O\", \"SERVI\\u00c7O\", \"SERVI\\u00c7O\", \"SERVI\\u00c7O\", \"SERVI\\u00c7O\", \"SERVI\\u00c7O\", \"SERVI\\u00c7O\", \"SERVI\\u00c7O\", \"SERVI\\u00c7O\", \"SERVI\\u00c7O\", \"SERVI\\u00c7O\", \"SERVI\\u00c7O\", \"SERVI\\u00c7O\", \"SERVI\\u00c7O\", \"SERVI\\u00c7O\", \"SERVI\\u00c7O\", \"SERVI\\u00c7O\", \"SERVI\\u00c7O\", \"SERVI\\u00c7O\", \"SERVI\\u00c7O\", \"SERVI\\u00c7O\", \"SERVI\\u00c7O\", \"SERVI\\u00c7O\", \"SERVI\\u00c7O\", \"SERVI\\u00c7O\", \"SERVI\\u00c7O\", \"SERVI\\u00c7O\", \"SERVI\\u00c7O\", \"SERVI\\u00c7O\", \"SERVI\\u00c7O\", \"SERVI\\u00c7O\", \"SERVI\\u00c7O\", \"SERVI\\u00c7O\", \"SERVI\\u00c7O\", \"SERVI\\u00c7O\", \"SERVI\\u00c7O\", \"SERVI\\u00c7O\", \"SERVI\\u00c7O\", \"SERVI\\u00c7O\", \"SERVI\\u00c7O\", \"SERVI\\u00c7O\", \"SERVI\\u00c7O\", \"SERVI\\u00c7O\", \"SERVI\\u00c7O\", \"SERVI\\u00c7O\", \"SERVI\\u00c7O\", \"SERVI\\u00c7O\", \"SERVI\\u00c7O\", \"SERVI\\u00c7O\", \"SERVI\\u00c7O\", \"SERVI\\u00c7O\", \"SERVI\\u00c7O\", \"SERVI\\u00c7O\", \"SERVI\\u00c7O\", \"SERVI\\u00c7O\", \"SERVI\\u00c7O\", \"SERVI\\u00c7O\", \"SERVI\\u00c7O\", \"SERVI\\u00c7O\", \"SERVI\\u00c7O\", \"SERVI\\u00c7O\", \"SERVI\\u00c7O\", \"SERVI\\u00c7O\", \"SERVI\\u00c7O\", \"SERVI\\u00c7O\", \"SERVI\\u00c7O\", \"SERVI\\u00c7O\", \"SERVI\\u00c7O\", \"SERVI\\u00c7O\", \"SERVI\\u00c7O\", \"SERVI\\u00c7O\", \"SERVI\\u00c7O\", \"SERVI\\u00c7O\", \"SERVI\\u00c7O\", \"SERVI\\u00c7O\", \"SERVI\\u00c7O\", \"SERVI\\u00c7O\", \"SERVI\\u00c7O\", \"SERVI\\u00c7O\", \"SERVI\\u00c7O\", \"SERVI\\u00c7O\", \"SERVI\\u00c7O\", \"SERVI\\u00c7O\", \"SERVI\\u00c7O\", \"SERVI\\u00c7O\", \"SERVI\\u00c7O\", \"SERVI\\u00c7O\", \"SERVI\\u00c7O\", \"SERVI\\u00c7O\", \"SERVI\\u00c7O\", \"SERVI\\u00c7O\", \"SERVI\\u00c7O\", \"SERVI\\u00c7O\", \"SERVI\\u00c7O\", \"SERVI\\u00c7O\", \"SERVI\\u00c7O\", \"SERVI\\u00c7O\", \"SERVI\\u00c7O\", \"SERVI\\u00c7O\", \"SERVI\\u00c7O\", \"SERVI\\u00c7O\", \"SERVI\\u00c7O\", \"SERVI\\u00c7O\", \"SERVI\\u00c7O\", \"SERVI\\u00c7O\", \"SERVI\\u00c7O\", \"SERVI\\u00c7O\", \"SERVI\\u00c7O\", \"SERVI\\u00c7O\", \"SERVI\\u00c7O\", \"SERVI\\u00c7O\", \"SERVI\\u00c7O\", \"SERVI\\u00c7O\", \"SERVI\\u00c7O\", \"SERVI\\u00c7O\", \"SERVI\\u00c7O\", \"SERVI\\u00c7O\", \"SERVI\\u00c7O\", \"SERVI\\u00c7O\", \"SERVI\\u00c7O\", \"SERVI\\u00c7O\", \"SERVI\\u00c7O\", \"SERVI\\u00c7O\", \"SERVI\\u00c7O\", \"SERVI\\u00c7O\", \"SERVI\\u00c7O\", \"SERVI\\u00c7O\", \"SERVI\\u00c7O\", \"SERVI\\u00c7O\", \"SERVI\\u00c7O\", \"SERVI\\u00c7O\", \"SERVI\\u00c7O\", \"SERVI\\u00c7O\", \"SERVI\\u00c7O\", \"SERVI\\u00c7O\", \"SERVI\\u00c7O\", \"SERVI\\u00c7O\", \"SERVI\\u00c7O\", \"SERVI\\u00c7O\", \"SERVI\\u00c7O\", \"SERVI\\u00c7O\", \"SERVI\\u00c7O\", \"SERVI\\u00c7O\", \"SERVI\\u00c7O\", \"SERVI\\u00c7O\", \"SERVI\\u00c7O\", \"SERVI\\u00c7O\", \"SERVI\\u00c7O\", \"SERVI\\u00c7O\", \"SERVI\\u00c7O\", \"SERVI\\u00c7O\", \"SERVI\\u00c7O\", \"SERVI\\u00c7O\", \"SERVI\\u00c7O\", \"SERVI\\u00c7O\", \"SERVI\\u00c7O\", \"SERVI\\u00c7O\", \"SERVI\\u00c7O\", \"SERVI\\u00c7O\", \"SERVI\\u00c7O\", \"SERVI\\u00c7O\", \"SERVI\\u00c7O\", \"SERVI\\u00c7O\", \"SERVI\\u00c7O\", \"SERVI\\u00c7O\", \"SERVI\\u00c7O\", \"SERVI\\u00c7O\", \"SERVI\\u00c7O\", \"SERVI\\u00c7O\", \"SERVI\\u00c7O\", \"SERVI\\u00c7O\", \"SERVI\\u00c7O\", \"SERVI\\u00c7O\", \"SERVI\\u00c7O\", \"SERVI\\u00c7O\", \"SERVI\\u00c7O\", \"SERVI\\u00c7O\", \"SERVI\\u00c7O\", \"SERVI\\u00c7O\", \"SERVI\\u00c7O\", \"SERVI\\u00c7O\", \"SERVI\\u00c7O\", \"SERVI\\u00c7O\", \"SERVI\\u00c7O\", \"SERVI\\u00c7O\", \"SERVI\\u00c7O\", \"SERVI\\u00c7O\", \"SERVI\\u00c7O\", \"SERVI\\u00c7O\", \"SERVI\\u00c7O\", \"SERVI\\u00c7O\", \"SERVI\\u00c7O\", \"SERVI\\u00c7O\", \"SERVI\\u00c7O\", \"SERVI\\u00c7O\", \"SERVI\\u00c7O\", \"SERVI\\u00c7O\", \"SERVI\\u00c7O\", \"SERVI\\u00c7O\", \"SERVI\\u00c7O\", \"SERVI\\u00c7O\", \"SERVI\\u00c7O\", \"SERVI\\u00c7O\", \"SERVI\\u00c7O\", \"SERVI\\u00c7O\", \"SERVI\\u00c7O\", \"SERVI\\u00c7O\", \"SERVI\\u00c7O\", \"SERVI\\u00c7O\", \"SERVI\\u00c7O\", \"SERVI\\u00c7O\", \"SERVI\\u00c7O\", \"SERVI\\u00c7O\", \"SERVI\\u00c7O\", \"SERVI\\u00c7O\", \"SERVI\\u00c7O\", \"SERVI\\u00c7O\", \"SERVI\\u00c7O\", \"SERVI\\u00c7O\", \"SERVI\\u00c7O\", \"SERVI\\u00c7O\", \"SERVI\\u00c7O\", \"SERVI\\u00c7O\", \"SERVI\\u00c7O\", \"SERVI\\u00c7O\", \"SERVI\\u00c7O\", \"SERVI\\u00c7O\", \"SERVI\\u00c7O\", \"SERVI\\u00c7O\", \"SERVI\\u00c7O\", \"SERVI\\u00c7O\", \"SERVI\\u00c7O\", \"SERVI\\u00c7O\", \"SERVI\\u00c7O\", \"SERVI\\u00c7O\", \"SERVI\\u00c7O\", \"SERVI\\u00c7O\", \"SERVI\\u00c7O\", \"SERVI\\u00c7O\", \"SERVI\\u00c7O\", \"SERVI\\u00c7O\", \"SERVI\\u00c7O\", \"SERVI\\u00c7O\", \"SERVI\\u00c7O\", \"SERVI\\u00c7O\", \"SERVI\\u00c7O\", \"SERVI\\u00c7O\", \"SERVI\\u00c7O\", \"SERVI\\u00c7O\", \"AGROPECUARIA\", \"SERVI\\u00c7O\", \"SERVI\\u00c7O\", \"SERVI\\u00c7O\", \"SERVI\\u00c7O\", \"SERVI\\u00c7O\", \"SERVI\\u00c7O\", \"SERVI\\u00c7O\", \"SERVI\\u00c7O\", \"SERVI\\u00c7O\", \"SERVI\\u00c7O\", \"SERVI\\u00c7O\", \"SERVI\\u00c7O\", \"SERVI\\u00c7O\", \"SERVI\\u00c7O\", \"SERVI\\u00c7O\", \"SERVI\\u00c7O\", \"SERVI\\u00c7O\", \"SERVI\\u00c7O\", \"SERVI\\u00c7O\", \"SERVI\\u00c7O\", \"SERVI\\u00c7O\", \"SERVI\\u00c7O\", \"SERVI\\u00c7O\", \"SERVI\\u00c7O\", \"SERVI\\u00c7O\", \"SERVI\\u00c7O\", \"SERVI\\u00c7O\", \"SERVI\\u00c7O\", \"SERVI\\u00c7O\", \"SERVI\\u00c7O\", \"SERVI\\u00c7O\", \"SERVI\\u00c7O\", \"SERVI\\u00c7O\", \"SERVI\\u00c7O\", \"SERVI\\u00c7O\", \"SERVI\\u00c7O\", \"SERVI\\u00c7O\", \"SERVI\\u00c7O\", \"SERVI\\u00c7O\", \"SERVI\\u00c7O\", \"SERVI\\u00c7O\", \"SERVI\\u00c7O\", \"SERVI\\u00c7O\"]}, {\"label\": \"de_ramo\", \"values\": [\"ADMINISTRACAO PUBLICA, DEFESA E SEGURIDADE SOCIAL\", \"ADMINISTRACAO PUBLICA, DEFESA E SEGURIDADE SOCIAL\", \"ADMINISTRACAO PUBLICA, DEFESA E SEGURIDADE SOCIAL\", \"ADMINISTRACAO PUBLICA, DEFESA E SEGURIDADE SOCIAL\", \"ADMINISTRACAO PUBLICA, DEFESA E SEGURIDADE SOCIAL\", \"ADMINISTRACAO PUBLICA, DEFESA E SEGURIDADE SOCIAL\", \"ADMINISTRACAO PUBLICA, DEFESA E SEGURIDADE SOCIAL\", \"ADMINISTRACAO PUBLICA, DEFESA E SEGURIDADE SOCIAL\", \"ADMINISTRACAO PUBLICA, DEFESA E SEGURIDADE SOCIAL\", \"ADMINISTRACAO PUBLICA, DEFESA E SEGURIDADE SOCIAL\", \"ADMINISTRACAO PUBLICA, DEFESA E SEGURIDADE SOCIAL\", \"ADMINISTRACAO PUBLICA, DEFESA E SEGURIDADE SOCIAL\", \"ADMINISTRACAO PUBLICA, DEFESA E SEGURIDADE SOCIAL\", \"ADMINISTRACAO PUBLICA, DEFESA E SEGURIDADE SOCIAL\", \"ADMINISTRACAO PUBLICA, DEFESA E SEGURIDADE SOCIAL\", \"ADMINISTRACAO PUBLICA, DEFESA E SEGURIDADE SOCIAL\", \"ADMINISTRACAO PUBLICA, DEFESA E SEGURIDADE SOCIAL\", \"ADMINISTRACAO PUBLICA, DEFESA E SEGURIDADE SOCIAL\", \"ADMINISTRACAO PUBLICA, DEFESA E SEGURIDADE SOCIAL\", \"ADMINISTRACAO PUBLICA, DEFESA E SEGURIDADE SOCIAL\", \"ADMINISTRACAO PUBLICA, DEFESA E SEGURIDADE SOCIAL\", \"ADMINISTRACAO PUBLICA, DEFESA E SEGURIDADE SOCIAL\", \"ADMINISTRACAO PUBLICA, DEFESA E SEGURIDADE SOCIAL\", \"ADMINISTRACAO PUBLICA, DEFESA E SEGURIDADE SOCIAL\", \"ADMINISTRACAO PUBLICA, DEFESA E SEGURIDADE SOCIAL\", \"ADMINISTRACAO PUBLICA, DEFESA E SEGURIDADE SOCIAL\", \"ADMINISTRACAO PUBLICA, DEFESA E SEGURIDADE SOCIAL\", \"ADMINISTRACAO PUBLICA, DEFESA E SEGURIDADE SOCIAL\", \"ADMINISTRACAO PUBLICA, DEFESA E SEGURIDADE SOCIAL\", \"ADMINISTRACAO PUBLICA, DEFESA E SEGURIDADE SOCIAL\", \"ADMINISTRACAO PUBLICA, DEFESA E SEGURIDADE SOCIAL\", \"ADMINISTRACAO PUBLICA, DEFESA E SEGURIDADE SOCIAL\", \"ADMINISTRACAO PUBLICA, DEFESA E SEGURIDADE SOCIAL\", \"ADMINISTRACAO PUBLICA, DEFESA E SEGURIDADE SOCIAL\", \"ADMINISTRACAO PUBLICA, DEFESA E SEGURIDADE SOCIAL\", \"ADMINISTRACAO PUBLICA, DEFESA E SEGURIDADE SOCIAL\", \"ADMINISTRACAO PUBLICA, DEFESA E SEGURIDADE SOCIAL\", \"ADMINISTRACAO PUBLICA, DEFESA E SEGURIDADE SOCIAL\", \"ADMINISTRACAO PUBLICA, DEFESA E SEGURIDADE SOCIAL\", \"ADMINISTRACAO PUBLICA, DEFESA E SEGURIDADE SOCIAL\", \"ADMINISTRACAO PUBLICA, DEFESA E SEGURIDADE SOCIAL\", \"ADMINISTRACAO PUBLICA, DEFESA E SEGURIDADE SOCIAL\", \"ADMINISTRACAO PUBLICA, DEFESA E SEGURIDADE SOCIAL\", \"ADMINISTRACAO PUBLICA, DEFESA E SEGURIDADE SOCIAL\", \"ADMINISTRACAO PUBLICA, DEFESA E SEGURIDADE SOCIAL\", \"ADMINISTRACAO PUBLICA, DEFESA E SEGURIDADE SOCIAL\", \"ADMINISTRACAO PUBLICA, DEFESA E SEGURIDADE SOCIAL\", \"ADMINISTRACAO PUBLICA, DEFESA E SEGURIDADE SOCIAL\", \"ADMINISTRACAO PUBLICA, DEFESA E SEGURIDADE SOCIAL\", \"ADMINISTRACAO PUBLICA, DEFESA E SEGURIDADE SOCIAL\", \"ADMINISTRACAO PUBLICA, DEFESA E SEGURIDADE SOCIAL\", \"ADMINISTRACAO PUBLICA, DEFESA E SEGURIDADE SOCIAL\", \"ADMINISTRACAO PUBLICA, DEFESA E SEGURIDADE SOCIAL\", \"ADMINISTRACAO PUBLICA, DEFESA E SEGURIDADE SOCIAL\", \"ADMINISTRACAO PUBLICA, DEFESA E SEGURIDADE SOCIAL\", \"ADMINISTRACAO PUBLICA, DEFESA E SEGURIDADE SOCIAL\", \"ADMINISTRACAO PUBLICA, DEFESA E SEGURIDADE SOCIAL\", \"ADMINISTRACAO PUBLICA, DEFESA E SEGURIDADE SOCIAL\", \"ADMINISTRACAO PUBLICA, DEFESA E SEGURIDADE SOCIAL\", \"ADMINISTRACAO PUBLICA, DEFESA E SEGURIDADE SOCIAL\", \"ADMINISTRACAO PUBLICA, DEFESA E SEGURIDADE SOCIAL\", \"ADMINISTRACAO PUBLICA, DEFESA E SEGURIDADE SOCIAL\", \"ADMINISTRACAO PUBLICA, DEFESA E SEGURIDADE SOCIAL\", \"ADMINISTRACAO PUBLICA, DEFESA E SEGURIDADE SOCIAL\", \"ADMINISTRACAO PUBLICA, DEFESA E SEGURIDADE SOCIAL\", \"ADMINISTRACAO PUBLICA, DEFESA E SEGURIDADE SOCIAL\", \"ADMINISTRACAO PUBLICA, DEFESA E SEGURIDADE SOCIAL\", \"ADMINISTRACAO PUBLICA, DEFESA E SEGURIDADE SOCIAL\", \"ADMINISTRACAO PUBLICA, DEFESA E SEGURIDADE SOCIAL\", \"ADMINISTRACAO PUBLICA, DEFESA E SEGURIDADE SOCIAL\", \"ADMINISTRACAO PUBLICA, DEFESA E SEGURIDADE SOCIAL\", \"ADMINISTRACAO PUBLICA, DEFESA E SEGURIDADE SOCIAL\", \"ADMINISTRACAO PUBLICA, DEFESA E SEGURIDADE SOCIAL\", \"ADMINISTRACAO PUBLICA, DEFESA E SEGURIDADE SOCIAL\", \"ADMINISTRACAO PUBLICA, DEFESA E SEGURIDADE SOCIAL\", \"ADMINISTRACAO PUBLICA, DEFESA E SEGURIDADE SOCIAL\", \"ADMINISTRACAO PUBLICA, DEFESA E SEGURIDADE SOCIAL\", \"ADMINISTRACAO PUBLICA, DEFESA E SEGURIDADE SOCIAL\", \"ADMINISTRACAO PUBLICA, DEFESA E SEGURIDADE SOCIAL\", \"ADMINISTRACAO PUBLICA, DEFESA E SEGURIDADE SOCIAL\", \"ADMINISTRACAO PUBLICA, DEFESA E SEGURIDADE SOCIAL\", \"ADMINISTRACAO PUBLICA, DEFESA E SEGURIDADE SOCIAL\", \"ADMINISTRACAO PUBLICA, DEFESA E SEGURIDADE SOCIAL\", \"ADMINISTRACAO PUBLICA, DEFESA E SEGURIDADE SOCIAL\", \"ADMINISTRACAO PUBLICA, DEFESA E SEGURIDADE SOCIAL\", \"ADMINISTRACAO PUBLICA, DEFESA E SEGURIDADE SOCIAL\", \"ADMINISTRACAO PUBLICA, DEFESA E SEGURIDADE SOCIAL\", \"ADMINISTRACAO PUBLICA, DEFESA E SEGURIDADE SOCIAL\", \"ADMINISTRACAO PUBLICA, DEFESA E SEGURIDADE SOCIAL\", \"ADMINISTRACAO PUBLICA, DEFESA E SEGURIDADE SOCIAL\", \"ADMINISTRACAO PUBLICA, DEFESA E SEGURIDADE SOCIAL\", \"ADMINISTRACAO PUBLICA, DEFESA E SEGURIDADE SOCIAL\", \"ADMINISTRACAO PUBLICA, DEFESA E SEGURIDADE SOCIAL\", \"ADMINISTRACAO PUBLICA, DEFESA E SEGURIDADE SOCIAL\", \"ADMINISTRACAO PUBLICA, DEFESA E SEGURIDADE SOCIAL\", \"ADMINISTRACAO PUBLICA, DEFESA E SEGURIDADE SOCIAL\", \"ADMINISTRACAO PUBLICA, DEFESA E SEGURIDADE SOCIAL\", \"ADMINISTRACAO PUBLICA, DEFESA E SEGURIDADE SOCIAL\", \"ADMINISTRACAO PUBLICA, DEFESA E SEGURIDADE SOCIAL\", \"ADMINISTRACAO PUBLICA, DEFESA E SEGURIDADE SOCIAL\", \"ADMINISTRACAO PUBLICA, DEFESA E SEGURIDADE SOCIAL\", \"ADMINISTRACAO PUBLICA, DEFESA E SEGURIDADE SOCIAL\", \"ADMINISTRACAO PUBLICA, DEFESA E SEGURIDADE SOCIAL\", \"ADMINISTRACAO PUBLICA, DEFESA E SEGURIDADE SOCIAL\", \"ADMINISTRACAO PUBLICA, DEFESA E SEGURIDADE SOCIAL\", \"ADMINISTRACAO PUBLICA, DEFESA E SEGURIDADE SOCIAL\", \"ADMINISTRACAO PUBLICA, DEFESA E SEGURIDADE SOCIAL\", \"ADMINISTRACAO PUBLICA, DEFESA E SEGURIDADE SOCIAL\", \"ADMINISTRACAO PUBLICA, DEFESA E SEGURIDADE SOCIAL\", \"ADMINISTRACAO PUBLICA, DEFESA E SEGURIDADE SOCIAL\", \"ADMINISTRACAO PUBLICA, DEFESA E SEGURIDADE SOCIAL\", \"ADMINISTRACAO PUBLICA, DEFESA E SEGURIDADE SOCIAL\", \"ADMINISTRACAO PUBLICA, DEFESA E SEGURIDADE SOCIAL\", \"ADMINISTRACAO PUBLICA, DEFESA E SEGURIDADE SOCIAL\", \"ADMINISTRACAO PUBLICA, DEFESA E SEGURIDADE SOCIAL\", \"ADMINISTRACAO PUBLICA, DEFESA E SEGURIDADE SOCIAL\", \"ADMINISTRACAO PUBLICA, DEFESA E SEGURIDADE SOCIAL\", \"ADMINISTRACAO PUBLICA, DEFESA E SEGURIDADE SOCIAL\", \"ADMINISTRACAO PUBLICA, DEFESA E SEGURIDADE SOCIAL\", \"ADMINISTRACAO PUBLICA, DEFESA E SEGURIDADE SOCIAL\", \"ADMINISTRACAO PUBLICA, DEFESA E SEGURIDADE SOCIAL\", \"ADMINISTRACAO PUBLICA, DEFESA E SEGURIDADE SOCIAL\", \"ADMINISTRACAO PUBLICA, DEFESA E SEGURIDADE SOCIAL\", \"ADMINISTRACAO PUBLICA, DEFESA E SEGURIDADE SOCIAL\", \"ADMINISTRACAO PUBLICA, DEFESA E SEGURIDADE SOCIAL\", \"ADMINISTRACAO PUBLICA, DEFESA E SEGURIDADE SOCIAL\", \"ADMINISTRACAO PUBLICA, DEFESA E SEGURIDADE SOCIAL\", \"ADMINISTRACAO PUBLICA, DEFESA E SEGURIDADE SOCIAL\", \"ADMINISTRACAO PUBLICA, DEFESA E SEGURIDADE SOCIAL\", \"ADMINISTRACAO PUBLICA, DEFESA E SEGURIDADE SOCIAL\", \"ADMINISTRACAO PUBLICA, DEFESA E SEGURIDADE SOCIAL\", \"ADMINISTRACAO PUBLICA, DEFESA E SEGURIDADE SOCIAL\", \"ADMINISTRACAO PUBLICA, DEFESA E SEGURIDADE SOCIAL\", \"ADMINISTRACAO PUBLICA, DEFESA E SEGURIDADE SOCIAL\", \"ADMINISTRACAO PUBLICA, DEFESA E SEGURIDADE SOCIAL\", \"ADMINISTRACAO PUBLICA, DEFESA E SEGURIDADE SOCIAL\", \"ADMINISTRACAO PUBLICA, DEFESA E SEGURIDADE SOCIAL\", \"ADMINISTRACAO PUBLICA, DEFESA E SEGURIDADE SOCIAL\", \"ADMINISTRACAO PUBLICA, DEFESA E SEGURIDADE SOCIAL\", \"ADMINISTRACAO PUBLICA, DEFESA E SEGURIDADE SOCIAL\", \"ADMINISTRACAO PUBLICA, DEFESA E SEGURIDADE SOCIAL\", \"ADMINISTRACAO PUBLICA, DEFESA E SEGURIDADE SOCIAL\", \"ADMINISTRACAO PUBLICA, DEFESA E SEGURIDADE SOCIAL\", \"ADMINISTRACAO PUBLICA, DEFESA E SEGURIDADE SOCIAL\", \"ADMINISTRACAO PUBLICA, DEFESA E SEGURIDADE SOCIAL\", \"ADMINISTRACAO PUBLICA, DEFESA E SEGURIDADE SOCIAL\", \"ADMINISTRACAO PUBLICA, DEFESA E SEGURIDADE SOCIAL\", \"ADMINISTRACAO PUBLICA, DEFESA E SEGURIDADE SOCIAL\", \"ADMINISTRACAO PUBLICA, DEFESA E SEGURIDADE SOCIAL\", \"ADMINISTRACAO PUBLICA, DEFESA E SEGURIDADE SOCIAL\", \"ADMINISTRACAO PUBLICA, DEFESA E SEGURIDADE SOCIAL\", \"ADMINISTRACAO PUBLICA, DEFESA E SEGURIDADE SOCIAL\", \"ADMINISTRACAO PUBLICA, DEFESA E SEGURIDADE SOCIAL\", \"ADMINISTRACAO PUBLICA, DEFESA E SEGURIDADE SOCIAL\", \"ADMINISTRACAO PUBLICA, DEFESA E SEGURIDADE SOCIAL\", \"ADMINISTRACAO PUBLICA, DEFESA E SEGURIDADE SOCIAL\", \"ADMINISTRACAO PUBLICA, DEFESA E SEGURIDADE SOCIAL\", \"ADMINISTRACAO PUBLICA, DEFESA E SEGURIDADE SOCIAL\", \"ADMINISTRACAO PUBLICA, DEFESA E SEGURIDADE SOCIAL\", \"ADMINISTRACAO PUBLICA, DEFESA E SEGURIDADE SOCIAL\", \"ADMINISTRACAO PUBLICA, DEFESA E SEGURIDADE SOCIAL\", \"ADMINISTRACAO PUBLICA, DEFESA E SEGURIDADE SOCIAL\", \"ADMINISTRACAO PUBLICA, DEFESA E SEGURIDADE SOCIAL\", \"ADMINISTRACAO PUBLICA, DEFESA E SEGURIDADE SOCIAL\", \"ADMINISTRACAO PUBLICA, DEFESA E SEGURIDADE SOCIAL\", \"ADMINISTRACAO PUBLICA, DEFESA E SEGURIDADE SOCIAL\", \"ADMINISTRACAO PUBLICA, DEFESA E SEGURIDADE SOCIAL\", \"ADMINISTRACAO PUBLICA, DEFESA E SEGURIDADE SOCIAL\", \"ADMINISTRACAO PUBLICA, DEFESA E SEGURIDADE SOCIAL\", \"ADMINISTRACAO PUBLICA, DEFESA E SEGURIDADE SOCIAL\", \"ADMINISTRACAO PUBLICA, DEFESA E SEGURIDADE SOCIAL\", \"ADMINISTRACAO PUBLICA, DEFESA E SEGURIDADE SOCIAL\", \"ADMINISTRACAO PUBLICA, DEFESA E SEGURIDADE SOCIAL\", \"ADMINISTRACAO PUBLICA, DEFESA E SEGURIDADE SOCIAL\", \"ADMINISTRACAO PUBLICA, DEFESA E SEGURIDADE SOCIAL\", \"ADMINISTRACAO PUBLICA, DEFESA E SEGURIDADE SOCIAL\", \"ADMINISTRACAO PUBLICA, DEFESA E SEGURIDADE SOCIAL\", \"ADMINISTRACAO PUBLICA, DEFESA E SEGURIDADE SOCIAL\", \"ADMINISTRACAO PUBLICA, DEFESA E SEGURIDADE SOCIAL\", \"ADMINISTRACAO PUBLICA, DEFESA E SEGURIDADE SOCIAL\", \"ADMINISTRACAO PUBLICA, DEFESA E SEGURIDADE SOCIAL\", \"ADMINISTRACAO PUBLICA, DEFESA E SEGURIDADE SOCIAL\", \"ADMINISTRACAO PUBLICA, DEFESA E SEGURIDADE SOCIAL\", \"ADMINISTRACAO PUBLICA, DEFESA E SEGURIDADE SOCIAL\", \"ADMINISTRACAO PUBLICA, DEFESA E SEGURIDADE SOCIAL\", \"ADMINISTRACAO PUBLICA, DEFESA E SEGURIDADE SOCIAL\", \"ADMINISTRACAO PUBLICA, DEFESA E SEGURIDADE SOCIAL\", \"ADMINISTRACAO PUBLICA, DEFESA E SEGURIDADE SOCIAL\", \"ADMINISTRACAO PUBLICA, DEFESA E SEGURIDADE SOCIAL\", \"ADMINISTRACAO PUBLICA, DEFESA E SEGURIDADE SOCIAL\", \"ADMINISTRACAO PUBLICA, DEFESA E SEGURIDADE SOCIAL\", \"ADMINISTRACAO PUBLICA, DEFESA E SEGURIDADE SOCIAL\", \"ADMINISTRACAO PUBLICA, DEFESA E SEGURIDADE SOCIAL\", \"ADMINISTRACAO PUBLICA, DEFESA E SEGURIDADE SOCIAL\", \"ADMINISTRACAO PUBLICA, DEFESA E SEGURIDADE SOCIAL\", \"ADMINISTRACAO PUBLICA, DEFESA E SEGURIDADE SOCIAL\", \"ADMINISTRACAO PUBLICA, DEFESA E SEGURIDADE SOCIAL\", \"ADMINISTRACAO PUBLICA, DEFESA E SEGURIDADE SOCIAL\", \"ADMINISTRACAO PUBLICA, DEFESA E SEGURIDADE SOCIAL\", \"SERVICOS ADMINISTRATIVOS\", \"ADMINISTRACAO PUBLICA, DEFESA E SEGURIDADE SOCIAL\", \"ADMINISTRACAO PUBLICA, DEFESA E SEGURIDADE SOCIAL\", \"ADMINISTRACAO PUBLICA, DEFESA E SEGURIDADE SOCIAL\", \"ADMINISTRACAO PUBLICA, DEFESA E SEGURIDADE SOCIAL\", \"ADMINISTRACAO PUBLICA, DEFESA E SEGURIDADE SOCIAL\", \"SERVICOS DE EDUCACAO\", \"ADMINISTRACAO PUBLICA, DEFESA E SEGURIDADE SOCIAL\", \"ADMINISTRACAO PUBLICA, DEFESA E SEGURIDADE SOCIAL\", \"ADMINISTRACAO PUBLICA, DEFESA E SEGURIDADE SOCIAL\", \"ADMINISTRACAO PUBLICA, DEFESA E SEGURIDADE SOCIAL\", \"ADMINISTRACAO PUBLICA, DEFESA E SEGURIDADE SOCIAL\", \"ADMINISTRACAO PUBLICA, DEFESA E SEGURIDADE SOCIAL\", \"ADMINISTRACAO PUBLICA, DEFESA E SEGURIDADE SOCIAL\", \"ADMINISTRACAO PUBLICA, DEFESA E SEGURIDADE SOCIAL\", \"ADMINISTRACAO PUBLICA, DEFESA E SEGURIDADE SOCIAL\", \"ADMINISTRACAO PUBLICA, DEFESA E SEGURIDADE SOCIAL\", \"ADMINISTRACAO PUBLICA, DEFESA E SEGURIDADE SOCIAL\", \"ADMINISTRACAO PUBLICA, DEFESA E SEGURIDADE SOCIAL\", \"ADMINISTRACAO PUBLICA, DEFESA E SEGURIDADE SOCIAL\", \"ADMINISTRACAO PUBLICA, DEFESA E SEGURIDADE SOCIAL\", \"ADMINISTRACAO PUBLICA, DEFESA E SEGURIDADE SOCIAL\", \"ADMINISTRACAO PUBLICA, DEFESA E SEGURIDADE SOCIAL\", \"ADMINISTRACAO PUBLICA, DEFESA E SEGURIDADE SOCIAL\", \"ADMINISTRACAO PUBLICA, DEFESA E SEGURIDADE SOCIAL\", \"ADMINISTRACAO PUBLICA, DEFESA E SEGURIDADE SOCIAL\", \"ADMINISTRACAO PUBLICA, DEFESA E SEGURIDADE SOCIAL\", \"CULTURA, ESPORTE E RECREACAO\", \"ADMINISTRACAO PUBLICA, DEFESA E SEGURIDADE SOCIAL\", \"ADMINISTRACAO PUBLICA, DEFESA E SEGURIDADE SOCIAL\", \"ADMINISTRACAO PUBLICA, DEFESA E SEGURIDADE SOCIAL\", \"ADMINISTRACAO PUBLICA, DEFESA E SEGURIDADE SOCIAL\", \"ADMINISTRACAO PUBLICA, DEFESA E SEGURIDADE SOCIAL\", \"ADMINISTRACAO PUBLICA, DEFESA E SEGURIDADE SOCIAL\", \"ADMINISTRACAO PUBLICA, DEFESA E SEGURIDADE SOCIAL\", \"ADMINISTRACAO PUBLICA, DEFESA E SEGURIDADE SOCIAL\", \"SERVICOS DE EDUCACAO\", \"ADMINISTRACAO PUBLICA, DEFESA E SEGURIDADE SOCIAL\", \"ADMINISTRACAO PUBLICA, DEFESA E SEGURIDADE SOCIAL\", \"ADMINISTRACAO PUBLICA, DEFESA E SEGURIDADE SOCIAL\", \"ADMINISTRACAO PUBLICA, DEFESA E SEGURIDADE SOCIAL\", \"ADMINISTRACAO PUBLICA, DEFESA E SEGURIDADE SOCIAL\", \"SERVICOS ADMINISTRATIVOS\", \"ADMINISTRACAO PUBLICA, DEFESA E SEGURIDADE SOCIAL\", \"ADMINISTRACAO PUBLICA, DEFESA E SEGURIDADE SOCIAL\", \"ADMINISTRACAO PUBLICA, DEFESA E SEGURIDADE SOCIAL\", \"ADMINISTRACAO PUBLICA, DEFESA E SEGURIDADE SOCIAL\", \"ADMINISTRACAO PUBLICA, DEFESA E SEGURIDADE SOCIAL\", \"ADMINISTRACAO PUBLICA, DEFESA E SEGURIDADE SOCIAL\", \"ADMINISTRACAO PUBLICA, DEFESA E SEGURIDADE SOCIAL\", \"ADMINISTRACAO PUBLICA, DEFESA E SEGURIDADE SOCIAL\", \"ADMINISTRACAO PUBLICA, DEFESA E SEGURIDADE SOCIAL\", \"SERVICOS PROFISSIONAIS, TECNICOS E CIENTIFICOS\", \"SERVICOS DE SAUDE\", \"ADMINISTRACAO PUBLICA, DEFESA E SEGURIDADE SOCIAL\", \"ADMINISTRACAO PUBLICA, DEFESA E SEGURIDADE SOCIAL\", \"SERVICOS ADMINISTRATIVOS\", \"SERVICOS ADMINISTRATIVOS\", \"ADMINISTRACAO PUBLICA, DEFESA E SEGURIDADE SOCIAL\", \"ADMINISTRACAO PUBLICA, DEFESA E SEGURIDADE SOCIAL\", \"SERVICOS DE EDUCACAO\", \"SERVICOS DE SAUDE\", \"ADMINISTRACAO PUBLICA, DEFESA E SEGURIDADE SOCIAL\", \"ADMINISTRACAO PUBLICA, DEFESA E SEGURIDADE SOCIAL\", \"ADMINISTRACAO PUBLICA, DEFESA E SEGURIDADE SOCIAL\", \"ADMINISTRACAO PUBLICA, DEFESA E SEGURIDADE SOCIAL\", \"ADMINISTRACAO PUBLICA, DEFESA E SEGURIDADE SOCIAL\", \"ADMINISTRACAO PUBLICA, DEFESA E SEGURIDADE SOCIAL\", \"SERVICOS DE EDUCACAO\", \"ADMINISTRACAO PUBLICA, DEFESA E SEGURIDADE SOCIAL\", \"SERVICOS ADMINISTRATIVOS\", \"ADMINISTRACAO PUBLICA, DEFESA E SEGURIDADE SOCIAL\", \"ADMINISTRACAO PUBLICA, DEFESA E SEGURIDADE SOCIAL\", \"ADMINISTRACAO PUBLICA, DEFESA E SEGURIDADE SOCIAL\", \"SERVICOS ADMINISTRATIVOS\", \"ADMINISTRACAO PUBLICA, DEFESA E SEGURIDADE SOCIAL\", \"ADMINISTRACAO PUBLICA, DEFESA E SEGURIDADE SOCIAL\", \"ADMINISTRACAO PUBLICA, DEFESA E SEGURIDADE SOCIAL\", \"ADMINISTRACAO PUBLICA, DEFESA E SEGURIDADE SOCIAL\", \"ADMINISTRACAO PUBLICA, DEFESA E SEGURIDADE SOCIAL\", \"ADMINISTRACAO PUBLICA, DEFESA E SEGURIDADE SOCIAL\", \"ADMINISTRACAO PUBLICA, DEFESA E SEGURIDADE SOCIAL\", \"ADMINISTRACAO PUBLICA, DEFESA E SEGURIDADE SOCIAL\", \"ADMINISTRACAO PUBLICA, DEFESA E SEGURIDADE SOCIAL\", \"SERVICOS ADMINISTRATIVOS\", \"ADMINISTRACAO PUBLICA, DEFESA E SEGURIDADE SOCIAL\", \"ADMINISTRACAO PUBLICA, DEFESA E SEGURIDADE SOCIAL\", \"SERVICOS ADMINISTRATIVOS\", \"ADMINISTRACAO PUBLICA, DEFESA E SEGURIDADE SOCIAL\", \"ADMINISTRACAO PUBLICA, DEFESA E SEGURIDADE SOCIAL\", \"ADMINISTRACAO PUBLICA, DEFESA E SEGURIDADE SOCIAL\", \"ADMINISTRACAO PUBLICA, DEFESA E SEGURIDADE SOCIAL\", \"SERVICOS ADMINISTRATIVOS\", \"ADMINISTRACAO PUBLICA, DEFESA E SEGURIDADE SOCIAL\", \"ADMINISTRACAO PUBLICA, DEFESA E SEGURIDADE SOCIAL\", \"SERVICOS ADMINISTRATIVOS\", \"ADMINISTRACAO PUBLICA, DEFESA E SEGURIDADE SOCIAL\", \"ADMINISTRACAO PUBLICA, DEFESA E SEGURIDADE SOCIAL\", \"ADMINISTRACAO PUBLICA, DEFESA E SEGURIDADE SOCIAL\", \"ADMINISTRACAO PUBLICA, DEFESA E SEGURIDADE SOCIAL\", \"ADMINISTRACAO PUBLICA, DEFESA E SEGURIDADE SOCIAL\", \"ADMINISTRACAO PUBLICA, DEFESA E SEGURIDADE SOCIAL\", \"ADMINISTRACAO PUBLICA, DEFESA E SEGURIDADE SOCIAL\", \"ADMINISTRACAO PUBLICA, DEFESA E SEGURIDADE SOCIAL\", \"SERVICOS ADMINISTRATIVOS\", \"SERVICOS ADMINISTRATIVOS\", \"ADMINISTRACAO PUBLICA, DEFESA E SEGURIDADE SOCIAL\", \"ADMINISTRACAO PUBLICA, DEFESA E SEGURIDADE SOCIAL\", \"ADMINISTRACAO PUBLICA, DEFESA E SEGURIDADE SOCIAL\", \"ADMINISTRACAO PUBLICA, DEFESA E SEGURIDADE SOCIAL\", \"ADMINISTRACAO PUBLICA, DEFESA E SEGURIDADE SOCIAL\", \"ADMINISTRACAO PUBLICA, DEFESA E SEGURIDADE SOCIAL\", \"ADMINISTRACAO PUBLICA, DEFESA E SEGURIDADE SOCIAL\", \"ADMINISTRACAO PUBLICA, DEFESA E SEGURIDADE SOCIAL\", \"ADMINISTRACAO PUBLICA, DEFESA E SEGURIDADE SOCIAL\", \"ADMINISTRACAO PUBLICA, DEFESA E SEGURIDADE SOCIAL\", \"ADMINISTRACAO PUBLICA, DEFESA E SEGURIDADE SOCIAL\", \"ADMINISTRACAO PUBLICA, DEFESA E SEGURIDADE SOCIAL\", \"SERVICOS ADMINISTRATIVOS\", \"ADMINISTRACAO PUBLICA, DEFESA E SEGURIDADE SOCIAL\", \"SERVICOS ADMINISTRATIVOS\", \"SERVICOS DE EDUCACAO\", \"ADMINISTRACAO PUBLICA, DEFESA E SEGURIDADE SOCIAL\", \"ADMINISTRACAO PUBLICA, DEFESA E SEGURIDADE SOCIAL\", \"ADMINISTRACAO PUBLICA, DEFESA E SEGURIDADE SOCIAL\", \"ADMINISTRACAO PUBLICA, DEFESA E SEGURIDADE SOCIAL\", \"ADMINISTRACAO PUBLICA, DEFESA E SEGURIDADE SOCIAL\", \"ADMINISTRACAO PUBLICA, DEFESA E SEGURIDADE SOCIAL\", \"ADMINISTRACAO PUBLICA, DEFESA E SEGURIDADE SOCIAL\", \"SERVICOS ADMINISTRATIVOS\", \"ADMINISTRACAO PUBLICA, DEFESA E SEGURIDADE SOCIAL\", \"ADMINISTRACAO PUBLICA, DEFESA E SEGURIDADE SOCIAL\", \"ADMINISTRACAO PUBLICA, DEFESA E SEGURIDADE SOCIAL\", \"ADMINISTRACAO PUBLICA, DEFESA E SEGURIDADE SOCIAL\", \"ADMINISTRACAO PUBLICA, DEFESA E SEGURIDADE SOCIAL\", \"ADMINISTRACAO PUBLICA, DEFESA E SEGURIDADE SOCIAL\", \"ADMINISTRACAO PUBLICA, DEFESA E SEGURIDADE SOCIAL\", \"ADMINISTRACAO PUBLICA, DEFESA E SEGURIDADE SOCIAL\", \"ADMINISTRACAO PUBLICA, DEFESA E SEGURIDADE SOCIAL\", \"ADMINISTRACAO PUBLICA, DEFESA E SEGURIDADE SOCIAL\", \"ADMINISTRACAO PUBLICA, DEFESA E SEGURIDADE SOCIAL\", \"ADMINISTRACAO PUBLICA, DEFESA E SEGURIDADE SOCIAL\", \"ADMINISTRACAO PUBLICA, DEFESA E SEGURIDADE SOCIAL\", \"ADMINISTRACAO PUBLICA, DEFESA E SEGURIDADE SOCIAL\", \"SERVICOS ADMINISTRATIVOS\", \"ADMINISTRACAO PUBLICA, DEFESA E SEGURIDADE SOCIAL\", \"SERVICOS DE EDUCACAO\", \"SERVICOS ADMINISTRATIVOS\", \"ADMINISTRACAO PUBLICA, DEFESA E SEGURIDADE SOCIAL\", \"SERVICOS ADMINISTRATIVOS\", \"SERVICOS DE EDUCACAO\", \"ADMINISTRACAO PUBLICA, DEFESA E SEGURIDADE SOCIAL\", \"ADMINISTRACAO PUBLICA, DEFESA E SEGURIDADE SOCIAL\", \"ADMINISTRACAO PUBLICA, DEFESA E SEGURIDADE SOCIAL\", \"ADMINISTRACAO PUBLICA, DEFESA E SEGURIDADE SOCIAL\", \"ADMINISTRACAO PUBLICA, DEFESA E SEGURIDADE SOCIAL\", \"ADMINISTRACAO PUBLICA, DEFESA E SEGURIDADE SOCIAL\", \"ADMINISTRACAO PUBLICA, DEFESA E SEGURIDADE SOCIAL\", \"ADMINISTRACAO PUBLICA, DEFESA E SEGURIDADE SOCIAL\", \"ADMINISTRACAO PUBLICA, DEFESA E SEGURIDADE SOCIAL\", \"ADMINISTRACAO PUBLICA, DEFESA E SEGURIDADE SOCIAL\", \"ADMINISTRACAO PUBLICA, DEFESA E SEGURIDADE SOCIAL\", \"ADMINISTRACAO PUBLICA, DEFESA E SEGURIDADE SOCIAL\", \"ADMINISTRACAO PUBLICA, DEFESA E SEGURIDADE SOCIAL\", \"ADMINISTRACAO PUBLICA, DEFESA E SEGURIDADE SOCIAL\", \"ADMINISTRACAO PUBLICA, DEFESA E SEGURIDADE SOCIAL\", \"TRANSPORTE, ARMAZENAGEM E CORREIO\", \"ADMINISTRACAO PUBLICA, DEFESA E SEGURIDADE SOCIAL\", \"SERVICOS DE SAUDE\", \"ADMINISTRACAO PUBLICA, DEFESA E SEGURIDADE SOCIAL\", \"ADMINISTRACAO PUBLICA, DEFESA E SEGURIDADE SOCIAL\", \"SERVICOS ADMINISTRATIVOS\", \"ADMINISTRACAO PUBLICA, DEFESA E SEGURIDADE SOCIAL\", \"ADMINISTRACAO PUBLICA, DEFESA E SEGURIDADE SOCIAL\", \"ADMINISTRACAO PUBLICA, DEFESA E SEGURIDADE SOCIAL\", \"TRANSPORTE, ARMAZENAGEM E CORREIO\", \"ADMINISTRACAO PUBLICA, DEFESA E SEGURIDADE SOCIAL\", \"ADMINISTRACAO PUBLICA, DEFESA E SEGURIDADE SOCIAL\", \"ADMINISTRACAO PUBLICA, DEFESA E SEGURIDADE SOCIAL\", \"ADMINISTRACAO PUBLICA, DEFESA E SEGURIDADE SOCIAL\", \"ADMINISTRACAO PUBLICA, DEFESA E SEGURIDADE SOCIAL\", \"ADMINISTRACAO PUBLICA, DEFESA E SEGURIDADE SOCIAL\", \"SERVICOS ADMINISTRATIVOS\", \"ADMINISTRACAO PUBLICA, DEFESA E SEGURIDADE SOCIAL\", \"SERVICOS ADMINISTRATIVOS\", \"SERVICOS PROFISSIONAIS, TECNICOS E CIENTIFICOS\", \"ADMINISTRACAO PUBLICA, DEFESA E SEGURIDADE SOCIAL\", \"SERVICOS ADMINISTRATIVOS\", \"ADMINISTRACAO PUBLICA, DEFESA E SEGURIDADE SOCIAL\", \"SERVICOS ADMINISTRATIVOS\", \"ADMINISTRACAO PUBLICA, DEFESA E SEGURIDADE SOCIAL\", \"SERVICOS DE EDUCACAO\", \"SERVICOS DE SAUDE\", \"ADMINISTRACAO PUBLICA, DEFESA E SEGURIDADE SOCIAL\", \"ADMINISTRACAO PUBLICA, DEFESA E SEGURIDADE SOCIAL\", \"ADMINISTRACAO PUBLICA, DEFESA E SEGURIDADE SOCIAL\", \"INDUSTRIA DIGITAL\", \"ADMINISTRACAO PUBLICA, DEFESA E SEGURIDADE SOCIAL\", \"ADMINISTRACAO PUBLICA, DEFESA E SEGURIDADE SOCIAL\", \"ADMINISTRACAO PUBLICA, DEFESA E SEGURIDADE SOCIAL\", \"ADMINISTRACAO PUBLICA, DEFESA E SEGURIDADE SOCIAL\", \"ADMINISTRACAO PUBLICA, DEFESA E SEGURIDADE SOCIAL\", \"SERVICOS DE SAUDE\", \"ADMINISTRACAO PUBLICA, DEFESA E SEGURIDADE SOCIAL\", \"ADMINISTRACAO PUBLICA, DEFESA E SEGURIDADE SOCIAL\", \"ADMINISTRACAO PUBLICA, DEFESA E SEGURIDADE SOCIAL\", \"ADMINISTRACAO PUBLICA, DEFESA E SEGURIDADE SOCIAL\", \"ADMINISTRACAO PUBLICA, DEFESA E SEGURIDADE SOCIAL\", \"ADMINISTRACAO PUBLICA, DEFESA E SEGURIDADE SOCIAL\", \"ADMINISTRACAO PUBLICA, DEFESA E SEGURIDADE SOCIAL\", \"ADMINISTRACAO PUBLICA, DEFESA E SEGURIDADE SOCIAL\", \"ADMINISTRACAO PUBLICA, DEFESA E SEGURIDADE SOCIAL\", \"ADMINISTRACAO PUBLICA, DEFESA E SEGURIDADE SOCIAL\", \"ADMINISTRACAO PUBLICA, DEFESA E SEGURIDADE SOCIAL\", \"ADMINISTRACAO PUBLICA, DEFESA E SEGURIDADE SOCIAL\", \"ADMINISTRACAO PUBLICA, DEFESA E SEGURIDADE SOCIAL\", \"ADMINISTRACAO PUBLICA, DEFESA E SEGURIDADE SOCIAL\", \"SERVICOS ADMINISTRATIVOS\", \"ADMINISTRACAO PUBLICA, DEFESA E SEGURIDADE SOCIAL\", \"TRANSPORTE, ARMAZENAGEM E CORREIO\", \"ADMINISTRACAO PUBLICA, DEFESA E SEGURIDADE SOCIAL\", \"ADMINISTRACAO PUBLICA, DEFESA E SEGURIDADE SOCIAL\", \"SERVICOS ADMINISTRATIVOS\", \"SERVICOS ADMINISTRATIVOS\", \"ADMINISTRACAO PUBLICA, DEFESA E SEGURIDADE SOCIAL\", \"ADMINISTRACAO PUBLICA, DEFESA E SEGURIDADE SOCIAL\", \"ADMINISTRACAO PUBLICA, DEFESA E SEGURIDADE SOCIAL\", \"ADMINISTRACAO PUBLICA, DEFESA E SEGURIDADE SOCIAL\", \"ADMINISTRACAO PUBLICA, DEFESA E SEGURIDADE SOCIAL\", \"TRANSPORTE, ARMAZENAGEM E CORREIO\", \"TRANSPORTE, ARMAZENAGEM E CORREIO\", \"TRANSPORTE, ARMAZENAGEM E CORREIO\", \"ADMINISTRACAO PUBLICA, DEFESA E SEGURIDADE SOCIAL\", \"ADMINISTRACAO PUBLICA, DEFESA E SEGURIDADE SOCIAL\", \"ADMINISTRACAO PUBLICA, DEFESA E SEGURIDADE SOCIAL\", \"ADMINISTRACAO PUBLICA, DEFESA E SEGURIDADE SOCIAL\", \"ADMINISTRACAO PUBLICA, DEFESA E SEGURIDADE SOCIAL\", \"SERVICOS ADMINISTRATIVOS\", \"SERVICOS ADMINISTRATIVOS\", \"ADMINISTRACAO PUBLICA, DEFESA E SEGURIDADE SOCIAL\", \"ADMINISTRACAO PUBLICA, DEFESA E SEGURIDADE SOCIAL\", \"ADMINISTRACAO PUBLICA, DEFESA E SEGURIDADE SOCIAL\", \"ADMINISTRACAO PUBLICA, DEFESA E SEGURIDADE SOCIAL\", \"ADMINISTRACAO PUBLICA, DEFESA E SEGURIDADE SOCIAL\", \"SERVICOS ADMINISTRATIVOS\", \"SERVICOS DE EDUCACAO\", \"ADMINISTRACAO PUBLICA, DEFESA E SEGURIDADE SOCIAL\", \"ADMINISTRACAO PUBLICA, DEFESA E SEGURIDADE SOCIAL\", \"ADMINISTRACAO PUBLICA, DEFESA E SEGURIDADE SOCIAL\", \"ADMINISTRACAO PUBLICA, DEFESA E SEGURIDADE SOCIAL\", \"SERVICOS ADMINISTRATIVOS\", \"ADMINISTRACAO PUBLICA, DEFESA E SEGURIDADE SOCIAL\", \"SERVICOS DE EDUCACAO\", \"ADMINISTRACAO PUBLICA, DEFESA E SEGURIDADE SOCIAL\", \"ADMINISTRACAO PUBLICA, DEFESA E SEGURIDADE SOCIAL\", \"ADMINISTRACAO PUBLICA, DEFESA E SEGURIDADE SOCIAL\", \"ADMINISTRACAO PUBLICA, DEFESA E SEGURIDADE SOCIAL\", \"TRANSPORTE, ARMAZENAGEM E CORREIO\", \"SERVICOS DE ALOJAMENTO/ALIMENTACAO\", \"SERVICOS DE EDUCACAO\", \"ADMINISTRACAO PUBLICA, DEFESA E SEGURIDADE SOCIAL\", \"ADMINISTRACAO PUBLICA, DEFESA E SEGURIDADE SOCIAL\", \"SERVICOS ADMINISTRATIVOS\", \"ADMINISTRACAO PUBLICA, DEFESA E SEGURIDADE SOCIAL\", \"ADMINISTRACAO PUBLICA, DEFESA E SEGURIDADE SOCIAL\", \"ADMINISTRACAO PUBLICA, DEFESA E SEGURIDADE SOCIAL\", \"SERVICOS ADMINISTRATIVOS\", \"SERVICOS ADMINISTRATIVOS\", \"ADMINISTRACAO PUBLICA, DEFESA E SEGURIDADE SOCIAL\", \"SERVICOS DE EDUCACAO\", \"SERVICOS DE SAUDE\", \"ADMINISTRACAO PUBLICA, DEFESA E SEGURIDADE SOCIAL\", \"ADMINISTRACAO PUBLICA, DEFESA E SEGURIDADE SOCIAL\", \"ADMINISTRACAO PUBLICA, DEFESA E SEGURIDADE SOCIAL\", \"ADMINISTRACAO PUBLICA, DEFESA E SEGURIDADE SOCIAL\", \"ADMINISTRACAO PUBLICA, DEFESA E SEGURIDADE SOCIAL\", \"ADMINISTRACAO PUBLICA, DEFESA E SEGURIDADE SOCIAL\", \"ADMINISTRACAO PUBLICA, DEFESA E SEGURIDADE SOCIAL\", \"TRANSPORTE, ARMAZENAGEM E CORREIO\", \"SERVICOS ADMINISTRATIVOS\", \"ADMINISTRACAO PUBLICA, DEFESA E SEGURIDADE SOCIAL\", \"ADMINISTRACAO PUBLICA, DEFESA E SEGURIDADE SOCIAL\", \"ADMINISTRACAO PUBLICA, DEFESA E SEGURIDADE SOCIAL\", \"ADMINISTRACAO PUBLICA, DEFESA E SEGURIDADE SOCIAL\", \"SERVICOS ADMINISTRATIVOS\", \"ADMINISTRACAO PUBLICA, DEFESA E SEGURIDADE SOCIAL\", \"ADMINISTRACAO PUBLICA, DEFESA E SEGURIDADE SOCIAL\", \"PRODUTOS DE AGROPECUARIA\", \"ADMINISTRACAO PUBLICA, DEFESA E SEGURIDADE SOCIAL\", \"ADMINISTRACAO PUBLICA, DEFESA E SEGURIDADE SOCIAL\", \"ADMINISTRACAO PUBLICA, DEFESA E SEGURIDADE SOCIAL\", \"ADMINISTRACAO PUBLICA, DEFESA E SEGURIDADE SOCIAL\", \"ADMINISTRACAO PUBLICA, DEFESA E SEGURIDADE SOCIAL\", \"ADMINISTRACAO PUBLICA, DEFESA E SEGURIDADE SOCIAL\", \"SERVICOS ADMINISTRATIVOS\", \"ADMINISTRACAO PUBLICA, DEFESA E SEGURIDADE SOCIAL\", \"ADMINISTRACAO PUBLICA, DEFESA E SEGURIDADE SOCIAL\", \"ADMINISTRACAO PUBLICA, DEFESA E SEGURIDADE SOCIAL\", \"ADMINISTRACAO PUBLICA, DEFESA E SEGURIDADE SOCIAL\", \"TRANSPORTE, ARMAZENAGEM E CORREIO\", \"TRANSPORTE, ARMAZENAGEM E CORREIO\", \"ADMINISTRACAO PUBLICA, DEFESA E SEGURIDADE SOCIAL\", \"ADMINISTRACAO PUBLICA, DEFESA E SEGURIDADE SOCIAL\", \"ADMINISTRACAO PUBLICA, DEFESA E SEGURIDADE SOCIAL\", \"ADMINISTRACAO PUBLICA, DEFESA E SEGURIDADE SOCIAL\", \"ADMINISTRACAO PUBLICA, DEFESA E SEGURIDADE SOCIAL\", \"ADMINISTRACAO PUBLICA, DEFESA E SEGURIDADE SOCIAL\", \"ADMINISTRACAO PUBLICA, DEFESA E SEGURIDADE SOCIAL\", \"ADMINISTRACAO PUBLICA, DEFESA E SEGURIDADE SOCIAL\", \"ADMINISTRACAO PUBLICA, DEFESA E SEGURIDADE SOCIAL\", \"TELECOM\", \"ADMINISTRACAO PUBLICA, DEFESA E SEGURIDADE SOCIAL\", \"ADMINISTRACAO PUBLICA, DEFESA E SEGURIDADE SOCIAL\", \"SEGUROS, PLANOS DE PREVIDENCIA E PLANOS DE SAUDE\", \"ADMINISTRACAO PUBLICA, DEFESA E SEGURIDADE SOCIAL\", \"ADMINISTRACAO PUBLICA, DEFESA E SEGURIDADE SOCIAL\", \"ADMINISTRACAO PUBLICA, DEFESA E SEGURIDADE SOCIAL\", \"ADMINISTRACAO PUBLICA, DEFESA E SEGURIDADE SOCIAL\", \"ADMINISTRACAO PUBLICA, DEFESA E SEGURIDADE SOCIAL\", \"ADMINISTRACAO PUBLICA, DEFESA E SEGURIDADE SOCIAL\", \"ADMINISTRACAO PUBLICA, DEFESA E SEGURIDADE SOCIAL\", \"SERVICOS DE SAUDE\", \"SERVICOS ADMINISTRATIVOS\", \"SERVICOS DE EDUCACAO\", \"SERVICOS ADMINISTRATIVOS\", \"SERVICOS DE EDUCACAO\", \"SERVICOS PROFISSIONAIS, TECNICOS E CIENTIFICOS\", \"SERVICOS PROFISSIONAIS, TECNICOS E CIENTIFICOS\", \"ADMINISTRACAO PUBLICA, DEFESA E SEGURIDADE SOCIAL\", \"SERVICOS DE EDUCACAO\", \"SERVICOS DE SAUDE\"]}, {\"label\": \"natureza_juridica_macro\", \"values\": [\"OUTROS\", \"OUTROS\", \"OUTROS\", \"OUTROS\", \"OUTROS\", \"OUTROS\", \"OUTROS\", \"OUTROS\", \"OUTROS\", \"OUTROS\", \"OUTROS\", \"OUTROS\", \"OUTROS\", \"OUTROS\", \"OUTROS\", \"OUTROS\", \"OUTROS\", \"OUTROS\", \"OUTROS\", \"OUTROS\", \"OUTROS\", \"OUTROS\", \"OUTROS\", \"OUTROS\", \"OUTROS\", \"OUTROS\", \"OUTROS\", \"OUTROS\", \"OUTROS\", \"OUTROS\", \"OUTROS\", \"OUTROS\", \"OUTROS\", \"OUTROS\", \"OUTROS\", \"OUTROS\", \"OUTROS\", \"OUTROS\", \"OUTROS\", \"OUTROS\", \"OUTROS\", \"OUTROS\", \"OUTROS\", \"OUTROS\", \"OUTROS\", \"OUTROS\", \"OUTROS\", \"OUTROS\", \"OUTROS\", \"OUTROS\", \"OUTROS\", \"OUTROS\", \"OUTROS\", \"OUTROS\", \"OUTROS\", \"OUTROS\", \"OUTROS\", \"OUTROS\", \"OUTROS\", \"OUTROS\", \"OUTROS\", \"OUTROS\", \"OUTROS\", \"OUTROS\", \"OUTROS\", \"OUTROS\", \"OUTROS\", \"OUTROS\", \"OUTROS\", \"OUTROS\", \"OUTROS\", \"OUTROS\", \"OUTROS\", \"OUTROS\", \"OUTROS\", \"OUTROS\", \"OUTROS\", \"OUTROS\", \"OUTROS\", \"OUTROS\", \"OUTROS\", \"OUTROS\", \"OUTROS\", \"OUTROS\", \"OUTROS\", \"OUTROS\", \"OUTROS\", \"OUTROS\", \"OUTROS\", \"OUTROS\", \"OUTROS\", \"OUTROS\", \"OUTROS\", \"OUTROS\", \"OUTROS\", \"OUTROS\", \"OUTROS\", \"OUTROS\", \"OUTROS\", \"OUTROS\", \"OUTROS\", \"OUTROS\", \"OUTROS\", \"OUTROS\", \"OUTROS\", \"OUTROS\", \"OUTROS\", \"OUTROS\", \"OUTROS\", \"OUTROS\", \"OUTROS\", \"OUTROS\", \"OUTROS\", \"OUTROS\", \"OUTROS\", \"OUTROS\", \"OUTROS\", \"OUTROS\", \"OUTROS\", \"OUTROS\", \"OUTROS\", \"OUTROS\", \"OUTROS\", \"OUTROS\", \"OUTROS\", \"OUTROS\", \"OUTROS\", \"OUTROS\", \"OUTROS\", \"OUTROS\", \"OUTROS\", \"OUTROS\", \"OUTROS\", \"OUTROS\", \"OUTROS\", \"OUTROS\", \"OUTROS\", \"OUTROS\", \"OUTROS\", \"OUTROS\", \"ADMINISTRACAO PUBLICA\", \"OUTROS\", \"OUTROS\", \"OUTROS\", \"OUTROS\", \"ADMINISTRACAO PUBLICA\", \"OUTROS\", \"OUTROS\", \"OUTROS\", \"OUTROS\", \"OUTROS\", \"OUTROS\", \"OUTROS\", \"OUTROS\", \"ADMINISTRACAO PUBLICA\", \"ADMINISTRACAO PUBLICA\", \"OUTROS\", \"OUTROS\", \"OUTROS\", \"OUTROS\", \"OUTROS\", \"OUTROS\", \"OUTROS\", \"OUTROS\", \"ADMINISTRACAO PUBLICA\", \"OUTROS\", \"OUTROS\", \"OUTROS\", \"OUTROS\", \"OUTROS\", \"ADMINISTRACAO PUBLICA\", \"ADMINISTRACAO PUBLICA\", \"OUTROS\", \"OUTROS\", \"OUTROS\", \"ADMINISTRACAO PUBLICA\", \"OUTROS\", \"OUTROS\", \"ADMINISTRACAO PUBLICA\", \"OUTROS\", \"ADMINISTRACAO PUBLICA\", \"OUTROS\", \"ADMINISTRACAO PUBLICA\", \"ADMINISTRACAO PUBLICA\", \"OUTROS\", \"OUTROS\", \"ADMINISTRACAO PUBLICA\", \"ADMINISTRACAO PUBLICA\", \"ADMINISTRACAO PUBLICA\", \"ADMINISTRACAO PUBLICA\", \"ADMINISTRACAO PUBLICA\", \"OUTROS\", \"ADMINISTRACAO PUBLICA\", \"OUTROS\", \"ADMINISTRACAO PUBLICA\", \"ADMINISTRACAO PUBLICA\", \"ADMINISTRACAO PUBLICA\", \"ADMINISTRACAO PUBLICA\", \"ADMINISTRACAO PUBLICA\", \"ENTIDADES EMPRESARIAIS\", \"ADMINISTRACAO PUBLICA\", \"ADMINISTRACAO PUBLICA\", \"ADMINISTRACAO PUBLICA\", \"ADMINISTRACAO PUBLICA\", \"ADMINISTRACAO PUBLICA\", \"ENTIDADES EMPRESARIAIS\", \"ADMINISTRACAO PUBLICA\", \"OUTROS\", \"ADMINISTRACAO PUBLICA\", \"ADMINISTRACAO PUBLICA\", \"ADMINISTRACAO PUBLICA\", \"ADMINISTRACAO PUBLICA\", \"ADMINISTRACAO PUBLICA\", \"OUTROS\", \"ADMINISTRACAO PUBLICA\", \"ADMINISTRACAO PUBLICA\", \"OUTROS\", \"OUTROS\", \"OUTROS\", \"ADMINISTRACAO PUBLICA\", \"ADMINISTRACAO PUBLICA\", \"ADMINISTRACAO PUBLICA\", \"ADMINISTRACAO PUBLICA\", \"ADMINISTRACAO PUBLICA\", \"ADMINISTRACAO PUBLICA\", \"ADMINISTRACAO PUBLICA\", \"ADMINISTRACAO PUBLICA\", \"OUTROS\", \"ADMINISTRACAO PUBLICA\", \"OUTROS\", \"ADMINISTRACAO PUBLICA\", \"ADMINISTRACAO PUBLICA\", \"ADMINISTRACAO PUBLICA\", \"ADMINISTRACAO PUBLICA\", \"ADMINISTRACAO PUBLICA\", \"ENTIDADES EMPRESARIAIS\", \"ADMINISTRACAO PUBLICA\", \"OUTROS\", \"ADMINISTRACAO PUBLICA\", \"ADMINISTRACAO PUBLICA\", \"ADMINISTRACAO PUBLICA\", \"ENTIDADES EMPRESARIAIS\", \"ADMINISTRACAO PUBLICA\", \"ADMINISTRACAO PUBLICA\", \"ADMINISTRACAO PUBLICA\", \"ADMINISTRACAO PUBLICA\", \"ADMINISTRACAO PUBLICA\", \"OUTROS\", \"ADMINISTRACAO PUBLICA\", \"OUTROS\", \"ENTIDADES SEM FINS LUCRATIVOS\", \"ENTIDADES EMPRESARIAIS\", \"ENTIDADES EMPRESARIAIS\", \"ADMINISTRACAO PUBLICA\", \"ADMINISTRACAO PUBLICA\", \"ENTIDADES EMPRESARIAIS\", \"ENTIDADES EMPRESARIAIS\", \"ADMINISTRACAO PUBLICA\", \"ADMINISTRACAO PUBLICA\", \"ENTIDADES EMPRESARIAIS\", \"ENTIDADES EMPRESARIAIS\", \"OUTROS\", \"ADMINISTRACAO PUBLICA\", \"ADMINISTRACAO PUBLICA\", \"ADMINISTRACAO PUBLICA\", \"ADMINISTRACAO PUBLICA\", \"OUTROS\", \"ENTIDADES SEM FINS LUCRATIVOS\", \"OUTROS\", \"ENTIDADES EMPRESARIAIS\", \"ADMINISTRACAO PUBLICA\", \"ADMINISTRACAO PUBLICA\", \"ADMINISTRACAO PUBLICA\", \"ENTIDADES EMPRESARIAIS\", \"ADMINISTRACAO PUBLICA\", \"ADMINISTRACAO PUBLICA\", \"ADMINISTRACAO PUBLICA\", \"ADMINISTRACAO PUBLICA\", \"ADMINISTRACAO PUBLICA\", \"ADMINISTRACAO PUBLICA\", \"ADMINISTRACAO PUBLICA\", \"ADMINISTRACAO PUBLICA\", \"ADMINISTRACAO PUBLICA\", \"ENTIDADES EMPRESARIAIS\", \"ADMINISTRACAO PUBLICA\", \"ADMINISTRACAO PUBLICA\", \"ENTIDADES EMPRESARIAIS\", \"ADMINISTRACAO PUBLICA\", \"OUTROS\", \"OUTROS\", \"ADMINISTRACAO PUBLICA\", \"ENTIDADES EMPRESARIAIS\", \"ADMINISTRACAO PUBLICA\", \"OUTROS\", \"OUTROS\", \"ADMINISTRACAO PUBLICA\", \"OUTROS\", \"ADMINISTRACAO PUBLICA\", \"ADMINISTRACAO PUBLICA\", \"ADMINISTRACAO PUBLICA\", \"ADMINISTRACAO PUBLICA\", \"ADMINISTRACAO PUBLICA\", \"ADMINISTRACAO PUBLICA\", \"ENTIDADES EMPRESARIAIS\", \"ENTIDADES EMPRESARIAIS\", \"ADMINISTRACAO PUBLICA\", \"ADMINISTRACAO PUBLICA\", \"ADMINISTRACAO PUBLICA\", \"ADMINISTRACAO PUBLICA\", \"ADMINISTRACAO PUBLICA\", \"ADMINISTRACAO PUBLICA\", \"ADMINISTRACAO PUBLICA\", \"ADMINISTRACAO PUBLICA\", \"ADMINISTRACAO PUBLICA\", \"ADMINISTRACAO PUBLICA\", \"ADMINISTRACAO PUBLICA\", \"ADMINISTRACAO PUBLICA\", \"OUTROS\", \"ADMINISTRACAO PUBLICA\", \"OUTROS\", \"ENTIDADES EMPRESARIAIS\", \"ADMINISTRACAO PUBLICA\", \"ADMINISTRACAO PUBLICA\", \"ADMINISTRACAO PUBLICA\", \"ADMINISTRACAO PUBLICA\", \"ADMINISTRACAO PUBLICA\", \"ADMINISTRACAO PUBLICA\", \"ADMINISTRACAO PUBLICA\", \"ENTIDADES EMPRESARIAIS\", \"ADMINISTRACAO PUBLICA\", \"OUTROS\", \"OUTROS\", \"ADMINISTRACAO PUBLICA\", \"OUTROS\", \"ADMINISTRACAO PUBLICA\", \"ADMINISTRACAO PUBLICA\", \"ADMINISTRACAO PUBLICA\", \"ADMINISTRACAO PUBLICA\", \"ADMINISTRACAO PUBLICA\", \"ADMINISTRACAO PUBLICA\", \"ADMINISTRACAO PUBLICA\", \"ADMINISTRACAO PUBLICA\", \"ADMINISTRACAO PUBLICA\", \"ENTIDADES EMPRESARIAIS\", \"ADMINISTRACAO PUBLICA\", \"ENTIDADES SEM FINS LUCRATIVOS\", \"ENTIDADES EMPRESARIAIS\", \"ADMINISTRACAO PUBLICA\", \"ENTIDADES EMPRESARIAIS\", \"ENTIDADES SEM FINS LUCRATIVOS\", \"ADMINISTRACAO PUBLICA\", \"ADMINISTRACAO PUBLICA\", \"ADMINISTRACAO PUBLICA\", \"ADMINISTRACAO PUBLICA\", \"ADMINISTRACAO PUBLICA\", \"ADMINISTRACAO PUBLICA\", \"ADMINISTRACAO PUBLICA\", \"ADMINISTRACAO PUBLICA\", \"ADMINISTRACAO PUBLICA\", \"ADMINISTRACAO PUBLICA\", \"ADMINISTRACAO PUBLICA\", \"ADMINISTRACAO PUBLICA\", \"ADMINISTRACAO PUBLICA\", \"ADMINISTRACAO PUBLICA\", \"OUTROS\", \"ENTIDADES EMPRESARIAIS\", \"ADMINISTRACAO PUBLICA\", \"ENTIDADES EMPRESARIAIS\", \"ADMINISTRACAO PUBLICA\", \"ADMINISTRACAO PUBLICA\", \"ENTIDADES EMPRESARIAIS\", \"ADMINISTRACAO PUBLICA\", \"ADMINISTRACAO PUBLICA\", \"ADMINISTRACAO PUBLICA\", \"ENTIDADES EMPRESARIAIS\", \"ADMINISTRACAO PUBLICA\", \"ADMINISTRACAO PUBLICA\", \"ADMINISTRACAO PUBLICA\", \"ADMINISTRACAO PUBLICA\", \"ADMINISTRACAO PUBLICA\", \"ADMINISTRACAO PUBLICA\", \"ENTIDADES EMPRESARIAIS\", \"ADMINISTRACAO PUBLICA\", \"ENTIDADES EMPRESARIAIS\", \"ENTIDADES EMPRESARIAIS\", \"ADMINISTRACAO PUBLICA\", \"ENTIDADES EMPRESARIAIS\", \"ADMINISTRACAO PUBLICA\", \"ENTIDADES EMPRESARIAIS\", \"ADMINISTRACAO PUBLICA\", \"ENTIDADES EMPRESARIAIS\", \"ENTIDADES EMPRESARIAIS\", \"ADMINISTRACAO PUBLICA\", \"ADMINISTRACAO PUBLICA\", \"ADMINISTRACAO PUBLICA\", \"ENTIDADES EMPRESARIAIS\", \"ADMINISTRACAO PUBLICA\", \"OUTROS\", \"OUTROS\", \"ADMINISTRACAO PUBLICA\", \"ADMINISTRACAO PUBLICA\", \"ENTIDADES EMPRESARIAIS\", \"ADMINISTRACAO PUBLICA\", \"OUTROS\", \"OUTROS\", \"OUTROS\", \"OUTROS\", \"OUTROS\", \"ADMINISTRACAO PUBLICA\", \"ADMINISTRACAO PUBLICA\", \"ADMINISTRACAO PUBLICA\", \"ADMINISTRACAO PUBLICA\", \"ADMINISTRACAO PUBLICA\", \"ADMINISTRACAO PUBLICA\", \"ADMINISTRACAO PUBLICA\", \"ADMINISTRACAO PUBLICA\", \"ENTIDADES EMPRESARIAIS\", \"ADMINISTRACAO PUBLICA\", \"ENTIDADES EMPRESARIAIS\", \"ADMINISTRACAO PUBLICA\", \"ADMINISTRACAO PUBLICA\", \"ENTIDADES EMPRESARIAIS\", \"ENTIDADES EMPRESARIAIS\", \"ADMINISTRACAO PUBLICA\", \"ADMINISTRACAO PUBLICA\", \"ADMINISTRACAO PUBLICA\", \"ADMINISTRACAO PUBLICA\", \"ADMINISTRACAO PUBLICA\", \"ENTIDADES EMPRESARIAIS\", \"ENTIDADES EMPRESARIAIS\", \"ENTIDADES EMPRESARIAIS\", \"ADMINISTRACAO PUBLICA\", \"ADMINISTRACAO PUBLICA\", \"ADMINISTRACAO PUBLICA\", \"ADMINISTRACAO PUBLICA\", \"ADMINISTRACAO PUBLICA\", \"ENTIDADES EMPRESARIAIS\", \"ENTIDADES EMPRESARIAIS\", \"OUTROS\", \"OUTROS\", \"OUTROS\", \"ADMINISTRACAO PUBLICA\", \"ADMINISTRACAO PUBLICA\", \"ENTIDADES EMPRESARIAIS\", \"ENTIDADES SEM FINS LUCRATIVOS\", \"OUTROS\", \"ADMINISTRACAO PUBLICA\", \"PESSOAS FISICAS\", \"ADMINISTRACAO PUBLICA\", \"ENTIDADES EMPRESARIAIS\", \"ADMINISTRACAO PUBLICA\", \"ENTIDADES EMPRESARIAIS\", \"OUTROS\", \"OUTROS\", \"OUTROS\", \"ADMINISTRACAO PUBLICA\", \"ENTIDADES EMPRESARIAIS\", \"ENTIDADES EMPRESARIAIS\", \"ENTIDADES EMPRESARIAIS\", \"OUTROS\", \"ADMINISTRACAO PUBLICA\", \"ENTIDADES EMPRESARIAIS\", \"ENTIDADES SEM FINS LUCRATIVOS\", \"ADMINISTRACAO PUBLICA\", \"ADMINISTRACAO PUBLICA\", \"ENTIDADES EMPRESARIAIS\", \"ENTIDADES EMPRESARIAIS\", \"ADMINISTRACAO PUBLICA\", \"ENTIDADES EMPRESARIAIS\", \"ENTIDADES EMPRESARIAIS\", \"ADMINISTRACAO PUBLICA\", \"ADMINISTRACAO PUBLICA\", \"ADMINISTRACAO PUBLICA\", \"ADMINISTRACAO PUBLICA\", \"ADMINISTRACAO PUBLICA\", \"ADMINISTRACAO PUBLICA\", \"ADMINISTRACAO PUBLICA\", \"ENTIDADES EMPRESARIAIS\", \"ENTIDADES EMPRESARIAIS\", \"ADMINISTRACAO PUBLICA\", \"ADMINISTRACAO PUBLICA\", \"ADMINISTRACAO PUBLICA\", \"ADMINISTRACAO PUBLICA\", \"OUTROS\", \"ADMINISTRACAO PUBLICA\", \"ADMINISTRACAO PUBLICA\", \"ADMINISTRACAO PUBLICA\", \"ADMINISTRACAO PUBLICA\", \"ADMINISTRACAO PUBLICA\", \"ADMINISTRACAO PUBLICA\", \"ADMINISTRACAO PUBLICA\", \"ADMINISTRACAO PUBLICA\", \"ADMINISTRACAO PUBLICA\", \"ENTIDADES EMPRESARIAIS\", \"ADMINISTRACAO PUBLICA\", \"ADMINISTRACAO PUBLICA\", \"ADMINISTRACAO PUBLICA\", \"ADMINISTRACAO PUBLICA\", \"ENTIDADES EMPRESARIAIS\", \"ENTIDADES EMPRESARIAIS\", \"ADMINISTRACAO PUBLICA\", \"ADMINISTRACAO PUBLICA\", \"ADMINISTRACAO PUBLICA\", \"ADMINISTRACAO PUBLICA\", \"OUTROS\", \"ADMINISTRACAO PUBLICA\", \"OUTROS\", \"OUTROS\", \"OUTROS\", \"ENTIDADES EMPRESARIAIS\", \"OUTROS\", \"ADMINISTRACAO PUBLICA\", \"ENTIDADES EMPRESARIAIS\", \"OUTROS\", \"ADMINISTRACAO PUBLICA\", \"ADMINISTRACAO PUBLICA\", \"OUTROS\", \"OUTROS\", \"ADMINISTRACAO PUBLICA\", \"OUTROS\", \"ENTIDADES EMPRESARIAIS\", \"ENTIDADES EMPRESARIAIS\", \"ENTIDADES EMPRESARIAIS\", \"ENTIDADES EMPRESARIAIS\", \"ADMINISTRACAO PUBLICA\", \"ENTIDADES EMPRESARIAIS\", \"ENTIDADES EMPRESARIAIS\", \"OUTROS\", \"ENTIDADES EMPRESARIAIS\", \"ENTIDADES EMPRESARIAIS\"]}], \"domain\": {\"x\": [0.0, 1.0], \"y\": [0.0, 1.0]}, \"line\": {\"color\": [25.926027397260274, 48.342465753424655, 21.871232876712327, 21.83287671232877, 44.049315068493144, 25.93972602739726, 21.835616438356166, 43.87397260273973, 44.71506849315068, 48.85753424657535, 38.44931506849315, 43.832876712328776, 43.865753424657534, 43.865753424657534, 21.835616438356166, 21.835616438356166, 21.83287671232877, 41.69041095890411, 43.865753424657534, 43.86849315068493, 43.750684931506854, 43.85753424657535, 43.832876712328776, 43.87671232876714, 35.62191780821918, 43.865753424657534, 39.750684931506854, 21.835616438356166, 43.53972602739726, 43.85753424657535, 43.87671232876714, 21.66575342465753, 43.87671232876714, 31.019178082191786, 43.87671232876714, 26.49041095890411, 43.854794520547955, 26.723287671232878, 43.835616438356155, 30.271232876712325, 21.835616438356166, 43.865753424657534, 43.85753424657535, 43.87671232876714, 31.824657534246573, 21.83287671232877, 36.983561643835614, 43.854794520547955, 25.884931506849323, 21.835616438356166, 21.81643835616439, 21.81643835616439, 43.65753424657535, 21.835616438356166, 21.835616438356166, 21.83287671232877, 48.85753424657535, 27.263013698630136, 21.81643835616439, 21.835616438356166, 21.835616438356166, 44.51780821917808, 23.31232876712329, 35.273972602739725, 43.854794520547955, 43.865753424657534, 21.81643835616439, 43.610958904109594, 43.78082191780822, 21.835616438356166, 30.827397260273965, 41.83835616438356, 43.854794520547955, 21.893150684931502, 44.70958904109589, 43.778082191780825, 43.83013698630136, 43.865753424657534, 21.835616438356166, 41.435616438356156, 27.358904109589037, 31.150684931506852, 43.86849315068493, 34.81369863013698, 21.835616438356166, 43.854794520547955, 43.87671232876714, 38.405479452054784, 26.495890410958904, 22.85205479452055, 21.835616438356166, 21.835616438356166, 43.86849315068493, 44.49863013698629, 39.673972602739724, 35.684931506849324, 43.865753424657534, 29.83287671232877, 43.865753424657534, 43.854794520547955, 43.87671232876714, 43.832876712328776, 43.56712328767122, 43.865753424657534, 43.854794520547955, 43.865753424657534, 21.835616438356166, 21.835616438356166, 23.950684931506853, 30.317808219178087, 43.854794520547955, 30.487671232876714, 39.684931506849324, 43.865753424657534, 35.68767123287671, 25.290410958904108, 43.84931506849315, 43.789041095890404, 43.854794520547955, 30.449315068493146, 21.81643835616439, 21.835616438356166, 23.912328767123288, 43.854794520547955, 21.81643835616439, 21.835616438356166, 37.369863013698634, 43.87671232876714, 43.854794520547955, 43.865753424657534, 21.835616438356166, 47.186301369863024, 41.389041095890406, 43.320547945205476, 21.835616438356166, 43.865753424657534, 21.835616438356166, 39.671232876712324, 21.835616438356166, 21.835616438356166, 43.8, 43.854794520547955, 42.854794520547955, 21.835616438356166, 41.85205479452055, 39.52328767123288, 43.854794520547955, 21.835616438356166, 47.44383561643836, 43.854794520547955, 40.52876712328767, 43.14794520547945, 44.67123287671233, 21.835616438356166, 43.893150684931506, 43.63561643835617, 43.87671232876714, 43.865753424657534, 26.728767123287675, 21.835616438356166, 43.85753424657535, 43.865753424657534, 21.835616438356166, 21.835616438356166, 40.347945205479455, 21.835616438356166, 43.865753424657534, 44.213698630136996, 43.865753424657534, 21.835616438356166, 31.693150684931503, 4.923287671232877, 39.654794520547945, 21.835616438356166, 43.87671232876714, 38.97534246575343, 43.865753424657534, 43.854794520547955, 15.75068493150685, 21.835616438356166, 15.775342465753427, 25.884931506849323, 11.167123287671233, 16.528767123287672, 33.010958904109586, 43.865753424657534, 43.854794520547955, 52.44383561643836, 15.854794520547946, 23.08493150684932, 17.638356164383566, 21.835616438356166, 43.854794520547955, 43.854794520547955, 43.88767123287671, 43.88767123287671, 47.91506849315069, 52.44931506849315, 17.638356164383566, 25.441095890410963, 11.553424657534249, 11.553424657534249, 11.167123287671233, 11.668493150684931, 9.852054794520548, 16.884931506849316, 5.2465753424657535, 15.446575342465751, 24.78356164383561, 43.854794520547955, 14.490410958904107, 42.52328767123288, 21.701369863013703, 43.85753424657535, 21.50958904109589, 42.04657534246575, 44.08219178082192, 47.38082191780822, 35.016438356164386, 17.235616438356164, 21.372602739726027, 34.97808219178082, 45.728767123287675, 43.854794520547955, 15.065753424657535, 17.03835616438356, 27.221917808219175, 27.536986301369858, 15.76986301369863, 44.375342465753434, 37.85753424657535, 23.367123287671234, 36.81643835616438, 43.8, 11.167123287671233, 34.14794520547945, 12.797260273972602, 27.854794520547944, 19.575342465753426, 7.660273972602741, 11.243835616438355, 9.575342465753424, 35.10410958904109, 43.854794520547955, 7.835616438356165, 15.832876712328767, 47.26301369863014, 35.698630136986296, 36.73150684931507, 23.298630136986297, 10.402739726027397, 24.11232876712329, 21.58630136986301, 43.75342465753425, 10.904109589041095, 18.676712328767124, 12.904109589041095, 11.841095890410957, 13.835616438356164, 16.61917808219178, 23.145205479452056, 21.835616438356166, 38.46575342465753, 20.90958904109589, 11.841095890410957, 39.824657534246576, 26.98904109589041, 18.51780821917808, 43.854794520547955, 16.923287671232874, 17.473972602739725, 7.876712328767122, 25.726027397260275, 10.076712328767123, 21.594520547945205, 38.18082191780822, 48.68493150684932, 24.61917808219178, 35.876712328767134, 23.31232876712329, 38.610958904109594, 40.37808219178082, 9.830136986301367, 26.02465753424657, 8.665753424657536, 8.331506849315069, 7.945205479452055, 44.90684931506849, 43.87671232876714, 21.835616438356166, 22.98904109589041, 6.978082191780822, 25.898630136986302, 21.117808219178084, 19.594520547945205, 28.778082191780825, 21.663013698630138, 26.605479452054798, 22.76986301369863, 22.254794520547943, 39.6, 17.438356164383563, 23.298630136986297, 6.556164383561644, 6.397260273972603, 21.61917808219178, 19.83561643835617, 19.38082191780822, 23.23835616438356, 17.153424657534245, 17.843835616438355, 31.52054794520548, 9.865753424657534, 5.663013698630137, 39.61643835616439, 29.416438356164388, 20.383561643835613, 20.104109589041094, 42.26575342465753, 21.01095890410959, 32.632876712328766, 37.52876712328767, 6.545205479452054, 28.50958904109589, 23.063013698630137, 25.90410958904109, 25.93972602739726, 22.531506849315072, 20.158904109589038, 43.8, 43.854794520547955, 43.854794520547955, 25.824657534246573, 25.35068493150685, 16.465753424657535, 10.53972602739726, 3.821917808219178, 5.397260273972603, 10.832876712328767, 11.178082191780822, 13.438356164383562, 14.906849315068493, 11.263013698630138, 15.583561643835615, 10.832876712328767, 18.572602739726022, 5.5397260273972595, 26.454794520547942, 14.876712328767125, 18.638356164383566, 19.317808219178087, 11.81917808219178, 3.150684931506849, 6.994520547945205, 20.32054794520548, 21.353424657534248, 21.624657534246573, 7.832876712328768, 8.580821917808219, 6.5178082191780815, 25.723287671232878, 3.364383561643836, 16.315068493150687, 15.73972602739726, 43.41095890410959, 13.33972602739726, 26.93972602739726, 31.101369863013698, 46.942465753424656, 43.405479452054784, 36.339726027397255, 33.553424657534244, 20.70684931506849, 42.91232876712328, 34.43013698630137, 43.88767123287671, 40.57808219178082, 22.65753424657534, 24.34794520547945, 30.16164383561644, 24.65205479452055, 21.641095890410963, 27.4, 21.745205479452054, 28.189041095890413, 8.260273972602741, 6.473972602739726, 10.53972602739726, 43.26301369863014, 27.756164383561643, 23.605479452054798, 18.369863013698627, 27.441095890410963, 27.441095890410963, 16.465753424657535, 25.463013698630142, 42.90684931506849, 27.594520547945205, 25.884931506849323, 13.934246575342465, 35.79178082191781, 24.14246575342466, 8.008219178082191, 5.663013698630137, 5.663013698630137, 14.723287671232875, 14.665753424657536, 14.742465753424653, 27.542465753424654, 11.553424657534249, 2.8356164383561633, 11.243835616438355, 4.0410958904109595, 13.301369863013699, 14.780821917808215, 9.852054794520548, 19.24109589041096, 15.895890410958906, 16.202739726027392, 23.336986301369862, 21.83287671232877, 5.93972602739726, 17.246575342465757, 11.347945205479453, 13.421917808219176, 3.5178082191780824, 3.2849315068493152, 10.53972602739726, 37.80821917808219, 33.61369863013699, 15.753424657534245, 22.97260273972603, 27.34246575342466, 43.64657534246575, 36.73150684931507, 25.232876712328768, 22.049315068493147, 24.824657534246573, 43.23835616438356, 43.23835616438356, 43.23835616438356, 21.83287671232877, 18.101369863013694, 19.97808219178082, 25.531506849315072, 32.364383561643834, 29.67945205479452, 25.378082191780823, 22.964383561643835, 7.375342465753425, 8.665753424657536, 31.082191780821923, 43.405479452054784, 43.405479452054784, 43.405479452054784, 26.5013698630137, 40.12876712328767, 20.613698630136987, 19.28767123287671, 43.865753424657534, 8.194520547945206, 27.953424657534253, 19.91506849315068, 21.83287671232877, 28.372602739726034, 16.621917808219177, 10.545205479452054, 14.545205479452054, 14.871232876712327, 16.520547945205482, 49.10958904109589, 10.347945205479453, 34.97808219178082, 7.0630136986301375, 5.835616438356165, 8.6, 7.83013698630137, 27.076712328767123, 7.432876712328768, 17.745205479452054, 24.463013698630142, 21.83287671232877, 10.53972602739726, 3.0575342465753423, 25.824657534246573, 21.21095890410959, 16.528767123287672, 12.632876712328768, 47.16986301369864, 3.364383561643836, 19.843835616438355, 10.035616438356163, 17.008219178082193, 14.791780821917806, 10.498630136986304, 10.027397260273974, 10.53972602739726, 10.53972602739726, 24.942465753424653, 26.18630136986301, 31.04383561643836, 29.871232876712327, 26.936986301369863, 27.364383561643837, 2.824657534246575, 23.728767123287675, 43.50136986301371, 43.50136986301371, 27.78082191780822, 38.74794520547945, 27.778082191780825, 43.865753424657534, 23.86575342465753, 43.854794520547955, 23.290410958904108, 20.90958904109589, 43.87671232876714, 43.87671232876714, 25.60821917808219, 36.23835616438356, 34.28767123287671, 16.863013698630134, 25.589041095890412, 10.093150684931508, 15.273972602739725, 27.54520547945205, 30.295890410958904, 21.81643835616439, 14.758904109589038, 26.682191780821924], \"coloraxis\": \"coloraxis\"}, \"name\": \"\", \"type\": \"parcats\"}],\n",
              "                        {\"coloraxis\": {\"colorbar\": {\"title\": {\"text\": \"idade_empresa_anos\"}}, \"colorscale\": [[0.0, \"#000004\"], [0.1111111111111111, \"#1b0c41\"], [0.2222222222222222, \"#4a0c6b\"], [0.3333333333333333, \"#781c6d\"], [0.4444444444444444, \"#a52c60\"], [0.5555555555555556, \"#cf4446\"], [0.6666666666666666, \"#ed6925\"], [0.7777777777777778, \"#fb9b06\"], [0.8888888888888888, \"#f7d13d\"], [1.0, \"#fcffa4\"]]}, \"height\": 500, \"legend\": {\"tracegroupgap\": 0}, \"margin\": {\"t\": 60}, \"template\": {\"data\": {\"bar\": [{\"error_x\": {\"color\": \"#2a3f5f\"}, \"error_y\": {\"color\": \"#2a3f5f\"}, \"marker\": {\"line\": {\"color\": \"#E5ECF6\", \"width\": 0.5}}, \"type\": \"bar\"}], \"barpolar\": [{\"marker\": {\"line\": {\"color\": \"#E5ECF6\", \"width\": 0.5}}, \"type\": \"barpolar\"}], \"carpet\": [{\"aaxis\": {\"endlinecolor\": \"#2a3f5f\", \"gridcolor\": \"white\", \"linecolor\": \"white\", \"minorgridcolor\": \"white\", \"startlinecolor\": \"#2a3f5f\"}, \"baxis\": {\"endlinecolor\": \"#2a3f5f\", \"gridcolor\": \"white\", \"linecolor\": \"white\", \"minorgridcolor\": \"white\", \"startlinecolor\": \"#2a3f5f\"}, \"type\": \"carpet\"}], \"choropleth\": [{\"colorbar\": {\"outlinewidth\": 0, \"ticks\": \"\"}, \"type\": \"choropleth\"}], \"contour\": [{\"colorbar\": {\"outlinewidth\": 0, \"ticks\": \"\"}, \"colorscale\": [[0.0, \"#0d0887\"], [0.1111111111111111, \"#46039f\"], [0.2222222222222222, \"#7201a8\"], [0.3333333333333333, \"#9c179e\"], [0.4444444444444444, \"#bd3786\"], [0.5555555555555556, \"#d8576b\"], [0.6666666666666666, \"#ed7953\"], [0.7777777777777778, \"#fb9f3a\"], [0.8888888888888888, \"#fdca26\"], [1.0, \"#f0f921\"]], \"type\": \"contour\"}], \"contourcarpet\": [{\"colorbar\": {\"outlinewidth\": 0, \"ticks\": \"\"}, \"type\": \"contourcarpet\"}], \"heatmap\": [{\"colorbar\": {\"outlinewidth\": 0, \"ticks\": \"\"}, \"colorscale\": [[0.0, \"#0d0887\"], [0.1111111111111111, \"#46039f\"], [0.2222222222222222, \"#7201a8\"], [0.3333333333333333, \"#9c179e\"], [0.4444444444444444, \"#bd3786\"], [0.5555555555555556, \"#d8576b\"], [0.6666666666666666, \"#ed7953\"], [0.7777777777777778, \"#fb9f3a\"], [0.8888888888888888, \"#fdca26\"], [1.0, \"#f0f921\"]], \"type\": \"heatmap\"}], \"heatmapgl\": [{\"colorbar\": {\"outlinewidth\": 0, \"ticks\": \"\"}, \"colorscale\": [[0.0, \"#0d0887\"], [0.1111111111111111, \"#46039f\"], [0.2222222222222222, \"#7201a8\"], [0.3333333333333333, \"#9c179e\"], [0.4444444444444444, \"#bd3786\"], [0.5555555555555556, \"#d8576b\"], [0.6666666666666666, \"#ed7953\"], [0.7777777777777778, \"#fb9f3a\"], [0.8888888888888888, \"#fdca26\"], [1.0, \"#f0f921\"]], \"type\": \"heatmapgl\"}], \"histogram\": [{\"marker\": {\"colorbar\": {\"outlinewidth\": 0, \"ticks\": \"\"}}, \"type\": \"histogram\"}], \"histogram2d\": [{\"colorbar\": {\"outlinewidth\": 0, \"ticks\": \"\"}, \"colorscale\": [[0.0, \"#0d0887\"], [0.1111111111111111, \"#46039f\"], [0.2222222222222222, \"#7201a8\"], [0.3333333333333333, \"#9c179e\"], [0.4444444444444444, \"#bd3786\"], [0.5555555555555556, \"#d8576b\"], [0.6666666666666666, \"#ed7953\"], [0.7777777777777778, \"#fb9f3a\"], [0.8888888888888888, \"#fdca26\"], [1.0, \"#f0f921\"]], \"type\": \"histogram2d\"}], \"histogram2dcontour\": [{\"colorbar\": {\"outlinewidth\": 0, \"ticks\": \"\"}, \"colorscale\": [[0.0, \"#0d0887\"], [0.1111111111111111, \"#46039f\"], [0.2222222222222222, \"#7201a8\"], [0.3333333333333333, \"#9c179e\"], [0.4444444444444444, \"#bd3786\"], [0.5555555555555556, \"#d8576b\"], [0.6666666666666666, \"#ed7953\"], [0.7777777777777778, \"#fb9f3a\"], [0.8888888888888888, \"#fdca26\"], [1.0, \"#f0f921\"]], \"type\": \"histogram2dcontour\"}], \"mesh3d\": [{\"colorbar\": {\"outlinewidth\": 0, \"ticks\": \"\"}, \"type\": \"mesh3d\"}], \"parcoords\": [{\"line\": {\"colorbar\": {\"outlinewidth\": 0, \"ticks\": \"\"}}, \"type\": \"parcoords\"}], \"pie\": [{\"automargin\": true, \"type\": \"pie\"}], \"scatter\": [{\"marker\": {\"colorbar\": {\"outlinewidth\": 0, \"ticks\": \"\"}}, \"type\": \"scatter\"}], \"scatter3d\": [{\"line\": {\"colorbar\": {\"outlinewidth\": 0, \"ticks\": \"\"}}, \"marker\": {\"colorbar\": {\"outlinewidth\": 0, \"ticks\": \"\"}}, \"type\": \"scatter3d\"}], \"scattercarpet\": [{\"marker\": {\"colorbar\": {\"outlinewidth\": 0, \"ticks\": \"\"}}, \"type\": \"scattercarpet\"}], \"scattergeo\": [{\"marker\": {\"colorbar\": {\"outlinewidth\": 0, \"ticks\": \"\"}}, \"type\": \"scattergeo\"}], \"scattergl\": [{\"marker\": {\"colorbar\": {\"outlinewidth\": 0, \"ticks\": \"\"}}, \"type\": \"scattergl\"}], \"scattermapbox\": [{\"marker\": {\"colorbar\": {\"outlinewidth\": 0, \"ticks\": \"\"}}, \"type\": \"scattermapbox\"}], \"scatterpolar\": [{\"marker\": {\"colorbar\": {\"outlinewidth\": 0, \"ticks\": \"\"}}, \"type\": \"scatterpolar\"}], \"scatterpolargl\": [{\"marker\": {\"colorbar\": {\"outlinewidth\": 0, \"ticks\": \"\"}}, \"type\": \"scatterpolargl\"}], \"scatterternary\": [{\"marker\": {\"colorbar\": {\"outlinewidth\": 0, \"ticks\": \"\"}}, \"type\": \"scatterternary\"}], \"surface\": [{\"colorbar\": {\"outlinewidth\": 0, \"ticks\": \"\"}, \"colorscale\": [[0.0, \"#0d0887\"], [0.1111111111111111, \"#46039f\"], [0.2222222222222222, \"#7201a8\"], [0.3333333333333333, \"#9c179e\"], [0.4444444444444444, \"#bd3786\"], [0.5555555555555556, \"#d8576b\"], [0.6666666666666666, \"#ed7953\"], [0.7777777777777778, \"#fb9f3a\"], [0.8888888888888888, \"#fdca26\"], [1.0, \"#f0f921\"]], \"type\": \"surface\"}], \"table\": [{\"cells\": {\"fill\": {\"color\": \"#EBF0F8\"}, \"line\": {\"color\": \"white\"}}, \"header\": {\"fill\": {\"color\": \"#C8D4E3\"}, \"line\": {\"color\": \"white\"}}, \"type\": \"table\"}]}, \"layout\": {\"annotationdefaults\": {\"arrowcolor\": \"#2a3f5f\", \"arrowhead\": 0, \"arrowwidth\": 1}, \"coloraxis\": {\"colorbar\": {\"outlinewidth\": 0, \"ticks\": \"\"}}, \"colorscale\": {\"diverging\": [[0, \"#8e0152\"], [0.1, \"#c51b7d\"], [0.2, \"#de77ae\"], [0.3, \"#f1b6da\"], [0.4, \"#fde0ef\"], [0.5, \"#f7f7f7\"], [0.6, \"#e6f5d0\"], [0.7, \"#b8e186\"], [0.8, \"#7fbc41\"], [0.9, \"#4d9221\"], [1, \"#276419\"]], \"sequential\": [[0.0, \"#0d0887\"], [0.1111111111111111, \"#46039f\"], [0.2222222222222222, \"#7201a8\"], [0.3333333333333333, \"#9c179e\"], [0.4444444444444444, \"#bd3786\"], [0.5555555555555556, \"#d8576b\"], [0.6666666666666666, \"#ed7953\"], [0.7777777777777778, \"#fb9f3a\"], [0.8888888888888888, \"#fdca26\"], [1.0, \"#f0f921\"]], \"sequentialminus\": [[0.0, \"#0d0887\"], [0.1111111111111111, \"#46039f\"], [0.2222222222222222, \"#7201a8\"], [0.3333333333333333, \"#9c179e\"], [0.4444444444444444, \"#bd3786\"], [0.5555555555555556, \"#d8576b\"], [0.6666666666666666, \"#ed7953\"], [0.7777777777777778, \"#fb9f3a\"], [0.8888888888888888, \"#fdca26\"], [1.0, \"#f0f921\"]]}, \"colorway\": [\"#636efa\", \"#EF553B\", \"#00cc96\", \"#ab63fa\", \"#FFA15A\", \"#19d3f3\", \"#FF6692\", \"#B6E880\", \"#FF97FF\", \"#FECB52\"], \"font\": {\"color\": \"#2a3f5f\"}, \"geo\": {\"bgcolor\": \"white\", \"lakecolor\": \"white\", \"landcolor\": \"#E5ECF6\", \"showlakes\": true, \"showland\": true, \"subunitcolor\": \"white\"}, \"hoverlabel\": {\"align\": \"left\"}, \"hovermode\": \"closest\", \"mapbox\": {\"style\": \"light\"}, \"paper_bgcolor\": \"white\", \"plot_bgcolor\": \"#E5ECF6\", \"polar\": {\"angularaxis\": {\"gridcolor\": \"white\", \"linecolor\": \"white\", \"ticks\": \"\"}, \"bgcolor\": \"#E5ECF6\", \"radialaxis\": {\"gridcolor\": \"white\", \"linecolor\": \"white\", \"ticks\": \"\"}}, \"scene\": {\"xaxis\": {\"backgroundcolor\": \"#E5ECF6\", \"gridcolor\": \"white\", \"gridwidth\": 2, \"linecolor\": \"white\", \"showbackground\": true, \"ticks\": \"\", \"zerolinecolor\": \"white\"}, \"yaxis\": {\"backgroundcolor\": \"#E5ECF6\", \"gridcolor\": \"white\", \"gridwidth\": 2, \"linecolor\": \"white\", \"showbackground\": true, \"ticks\": \"\", \"zerolinecolor\": \"white\"}, \"zaxis\": {\"backgroundcolor\": \"#E5ECF6\", \"gridcolor\": \"white\", \"gridwidth\": 2, \"linecolor\": \"white\", \"showbackground\": true, \"ticks\": \"\", \"zerolinecolor\": \"white\"}}, \"shapedefaults\": {\"line\": {\"color\": \"#2a3f5f\"}}, \"ternary\": {\"aaxis\": {\"gridcolor\": \"white\", \"linecolor\": \"white\", \"ticks\": \"\"}, \"baxis\": {\"gridcolor\": \"white\", \"linecolor\": \"white\", \"ticks\": \"\"}, \"bgcolor\": \"#E5ECF6\", \"caxis\": {\"gridcolor\": \"white\", \"linecolor\": \"white\", \"ticks\": \"\"}}, \"title\": {\"x\": 0.05}, \"xaxis\": {\"automargin\": true, \"gridcolor\": \"white\", \"linecolor\": \"white\", \"ticks\": \"\", \"title\": {\"standoff\": 15}, \"zerolinecolor\": \"white\", \"zerolinewidth\": 2}, \"yaxis\": {\"automargin\": true, \"gridcolor\": \"white\", \"linecolor\": \"white\", \"ticks\": \"\", \"title\": {\"standoff\": 15}, \"zerolinecolor\": \"white\", \"zerolinewidth\": 2}}}, \"width\": 1000},\n",
              "                        {\"responsive\": true}\n",
              "                    ).then(function(){\n",
              "                            \n",
              "var gd = document.getElementById('945bbc13-0afb-4df3-957c-da63a1494915');\n",
              "var x = new MutationObserver(function (mutations, observer) {{\n",
              "        var display = window.getComputedStyle(gd).display;\n",
              "        if (!display || display === 'none') {{\n",
              "            console.log([gd, 'removed!']);\n",
              "            Plotly.purge(gd);\n",
              "            observer.disconnect();\n",
              "        }}\n",
              "}});\n",
              "\n",
              "// Listen for the removal of the full notebook cells\n",
              "var notebookContainer = gd.closest('#notebook-container');\n",
              "if (notebookContainer) {{\n",
              "    x.observe(notebookContainer, {childList: true});\n",
              "}}\n",
              "\n",
              "// Listen for the clearing of the current output cell\n",
              "var outputEl = gd.closest('.output');\n",
              "if (outputEl) {{\n",
              "    x.observe(outputEl, {childList: true});\n",
              "}}\n",
              "\n",
              "                        })\n",
              "                };\n",
              "                \n",
              "            </script>\n",
              "        </div>\n",
              "</body>\n",
              "</html>"
            ]
          },
          "metadata": {
            "tags": []
          }
        }
      ]
    },
    {
      "cell_type": "code",
      "metadata": {
        "id": "arXjYSaeqKRm",
        "colab_type": "code",
        "colab": {
          "base_uri": "https://localhost:8080/",
          "height": 419
        },
        "outputId": "5d902620-4cf3-4227-a2ca-37344d8fd97a"
      },
      "source": [
        "portfolio_leads_"
      ],
      "execution_count": 38,
      "outputs": [
        {
          "output_type": "execute_result",
          "data": {
            "text/html": [
              "<div>\n",
              "<style scoped>\n",
              "    .dataframe tbody tr th:only-of-type {\n",
              "        vertical-align: middle;\n",
              "    }\n",
              "\n",
              "    .dataframe tbody tr th {\n",
              "        vertical-align: top;\n",
              "    }\n",
              "\n",
              "    .dataframe thead th {\n",
              "        text-align: right;\n",
              "    }\n",
              "</style>\n",
              "<table border=\"1\" class=\"dataframe\">\n",
              "  <thead>\n",
              "    <tr style=\"text-align: right;\">\n",
              "      <th></th>\n",
              "      <th>id</th>\n",
              "    </tr>\n",
              "  </thead>\n",
              "  <tbody>\n",
              "    <tr>\n",
              "      <th>0</th>\n",
              "      <td>545338bfcb8b249a9a949df9e5ff87febe7eabe5018317...</td>\n",
              "    </tr>\n",
              "    <tr>\n",
              "      <th>1</th>\n",
              "      <td>8ecbdec73b7b8c4d89eb8e9eb7caf21d16851294d4daca...</td>\n",
              "    </tr>\n",
              "    <tr>\n",
              "      <th>2</th>\n",
              "      <td>3eeab91fce96724fa85bb6f5125325f87e8d29af2cde65...</td>\n",
              "    </tr>\n",
              "    <tr>\n",
              "      <th>3</th>\n",
              "      <td>e54e3b10d13af88b1796ba477aaa355856798fa5b96bd2...</td>\n",
              "    </tr>\n",
              "    <tr>\n",
              "      <th>4</th>\n",
              "      <td>ad2d9879a8b2ef5328ec3bc710c95828b4c43fb64ec9ae...</td>\n",
              "    </tr>\n",
              "    <tr>\n",
              "      <th>...</th>\n",
              "      <td>...</td>\n",
              "    </tr>\n",
              "    <tr>\n",
              "      <th>2645</th>\n",
              "      <td>49338f7e64fc96aaf54b240b0830839c09e6cb7bc7b34d...</td>\n",
              "    </tr>\n",
              "    <tr>\n",
              "      <th>2646</th>\n",
              "      <td>2dc2cddb1c520997189e1c786e0ac9cc0ae60de1a1a60f...</td>\n",
              "    </tr>\n",
              "    <tr>\n",
              "      <th>2647</th>\n",
              "      <td>4c88b828740c3a82306d10db67ffa660fa399f1d6bc7fa...</td>\n",
              "    </tr>\n",
              "    <tr>\n",
              "      <th>2648</th>\n",
              "      <td>64066bc083dd66c75c98234d4254d40140e7e5d98350f4...</td>\n",
              "    </tr>\n",
              "    <tr>\n",
              "      <th>2649</th>\n",
              "      <td>5321d7a4618de003c45a72b7c1dc6505162b09ee465c13...</td>\n",
              "    </tr>\n",
              "  </tbody>\n",
              "</table>\n",
              "<p>2650 rows × 1 columns</p>\n",
              "</div>"
            ],
            "text/plain": [
              "                                                     id\n",
              "0     545338bfcb8b249a9a949df9e5ff87febe7eabe5018317...\n",
              "1     8ecbdec73b7b8c4d89eb8e9eb7caf21d16851294d4daca...\n",
              "2     3eeab91fce96724fa85bb6f5125325f87e8d29af2cde65...\n",
              "3     e54e3b10d13af88b1796ba477aaa355856798fa5b96bd2...\n",
              "4     ad2d9879a8b2ef5328ec3bc710c95828b4c43fb64ec9ae...\n",
              "...                                                 ...\n",
              "2645  49338f7e64fc96aaf54b240b0830839c09e6cb7bc7b34d...\n",
              "2646  2dc2cddb1c520997189e1c786e0ac9cc0ae60de1a1a60f...\n",
              "2647  4c88b828740c3a82306d10db67ffa660fa399f1d6bc7fa...\n",
              "2648  64066bc083dd66c75c98234d4254d40140e7e5d98350f4...\n",
              "2649  5321d7a4618de003c45a72b7c1dc6505162b09ee465c13...\n",
              "\n",
              "[2650 rows x 1 columns]"
            ]
          },
          "metadata": {
            "tags": []
          },
          "execution_count": 38
        }
      ]
    },
    {
      "cell_type": "code",
      "metadata": {
        "id": "r34JTrUCCCXm",
        "colab_type": "code",
        "colab": {}
      },
      "source": [
        ""
      ],
      "execution_count": 0,
      "outputs": []
    }
  ]
}