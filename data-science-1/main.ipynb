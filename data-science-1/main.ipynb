{
 "cells": [
  {
   "cell_type": "markdown",
   "metadata": {},
   "source": [
    "# Desafio 3\n",
    "\n",
    "Neste desafio, iremos praticar nossos conhecimentos sobre distribuições de probabilidade. Para isso,\n",
    "dividiremos este desafio em duas partes:\n",
    "    \n",
    "1. A primeira parte contará com 3 questões sobre um *data set* artificial com dados de uma amostra normal e\n",
    "    uma binomial.\n",
    "2. A segunda parte será sobre a análise da distribuição de uma variável do _data set_ [Pulsar Star](https://archive.ics.uci.edu/ml/datasets/HTRU2), contendo 2 questões.\n",
    "\n",
    "> Obs.: Por favor, não modifique o nome das funções de resposta."
   ]
  },
  {
   "cell_type": "markdown",
   "metadata": {},
   "source": [
    "## _Setup_ geral"
   ]
  },
  {
   "cell_type": "code",
   "execution_count": 1,
   "metadata": {
    "ExecuteTime": {
     "end_time": "2020-05-01T00:25:45.753894Z",
     "start_time": "2020-05-01T00:25:44.714412Z"
    }
   },
   "outputs": [],
   "source": [
    "import pandas as pd\n",
    "import matplotlib.pyplot as plt\n",
    "import numpy as np\n",
    "import scipy.stats as sct\n",
    "import seaborn as sns\n",
    "from statsmodels.distributions.empirical_distribution import ECDF"
   ]
  },
  {
   "cell_type": "code",
   "execution_count": 2,
   "metadata": {
    "ExecuteTime": {
     "end_time": "2020-05-01T00:25:46.734453Z",
     "start_time": "2020-05-01T00:25:46.718831Z"
    }
   },
   "outputs": [],
   "source": [
    "from IPython.core.pylabtools import figsize\n",
    "figsize(12, 8)\n",
    "sns.set()"
   ]
  },
  {
   "cell_type": "markdown",
   "metadata": {},
   "source": [
    "## Parte 1"
   ]
  },
  {
   "cell_type": "markdown",
   "metadata": {},
   "source": [
    "### _Setup_ da parte 1"
   ]
  },
  {
   "cell_type": "code",
   "execution_count": 6,
   "metadata": {
    "ExecuteTime": {
     "end_time": "2020-04-30T23:44:50.045368Z",
     "start_time": "2020-04-30T23:44:50.014248Z"
    }
   },
   "outputs": [],
   "source": [
    "np.random.seed(42)\n",
    "    \n",
    "dataframe = pd.DataFrame({\"normal\": sct.norm.rvs(20, 4, size=10000),\n",
    "                     \"binomial\": sct.binom.rvs(100, 0.2, size=10000)})\n",
    "df = dataframe.copy()"
   ]
  },
  {
   "cell_type": "markdown",
   "metadata": {},
   "source": [
    "## Inicie sua análise a partir da parte 1 a partir daqui"
   ]
  },
  {
   "cell_type": "code",
   "execution_count": 11,
   "metadata": {
    "ExecuteTime": {
     "end_time": "2020-04-30T17:06:18.991539Z",
     "start_time": "2020-04-30T17:06:18.975919Z"
    },
    "scrolled": true
   },
   "outputs": [
    {
     "data": {
      "text/html": [
       "<div>\n",
       "<style scoped>\n",
       "    .dataframe tbody tr th:only-of-type {\n",
       "        vertical-align: middle;\n",
       "    }\n",
       "\n",
       "    .dataframe tbody tr th {\n",
       "        vertical-align: top;\n",
       "    }\n",
       "\n",
       "    .dataframe thead th {\n",
       "        text-align: right;\n",
       "    }\n",
       "</style>\n",
       "<table border=\"1\" class=\"dataframe\">\n",
       "  <thead>\n",
       "    <tr style=\"text-align: right;\">\n",
       "      <th></th>\n",
       "      <th>normal</th>\n",
       "      <th>binomial</th>\n",
       "    </tr>\n",
       "  </thead>\n",
       "  <tbody>\n",
       "    <tr>\n",
       "      <th>0</th>\n",
       "      <td>21.986857</td>\n",
       "      <td>18</td>\n",
       "    </tr>\n",
       "    <tr>\n",
       "      <th>1</th>\n",
       "      <td>19.446943</td>\n",
       "      <td>15</td>\n",
       "    </tr>\n",
       "    <tr>\n",
       "      <th>2</th>\n",
       "      <td>22.590754</td>\n",
       "      <td>14</td>\n",
       "    </tr>\n",
       "    <tr>\n",
       "      <th>3</th>\n",
       "      <td>26.092119</td>\n",
       "      <td>15</td>\n",
       "    </tr>\n",
       "    <tr>\n",
       "      <th>4</th>\n",
       "      <td>19.063387</td>\n",
       "      <td>21</td>\n",
       "    </tr>\n",
       "  </tbody>\n",
       "</table>\n",
       "</div>"
      ],
      "text/plain": [
       "      normal  binomial\n",
       "0  21.986857        18\n",
       "1  19.446943        15\n",
       "2  22.590754        14\n",
       "3  26.092119        15\n",
       "4  19.063387        21"
      ]
     },
     "execution_count": 11,
     "metadata": {},
     "output_type": "execute_result"
    }
   ],
   "source": [
    "df.head()"
   ]
  },
  {
   "cell_type": "code",
   "execution_count": 123,
   "metadata": {
    "ExecuteTime": {
     "end_time": "2020-04-30T19:02:08.859989Z",
     "start_time": "2020-04-30T19:02:08.813159Z"
    }
   },
   "outputs": [
    {
     "data": {
      "text/html": [
       "<div>\n",
       "<style scoped>\n",
       "    .dataframe tbody tr th:only-of-type {\n",
       "        vertical-align: middle;\n",
       "    }\n",
       "\n",
       "    .dataframe tbody tr th {\n",
       "        vertical-align: top;\n",
       "    }\n",
       "\n",
       "    .dataframe thead th {\n",
       "        text-align: right;\n",
       "    }\n",
       "</style>\n",
       "<table border=\"1\" class=\"dataframe\">\n",
       "  <thead>\n",
       "    <tr style=\"text-align: right;\">\n",
       "      <th></th>\n",
       "      <th>mean</th>\n",
       "      <th>std</th>\n",
       "      <th>var</th>\n",
       "      <th>max</th>\n",
       "      <th>min</th>\n",
       "    </tr>\n",
       "  </thead>\n",
       "  <tbody>\n",
       "    <tr>\n",
       "      <th>normal</th>\n",
       "      <td>19.991456</td>\n",
       "      <td>4.013850</td>\n",
       "      <td>16.11</td>\n",
       "      <td>35.704951</td>\n",
       "      <td>4.310399</td>\n",
       "    </tr>\n",
       "    <tr>\n",
       "      <th>binominal</th>\n",
       "      <td>20.097000</td>\n",
       "      <td>4.041191</td>\n",
       "      <td>16.33</td>\n",
       "      <td>36.000000</td>\n",
       "      <td>6.000000</td>\n",
       "    </tr>\n",
       "  </tbody>\n",
       "</table>\n",
       "</div>"
      ],
      "text/plain": [
       "                mean       std    var        max       min\n",
       "normal     19.991456  4.013850  16.11  35.704951  4.310399\n",
       "binominal  20.097000  4.041191  16.33  36.000000  6.000000"
      ]
     },
     "execution_count": 123,
     "metadata": {},
     "output_type": "execute_result"
    }
   ],
   "source": [
    "df_info = pd.DataFrame({'mean': [df.normal.mean(),df.binomial.mean()], \n",
    "              'std': [df.normal.std(),df.binomial.std()],\n",
    "              'var': [df.normal.var(),df.binomial.var()],\n",
    "              'var': [round(df.normal.var(),2), round(df.binomial.var(),2)], \n",
    "              'max': [max(df.normal), max(df.binomial)], \n",
    "              'min': [min(df.normal),min(df.binomial)]},\n",
    "                index = ['normal','binominal' ])\n",
    "                \n",
    "df_info"
   ]
  },
  {
   "cell_type": "markdown",
   "metadata": {},
   "source": [
    "## Normal distribution"
   ]
  },
  {
   "cell_type": "code",
   "execution_count": 44,
   "metadata": {
    "ExecuteTime": {
     "end_time": "2020-04-30T17:26:45.512913Z",
     "start_time": "2020-04-30T17:26:45.153754Z"
    }
   },
   "outputs": [
    {
     "data": {
      "image/png": "[encoded data removed]",
      "text/plain": [
       "<Figure size 864x576 with 1 Axes>"
      ]
     },
     "metadata": {},
     "output_type": "display_data"
    }
   ],
   "source": [
    "# Sua análise da parte 1 começa aqui.abs\n",
    "sns.distplot(df['normal'], label=\"Normal\",  hist_kws={\"alpha\": 0.2})\n",
    "plt.show()"
   ]
  },
  {
   "cell_type": "markdown",
   "metadata": {},
   "source": [
    "## Binomial distribution"
   ]
  },
  {
   "cell_type": "code",
   "execution_count": 102,
   "metadata": {
    "ExecuteTime": {
     "end_time": "2020-04-30T18:31:06.309991Z",
     "start_time": "2020-04-30T18:31:05.997530Z"
    }
   },
   "outputs": [
    {
     "data": {
      "image/png": "[encoded data removed]",
      "text/plain": [
       "<Figure size 864x576 with 1 Axes>"
      ]
     },
     "metadata": {},
     "output_type": "display_data"
    }
   ],
   "source": [
    "sns.distplot(df['binomial'], bins=range(6,36), kde=True, label = \"Binominal\",  hist_kws={\"alpha\": 0.9})\n",
    "plt.show()"
   ]
  },
  {
   "cell_type": "markdown",
   "metadata": {},
   "source": [
    "## Questão 1\n",
    "\n",
    "Qual a diferença entre os quartis (Q1, Q2 e Q3) das variáveis `normal` e `binomial` de `dataframe`? Responda como uma tupla de três elementos arredondados para três casas decimais.\n",
    "\n",
    "Em outra palavras, sejam `q1_norm`, `q2_norm` e `q3_norm` os quantis da variável `normal` e `q1_binom`, `q2_binom` e `q3_binom` os quantis da variável `binom`, qual a diferença `(q1_norm - q1 binom, q2_norm - q2_binom, q3_norm - q3_binom)`?"
   ]
  },
  {
   "cell_type": "code",
   "execution_count": 98,
   "metadata": {
    "ExecuteTime": {
     "end_time": "2020-04-30T18:12:14.954590Z",
     "start_time": "2020-04-30T18:12:14.923453Z"
    }
   },
   "outputs": [
    {
     "name": "stdout",
     "output_type": "stream",
     "text": [
      "Q% normal 17.302040999215674 20.0 22.697959000784326\n",
      "Q% binomial 17.0 20.0 23.0\n",
      "Difference (0.3020409992156736, 0.0, -0.3020409992156736)\n"
     ]
    }
   ],
   "source": [
    "#Using the theorical distribution\n",
    "q1_norm, q2_norm, q3_norm = [sct.norm.ppf(x, loc = 20, scale = 4) for x in [0.25, 0.5, 0.75]]\n",
    "q1_binom, q2_binom, q3_binom = [sct.binom.ppf(x, 100, 0.2) for x in [0.25, 0.5, 0.75]]\n",
    "diff =(q1_norm - q1_binom, q2_norm - q2_binom, q3_norm - q3_binom) \n",
    "\n",
    "print(\"Q% normal\", q1_norm, q2_norm, q3_norm)\n",
    "print(\"Q% binomial\", q1_binom, q2_binom, q3_binom)\n",
    "print('Difference', diff)"
   ]
  },
  {
   "cell_type": "code",
   "execution_count": 183,
   "metadata": {
    "ExecuteTime": {
     "end_time": "2020-04-30T19:50:46.138150Z",
     "start_time": "2020-04-30T19:50:46.107037Z"
    }
   },
   "outputs": [
    {
     "name": "stdout",
     "output_type": "stream",
     "text": [
      "Q% normal [17.30963787997159, 19.98962009682849, 22.68432355145866]\n",
      "Q% binomial [17.0, 20.0, 23.0]\n",
      "Difference (0.31, -0.01, -0.316)\n"
     ]
    }
   ],
   "source": [
    "#Using the dataframe\n",
    "quantiles = [df.quantile(q = x) for x in [0.25, 0.5, 0.75]] #get quantiles of the dataframe\n",
    "diff= tuple(([round(quantiles[i][0]- quantiles[i][1],3) for i in range(3)])) #subtract to get the difference\n",
    "\n",
    "print(\"Q% normal\", [quantiles[i][0] for i in range(3)])\n",
    "print(\"Q% binomial\", [quantiles[i][1] for i in range(3)])\n",
    "print('Difference', diff)"
   ]
  },
  {
   "cell_type": "code",
   "execution_count": 7,
   "metadata": {
    "ExecuteTime": {
     "end_time": "2020-04-30T23:45:00.189758Z",
     "start_time": "2020-04-30T23:45:00.174127Z"
    }
   },
   "outputs": [],
   "source": [
    "def q1():\n",
    "    quantiles = [df.quantile(q = x) for x in [0.25, 0.5, 0.75]] #get quantiles of the dataframe\n",
    "    aux = ([round(quantiles[i][0].item()- quantiles[i][1].item(),3) for i in range(3)]) #subtract to get the difference\n",
    "    return tuple(aux)"
   ]
  },
  {
   "cell_type": "markdown",
   "metadata": {},
   "source": [
    "Para refletir:\n",
    "\n",
    "* Você esperava valores dessa magnitude?\n",
    "\n",
    "* Você é capaz de explicar como distribuições aparentemente tão diferentes (discreta e contínua, por exemplo) conseguem dar esses valores?"
   ]
  },
  {
   "cell_type": "code",
   "execution_count": 110,
   "metadata": {
    "ExecuteTime": {
     "end_time": "2020-04-30T18:45:51.049976Z",
     "start_time": "2020-04-30T18:45:51.018870Z"
    }
   },
   "outputs": [
    {
     "data": {
      "text/plain": [
       "19.991456066526293"
      ]
     },
     "execution_count": 110,
     "metadata": {},
     "output_type": "execute_result"
    }
   ],
   "source": [
    "mu_norm = sum(df.normal)/len(df)\n",
    "var_norm = sum(df.normal**2)/len(df) - (sum(df.normal)/len(df))**2"
   ]
  },
  {
   "cell_type": "markdown",
   "metadata": {},
   "source": [
    "Estas distribuições apesar de distintas, possuem o valor esperado e variância muito parecidos.\n",
    "Sabendo que a distribuição binomial pode ser aproximada pela função normal. Então teremos algo da forma:\n",
    "\n",
    "$X \\sim  N(np ,np(1-p))$ \n",
    "\n",
    "Sendo a distribuição binomial definida \\\n",
    "$X \\sim  Bin(n,p)$ \\\n",
    "$E(X) = np = 100.0,2 = 20 $\\\n",
    "$Var(X) = np(1-p) = 100.  0,2 .(1 - 0,2) = 16$\n",
    "\n",
    "Sendo a distribuição normal definida \\\n",
    "$X \\sim  N(\\mu,\\sigma^2)$ \\\n",
    "$E(X) = \\mu \\approx 19.99 $ \\\n",
    "$Var(X) = E(X^2)-E(X)^2 \\approx 16.1$ "
   ]
  },
  {
   "cell_type": "markdown",
   "metadata": {},
   "source": [
    "## Questão 2\n",
    "\n",
    "Considere o intervalo $[\\bar{x} - s, \\bar{x} + s]$, onde $\\bar{x}$ é a média amostral e $s$ é o desvio padrão. Qual a probabilidade nesse intervalo, calculada pela função de distribuição acumulada empírica (CDF empírica) da variável `normal`? Responda como uma único escalar arredondado para três casas decimais."
   ]
  },
  {
   "cell_type": "code",
   "execution_count": 47,
   "metadata": {
    "ExecuteTime": {
     "end_time": "2020-04-30T23:34:25.393901Z",
     "start_time": "2020-04-30T23:34:25.378250Z"
    }
   },
   "outputs": [],
   "source": [
    "def q2():\n",
    "    interval_left = df.normal.mean()-df.normal.std()\n",
    "    interval_right = df.normal.mean()+ df.normal.std()\n",
    "\n",
    "    prob_left = sct.norm.cdf(interval_left, loc=20, scale=4) \n",
    "    prob_ = sct.norm.cdf(interval_right, loc=20, scale=4) \n",
    "    prob = prob_ - prob_left\n",
    "    return prob.item()"
   ]
  },
  {
   "cell_type": "code",
   "execution_count": 37,
   "metadata": {
    "ExecuteTime": {
     "end_time": "2020-04-30T23:30:25.205693Z",
     "start_time": "2020-04-30T23:30:25.174416Z"
    }
   },
   "outputs": [
    {
     "data": {
      "text/plain": [
       "0.684361076857501"
      ]
     },
     "execution_count": 37,
     "metadata": {},
     "output_type": "execute_result"
    }
   ],
   "source": [
    "q2()"
   ]
  },
  {
   "cell_type": "markdown",
   "metadata": {},
   "source": [
    "Para refletir:\n",
    "\n",
    "* Esse valor se aproxima do esperado teórico?\n",
    "* Experimente também para os intervalos $[\\bar{x} - 2s, \\bar{x} + 2s]$ e $[\\bar{x} - 3s, \\bar{x} + 3s]$."
   ]
  },
  {
   "cell_type": "markdown",
   "metadata": {
    "ExecuteTime": {
     "end_time": "2020-04-30T19:00:03.218577Z",
     "start_time": "2020-04-30T19:00:03.187464Z"
    }
   },
   "source": [
    "Sim! \n",
    "* A probabilidade de $X$ assumir valores entre $\\mu - \\sigma$ e $\\mu + \\sigma$ é de 68.27%.\n",
    "* A probabilidade de $X$ assumir valores entre $\\mu - 2\\sigma$ e $\\mu + 2\\sigma$ é de 95.45%.\n",
    "* A probabilidade de $X$ assumir valores entre $\\mu - 3\\sigma$ e $\\mu + 3\\sigma$ é de 99.73%."
   ]
  },
  {
   "cell_type": "markdown",
   "metadata": {},
   "source": [
    "## Questão 3\n",
    "\n",
    "Qual é a diferença entre as médias e as variâncias das variáveis `binomial` e `normal`? Responda como uma tupla de dois elementos arredondados para três casas decimais.\n",
    "\n",
    "Em outras palavras, sejam `m_binom` e `v_binom` a média e a variância da variável `binomial`, e `m_norm` e `v_norm` a média e a variância da variável `normal`. Quais as diferenças `(m_binom - m_norm, v_binom - v_norm)`?"
   ]
  },
  {
   "cell_type": "code",
   "execution_count": 45,
   "metadata": {
    "ExecuteTime": {
     "end_time": "2020-04-30T23:33:45.271244Z",
     "start_time": "2020-04-30T23:33:45.240100Z"
    }
   },
   "outputs": [],
   "source": [
    "def q3():\n",
    "    m_binom = df.binomial.mean().item()\n",
    "    v_binom = df.binomial.var().item()\n",
    "    m_norm = df.normal.mean().item()\n",
    "    v_norm = df.normal.var().item()\n",
    "    return (round(m_binom - m_norm,3), round(v_binom - v_norm,3))"
   ]
  },
  {
   "cell_type": "markdown",
   "metadata": {},
   "source": [
    "Para refletir:\n",
    "\n",
    "* Você esperava valore dessa magnitude?\n",
    "* Qual o efeito de aumentar ou diminuir $n$ (atualmente 100) na distribuição da variável `binomial`?"
   ]
  },
  {
   "cell_type": "markdown",
   "metadata": {},
   "source": [
    "## Parte 2"
   ]
  },
  {
   "cell_type": "markdown",
   "metadata": {},
   "source": [
    "### Data Set Information:\n",
    "\n",
    "HTRU2 is a data set which describes a sample of pulsar candidates collected during the High Time Resolution Universe Survey (South) [1].\n",
    "\n",
    "Pulsars are a rare type of Neutron star that produce radio emission detectable here on Earth. They are of considerable scientific interest as probes of space-time, the inter-stellar medium, and states of matter (see [2] for more uses).\n",
    "\n",
    "As pulsars rotate, their emission beam sweeps across the sky, and when this crosses our line of sight, produces a detectable pattern of broadband radio emission. As pulsars\n",
    "rotate rapidly, this pattern repeats periodically. Thus pulsar search involves looking for periodic radio signals with large radio telescopes.\n",
    "\n",
    "Each pulsar produces a slightly different emission pattern, which varies slightly with each rotation (see [2] for an introduction to pulsar astrophysics to find out why). Thus a potential signal detection known as a 'candidate', is averaged over many rotations of the pulsar, as determined by the length of an observation. In the absence of additional info, each candidate could potentially describe a real pulsar. However in practice almost all detections are caused by radio frequency interference (RFI) and noise, making legitimate signals hard to find.\n",
    "\n",
    "Machine learning tools are now being used to automatically label pulsar candidates to facilitate rapid analysis. Classification systems in particular are being widely adopted,\n",
    "(see [4,5,6,7,8,9]) which treat the candidate data sets as binary classification problems. Here the legitimate pulsar examples are a minority positive class, and spurious examples the majority negative class. At present multi-class labels are unavailable, given the costs associated with data annotation.\n",
    "\n",
    "The data set shared here contains 16,259 spurious examples caused by RFI/noise, and 1,639 real pulsar examples. These examples have all been checked by human annotators.\n",
    "\n",
    "The data is presented in two formats: CSV and ARFF (used by the WEKA data mining tool). Candidates are stored in both files in separate rows. Each row lists the variables first, and the class label is the final entry. The class labels used are 0 (negative) and 1 (positive).\n",
    "\n",
    "Please note that the data contains no positional information or other astronomical details. It is simply feature data extracted from candidate files using the PulsarFeatureLab tool (see [10]).\n",
    "\n",
    "### Attribute Information:\n",
    "\n",
    "Each candidate is described by 8 continuous variables, and a single class variable. The first four are simple statistics obtained from the integrated pulse profile (folded profile). This is an array of continuous variables that describe a longitude-resolved version of the signal that has been averaged in both time and frequency (see [3] for more details). The remaining four variables are similarly obtained from the DM-SNR curve (again see [3] for more details). These are summarised below:\n",
    "\n",
    "1. Mean of the integrated profile.\n",
    "2. Standard deviation of the integrated profile.\n",
    "3. Excess kurtosis of the integrated profile.\n",
    "4. Skewness of the integrated profile.\n",
    "5. Mean of the DM-SNR curve.\n",
    "6. Standard deviation of the DM-SNR curve.\n",
    "7. Excess kurtosis of the DM-SNR curve.\n",
    "8. Skewness of the DM-SNR curve.\n",
    "9. Class\n",
    "\n",
    "HTRU 2 Summary\n",
    "17,898 total examples.\n",
    "1,639 positive examples.\n",
    "16,259 negative examples."
   ]
  },
  {
   "cell_type": "markdown",
   "metadata": {},
   "source": [
    "### _Setup_ da parte 2"
   ]
  },
  {
   "cell_type": "code",
   "execution_count": 3,
   "metadata": {
    "ExecuteTime": {
     "end_time": "2020-05-01T00:26:13.139334Z",
     "start_time": "2020-05-01T00:26:13.029446Z"
    }
   },
   "outputs": [
    {
     "data": {
      "text/html": [
       "<div>\n",
       "<style scoped>\n",
       "    .dataframe tbody tr th:only-of-type {\n",
       "        vertical-align: middle;\n",
       "    }\n",
       "\n",
       "    .dataframe tbody tr th {\n",
       "        vertical-align: top;\n",
       "    }\n",
       "\n",
       "    .dataframe thead th {\n",
       "        text-align: right;\n",
       "    }\n",
       "</style>\n",
       "<table border=\"1\" class=\"dataframe\">\n",
       "  <thead>\n",
       "    <tr style=\"text-align: right;\">\n",
       "      <th></th>\n",
       "      <th>mean_profile</th>\n",
       "      <th>sd_profile</th>\n",
       "      <th>kurt_profile</th>\n",
       "      <th>skew_profile</th>\n",
       "      <th>mean_curve</th>\n",
       "      <th>sd_curve</th>\n",
       "      <th>kurt_curve</th>\n",
       "      <th>skew_curve</th>\n",
       "    </tr>\n",
       "  </thead>\n",
       "  <tbody>\n",
       "    <tr>\n",
       "      <th>count</th>\n",
       "      <td>17897.000000</td>\n",
       "      <td>17897.000000</td>\n",
       "      <td>17897.000000</td>\n",
       "      <td>17897.000000</td>\n",
       "      <td>17897.000000</td>\n",
       "      <td>17897.000000</td>\n",
       "      <td>17897.000000</td>\n",
       "      <td>17897.000000</td>\n",
       "    </tr>\n",
       "    <tr>\n",
       "      <th>mean</th>\n",
       "      <td>111.078321</td>\n",
       "      <td>46.549021</td>\n",
       "      <td>0.477897</td>\n",
       "      <td>1.770417</td>\n",
       "      <td>12.614926</td>\n",
       "      <td>26.326918</td>\n",
       "      <td>8.303574</td>\n",
       "      <td>104.859419</td>\n",
       "    </tr>\n",
       "    <tr>\n",
       "      <th>std</th>\n",
       "      <td>25.652705</td>\n",
       "      <td>6.843040</td>\n",
       "      <td>1.064056</td>\n",
       "      <td>6.168058</td>\n",
       "      <td>29.473637</td>\n",
       "      <td>19.471042</td>\n",
       "      <td>4.506217</td>\n",
       "      <td>106.517270</td>\n",
       "    </tr>\n",
       "    <tr>\n",
       "      <th>min</th>\n",
       "      <td>5.812500</td>\n",
       "      <td>24.772042</td>\n",
       "      <td>-1.876011</td>\n",
       "      <td>-1.791886</td>\n",
       "      <td>0.213211</td>\n",
       "      <td>7.370432</td>\n",
       "      <td>-3.139270</td>\n",
       "      <td>-1.976976</td>\n",
       "    </tr>\n",
       "    <tr>\n",
       "      <th>25%</th>\n",
       "      <td>100.929688</td>\n",
       "      <td>42.375426</td>\n",
       "      <td>0.027108</td>\n",
       "      <td>-0.188528</td>\n",
       "      <td>1.923077</td>\n",
       "      <td>14.437330</td>\n",
       "      <td>5.781485</td>\n",
       "      <td>34.957119</td>\n",
       "    </tr>\n",
       "    <tr>\n",
       "      <th>50%</th>\n",
       "      <td>115.078125</td>\n",
       "      <td>46.946435</td>\n",
       "      <td>0.223241</td>\n",
       "      <td>0.198736</td>\n",
       "      <td>2.801839</td>\n",
       "      <td>18.459977</td>\n",
       "      <td>8.433872</td>\n",
       "      <td>83.068996</td>\n",
       "    </tr>\n",
       "    <tr>\n",
       "      <th>75%</th>\n",
       "      <td>127.085938</td>\n",
       "      <td>51.022887</td>\n",
       "      <td>0.473349</td>\n",
       "      <td>0.928206</td>\n",
       "      <td>5.464883</td>\n",
       "      <td>28.428152</td>\n",
       "      <td>10.702973</td>\n",
       "      <td>139.310905</td>\n",
       "    </tr>\n",
       "    <tr>\n",
       "      <th>max</th>\n",
       "      <td>192.617188</td>\n",
       "      <td>98.778911</td>\n",
       "      <td>8.069522</td>\n",
       "      <td>68.101622</td>\n",
       "      <td>223.392140</td>\n",
       "      <td>110.642211</td>\n",
       "      <td>34.539844</td>\n",
       "      <td>1191.000837</td>\n",
       "    </tr>\n",
       "  </tbody>\n",
       "</table>\n",
       "</div>"
      ],
      "text/plain": [
       "       mean_profile    sd_profile  kurt_profile  skew_profile    mean_curve  \\\n",
       "count  17897.000000  17897.000000  17897.000000  17897.000000  17897.000000   \n",
       "mean     111.078321     46.549021      0.477897      1.770417     12.614926   \n",
       "std       25.652705      6.843040      1.064056      6.168058     29.473637   \n",
       "min        5.812500     24.772042     -1.876011     -1.791886      0.213211   \n",
       "25%      100.929688     42.375426      0.027108     -0.188528      1.923077   \n",
       "50%      115.078125     46.946435      0.223241      0.198736      2.801839   \n",
       "75%      127.085938     51.022887      0.473349      0.928206      5.464883   \n",
       "max      192.617188     98.778911      8.069522     68.101622    223.392140   \n",
       "\n",
       "           sd_curve    kurt_curve    skew_curve  \n",
       "count  17897.000000  17897.000000  17897.000000  \n",
       "mean      26.326918      8.303574    104.859419  \n",
       "std       19.471042      4.506217    106.517270  \n",
       "min        7.370432     -3.139270     -1.976976  \n",
       "25%       14.437330      5.781485     34.957119  \n",
       "50%       18.459977      8.433872     83.068996  \n",
       "75%       28.428152     10.702973    139.310905  \n",
       "max      110.642211     34.539844   1191.000837  "
      ]
     },
     "execution_count": 3,
     "metadata": {},
     "output_type": "execute_result"
    }
   ],
   "source": [
    "stars = pd.read_csv(\"data/pulsar_stars.csv\")\n",
    "\n",
    "stars.rename({old_name: new_name\n",
    "              for (old_name, new_name)\n",
    "              in zip(stars.columns,\n",
    "                     [\"mean_profile\", \"sd_profile\", \"kurt_profile\", \"skew_profile\", \"mean_curve\", \"sd_curve\", \"kurt_curve\", \"skew_curve\", \"target\"])\n",
    "             },\n",
    "             axis=1, inplace=True)\n",
    "\n",
    "stars.loc[:, \"target\"] = stars.target.astype(bool)\n",
    "\n",
    "stars.describe()"
   ]
  },
  {
   "cell_type": "markdown",
   "metadata": {},
   "source": [
    "## Inicie sua análise da parte 2 a partir daqui"
   ]
  },
  {
   "cell_type": "code",
   "execution_count": 169,
   "metadata": {
    "ExecuteTime": {
     "end_time": "2020-04-30T19:37:34.376969Z",
     "start_time": "2020-04-30T19:37:34.330135Z"
    }
   },
   "outputs": [
    {
     "data": {
      "text/html": [
       "<div>\n",
       "<style scoped>\n",
       "    .dataframe tbody tr th:only-of-type {\n",
       "        vertical-align: middle;\n",
       "    }\n",
       "\n",
       "    .dataframe tbody tr th {\n",
       "        vertical-align: top;\n",
       "    }\n",
       "\n",
       "    .dataframe thead th {\n",
       "        text-align: right;\n",
       "    }\n",
       "</style>\n",
       "<table border=\"1\" class=\"dataframe\">\n",
       "  <thead>\n",
       "    <tr style=\"text-align: right;\">\n",
       "      <th></th>\n",
       "      <th>mean_profile</th>\n",
       "      <th>sd_profile</th>\n",
       "      <th>kurt_profile</th>\n",
       "      <th>skew_profile</th>\n",
       "      <th>mean_curve</th>\n",
       "      <th>sd_curve</th>\n",
       "      <th>kurt_curve</th>\n",
       "      <th>skew_curve</th>\n",
       "      <th>target</th>\n",
       "    </tr>\n",
       "  </thead>\n",
       "  <tbody>\n",
       "    <tr>\n",
       "      <th>18</th>\n",
       "      <td>99.367188</td>\n",
       "      <td>41.572202</td>\n",
       "      <td>1.547197</td>\n",
       "      <td>4.154106</td>\n",
       "      <td>27.555184</td>\n",
       "      <td>61.719016</td>\n",
       "      <td>2.208808</td>\n",
       "      <td>3.662680</td>\n",
       "      <td>True</td>\n",
       "    </tr>\n",
       "    <tr>\n",
       "      <th>41</th>\n",
       "      <td>120.554688</td>\n",
       "      <td>45.549905</td>\n",
       "      <td>0.282924</td>\n",
       "      <td>0.419909</td>\n",
       "      <td>1.358696</td>\n",
       "      <td>13.079034</td>\n",
       "      <td>13.312141</td>\n",
       "      <td>212.597029</td>\n",
       "      <td>True</td>\n",
       "    </tr>\n",
       "    <tr>\n",
       "      <th>60</th>\n",
       "      <td>27.765625</td>\n",
       "      <td>28.666042</td>\n",
       "      <td>5.770087</td>\n",
       "      <td>37.419009</td>\n",
       "      <td>73.112876</td>\n",
       "      <td>62.070220</td>\n",
       "      <td>1.268206</td>\n",
       "      <td>1.082920</td>\n",
       "      <td>True</td>\n",
       "    </tr>\n",
       "    <tr>\n",
       "      <th>91</th>\n",
       "      <td>23.625000</td>\n",
       "      <td>29.948654</td>\n",
       "      <td>5.688038</td>\n",
       "      <td>35.987172</td>\n",
       "      <td>146.568562</td>\n",
       "      <td>82.394624</td>\n",
       "      <td>-0.274902</td>\n",
       "      <td>-1.121848</td>\n",
       "      <td>True</td>\n",
       "    </tr>\n",
       "    <tr>\n",
       "      <th>92</th>\n",
       "      <td>94.585938</td>\n",
       "      <td>35.779823</td>\n",
       "      <td>1.187309</td>\n",
       "      <td>3.687469</td>\n",
       "      <td>6.071070</td>\n",
       "      <td>29.760400</td>\n",
       "      <td>5.318767</td>\n",
       "      <td>28.698048</td>\n",
       "      <td>True</td>\n",
       "    </tr>\n",
       "    <tr>\n",
       "      <th>...</th>\n",
       "      <td>...</td>\n",
       "      <td>...</td>\n",
       "      <td>...</td>\n",
       "      <td>...</td>\n",
       "      <td>...</td>\n",
       "      <td>...</td>\n",
       "      <td>...</td>\n",
       "      <td>...</td>\n",
       "      <td>...</td>\n",
       "    </tr>\n",
       "    <tr>\n",
       "      <th>17514</th>\n",
       "      <td>89.867188</td>\n",
       "      <td>47.482295</td>\n",
       "      <td>1.591325</td>\n",
       "      <td>2.505057</td>\n",
       "      <td>0.763378</td>\n",
       "      <td>12.393561</td>\n",
       "      <td>17.940745</td>\n",
       "      <td>333.902631</td>\n",
       "      <td>True</td>\n",
       "    </tr>\n",
       "    <tr>\n",
       "      <th>17528</th>\n",
       "      <td>27.039062</td>\n",
       "      <td>33.754722</td>\n",
       "      <td>4.779124</td>\n",
       "      <td>26.255357</td>\n",
       "      <td>129.863712</td>\n",
       "      <td>78.815440</td>\n",
       "      <td>-0.348492</td>\n",
       "      <td>-0.893791</td>\n",
       "      <td>True</td>\n",
       "    </tr>\n",
       "    <tr>\n",
       "      <th>17557</th>\n",
       "      <td>77.070312</td>\n",
       "      <td>39.000638</td>\n",
       "      <td>1.884421</td>\n",
       "      <td>6.372178</td>\n",
       "      <td>38.517559</td>\n",
       "      <td>65.741059</td>\n",
       "      <td>1.589513</td>\n",
       "      <td>1.285346</td>\n",
       "      <td>True</td>\n",
       "    </tr>\n",
       "    <tr>\n",
       "      <th>17641</th>\n",
       "      <td>28.375000</td>\n",
       "      <td>27.649311</td>\n",
       "      <td>6.377273</td>\n",
       "      <td>45.944048</td>\n",
       "      <td>141.860368</td>\n",
       "      <td>82.893017</td>\n",
       "      <td>-0.477222</td>\n",
       "      <td>-1.067880</td>\n",
       "      <td>True</td>\n",
       "    </tr>\n",
       "    <tr>\n",
       "      <th>17875</th>\n",
       "      <td>111.765625</td>\n",
       "      <td>52.943585</td>\n",
       "      <td>0.671724</td>\n",
       "      <td>0.383594</td>\n",
       "      <td>149.843646</td>\n",
       "      <td>97.926948</td>\n",
       "      <td>-0.696153</td>\n",
       "      <td>-1.260403</td>\n",
       "      <td>True</td>\n",
       "    </tr>\n",
       "  </tbody>\n",
       "</table>\n",
       "<p>1639 rows × 9 columns</p>\n",
       "</div>"
      ],
      "text/plain": [
       "       mean_profile  sd_profile  kurt_profile  skew_profile  mean_curve  \\\n",
       "18        99.367188   41.572202      1.547197      4.154106   27.555184   \n",
       "41       120.554688   45.549905      0.282924      0.419909    1.358696   \n",
       "60        27.765625   28.666042      5.770087     37.419009   73.112876   \n",
       "91        23.625000   29.948654      5.688038     35.987172  146.568562   \n",
       "92        94.585938   35.779823      1.187309      3.687469    6.071070   \n",
       "...             ...         ...           ...           ...         ...   \n",
       "17514     89.867188   47.482295      1.591325      2.505057    0.763378   \n",
       "17528     27.039062   33.754722      4.779124     26.255357  129.863712   \n",
       "17557     77.070312   39.000638      1.884421      6.372178   38.517559   \n",
       "17641     28.375000   27.649311      6.377273     45.944048  141.860368   \n",
       "17875    111.765625   52.943585      0.671724      0.383594  149.843646   \n",
       "\n",
       "        sd_curve  kurt_curve  skew_curve  target  \n",
       "18     61.719016    2.208808    3.662680    True  \n",
       "41     13.079034   13.312141  212.597029    True  \n",
       "60     62.070220    1.268206    1.082920    True  \n",
       "91     82.394624   -0.274902   -1.121848    True  \n",
       "92     29.760400    5.318767   28.698048    True  \n",
       "...          ...         ...         ...     ...  \n",
       "17514  12.393561   17.940745  333.902631    True  \n",
       "17528  78.815440   -0.348492   -0.893791    True  \n",
       "17557  65.741059    1.589513    1.285346    True  \n",
       "17641  82.893017   -0.477222   -1.067880    True  \n",
       "17875  97.926948   -0.696153   -1.260403    True  \n",
       "\n",
       "[1639 rows x 9 columns]"
      ]
     },
     "execution_count": 169,
     "metadata": {},
     "output_type": "execute_result"
    }
   ],
   "source": [
    "stars[stars['target']==True]"
   ]
  },
  {
   "cell_type": "code",
   "execution_count": 168,
   "metadata": {
    "ExecuteTime": {
     "end_time": "2020-04-30T19:35:01.858888Z",
     "start_time": "2020-04-30T19:35:01.733945Z"
    }
   },
   "outputs": [
    {
     "data": {
      "text/html": [
       "<div>\n",
       "<style scoped>\n",
       "    .dataframe tbody tr th:only-of-type {\n",
       "        vertical-align: middle;\n",
       "    }\n",
       "\n",
       "    .dataframe tbody tr th {\n",
       "        vertical-align: top;\n",
       "    }\n",
       "\n",
       "    .dataframe thead th {\n",
       "        text-align: right;\n",
       "    }\n",
       "</style>\n",
       "<table border=\"1\" class=\"dataframe\">\n",
       "  <thead>\n",
       "    <tr style=\"text-align: right;\">\n",
       "      <th></th>\n",
       "      <th>mean_profile</th>\n",
       "      <th>sd_profile</th>\n",
       "      <th>kurt_profile</th>\n",
       "      <th>skew_profile</th>\n",
       "      <th>mean_curve</th>\n",
       "      <th>sd_curve</th>\n",
       "      <th>kurt_curve</th>\n",
       "      <th>skew_curve</th>\n",
       "    </tr>\n",
       "  </thead>\n",
       "  <tbody>\n",
       "    <tr>\n",
       "      <th>count</th>\n",
       "      <td>1639.000000</td>\n",
       "      <td>1639.000000</td>\n",
       "      <td>1639.000000</td>\n",
       "      <td>1639.000000</td>\n",
       "      <td>1639.000000</td>\n",
       "      <td>1639.000000</td>\n",
       "      <td>1639.000000</td>\n",
       "      <td>1639.000000</td>\n",
       "    </tr>\n",
       "    <tr>\n",
       "      <th>mean</th>\n",
       "      <td>56.690608</td>\n",
       "      <td>38.710598</td>\n",
       "      <td>3.130655</td>\n",
       "      <td>15.553576</td>\n",
       "      <td>49.825995</td>\n",
       "      <td>56.468963</td>\n",
       "      <td>2.757069</td>\n",
       "      <td>17.931728</td>\n",
       "    </tr>\n",
       "    <tr>\n",
       "      <th>std</th>\n",
       "      <td>30.007707</td>\n",
       "      <td>8.033614</td>\n",
       "      <td>1.872861</td>\n",
       "      <td>13.997200</td>\n",
       "      <td>45.287932</td>\n",
       "      <td>19.731080</td>\n",
       "      <td>3.105945</td>\n",
       "      <td>50.896263</td>\n",
       "    </tr>\n",
       "    <tr>\n",
       "      <th>min</th>\n",
       "      <td>5.812500</td>\n",
       "      <td>24.772042</td>\n",
       "      <td>-0.094888</td>\n",
       "      <td>-1.139069</td>\n",
       "      <td>0.486622</td>\n",
       "      <td>7.658623</td>\n",
       "      <td>-1.862320</td>\n",
       "      <td>-1.874683</td>\n",
       "    </tr>\n",
       "    <tr>\n",
       "      <th>25%</th>\n",
       "      <td>31.777344</td>\n",
       "      <td>32.284803</td>\n",
       "      <td>1.556038</td>\n",
       "      <td>3.805492</td>\n",
       "      <td>12.759615</td>\n",
       "      <td>43.333643</td>\n",
       "      <td>0.756451</td>\n",
       "      <td>-0.228294</td>\n",
       "    </tr>\n",
       "    <tr>\n",
       "      <th>50%</th>\n",
       "      <td>54.296875</td>\n",
       "      <td>37.341297</td>\n",
       "      <td>2.961258</td>\n",
       "      <td>11.609644</td>\n",
       "      <td>33.494983</td>\n",
       "      <td>59.367088</td>\n",
       "      <td>1.918327</td>\n",
       "      <td>2.585145</td>\n",
       "    </tr>\n",
       "    <tr>\n",
       "      <th>75%</th>\n",
       "      <td>79.277344</td>\n",
       "      <td>43.759278</td>\n",
       "      <td>4.586930</td>\n",
       "      <td>24.881853</td>\n",
       "      <td>78.313545</td>\n",
       "      <td>70.985965</td>\n",
       "      <td>3.709978</td>\n",
       "      <td>13.469687</td>\n",
       "    </tr>\n",
       "    <tr>\n",
       "      <th>max</th>\n",
       "      <td>139.257812</td>\n",
       "      <td>83.796909</td>\n",
       "      <td>8.069522</td>\n",
       "      <td>68.101622</td>\n",
       "      <td>199.577759</td>\n",
       "      <td>109.655345</td>\n",
       "      <td>30.883882</td>\n",
       "      <td>1017.383180</td>\n",
       "    </tr>\n",
       "  </tbody>\n",
       "</table>\n",
       "</div>"
      ],
      "text/plain": [
       "       mean_profile   sd_profile  kurt_profile  skew_profile   mean_curve  \\\n",
       "count   1639.000000  1639.000000   1639.000000   1639.000000  1639.000000   \n",
       "mean      56.690608    38.710598      3.130655     15.553576    49.825995   \n",
       "std       30.007707     8.033614      1.872861     13.997200    45.287932   \n",
       "min        5.812500    24.772042     -0.094888     -1.139069     0.486622   \n",
       "25%       31.777344    32.284803      1.556038      3.805492    12.759615   \n",
       "50%       54.296875    37.341297      2.961258     11.609644    33.494983   \n",
       "75%       79.277344    43.759278      4.586930     24.881853    78.313545   \n",
       "max      139.257812    83.796909      8.069522     68.101622   199.577759   \n",
       "\n",
       "          sd_curve   kurt_curve   skew_curve  \n",
       "count  1639.000000  1639.000000  1639.000000  \n",
       "mean     56.468963     2.757069    17.931728  \n",
       "std      19.731080     3.105945    50.896263  \n",
       "min       7.658623    -1.862320    -1.874683  \n",
       "25%      43.333643     0.756451    -0.228294  \n",
       "50%      59.367088     1.918327     2.585145  \n",
       "75%      70.985965     3.709978    13.469687  \n",
       "max     109.655345    30.883882  1017.383180  "
      ]
     },
     "execution_count": 168,
     "metadata": {},
     "output_type": "execute_result"
    }
   ],
   "source": [
    "stars[stars['target']==True].describe()"
   ]
  },
  {
   "cell_type": "markdown",
   "metadata": {},
   "source": [
    "## Questão 4\n",
    "\n",
    "Considerando a variável `mean_profile` de `stars`:\n",
    "\n",
    "1. Filtre apenas os valores de `mean_profile` onde `target == 0` (ou seja, onde a estrela não é um pulsar).\n",
    "2. Padronize a variável `mean_profile` filtrada anteriormente para ter média 0 e variância 1.\n",
    "\n",
    "Chamaremos a variável resultante de `false_pulsar_mean_profile_standardized`.\n",
    "\n",
    "Encontre os quantis teóricos para uma distribuição normal de média 0 e variância 1 para 0.80, 0.90 e 0.95 através da função `norm.ppf()` disponível em `scipy.stats`.\n",
    "\n",
    "Quais as probabilidade associadas a esses quantis utilizando a CDF empírica da variável `false_pulsar_mean_profile_standardized`? Responda como uma tupla de três elementos arredondados para três casas decimais."
   ]
  },
  {
   "cell_type": "code",
   "execution_count": 208,
   "metadata": {
    "ExecuteTime": {
     "end_time": "2020-04-30T20:08:32.104497Z",
     "start_time": "2020-04-30T20:08:31.196914Z"
    },
    "scrolled": false
   },
   "outputs": [
    {
     "data": {
      "image/png": "[encoded data removed]",
      "text/plain": [
       "<Figure size 864x576 with 1 Axes>"
      ]
     },
     "metadata": {},
     "output_type": "display_data"
    }
   ],
   "source": [
    "false_pulsar_mean_profile = stars.loc[stars['target']==False, 'mean_profile']\n",
    "sns.distplot(false_pulsar_mean_profile)\n",
    "plt.show()"
   ]
  },
  {
   "cell_type": "code",
   "execution_count": 213,
   "metadata": {
    "ExecuteTime": {
     "end_time": "2020-04-30T20:11:48.214211Z",
     "start_time": "2020-04-30T20:11:47.855056Z"
    }
   },
   "outputs": [
    {
     "data": {
      "image/png": "[encoded data removed]",
      "text/plain": [
       "<Figure size 864x576 with 1 Axes>"
      ]
     },
     "metadata": {},
     "output_type": "display_data"
    }
   ],
   "source": [
    "false_pulsar_mean_profile_standardized = (false_pulsar_mean_profile - false_pulsar_mean_profile.mean())/false_pulsar_mean_profile.std()\n",
    "sns.distplot(false_pulsar_mean_profile_standardized, color = 'orange', label= 'Standardized Non Pulsar stars')\n",
    "#sns.distplot(sct.norm.rvs(0, 1, size=10000), color ='blue' , label='Theoric normal')\n",
    "plt.show()"
   ]
  },
  {
   "cell_type": "code",
   "execution_count": 215,
   "metadata": {
    "ExecuteTime": {
     "end_time": "2020-04-30T20:12:48.185425Z",
     "start_time": "2020-04-30T20:12:48.169774Z"
    }
   },
   "outputs": [
    {
     "data": {
      "text/plain": [
       "(0.8416212335729143, 1.2815515655446004, 1.6448536269514722)"
      ]
     },
     "execution_count": 215,
     "metadata": {},
     "output_type": "execute_result"
    }
   ],
   "source": [
    "q1_norm, q2_norm, q3_norm = [sct.norm.ppf(x, loc = 0, scale = 1) for x in [0.80, 0.90, 0.95]]\n",
    "q1_norm, q2_norm, q3_norm # valores X para os determinados valores da PDF  [0.80, 0.90, 0.95]"
   ]
  },
  {
   "cell_type": "code",
   "execution_count": 16,
   "metadata": {
    "ExecuteTime": {
     "end_time": "2020-04-30T23:48:30.702487Z",
     "start_time": "2020-04-30T23:48:30.671351Z"
    }
   },
   "outputs": [],
   "source": [
    "def q4():\n",
    "    false_pulsar_mean_profile = stars.loc[stars['target']==False, 'mean_profile']\n",
    "    false_pulsar_mean_profile_standardized = (false_pulsar_mean_profile - false_pulsar_mean_profile.mean())/false_pulsar_mean_profile.std()\n",
    "    q1_norm, q2_norm, q3_norm = [sct.norm.ppf(x, loc = 0, scale = 1) for x in [0.80, 0.90, 0.95]]\n",
    "    q1 = round((false_pulsar_mean_profile_standardized<=q1_norm).sum()/len(false_pulsar_mean_profile_standardized),3).item()\n",
    "    q2 = round((false_pulsar_mean_profile_standardized<=q2_norm).sum()/len(false_pulsar_mean_profile_standardized),3).item()\n",
    "    q3 = round((false_pulsar_mean_profile_standardized<=q3_norm).sum()/len(false_pulsar_mean_profile_standardized),3).item()\n",
    "    return (q1, q2, q3) "
   ]
  },
  {
   "cell_type": "markdown",
   "metadata": {},
   "source": [
    "Para refletir:\n",
    "\n",
    "* Os valores encontrados fazem sentido?\n",
    "* O que isso pode dizer sobre a distribuição da variável `false_pulsar_mean_profile_standardized`?"
   ]
  },
  {
   "cell_type": "markdown",
   "metadata": {},
   "source": [
    "Sim! Os valores fazem muito sentido, a distribuição da variável segue a dist. Normal, o valor dos quartis encontrados para os mesmos valores definidos em uma curva teórica são muito próximos!\n",
    "Obtivemos valores de quartis muitos próximos aos quartis que definimos na da dist. normal teórica [0.80, 0.90, 0.95]"
   ]
  },
  {
   "cell_type": "markdown",
   "metadata": {},
   "source": [
    "## Questão 5\n",
    "\n",
    "Qual a diferença entre os quantis Q1, Q2 e Q3 de `false_pulsar_mean_profile_standardized` e os mesmos quantis teóricos de uma distribuição normal de média 0 e variância 1? Responda como uma tupla de três elementos arredondados para três casas decimais."
   ]
  },
  {
   "cell_type": "code",
   "execution_count": 4,
   "metadata": {
    "ExecuteTime": {
     "end_time": "2020-05-01T00:26:41.662140Z",
     "start_time": "2020-05-01T00:26:41.630900Z"
    }
   },
   "outputs": [],
   "source": [
    "def q5():\n",
    "    false_pulsar_mean_profile = stars.loc[stars['target']==False, 'mean_profile']\n",
    "    false_pulsar_mean_profile_standardized = (false_pulsar_mean_profile - false_pulsar_mean_profile.mean())/false_pulsar_mean_profile.std()\n",
    "    q1_norm, q2_norm, q3_norm = [sct.norm.ppf(x, loc = 0, scale = 1).item() for x in [0.25, 0.5, 0.75]]\n",
    "    q1_pulsar, q2_pulsar, q3_pulsar = [false_pulsar_mean_profile_standardized.quantile(q = x).item() for x in [0.25, 0.50, 0.75]] #get quantiles of the dataframe \n",
    "    diff1 = round(q1_pulsar - q1_norm,3)\n",
    "    diff2 = round(q2_pulsar - q2_norm,3)\n",
    "    diff3 = round(q3_pulsar - q3_norm,3)\n",
    "    return (diff1,diff2,diff3)"
   ]
  },
  {
   "cell_type": "markdown",
   "metadata": {},
   "source": [
    "Para refletir:\n",
    "\n",
    "* Os valores encontrados fazem sentido?\n",
    "* O que isso pode dizer sobre a distribuição da variável `false_pulsar_mean_profile_standardized`?\n",
    "* Curiosidade: alguns testes de hipóteses sobre normalidade dos dados utilizam essa mesma abordagem."
   ]
  },
  {
   "cell_type": "code",
   "execution_count": 5,
   "metadata": {
    "ExecuteTime": {
     "end_time": "2020-05-01T00:26:44.805072Z",
     "start_time": "2020-05-01T00:26:44.773964Z"
    }
   },
   "outputs": [
    {
     "data": {
      "text/plain": [
       "(0.027, 0.04, -0.004)"
      ]
     },
     "execution_count": 5,
     "metadata": {},
     "output_type": "execute_result"
    }
   ],
   "source": [
    "(q5())"
   ]
  },
  {
   "cell_type": "markdown",
   "metadata": {},
   "source": [
    "Sim! Na curva teórica encontramos (0.842, 1.281, 1.645), enquanto para a variável x encontramos(0.825, 1.231, 1.56)."
   ]
  }
 ],
 "metadata": {
  "kernelspec": {
   "display_name": "Python 3",
   "language": "python",
   "name": "python3"
  },
  "toc": {
   "base_numbering": 1,
   "nav_menu": {},
   "number_sections": true,
   "sideBar": true,
   "skip_h1_title": false,
   "title_cell": "Table of Contents",
   "title_sidebar": "Contents",
   "toc_cell": false,
   "toc_position": {},
   "toc_section_display": true,
   "toc_window_display": false
  },
  "varInspector": {
   "cols": {
    "lenName": 16,
    "lenType": 16,
    "lenVar": 40
   },
   "kernels_config": {
    "python": {
     "delete_cmd_postfix": "",
     "delete_cmd_prefix": "del ",
     "library": "var_list.py",
     "varRefreshCmd": "print(var_dic_list())"
    },
    "r": {
     "delete_cmd_postfix": ") ",
     "delete_cmd_prefix": "rm(",
     "library": "var_list.r",
     "varRefreshCmd": "cat(var_dic_list()) "
    }
   },
   "types_to_exclude": [
    "module",
    "function",
    "builtin_function_or_method",
    "instance",
    "_Feature"
   ],
   "window_display": false
  }
 },
 "nbformat": 4,
 "nbformat_minor": 2
}
